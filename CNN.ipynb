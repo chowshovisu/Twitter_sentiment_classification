{
  "nbformat": 4,
  "nbformat_minor": 0,
  "metadata": {
    "colab": {
      "name": "Untitled2.ipynb",
      "provenance": []
    },
    "kernelspec": {
      "name": "python3",
      "display_name": "Python 3"
    }
  },
  "cells": [
    {
      "cell_type": "code",
      "metadata": {
        "id": "2BC5-Zxa-UYt",
        "colab_type": "code",
        "outputId": "57ef5512-fe77-4213-b797-983f6293a88e",
        "colab": {
          "base_uri": "https://localhost:8080/",
          "height": 121
        }
      },
      "source": [
        "from google.colab import drive\n",
        "drive.mount('/content/drive')"
      ],
      "execution_count": 0,
      "outputs": [
        {
          "output_type": "stream",
          "text": [
            "Go to this URL in a browser: https://accounts.google.com/o/oauth2/auth?client_id=947318989803-6bn6qk8qdgf4n4g3pfee6491hc0brc4i.apps.googleusercontent.com&redirect_uri=urn%3aietf%3awg%3aoauth%3a2.0%3aoob&response_type=code&scope=email%20https%3a%2f%2fwww.googleapis.com%2fauth%2fdocs.test%20https%3a%2f%2fwww.googleapis.com%2fauth%2fdrive%20https%3a%2f%2fwww.googleapis.com%2fauth%2fdrive.photos.readonly%20https%3a%2f%2fwww.googleapis.com%2fauth%2fpeopleapi.readonly\n",
            "\n",
            "Enter your authorization code:\n",
            "··········\n",
            "Mounted at /content/drive\n"
          ],
          "name": "stdout"
        }
      ]
    },
    {
      "cell_type": "code",
      "metadata": {
        "id": "VUVoRRstAa0y",
        "colab_type": "code",
        "outputId": "031e3b17-9f16-4662-8d3d-168aea21b468",
        "colab": {
          "base_uri": "https://localhost:8080/",
          "height": 658
        }
      },
      "source": [
        "!pip install gensim --upgrade\n",
        "!pip install keras --upgrade\n",
        "!pip install pandas --upgrade"
      ],
      "execution_count": 0,
      "outputs": [
        {
          "output_type": "stream",
          "text": [
            "Collecting gensim\n",
            "\u001b[?25l  Downloading https://files.pythonhosted.org/packages/2b/e0/fa6326251692056dc880a64eb22117e03269906ba55a6864864d24ec8b4e/gensim-3.8.3-cp36-cp36m-manylinux1_x86_64.whl (24.2MB)\n",
            "\u001b[K     |████████████████████████████████| 24.2MB 7.9MB/s \n",
            "\u001b[?25hRequirement already satisfied, skipping upgrade: smart-open>=1.8.1 in /usr/local/lib/python3.6/dist-packages (from gensim) (2.0.0)\n",
            "Requirement already satisfied, skipping upgrade: six>=1.5.0 in /usr/local/lib/python3.6/dist-packages (from gensim) (1.12.0)\n",
            "Requirement already satisfied, skipping upgrade: scipy>=0.18.1 in /usr/local/lib/python3.6/dist-packages (from gensim) (1.4.1)\n",
            "Requirement already satisfied, skipping upgrade: numpy>=1.11.3 in /usr/local/lib/python3.6/dist-packages (from gensim) (1.18.3)\n",
            "Requirement already satisfied, skipping upgrade: boto3 in /usr/local/lib/python3.6/dist-packages (from smart-open>=1.8.1->gensim) (1.13.1)\n",
            "Requirement already satisfied, skipping upgrade: boto in /usr/local/lib/python3.6/dist-packages (from smart-open>=1.8.1->gensim) (2.49.0)\n",
            "Requirement already satisfied, skipping upgrade: requests in /usr/local/lib/python3.6/dist-packages (from smart-open>=1.8.1->gensim) (2.23.0)\n",
            "Requirement already satisfied, skipping upgrade: botocore<1.17.0,>=1.16.1 in /usr/local/lib/python3.6/dist-packages (from boto3->smart-open>=1.8.1->gensim) (1.16.1)\n",
            "Requirement already satisfied, skipping upgrade: jmespath<1.0.0,>=0.7.1 in /usr/local/lib/python3.6/dist-packages (from boto3->smart-open>=1.8.1->gensim) (0.9.5)\n",
            "Requirement already satisfied, skipping upgrade: s3transfer<0.4.0,>=0.3.0 in /usr/local/lib/python3.6/dist-packages (from boto3->smart-open>=1.8.1->gensim) (0.3.3)\n",
            "Requirement already satisfied, skipping upgrade: certifi>=2017.4.17 in /usr/local/lib/python3.6/dist-packages (from requests->smart-open>=1.8.1->gensim) (2020.4.5.1)\n",
            "Requirement already satisfied, skipping upgrade: chardet<4,>=3.0.2 in /usr/local/lib/python3.6/dist-packages (from requests->smart-open>=1.8.1->gensim) (3.0.4)\n",
            "Requirement already satisfied, skipping upgrade: urllib3!=1.25.0,!=1.25.1,<1.26,>=1.21.1 in /usr/local/lib/python3.6/dist-packages (from requests->smart-open>=1.8.1->gensim) (1.24.3)\n",
            "Requirement already satisfied, skipping upgrade: idna<3,>=2.5 in /usr/local/lib/python3.6/dist-packages (from requests->smart-open>=1.8.1->gensim) (2.9)\n",
            "Requirement already satisfied, skipping upgrade: docutils<0.16,>=0.10 in /usr/local/lib/python3.6/dist-packages (from botocore<1.17.0,>=1.16.1->boto3->smart-open>=1.8.1->gensim) (0.15.2)\n",
            "Requirement already satisfied, skipping upgrade: python-dateutil<3.0.0,>=2.1 in /usr/local/lib/python3.6/dist-packages (from botocore<1.17.0,>=1.16.1->boto3->smart-open>=1.8.1->gensim) (2.8.1)\n",
            "Installing collected packages: gensim\n",
            "  Found existing installation: gensim 3.6.0\n",
            "    Uninstalling gensim-3.6.0:\n",
            "      Successfully uninstalled gensim-3.6.0\n",
            "Successfully installed gensim-3.8.3\n",
            "Requirement already up-to-date: keras in /usr/local/lib/python3.6/dist-packages (2.3.1)\n",
            "Requirement already satisfied, skipping upgrade: pyyaml in /usr/local/lib/python3.6/dist-packages (from keras) (3.13)\n",
            "Requirement already satisfied, skipping upgrade: h5py in /usr/local/lib/python3.6/dist-packages (from keras) (2.10.0)\n",
            "Requirement already satisfied, skipping upgrade: keras-applications>=1.0.6 in /usr/local/lib/python3.6/dist-packages (from keras) (1.0.8)\n",
            "Requirement already satisfied, skipping upgrade: six>=1.9.0 in /usr/local/lib/python3.6/dist-packages (from keras) (1.12.0)\n",
            "Requirement already satisfied, skipping upgrade: scipy>=0.14 in /usr/local/lib/python3.6/dist-packages (from keras) (1.4.1)\n",
            "Requirement already satisfied, skipping upgrade: keras-preprocessing>=1.0.5 in /usr/local/lib/python3.6/dist-packages (from keras) (1.1.0)\n",
            "Requirement already satisfied, skipping upgrade: numpy>=1.9.1 in /usr/local/lib/python3.6/dist-packages (from keras) (1.18.3)\n",
            "Requirement already up-to-date: pandas in /usr/local/lib/python3.6/dist-packages (1.0.3)\n",
            "Requirement already satisfied, skipping upgrade: numpy>=1.13.3 in /usr/local/lib/python3.6/dist-packages (from pandas) (1.18.3)\n",
            "Requirement already satisfied, skipping upgrade: pytz>=2017.2 in /usr/local/lib/python3.6/dist-packages (from pandas) (2018.9)\n",
            "Requirement already satisfied, skipping upgrade: python-dateutil>=2.6.1 in /usr/local/lib/python3.6/dist-packages (from pandas) (2.8.1)\n",
            "Requirement already satisfied, skipping upgrade: six>=1.5 in /usr/local/lib/python3.6/dist-packages (from python-dateutil>=2.6.1->pandas) (1.12.0)\n"
          ],
          "name": "stdout"
        }
      ]
    },
    {
      "cell_type": "code",
      "metadata": {
        "id": "0__KdzM9-kvE",
        "colab_type": "code",
        "colab": {}
      },
      "source": [
        "import pandas as pd\n",
        "\n",
        "DATASET_COLUMNS = [\"target\", \"ids\", \"date\", \"flag\", \"user\", \"text\"]\n",
        "DATASET_ENCODING = \"ISO-8859-1\"\n",
        "\n",
        "path = \"/content/drive/My Drive/data/training.1600000.processed.noemoticon.csv\"\n",
        "df = pd.read_csv(path, encoding =DATASET_ENCODING , names=DATASET_COLUMNS)"
      ],
      "execution_count": 0,
      "outputs": []
    },
    {
      "cell_type": "code",
      "metadata": {
        "id": "Bhv-a_s3-1B8",
        "colab_type": "code",
        "outputId": "ee1c3671-40a2-4de4-821b-67581bd23fcf",
        "colab": {
          "base_uri": "https://localhost:8080/",
          "height": 195
        }
      },
      "source": [
        "df.head() "
      ],
      "execution_count": 0,
      "outputs": [
        {
          "output_type": "execute_result",
          "data": {
            "text/html": [
              "<div>\n",
              "<style scoped>\n",
              "    .dataframe tbody tr th:only-of-type {\n",
              "        vertical-align: middle;\n",
              "    }\n",
              "\n",
              "    .dataframe tbody tr th {\n",
              "        vertical-align: top;\n",
              "    }\n",
              "\n",
              "    .dataframe thead th {\n",
              "        text-align: right;\n",
              "    }\n",
              "</style>\n",
              "<table border=\"1\" class=\"dataframe\">\n",
              "  <thead>\n",
              "    <tr style=\"text-align: right;\">\n",
              "      <th></th>\n",
              "      <th>target</th>\n",
              "      <th>ids</th>\n",
              "      <th>date</th>\n",
              "      <th>flag</th>\n",
              "      <th>user</th>\n",
              "      <th>text</th>\n",
              "    </tr>\n",
              "  </thead>\n",
              "  <tbody>\n",
              "    <tr>\n",
              "      <th>0</th>\n",
              "      <td>0</td>\n",
              "      <td>1467810369</td>\n",
              "      <td>Mon Apr 06 22:19:45 PDT 2009</td>\n",
              "      <td>NO_QUERY</td>\n",
              "      <td>_TheSpecialOne_</td>\n",
              "      <td>@switchfoot http://twitpic.com/2y1zl - Awww, t...</td>\n",
              "    </tr>\n",
              "    <tr>\n",
              "      <th>1</th>\n",
              "      <td>0</td>\n",
              "      <td>1467810672</td>\n",
              "      <td>Mon Apr 06 22:19:49 PDT 2009</td>\n",
              "      <td>NO_QUERY</td>\n",
              "      <td>scotthamilton</td>\n",
              "      <td>is upset that he can't update his Facebook by ...</td>\n",
              "    </tr>\n",
              "    <tr>\n",
              "      <th>2</th>\n",
              "      <td>0</td>\n",
              "      <td>1467810917</td>\n",
              "      <td>Mon Apr 06 22:19:53 PDT 2009</td>\n",
              "      <td>NO_QUERY</td>\n",
              "      <td>mattycus</td>\n",
              "      <td>@Kenichan I dived many times for the ball. Man...</td>\n",
              "    </tr>\n",
              "    <tr>\n",
              "      <th>3</th>\n",
              "      <td>0</td>\n",
              "      <td>1467811184</td>\n",
              "      <td>Mon Apr 06 22:19:57 PDT 2009</td>\n",
              "      <td>NO_QUERY</td>\n",
              "      <td>ElleCTF</td>\n",
              "      <td>my whole body feels itchy and like its on fire</td>\n",
              "    </tr>\n",
              "    <tr>\n",
              "      <th>4</th>\n",
              "      <td>0</td>\n",
              "      <td>1467811193</td>\n",
              "      <td>Mon Apr 06 22:19:57 PDT 2009</td>\n",
              "      <td>NO_QUERY</td>\n",
              "      <td>Karoli</td>\n",
              "      <td>@nationwideclass no, it's not behaving at all....</td>\n",
              "    </tr>\n",
              "  </tbody>\n",
              "</table>\n",
              "</div>"
            ],
            "text/plain": [
              "   target  ...                                               text\n",
              "0       0  ...  @switchfoot http://twitpic.com/2y1zl - Awww, t...\n",
              "1       0  ...  is upset that he can't update his Facebook by ...\n",
              "2       0  ...  @Kenichan I dived many times for the ball. Man...\n",
              "3       0  ...    my whole body feels itchy and like its on fire \n",
              "4       0  ...  @nationwideclass no, it's not behaving at all....\n",
              "\n",
              "[5 rows x 6 columns]"
            ]
          },
          "metadata": {
            "tags": []
          },
          "execution_count": 6
        }
      ]
    },
    {
      "cell_type": "code",
      "metadata": {
        "id": "XEV_Ebee_rCP",
        "colab_type": "code",
        "outputId": "36a0c837-31e3-4829-9da7-433f2a2d4990",
        "colab": {
          "base_uri": "https://localhost:8080/",
          "height": 34
        }
      },
      "source": [
        "# DataFrame\n",
        "import pandas as pd\n",
        "\n",
        "# Matplot\n",
        "import matplotlib.pyplot as plt\n",
        "%matplotlib inline\n",
        "\n",
        "# Scikit-learn\n",
        "from sklearn.model_selection import train_test_split\n",
        "from sklearn.preprocessing import LabelEncoder\n",
        "from sklearn.metrics import confusion_matrix, classification_report, accuracy_score\n",
        "from sklearn.manifold import TSNE\n",
        "from sklearn.feature_extraction.text import TfidfVectorizer\n",
        "\n",
        "# Keras\n",
        "from keras.preprocessing.text import Tokenizer\n",
        "from keras.preprocessing.sequence import pad_sequences\n",
        "from keras.models import Sequential\n",
        "from keras.layers import Activation, Dense, Dropout, Embedding, Flatten, Conv1D, MaxPooling1D, LSTM\n",
        "from keras import utils\n",
        "from keras.callbacks import ReduceLROnPlateau, EarlyStopping\n",
        "\n",
        "# nltk\n",
        "import nltk\n",
        "from nltk.corpus import stopwords\n",
        "from  nltk.stem import SnowballStemmer\n",
        "\n",
        "# Word2vec\n",
        "import gensim\n",
        "\n",
        "# Utility\n",
        "import re\n",
        "import numpy as np\n",
        "import os\n",
        "from collections import Counter\n",
        "import logging\n",
        "import time\n",
        "import pickle\n",
        "import itertools\n",
        "\n",
        "# Set log\n",
        "logging.basicConfig(format='%(asctime)s : %(levelname)s : %(message)s', level=logging.INFO)"
      ],
      "execution_count": 0,
      "outputs": [
        {
          "output_type": "stream",
          "text": [
            "Using TensorFlow backend.\n"
          ],
          "name": "stderr"
        }
      ]
    },
    {
      "cell_type": "code",
      "metadata": {
        "id": "BDbaRaD8A_tT",
        "colab_type": "code",
        "outputId": "babbc693-5506-4abf-fe8d-a23cad979e68",
        "colab": {
          "base_uri": "https://localhost:8080/",
          "height": 67
        }
      },
      "source": [
        "nltk.download('stopwords')"
      ],
      "execution_count": 0,
      "outputs": [
        {
          "output_type": "stream",
          "text": [
            "[nltk_data] Downloading package stopwords to /root/nltk_data...\n",
            "[nltk_data]   Unzipping corpora/stopwords.zip.\n"
          ],
          "name": "stdout"
        },
        {
          "output_type": "execute_result",
          "data": {
            "text/plain": [
              "True"
            ]
          },
          "metadata": {
            "tags": []
          },
          "execution_count": 8
        }
      ]
    },
    {
      "cell_type": "code",
      "metadata": {
        "id": "hYSl7so9BPvB",
        "colab_type": "code",
        "colab": {}
      },
      "source": [
        "# TEXT CLENAING\n",
        "TEXT_CLEANING_RE = \"@\\S+|https?:\\S+|http?:\\S|[^A-Za-z0-9]+\"\n",
        "\n",
        "# WORD2VEC \n",
        "W2V_SIZE = 300\n",
        "W2V_WINDOW = 7\n",
        "W2V_EPOCH = 32\n",
        "W2V_MIN_COUNT = 10\n",
        "\n",
        "# KERAS\n",
        "SEQUENCE_LENGTH = 300\n",
        "EPOCHS = 3\n",
        "BATCH_SIZE = 1024\n",
        "\n",
        "# SENTIMENT\n",
        "POSITIVE = \"POSITIVE\"\n",
        "NEGATIVE = \"NEGATIVE\"\n",
        "NEUTRAL = \"NEUTRAL\"\n",
        "SENTIMENT_THRESHOLDS = (0.4, 0.7)\n",
        "\n",
        "# EXPORT\n",
        "KERAS_MODEL = \"model.h5\"\n",
        "WORD2VEC_MODEL = \"model.w2v\"\n",
        "TOKENIZER_MODEL = \"tokenizer.pkl\"\n",
        "ENCODER_MODEL = \"encoder.pkl\""
      ],
      "execution_count": 0,
      "outputs": []
    },
    {
      "cell_type": "code",
      "metadata": {
        "id": "HDC2bo2LBc9t",
        "colab_type": "code",
        "colab": {}
      },
      "source": [
        "decode_map = {0: \"NEGATIVE\", 2: \"NEUTRAL\", 4: \"POSITIVE\"}\n",
        "def decode_sentiment(label):\n",
        "    return decode_map[int(label)]"
      ],
      "execution_count": 0,
      "outputs": []
    },
    {
      "cell_type": "code",
      "metadata": {
        "id": "UXPYX_o1BoPk",
        "colab_type": "code",
        "outputId": "a8fca3ef-7b4d-45df-9c03-d184b35769c2",
        "colab": {
          "base_uri": "https://localhost:8080/",
          "height": 50
        }
      },
      "source": [
        "%%time\n",
        "df.target = df.target.apply(lambda x: decode_sentiment(x))"
      ],
      "execution_count": 0,
      "outputs": [
        {
          "output_type": "stream",
          "text": [
            "CPU times: user 525 ms, sys: 7.54 ms, total: 533 ms\n",
            "Wall time: 534 ms\n"
          ],
          "name": "stdout"
        }
      ]
    },
    {
      "cell_type": "code",
      "metadata": {
        "id": "PSXqTXVdBsGR",
        "colab_type": "code",
        "outputId": "51387988-61e1-43b5-dbd4-e4a439815601",
        "colab": {
          "base_uri": "https://localhost:8080/",
          "height": 516
        }
      },
      "source": [
        "target_cnt = Counter(df.target)\n",
        "\n",
        "plt.figure(figsize=(16,8))\n",
        "plt.bar(target_cnt.keys(), target_cnt.values())\n",
        "plt.title(\"Dataset labels distribuition\")"
      ],
      "execution_count": 0,
      "outputs": [
        {
          "output_type": "execute_result",
          "data": {
            "text/plain": [
              "Text(0.5, 1.0, 'Dataset labels distribuition')"
            ]
          },
          "metadata": {
            "tags": []
          },
          "execution_count": 12
        },
        {
          "output_type": "display_data",
          "data": {
            "image/png": "[encoded data removed]",
            "text/plain": [
              "<Figure size 1152x576 with 1 Axes>"
            ]
          },
          "metadata": {
            "tags": [],
            "needs_background": "light"
          }
        }
      ]
    },
    {
      "cell_type": "code",
      "metadata": {
        "id": "zhsirjYlBtEb",
        "colab_type": "code",
        "colab": {}
      },
      "source": [
        "stop_words = stopwords.words(\"english\")\n",
        "stemmer = SnowballStemmer(\"english\")"
      ],
      "execution_count": 0,
      "outputs": []
    },
    {
      "cell_type": "code",
      "metadata": {
        "id": "ia6SfNP1ETRJ",
        "colab_type": "code",
        "colab": {}
      },
      "source": [
        ""
      ],
      "execution_count": 0,
      "outputs": []
    },
    {
      "cell_type": "code",
      "metadata": {
        "id": "lyEoFB-xETT1",
        "colab_type": "code",
        "colab": {}
      },
      "source": [
        ""
      ],
      "execution_count": 0,
      "outputs": []
    },
    {
      "cell_type": "code",
      "metadata": {
        "id": "bD9hjXu8ETWA",
        "colab_type": "code",
        "colab": {}
      },
      "source": [
        ""
      ],
      "execution_count": 0,
      "outputs": []
    },
    {
      "cell_type": "code",
      "metadata": {
        "id": "S0O0z5T5ETZB",
        "colab_type": "code",
        "colab": {}
      },
      "source": [
        ""
      ],
      "execution_count": 0,
      "outputs": []
    },
    {
      "cell_type": "code",
      "metadata": {
        "id": "5mnCQaqKETPP",
        "colab_type": "code",
        "colab": {}
      },
      "source": [
        ""
      ],
      "execution_count": 0,
      "outputs": []
    },
    {
      "cell_type": "code",
      "metadata": {
        "id": "GzRwi5RpBtGB",
        "colab_type": "code",
        "colab": {}
      },
      "source": [
        "def preprocess(text, stem=False):\n",
        "    # Remove link,user and special characters\n",
        "    text = re.sub(TEXT_CLEANING_RE, ' ', str(text).lower()).strip()\n",
        "    tokens = []\n",
        "    for token in text.split():\n",
        "        if token not in stop_words:\n",
        "            if stem:\n",
        "                tokens.append(stemmer.stem(token))\n",
        "            else:\n",
        "                tokens.append(token)\n",
        "    return \" \".join(tokens)"
      ],
      "execution_count": 0,
      "outputs": []
    },
    {
      "cell_type": "code",
      "metadata": {
        "id": "NNS68rMpB54k",
        "colab_type": "code",
        "outputId": "312eea31-35cd-4ee6-e90c-a32e7a422b25",
        "colab": {
          "base_uri": "https://localhost:8080/",
          "height": 50
        }
      },
      "source": [
        "%%time\n",
        "df.text = df.text.apply(lambda x: preprocess(x))"
      ],
      "execution_count": 0,
      "outputs": [
        {
          "output_type": "stream",
          "text": [
            "CPU times: user 46.8 s, sys: 143 ms, total: 47 s\n",
            "Wall time: 47 s\n"
          ],
          "name": "stdout"
        }
      ]
    },
    {
      "cell_type": "code",
      "metadata": {
        "id": "e8uMQWsFB56c",
        "colab_type": "code",
        "outputId": "3ea11972-3c00-4ed4-e14f-a733cff635a0",
        "colab": {
          "base_uri": "https://localhost:8080/",
          "height": 50
        }
      },
      "source": [
        "TRAIN_SIZE=0.8\n",
        "\n",
        "df_train, df_test = train_test_split(df, test_size=1-TRAIN_SIZE, random_state=42)\n",
        "print(\"TRAIN size:\", len(df_train))\n",
        "print(\"TEST size:\", len(df_test))"
      ],
      "execution_count": 0,
      "outputs": [
        {
          "output_type": "stream",
          "text": [
            "TRAIN size: 1280000\n",
            "TEST size: 320000\n"
          ],
          "name": "stdout"
        }
      ]
    },
    {
      "cell_type": "code",
      "metadata": {
        "id": "GFOwS0HSB59K",
        "colab_type": "code",
        "outputId": "dc565a6d-8a46-4d12-81d9-028ffffabef5",
        "colab": {
          "base_uri": "https://localhost:8080/",
          "height": 50
        }
      },
      "source": [
        "%%time\n",
        "documents = [_text.split() for _text in df_train.text] \n"
      ],
      "execution_count": 0,
      "outputs": [
        {
          "output_type": "stream",
          "text": [
            "CPU times: user 2.72 s, sys: 456 ms, total: 3.18 s\n",
            "Wall time: 3.19 s\n"
          ],
          "name": "stdout"
        }
      ]
    },
    {
      "cell_type": "code",
      "metadata": {
        "id": "p7bJp8ONB5__",
        "colab_type": "code",
        "colab": {}
      },
      "source": [
        "w2v_model = gensim.models.word2vec.Word2Vec(size=W2V_SIZE, \n",
        "                                            window=W2V_WINDOW, \n",
        "                                            min_count=W2V_MIN_COUNT, \n",
        "                                            workers=8)"
      ],
      "execution_count": 0,
      "outputs": []
    },
    {
      "cell_type": "code",
      "metadata": {
        "id": "RTNaZD-WBtJL",
        "colab_type": "code",
        "outputId": "c7b9e960-ab44-4623-fd27-5790d0603892",
        "colab": {
          "base_uri": "https://localhost:8080/",
          "height": 1000
        }
      },
      "source": [
        "w2v_model.build_vocab(documents)"
      ],
      "execution_count": 0,
      "outputs": [
        {
          "output_type": "stream",
          "text": [
            "2020-05-05 18:07:07,745 : INFO : collecting all words and their counts\n",
            "2020-05-05 18:07:07,746 : INFO : PROGRESS: at sentence #0, processed 0 words, keeping 0 word types\n",
            "2020-05-05 18:07:07,774 : INFO : PROGRESS: at sentence #10000, processed 72565 words, keeping 14005 word types\n",
            "2020-05-05 18:07:07,795 : INFO : PROGRESS: at sentence #20000, processed 144393 words, keeping 21587 word types\n",
            "2020-05-05 18:07:07,815 : INFO : PROGRESS: at sentence #30000, processed 215826 words, keeping 27541 word types\n",
            "2020-05-05 18:07:07,839 : INFO : PROGRESS: at sentence #40000, processed 288271 words, keeping 32764 word types\n",
            "2020-05-05 18:07:07,859 : INFO : PROGRESS: at sentence #50000, processed 359772 words, keeping 37587 word types\n",
            "2020-05-05 18:07:07,881 : INFO : PROGRESS: at sentence #60000, processed 431431 words, keeping 42198 word types\n",
            "2020-05-05 18:07:07,906 : INFO : PROGRESS: at sentence #70000, processed 503103 words, keeping 46458 word types\n",
            "2020-05-05 18:07:07,928 : INFO : PROGRESS: at sentence #80000, processed 575709 words, keeping 50476 word types\n",
            "2020-05-05 18:07:07,951 : INFO : PROGRESS: at sentence #90000, processed 647100 words, keeping 54140 word types\n",
            "2020-05-05 18:07:07,976 : INFO : PROGRESS: at sentence #100000, processed 718681 words, keeping 57777 word types\n",
            "2020-05-05 18:07:07,997 : INFO : PROGRESS: at sentence #110000, processed 790696 words, keeping 61207 word types\n",
            "2020-05-05 18:07:08,025 : INFO : PROGRESS: at sentence #120000, processed 863134 words, keeping 64583 word types\n",
            "2020-05-05 18:07:08,046 : INFO : PROGRESS: at sentence #130000, processed 935111 words, keeping 67865 word types\n",
            "2020-05-05 18:07:08,071 : INFO : PROGRESS: at sentence #140000, processed 1006668 words, keeping 70966 word types\n",
            "2020-05-05 18:07:08,092 : INFO : PROGRESS: at sentence #150000, processed 1078512 words, keeping 74119 word types\n",
            "2020-05-05 18:07:08,116 : INFO : PROGRESS: at sentence #160000, processed 1149914 words, keeping 77187 word types\n",
            "2020-05-05 18:07:08,139 : INFO : PROGRESS: at sentence #170000, processed 1222145 words, keeping 80267 word types\n",
            "2020-05-05 18:07:08,163 : INFO : PROGRESS: at sentence #180000, processed 1294708 words, keeping 83393 word types\n",
            "2020-05-05 18:07:08,184 : INFO : PROGRESS: at sentence #190000, processed 1367608 words, keeping 86329 word types\n",
            "2020-05-05 18:07:08,212 : INFO : PROGRESS: at sentence #200000, processed 1439469 words, keeping 89103 word types\n",
            "2020-05-05 18:07:08,234 : INFO : PROGRESS: at sentence #210000, processed 1512099 words, keeping 91840 word types\n",
            "2020-05-05 18:07:08,262 : INFO : PROGRESS: at sentence #220000, processed 1584149 words, keeping 94636 word types\n",
            "2020-05-05 18:07:08,286 : INFO : PROGRESS: at sentence #230000, processed 1656354 words, keeping 97353 word types\n",
            "2020-05-05 18:07:08,310 : INFO : PROGRESS: at sentence #240000, processed 1728573 words, keeping 99975 word types\n",
            "2020-05-05 18:07:08,333 : INFO : PROGRESS: at sentence #250000, processed 1801102 words, keeping 102594 word types\n",
            "2020-05-05 18:07:08,356 : INFO : PROGRESS: at sentence #260000, processed 1873103 words, keeping 105162 word types\n",
            "2020-05-05 18:07:08,379 : INFO : PROGRESS: at sentence #270000, processed 1945245 words, keeping 107626 word types\n",
            "2020-05-05 18:07:08,403 : INFO : PROGRESS: at sentence #280000, processed 2017163 words, keeping 110141 word types\n",
            "2020-05-05 18:07:08,429 : INFO : PROGRESS: at sentence #290000, processed 2089574 words, keeping 112539 word types\n",
            "2020-05-05 18:07:08,453 : INFO : PROGRESS: at sentence #300000, processed 2160996 words, keeping 114893 word types\n",
            "2020-05-05 18:07:08,476 : INFO : PROGRESS: at sentence #310000, processed 2232913 words, keeping 117298 word types\n",
            "2020-05-05 18:07:08,500 : INFO : PROGRESS: at sentence #320000, processed 2305039 words, keeping 119693 word types\n",
            "2020-05-05 18:07:08,524 : INFO : PROGRESS: at sentence #330000, processed 2377119 words, keeping 122131 word types\n",
            "2020-05-05 18:07:08,545 : INFO : PROGRESS: at sentence #340000, processed 2449370 words, keeping 124416 word types\n",
            "2020-05-05 18:07:08,570 : INFO : PROGRESS: at sentence #350000, processed 2521564 words, keeping 126669 word types\n",
            "2020-05-05 18:07:08,591 : INFO : PROGRESS: at sentence #360000, processed 2593681 words, keeping 128912 word types\n",
            "2020-05-05 18:07:08,617 : INFO : PROGRESS: at sentence #370000, processed 2665692 words, keeping 131135 word types\n",
            "2020-05-05 18:07:08,640 : INFO : PROGRESS: at sentence #380000, processed 2737859 words, keeping 133403 word types\n",
            "2020-05-05 18:07:08,664 : INFO : PROGRESS: at sentence #390000, processed 2809848 words, keeping 135551 word types\n",
            "2020-05-05 18:07:08,692 : INFO : PROGRESS: at sentence #400000, processed 2882438 words, keeping 137742 word types\n",
            "2020-05-05 18:07:08,728 : INFO : PROGRESS: at sentence #410000, processed 2954075 words, keeping 139909 word types\n",
            "2020-05-05 18:07:08,752 : INFO : PROGRESS: at sentence #420000, processed 3026247 words, keeping 142144 word types\n",
            "2020-05-05 18:07:08,774 : INFO : PROGRESS: at sentence #430000, processed 3098659 words, keeping 144364 word types\n",
            "2020-05-05 18:07:08,798 : INFO : PROGRESS: at sentence #440000, processed 3170663 words, keeping 146439 word types\n",
            "2020-05-05 18:07:08,823 : INFO : PROGRESS: at sentence #450000, processed 3243344 words, keeping 148526 word types\n",
            "2020-05-05 18:07:08,848 : INFO : PROGRESS: at sentence #460000, processed 3315466 words, keeping 150610 word types\n",
            "2020-05-05 18:07:08,872 : INFO : PROGRESS: at sentence #470000, processed 3388295 words, keeping 152737 word types\n",
            "2020-05-05 18:07:08,894 : INFO : PROGRESS: at sentence #480000, processed 3460120 words, keeping 154757 word types\n",
            "2020-05-05 18:07:08,921 : INFO : PROGRESS: at sentence #490000, processed 3531883 words, keeping 156825 word types\n",
            "2020-05-05 18:07:08,946 : INFO : PROGRESS: at sentence #500000, processed 3604217 words, keeping 158859 word types\n",
            "2020-05-05 18:07:08,968 : INFO : PROGRESS: at sentence #510000, processed 3676427 words, keeping 160852 word types\n",
            "2020-05-05 18:07:08,993 : INFO : PROGRESS: at sentence #520000, processed 3749045 words, keeping 162863 word types\n",
            "2020-05-05 18:07:09,017 : INFO : PROGRESS: at sentence #530000, processed 3821622 words, keeping 164929 word types\n",
            "2020-05-05 18:07:09,044 : INFO : PROGRESS: at sentence #540000, processed 3893627 words, keeping 166840 word types\n",
            "2020-05-05 18:07:09,073 : INFO : PROGRESS: at sentence #550000, processed 3965477 words, keeping 168799 word types\n",
            "2020-05-05 18:07:09,101 : INFO : PROGRESS: at sentence #560000, processed 4038050 words, keeping 170802 word types\n",
            "2020-05-05 18:07:09,127 : INFO : PROGRESS: at sentence #570000, processed 4110296 words, keeping 172760 word types\n",
            "2020-05-05 18:07:09,148 : INFO : PROGRESS: at sentence #580000, processed 4182385 words, keeping 174635 word types\n",
            "2020-05-05 18:07:09,183 : INFO : PROGRESS: at sentence #590000, processed 4254632 words, keeping 176470 word types\n",
            "2020-05-05 18:07:09,210 : INFO : PROGRESS: at sentence #600000, processed 4326859 words, keeping 178350 word types\n",
            "2020-05-05 18:07:09,235 : INFO : PROGRESS: at sentence #610000, processed 4399183 words, keeping 180290 word types\n",
            "2020-05-05 18:07:09,258 : INFO : PROGRESS: at sentence #620000, processed 4471343 words, keeping 182129 word types\n",
            "2020-05-05 18:07:09,287 : INFO : PROGRESS: at sentence #630000, processed 4543286 words, keeping 184005 word types\n",
            "2020-05-05 18:07:09,312 : INFO : PROGRESS: at sentence #640000, processed 4615780 words, keeping 185835 word types\n",
            "2020-05-05 18:07:09,337 : INFO : PROGRESS: at sentence #650000, processed 4688481 words, keeping 187705 word types\n",
            "2020-05-05 18:07:09,363 : INFO : PROGRESS: at sentence #660000, processed 4760481 words, keeping 189439 word types\n",
            "2020-05-05 18:07:09,385 : INFO : PROGRESS: at sentence #670000, processed 4833024 words, keeping 191232 word types\n",
            "2020-05-05 18:07:09,409 : INFO : PROGRESS: at sentence #680000, processed 4904516 words, keeping 193177 word types\n",
            "2020-05-05 18:07:09,438 : INFO : PROGRESS: at sentence #690000, processed 4976968 words, keeping 194960 word types\n",
            "2020-05-05 18:07:09,464 : INFO : PROGRESS: at sentence #700000, processed 5049412 words, keeping 196725 word types\n",
            "2020-05-05 18:07:09,493 : INFO : PROGRESS: at sentence #710000, processed 5121976 words, keeping 198516 word types\n",
            "2020-05-05 18:07:09,520 : INFO : PROGRESS: at sentence #720000, processed 5193881 words, keeping 200325 word types\n",
            "2020-05-05 18:07:09,544 : INFO : PROGRESS: at sentence #730000, processed 5265467 words, keeping 202133 word types\n",
            "2020-05-05 18:07:09,570 : INFO : PROGRESS: at sentence #740000, processed 5337518 words, keeping 203818 word types\n",
            "2020-05-05 18:07:09,593 : INFO : PROGRESS: at sentence #750000, processed 5409321 words, keeping 205535 word types\n",
            "2020-05-05 18:07:09,619 : INFO : PROGRESS: at sentence #760000, processed 5481512 words, keeping 207282 word types\n",
            "2020-05-05 18:07:09,643 : INFO : PROGRESS: at sentence #770000, processed 5554093 words, keeping 209076 word types\n",
            "2020-05-05 18:07:09,665 : INFO : PROGRESS: at sentence #780000, processed 5625382 words, keeping 210805 word types\n",
            "2020-05-05 18:07:09,690 : INFO : PROGRESS: at sentence #790000, processed 5698066 words, keeping 212618 word types\n",
            "2020-05-05 18:07:09,722 : INFO : PROGRESS: at sentence #800000, processed 5770880 words, keeping 214374 word types\n",
            "2020-05-05 18:07:09,747 : INFO : PROGRESS: at sentence #810000, processed 5843418 words, keeping 216009 word types\n",
            "2020-05-05 18:07:09,772 : INFO : PROGRESS: at sentence #820000, processed 5915628 words, keeping 217804 word types\n",
            "2020-05-05 18:07:09,796 : INFO : PROGRESS: at sentence #830000, processed 5987499 words, keeping 219585 word types\n",
            "2020-05-05 18:07:09,819 : INFO : PROGRESS: at sentence #840000, processed 6058973 words, keeping 221344 word types\n",
            "2020-05-05 18:07:09,846 : INFO : PROGRESS: at sentence #850000, processed 6131125 words, keeping 223002 word types\n",
            "2020-05-05 18:07:09,872 : INFO : PROGRESS: at sentence #860000, processed 6202951 words, keeping 224643 word types\n",
            "2020-05-05 18:07:09,895 : INFO : PROGRESS: at sentence #870000, processed 6275461 words, keeping 226362 word types\n",
            "2020-05-05 18:07:09,924 : INFO : PROGRESS: at sentence #880000, processed 6347661 words, keeping 227986 word types\n",
            "2020-05-05 18:07:09,947 : INFO : PROGRESS: at sentence #890000, processed 6419806 words, keeping 229634 word types\n",
            "2020-05-05 18:07:09,971 : INFO : PROGRESS: at sentence #900000, processed 6491644 words, keeping 231389 word types\n",
            "2020-05-05 18:07:09,995 : INFO : PROGRESS: at sentence #910000, processed 6564022 words, keeping 233050 word types\n",
            "2020-05-05 18:07:10,018 : INFO : PROGRESS: at sentence #920000, processed 6636228 words, keeping 234686 word types\n",
            "2020-05-05 18:07:10,043 : INFO : PROGRESS: at sentence #930000, processed 6708573 words, keeping 236393 word types\n",
            "2020-05-05 18:07:10,067 : INFO : PROGRESS: at sentence #940000, processed 6779956 words, keeping 238052 word types\n",
            "2020-05-05 18:07:10,094 : INFO : PROGRESS: at sentence #950000, processed 6852599 words, keeping 239716 word types\n",
            "2020-05-05 18:07:10,119 : INFO : PROGRESS: at sentence #960000, processed 6924717 words, keeping 241354 word types\n",
            "2020-05-05 18:07:10,145 : INFO : PROGRESS: at sentence #970000, processed 6996992 words, keeping 242980 word types\n",
            "2020-05-05 18:07:10,169 : INFO : PROGRESS: at sentence #980000, processed 7068402 words, keeping 244646 word types\n",
            "2020-05-05 18:07:10,193 : INFO : PROGRESS: at sentence #990000, processed 7140346 words, keeping 246186 word types\n",
            "2020-05-05 18:07:10,217 : INFO : PROGRESS: at sentence #1000000, processed 7211757 words, keeping 247726 word types\n",
            "2020-05-05 18:07:10,242 : INFO : PROGRESS: at sentence #1010000, processed 7283267 words, keeping 249288 word types\n",
            "2020-05-05 18:07:10,265 : INFO : PROGRESS: at sentence #1020000, processed 7355299 words, keeping 250860 word types\n",
            "2020-05-05 18:07:10,291 : INFO : PROGRESS: at sentence #1030000, processed 7426918 words, keeping 252366 word types\n",
            "2020-05-05 18:07:10,314 : INFO : PROGRESS: at sentence #1040000, processed 7498815 words, keeping 253930 word types\n",
            "2020-05-05 18:07:10,339 : INFO : PROGRESS: at sentence #1050000, processed 7570499 words, keeping 255471 word types\n",
            "2020-05-05 18:07:10,366 : INFO : PROGRESS: at sentence #1060000, processed 7643251 words, keeping 257035 word types\n",
            "2020-05-05 18:07:10,388 : INFO : PROGRESS: at sentence #1070000, processed 7714721 words, keeping 258509 word types\n",
            "2020-05-05 18:07:10,417 : INFO : PROGRESS: at sentence #1080000, processed 7787371 words, keeping 260071 word types\n",
            "2020-05-05 18:07:10,444 : INFO : PROGRESS: at sentence #1090000, processed 7859336 words, keeping 261683 word types\n",
            "2020-05-05 18:07:10,470 : INFO : PROGRESS: at sentence #1100000, processed 7932029 words, keeping 263278 word types\n",
            "2020-05-05 18:07:10,493 : INFO : PROGRESS: at sentence #1110000, processed 8004146 words, keeping 264800 word types\n",
            "2020-05-05 18:07:10,520 : INFO : PROGRESS: at sentence #1120000, processed 8075880 words, keeping 266309 word types\n",
            "2020-05-05 18:07:10,547 : INFO : PROGRESS: at sentence #1130000, processed 8148163 words, keeping 267826 word types\n",
            "2020-05-05 18:07:10,576 : INFO : PROGRESS: at sentence #1140000, processed 8220487 words, keeping 269391 word types\n",
            "2020-05-05 18:07:10,607 : INFO : PROGRESS: at sentence #1150000, processed 8292498 words, keeping 270894 word types\n",
            "2020-05-05 18:07:10,633 : INFO : PROGRESS: at sentence #1160000, processed 8363838 words, keeping 272400 word types\n",
            "2020-05-05 18:07:10,658 : INFO : PROGRESS: at sentence #1170000, processed 8435510 words, keeping 273970 word types\n",
            "2020-05-05 18:07:10,681 : INFO : PROGRESS: at sentence #1180000, processed 8507795 words, keeping 275521 word types\n",
            "2020-05-05 18:07:10,707 : INFO : PROGRESS: at sentence #1190000, processed 8579080 words, keeping 277007 word types\n",
            "2020-05-05 18:07:10,737 : INFO : PROGRESS: at sentence #1200000, processed 8650606 words, keeping 278457 word types\n",
            "2020-05-05 18:07:10,761 : INFO : PROGRESS: at sentence #1210000, processed 8721893 words, keeping 279959 word types\n",
            "2020-05-05 18:07:10,785 : INFO : PROGRESS: at sentence #1220000, processed 8793795 words, keeping 281427 word types\n",
            "2020-05-05 18:07:10,814 : INFO : PROGRESS: at sentence #1230000, processed 8865726 words, keeping 282981 word types\n",
            "2020-05-05 18:07:10,836 : INFO : PROGRESS: at sentence #1240000, processed 8938173 words, keeping 284542 word types\n",
            "2020-05-05 18:07:10,860 : INFO : PROGRESS: at sentence #1250000, processed 9010842 words, keeping 286064 word types\n",
            "2020-05-05 18:07:10,887 : INFO : PROGRESS: at sentence #1260000, processed 9083261 words, keeping 287521 word types\n",
            "2020-05-05 18:07:10,911 : INFO : PROGRESS: at sentence #1270000, processed 9155616 words, keeping 288987 word types\n",
            "2020-05-05 18:07:10,936 : INFO : collected 290418 word types from a corpus of 9227204 raw words and 1280000 sentences\n",
            "2020-05-05 18:07:10,937 : INFO : Loading a fresh vocabulary\n",
            "2020-05-05 18:07:11,106 : INFO : effective_min_count=10 retains 30369 unique words (10% of original 290418, drops 260049)\n",
            "2020-05-05 18:07:11,107 : INFO : effective_min_count=10 leaves 8780739 word corpus (95% of original 9227204, drops 446465)\n",
            "2020-05-05 18:07:11,211 : INFO : deleting the raw counts dictionary of 290418 items\n",
            "2020-05-05 18:07:11,219 : INFO : sample=0.001 downsamples 45 most-common words\n",
            "2020-05-05 18:07:11,220 : INFO : downsampling leaves estimated 8222658 word corpus (93.6% of prior 8780739)\n",
            "2020-05-05 18:07:11,330 : INFO : estimated required memory for 30369 words and 300 dimensions: 88070100 bytes\n",
            "2020-05-05 18:07:11,332 : INFO : resetting layer weights\n"
          ],
          "name": "stderr"
        }
      ]
    },
    {
      "cell_type": "code",
      "metadata": {
        "id": "xv9DKmHqBtME",
        "colab_type": "code",
        "outputId": "fa6bea67-4915-4a8a-df36-338de6528bf3",
        "colab": {
          "base_uri": "https://localhost:8080/",
          "height": 34
        }
      },
      "source": [
        "words = w2v_model.wv.vocab.keys()\n",
        "vocab_size = len(words)\n",
        "print(\"Vocab size\", vocab_size)"
      ],
      "execution_count": 0,
      "outputs": [
        {
          "output_type": "stream",
          "text": [
            "Vocab size 30369\n"
          ],
          "name": "stdout"
        }
      ]
    },
    {
      "cell_type": "code",
      "metadata": {
        "id": "BcmHdRh8DkAj",
        "colab_type": "code",
        "outputId": "4fa0192b-c7fc-486a-f421-b887a00c5e65",
        "colab": {
          "base_uri": "https://localhost:8080/",
          "height": 1000
        }
      },
      "source": [
        "%%time\n",
        "w2v_model.train(documents, total_examples=len(documents), epochs=W2V_EPOCH)"
      ],
      "execution_count": 0,
      "outputs": [
        {
          "output_type": "stream",
          "text": [
            "2020-05-05 18:07:17,264 : INFO : training model with 8 workers on 30369 vocabulary and 300 features, using sg=0 hs=0 sample=0.001 negative=5 window=7\n",
            "2020-05-05 18:07:18,350 : INFO : EPOCH 1 - PROGRESS: at 4.13% examples, 317799 words/s, in_qsize 16, out_qsize 0\n",
            "2020-05-05 18:07:19,396 : INFO : EPOCH 1 - PROGRESS: at 8.80% examples, 341871 words/s, in_qsize 15, out_qsize 0\n",
            "2020-05-05 18:07:20,431 : INFO : EPOCH 1 - PROGRESS: at 13.14% examples, 342581 words/s, in_qsize 14, out_qsize 1\n",
            "2020-05-05 18:07:21,442 : INFO : EPOCH 1 - PROGRESS: at 17.78% examples, 351353 words/s, in_qsize 14, out_qsize 1\n",
            "2020-05-05 18:07:22,594 : INFO : EPOCH 1 - PROGRESS: at 22.44% examples, 347364 words/s, in_qsize 15, out_qsize 0\n",
            "2020-05-05 18:07:23,701 : INFO : EPOCH 1 - PROGRESS: at 27.31% examples, 349935 words/s, in_qsize 14, out_qsize 2\n",
            "2020-05-05 18:07:24,703 : INFO : EPOCH 1 - PROGRESS: at 31.86% examples, 353104 words/s, in_qsize 15, out_qsize 0\n",
            "2020-05-05 18:07:25,788 : INFO : EPOCH 1 - PROGRESS: at 36.51% examples, 353082 words/s, in_qsize 15, out_qsize 0\n",
            "2020-05-05 18:07:26,797 : INFO : EPOCH 1 - PROGRESS: at 40.94% examples, 354058 words/s, in_qsize 15, out_qsize 0\n",
            "2020-05-05 18:07:27,851 : INFO : EPOCH 1 - PROGRESS: at 45.27% examples, 352949 words/s, in_qsize 16, out_qsize 2\n",
            "2020-05-05 18:07:28,844 : INFO : EPOCH 1 - PROGRESS: at 49.81% examples, 354570 words/s, in_qsize 16, out_qsize 0\n",
            "2020-05-05 18:07:29,885 : INFO : EPOCH 1 - PROGRESS: at 54.35% examples, 354977 words/s, in_qsize 15, out_qsize 2\n",
            "2020-05-05 18:07:31,036 : INFO : EPOCH 1 - PROGRESS: at 59.44% examples, 355753 words/s, in_qsize 14, out_qsize 1\n",
            "2020-05-05 18:07:32,107 : INFO : EPOCH 1 - PROGRESS: at 64.52% examples, 358294 words/s, in_qsize 15, out_qsize 0\n",
            "2020-05-05 18:07:33,119 : INFO : EPOCH 1 - PROGRESS: at 68.86% examples, 357877 words/s, in_qsize 15, out_qsize 0\n",
            "2020-05-05 18:07:34,169 : INFO : EPOCH 1 - PROGRESS: at 73.30% examples, 357248 words/s, in_qsize 11, out_qsize 4\n",
            "2020-05-05 18:07:35,213 : INFO : EPOCH 1 - PROGRESS: at 77.86% examples, 357504 words/s, in_qsize 15, out_qsize 5\n",
            "2020-05-05 18:07:36,246 : INFO : EPOCH 1 - PROGRESS: at 82.85% examples, 359450 words/s, in_qsize 15, out_qsize 0\n",
            "2020-05-05 18:07:37,265 : INFO : EPOCH 1 - PROGRESS: at 87.18% examples, 358928 words/s, in_qsize 15, out_qsize 0\n",
            "2020-05-05 18:07:38,270 : INFO : EPOCH 1 - PROGRESS: at 91.31% examples, 357855 words/s, in_qsize 15, out_qsize 0\n",
            "2020-05-05 18:07:39,272 : INFO : EPOCH 1 - PROGRESS: at 95.88% examples, 358551 words/s, in_qsize 15, out_qsize 0\n",
            "2020-05-05 18:07:39,973 : INFO : worker thread finished; awaiting finish of 7 more threads\n",
            "2020-05-05 18:07:40,010 : INFO : worker thread finished; awaiting finish of 6 more threads\n",
            "2020-05-05 18:07:40,025 : INFO : worker thread finished; awaiting finish of 5 more threads\n",
            "2020-05-05 18:07:40,038 : INFO : worker thread finished; awaiting finish of 4 more threads\n",
            "2020-05-05 18:07:40,062 : INFO : worker thread finished; awaiting finish of 3 more threads\n",
            "2020-05-05 18:07:40,077 : INFO : worker thread finished; awaiting finish of 2 more threads\n",
            "2020-05-05 18:07:40,084 : INFO : worker thread finished; awaiting finish of 1 more threads\n",
            "2020-05-05 18:07:40,087 : INFO : worker thread finished; awaiting finish of 0 more threads\n",
            "2020-05-05 18:07:40,088 : INFO : EPOCH - 1 : training on 9227204 raw words (8223456 effective words) took 22.8s, 360630 effective words/s\n",
            "2020-05-05 18:07:41,165 : INFO : EPOCH 2 - PROGRESS: at 3.80% examples, 293386 words/s, in_qsize 14, out_qsize 1\n",
            "2020-05-05 18:07:42,166 : INFO : EPOCH 2 - PROGRESS: at 8.47% examples, 336618 words/s, in_qsize 16, out_qsize 0\n",
            "2020-05-05 18:07:43,208 : INFO : EPOCH 2 - PROGRESS: at 12.71% examples, 335692 words/s, in_qsize 13, out_qsize 2\n",
            "2020-05-05 18:07:44,248 : INFO : EPOCH 2 - PROGRESS: at 17.57% examples, 347999 words/s, in_qsize 15, out_qsize 0\n",
            "2020-05-05 18:07:45,264 : INFO : EPOCH 2 - PROGRESS: at 22.01% examples, 350322 words/s, in_qsize 14, out_qsize 1\n",
            "2020-05-05 18:07:46,265 : INFO : EPOCH 2 - PROGRESS: at 26.45% examples, 352723 words/s, in_qsize 15, out_qsize 0\n",
            "2020-05-05 18:07:47,304 : INFO : EPOCH 2 - PROGRESS: at 30.67% examples, 350105 words/s, in_qsize 16, out_qsize 1\n",
            "2020-05-05 18:07:48,380 : INFO : EPOCH 2 - PROGRESS: at 35.32% examples, 350846 words/s, in_qsize 16, out_qsize 0\n",
            "2020-05-05 18:07:49,389 : INFO : EPOCH 2 - PROGRESS: at 39.54% examples, 350114 words/s, in_qsize 16, out_qsize 1\n",
            "2020-05-05 18:07:50,412 : INFO : EPOCH 2 - PROGRESS: at 44.18% examples, 352539 words/s, in_qsize 14, out_qsize 1\n",
            "2020-05-05 18:07:51,475 : INFO : EPOCH 2 - PROGRESS: at 48.62% examples, 351688 words/s, in_qsize 15, out_qsize 2\n",
            "2020-05-05 18:07:52,534 : INFO : EPOCH 2 - PROGRESS: at 53.38% examples, 353302 words/s, in_qsize 15, out_qsize 0\n",
            "2020-05-05 18:07:53,552 : INFO : EPOCH 2 - PROGRESS: at 57.92% examples, 354395 words/s, in_qsize 15, out_qsize 2\n",
            "2020-05-05 18:07:54,635 : INFO : EPOCH 2 - PROGRESS: at 62.46% examples, 354140 words/s, in_qsize 15, out_qsize 1\n",
            "2020-05-05 18:07:55,650 : INFO : EPOCH 2 - PROGRESS: at 67.34% examples, 356385 words/s, in_qsize 15, out_qsize 0\n",
            "2020-05-05 18:07:56,652 : INFO : EPOCH 2 - PROGRESS: at 71.78% examples, 356899 words/s, in_qsize 14, out_qsize 0\n",
            "2020-05-05 18:07:57,657 : INFO : EPOCH 2 - PROGRESS: at 76.11% examples, 356737 words/s, in_qsize 16, out_qsize 0\n",
            "2020-05-05 18:07:58,717 : INFO : EPOCH 2 - PROGRESS: at 80.25% examples, 354612 words/s, in_qsize 12, out_qsize 3\n",
            "2020-05-05 18:07:59,731 : INFO : EPOCH 2 - PROGRESS: at 84.80% examples, 355350 words/s, in_qsize 15, out_qsize 0\n",
            "2020-05-05 18:08:00,743 : INFO : EPOCH 2 - PROGRESS: at 89.45% examples, 356471 words/s, in_qsize 15, out_qsize 0\n",
            "2020-05-05 18:08:01,800 : INFO : EPOCH 2 - PROGRESS: at 94.36% examples, 357584 words/s, in_qsize 14, out_qsize 1\n",
            "2020-05-05 18:08:02,806 : INFO : EPOCH 2 - PROGRESS: at 98.69% examples, 357441 words/s, in_qsize 13, out_qsize 0\n",
            "2020-05-05 18:08:02,909 : INFO : worker thread finished; awaiting finish of 7 more threads\n",
            "2020-05-05 18:08:02,943 : INFO : worker thread finished; awaiting finish of 6 more threads\n",
            "2020-05-05 18:08:02,947 : INFO : worker thread finished; awaiting finish of 5 more threads\n",
            "2020-05-05 18:08:02,952 : INFO : worker thread finished; awaiting finish of 4 more threads\n",
            "2020-05-05 18:08:02,979 : INFO : worker thread finished; awaiting finish of 3 more threads\n",
            "2020-05-05 18:08:02,993 : INFO : worker thread finished; awaiting finish of 2 more threads\n",
            "2020-05-05 18:08:02,995 : INFO : worker thread finished; awaiting finish of 1 more threads\n",
            "2020-05-05 18:08:03,006 : INFO : worker thread finished; awaiting finish of 0 more threads\n",
            "2020-05-05 18:08:03,006 : INFO : EPOCH - 2 : training on 9227204 raw words (8222879 effective words) took 22.9s, 359020 effective words/s\n",
            "2020-05-05 18:08:04,095 : INFO : EPOCH 3 - PROGRESS: at 4.24% examples, 322297 words/s, in_qsize 15, out_qsize 0\n",
            "2020-05-05 18:08:05,150 : INFO : EPOCH 3 - PROGRESS: at 8.90% examples, 342476 words/s, in_qsize 16, out_qsize 0\n",
            "2020-05-05 18:08:06,160 : INFO : EPOCH 3 - PROGRESS: at 13.14% examples, 343103 words/s, in_qsize 15, out_qsize 0\n",
            "2020-05-05 18:08:07,180 : INFO : EPOCH 3 - PROGRESS: at 17.57% examples, 346680 words/s, in_qsize 16, out_qsize 1\n",
            "2020-05-05 18:08:08,210 : INFO : EPOCH 3 - PROGRESS: at 22.22% examples, 351723 words/s, in_qsize 16, out_qsize 0\n",
            "2020-05-05 18:08:09,252 : INFO : EPOCH 3 - PROGRESS: at 26.56% examples, 350089 words/s, in_qsize 14, out_qsize 1\n",
            "2020-05-05 18:08:10,305 : INFO : EPOCH 3 - PROGRESS: at 31.10% examples, 350849 words/s, in_qsize 15, out_qsize 0\n",
            "2020-05-05 18:08:11,357 : INFO : EPOCH 3 - PROGRESS: at 36.08% examples, 355739 words/s, in_qsize 15, out_qsize 0\n",
            "2020-05-05 18:08:12,458 : INFO : EPOCH 3 - PROGRESS: at 40.62% examples, 353867 words/s, in_qsize 15, out_qsize 0\n",
            "2020-05-05 18:08:13,511 : INFO : EPOCH 3 - PROGRESS: at 45.16% examples, 355084 words/s, in_qsize 15, out_qsize 0\n",
            "2020-05-05 18:08:14,509 : INFO : EPOCH 3 - PROGRESS: at 49.48% examples, 354903 words/s, in_qsize 15, out_qsize 0\n",
            "2020-05-05 18:08:15,578 : INFO : EPOCH 3 - PROGRESS: at 54.13% examples, 355396 words/s, in_qsize 15, out_qsize 1\n",
            "2020-05-05 18:08:16,585 : INFO : EPOCH 3 - PROGRESS: at 58.68% examples, 355901 words/s, in_qsize 15, out_qsize 0\n",
            "2020-05-05 18:08:17,594 : INFO : EPOCH 3 - PROGRESS: at 63.00% examples, 355707 words/s, in_qsize 13, out_qsize 2\n",
            "2020-05-05 18:08:18,623 : INFO : EPOCH 3 - PROGRESS: at 67.88% examples, 357939 words/s, in_qsize 16, out_qsize 1\n",
            "2020-05-05 18:08:19,654 : INFO : EPOCH 3 - PROGRESS: at 72.43% examples, 358288 words/s, in_qsize 12, out_qsize 0\n",
            "2020-05-05 18:08:20,681 : INFO : EPOCH 3 - PROGRESS: at 76.77% examples, 357561 words/s, in_qsize 14, out_qsize 1\n",
            "2020-05-05 18:08:21,726 : INFO : EPOCH 3 - PROGRESS: at 81.12% examples, 356623 words/s, in_qsize 16, out_qsize 1\n",
            "2020-05-05 18:08:22,735 : INFO : EPOCH 3 - PROGRESS: at 85.66% examples, 357333 words/s, in_qsize 14, out_qsize 1\n",
            "2020-05-05 18:08:23,761 : INFO : EPOCH 3 - PROGRESS: at 89.78% examples, 356234 words/s, in_qsize 15, out_qsize 4\n",
            "2020-05-05 18:08:24,818 : INFO : EPOCH 3 - PROGRESS: at 94.47% examples, 356656 words/s, in_qsize 15, out_qsize 3\n",
            "2020-05-05 18:08:25,810 : INFO : EPOCH 3 - PROGRESS: at 99.01% examples, 357160 words/s, in_qsize 5, out_qsize 8\n",
            "2020-05-05 18:08:25,818 : INFO : worker thread finished; awaiting finish of 7 more threads\n",
            "2020-05-05 18:08:25,819 : INFO : worker thread finished; awaiting finish of 6 more threads\n",
            "2020-05-05 18:08:25,824 : INFO : worker thread finished; awaiting finish of 5 more threads\n",
            "2020-05-05 18:08:25,826 : INFO : worker thread finished; awaiting finish of 4 more threads\n",
            "2020-05-05 18:08:25,837 : INFO : worker thread finished; awaiting finish of 3 more threads\n",
            "2020-05-05 18:08:25,857 : INFO : worker thread finished; awaiting finish of 2 more threads\n",
            "2020-05-05 18:08:25,871 : INFO : worker thread finished; awaiting finish of 1 more threads\n",
            "2020-05-05 18:08:25,887 : INFO : worker thread finished; awaiting finish of 0 more threads\n",
            "2020-05-05 18:08:25,888 : INFO : EPOCH - 3 : training on 9227204 raw words (8221514 effective words) took 22.9s, 359492 effective words/s\n",
            "2020-05-05 18:08:26,990 : INFO : EPOCH 4 - PROGRESS: at 4.23% examples, 325381 words/s, in_qsize 15, out_qsize 1\n",
            "2020-05-05 18:08:28,032 : INFO : EPOCH 4 - PROGRESS: at 8.69% examples, 334259 words/s, in_qsize 13, out_qsize 3\n",
            "2020-05-05 18:08:29,034 : INFO : EPOCH 4 - PROGRESS: at 13.68% examples, 358141 words/s, in_qsize 15, out_qsize 0\n",
            "2020-05-05 18:08:30,065 : INFO : EPOCH 4 - PROGRESS: at 17.68% examples, 348514 words/s, in_qsize 14, out_qsize 1\n",
            "2020-05-05 18:08:31,072 : INFO : EPOCH 4 - PROGRESS: at 22.22% examples, 352989 words/s, in_qsize 16, out_qsize 1\n",
            "2020-05-05 18:08:32,129 : INFO : EPOCH 4 - PROGRESS: at 26.56% examples, 350391 words/s, in_qsize 14, out_qsize 4\n",
            "2020-05-05 18:08:33,198 : INFO : EPOCH 4 - PROGRESS: at 31.43% examples, 353993 words/s, in_qsize 14, out_qsize 1\n",
            "2020-05-05 18:08:34,210 : INFO : EPOCH 4 - PROGRESS: at 35.75% examples, 353737 words/s, in_qsize 15, out_qsize 2\n",
            "2020-05-05 18:08:35,251 : INFO : EPOCH 4 - PROGRESS: at 40.83% examples, 359105 words/s, in_qsize 15, out_qsize 0\n",
            "2020-05-05 18:08:36,266 : INFO : EPOCH 4 - PROGRESS: at 44.94% examples, 356612 words/s, in_qsize 15, out_qsize 0\n",
            "2020-05-05 18:08:37,340 : INFO : EPOCH 4 - PROGRESS: at 49.27% examples, 354261 words/s, in_qsize 16, out_qsize 5\n",
            "2020-05-05 18:08:38,344 : INFO : EPOCH 4 - PROGRESS: at 54.35% examples, 359353 words/s, in_qsize 16, out_qsize 0\n",
            "2020-05-05 18:08:39,368 : INFO : EPOCH 4 - PROGRESS: at 58.68% examples, 358494 words/s, in_qsize 15, out_qsize 1\n",
            "2020-05-05 18:08:40,376 : INFO : EPOCH 4 - PROGRESS: at 63.01% examples, 358155 words/s, in_qsize 15, out_qsize 0\n",
            "2020-05-05 18:08:41,470 : INFO : EPOCH 4 - PROGRESS: at 67.77% examples, 358165 words/s, in_qsize 14, out_qsize 1\n",
            "2020-05-05 18:08:42,481 : INFO : EPOCH 4 - PROGRESS: at 72.53% examples, 359936 words/s, in_qsize 15, out_qsize 0\n",
            "2020-05-05 18:08:43,512 : INFO : EPOCH 4 - PROGRESS: at 76.88% examples, 359089 words/s, in_qsize 15, out_qsize 0\n",
            "2020-05-05 18:08:44,581 : INFO : EPOCH 4 - PROGRESS: at 81.45% examples, 358583 words/s, in_qsize 15, out_qsize 4\n",
            "2020-05-05 18:08:45,587 : INFO : EPOCH 4 - PROGRESS: at 86.42% examples, 361051 words/s, in_qsize 12, out_qsize 1\n",
            "2020-05-05 18:08:46,640 : INFO : EPOCH 4 - PROGRESS: at 90.66% examples, 359459 words/s, in_qsize 16, out_qsize 2\n",
            "2020-05-05 18:08:47,672 : INFO : EPOCH 4 - PROGRESS: at 95.45% examples, 360424 words/s, in_qsize 16, out_qsize 0\n",
            "2020-05-05 18:08:48,424 : INFO : worker thread finished; awaiting finish of 7 more threads\n",
            "2020-05-05 18:08:48,482 : INFO : worker thread finished; awaiting finish of 6 more threads\n",
            "2020-05-05 18:08:48,513 : INFO : worker thread finished; awaiting finish of 5 more threads\n",
            "2020-05-05 18:08:48,569 : INFO : worker thread finished; awaiting finish of 4 more threads\n",
            "2020-05-05 18:08:48,571 : INFO : worker thread finished; awaiting finish of 3 more threads\n",
            "2020-05-05 18:08:48,572 : INFO : worker thread finished; awaiting finish of 2 more threads\n",
            "2020-05-05 18:08:48,584 : INFO : worker thread finished; awaiting finish of 1 more threads\n",
            "2020-05-05 18:08:48,594 : INFO : worker thread finished; awaiting finish of 0 more threads\n",
            "2020-05-05 18:08:48,595 : INFO : EPOCH - 4 : training on 9227204 raw words (8222489 effective words) took 22.7s, 362305 effective words/s\n",
            "2020-05-05 18:08:49,609 : INFO : EPOCH 5 - PROGRESS: at 4.02% examples, 328491 words/s, in_qsize 15, out_qsize 0\n",
            "2020-05-05 18:08:50,615 : INFO : EPOCH 5 - PROGRESS: at 8.25% examples, 336964 words/s, in_qsize 15, out_qsize 0\n",
            "2020-05-05 18:08:51,630 : INFO : EPOCH 5 - PROGRESS: at 12.60% examples, 341754 words/s, in_qsize 15, out_qsize 0\n",
            "2020-05-05 18:08:52,644 : INFO : EPOCH 5 - PROGRESS: at 17.46% examples, 355151 words/s, in_qsize 14, out_qsize 1\n",
            "2020-05-05 18:08:53,655 : INFO : EPOCH 5 - PROGRESS: at 21.68% examples, 352907 words/s, in_qsize 12, out_qsize 2\n",
            "2020-05-05 18:08:54,695 : INFO : EPOCH 5 - PROGRESS: at 26.23% examples, 354089 words/s, in_qsize 14, out_qsize 1\n",
            "2020-05-05 18:08:55,710 : INFO : EPOCH 5 - PROGRESS: at 30.99% examples, 358728 words/s, in_qsize 15, out_qsize 0\n",
            "2020-05-05 18:08:56,732 : INFO : EPOCH 5 - PROGRESS: at 35.65% examples, 360753 words/s, in_qsize 16, out_qsize 0\n",
            "2020-05-05 18:08:57,807 : INFO : EPOCH 5 - PROGRESS: at 40.19% examples, 359226 words/s, in_qsize 15, out_qsize 0\n",
            "2020-05-05 18:08:58,871 : INFO : EPOCH 5 - PROGRESS: at 44.61% examples, 357549 words/s, in_qsize 13, out_qsize 2\n",
            "2020-05-05 18:08:59,892 : INFO : EPOCH 5 - PROGRESS: at 49.06% examples, 357867 words/s, in_qsize 15, out_qsize 5\n",
            "2020-05-05 18:09:00,912 : INFO : EPOCH 5 - PROGRESS: at 53.81% examples, 359816 words/s, in_qsize 15, out_qsize 0\n",
            "2020-05-05 18:09:01,996 : INFO : EPOCH 5 - PROGRESS: at 58.47% examples, 359328 words/s, in_qsize 16, out_qsize 1\n",
            "2020-05-05 18:09:02,999 : INFO : EPOCH 5 - PROGRESS: at 63.22% examples, 361526 words/s, in_qsize 15, out_qsize 0\n",
            "2020-05-05 18:09:04,040 : INFO : EPOCH 5 - PROGRESS: at 67.56% examples, 360670 words/s, in_qsize 15, out_qsize 2\n",
            "2020-05-05 18:09:05,027 : INFO : EPOCH 5 - PROGRESS: at 71.89% examples, 360264 words/s, in_qsize 12, out_qsize 3\n",
            "2020-05-05 18:09:06,039 : INFO : EPOCH 5 - PROGRESS: at 76.44% examples, 360778 words/s, in_qsize 15, out_qsize 0\n",
            "2020-05-05 18:09:07,081 : INFO : EPOCH 5 - PROGRESS: at 81.01% examples, 360670 words/s, in_qsize 15, out_qsize 0\n",
            "2020-05-05 18:09:08,085 : INFO : EPOCH 5 - PROGRESS: at 85.45% examples, 360828 words/s, in_qsize 12, out_qsize 1\n",
            "2020-05-05 18:09:09,151 : INFO : EPOCH 5 - PROGRESS: at 90.22% examples, 361188 words/s, in_qsize 16, out_qsize 0\n",
            "2020-05-05 18:09:10,155 : INFO : EPOCH 5 - PROGRESS: at 94.79% examples, 361708 words/s, in_qsize 16, out_qsize 0\n",
            "2020-05-05 18:09:11,169 : INFO : EPOCH 5 - PROGRESS: at 99.12% examples, 361231 words/s, in_qsize 7, out_qsize 3\n",
            "2020-05-05 18:09:11,175 : INFO : worker thread finished; awaiting finish of 7 more threads\n",
            "2020-05-05 18:09:11,187 : INFO : worker thread finished; awaiting finish of 6 more threads\n",
            "2020-05-05 18:09:11,209 : INFO : worker thread finished; awaiting finish of 5 more threads\n",
            "2020-05-05 18:09:11,216 : INFO : worker thread finished; awaiting finish of 4 more threads\n",
            "2020-05-05 18:09:11,225 : INFO : worker thread finished; awaiting finish of 3 more threads\n",
            "2020-05-05 18:09:11,229 : INFO : worker thread finished; awaiting finish of 2 more threads\n",
            "2020-05-05 18:09:11,233 : INFO : worker thread finished; awaiting finish of 1 more threads\n",
            "2020-05-05 18:09:11,251 : INFO : worker thread finished; awaiting finish of 0 more threads\n",
            "2020-05-05 18:09:11,252 : INFO : EPOCH - 5 : training on 9227204 raw words (8222818 effective words) took 22.6s, 363101 effective words/s\n",
            "2020-05-05 18:09:12,277 : INFO : EPOCH 6 - PROGRESS: at 3.91% examples, 316353 words/s, in_qsize 14, out_qsize 1\n",
            "2020-05-05 18:09:13,280 : INFO : EPOCH 6 - PROGRESS: at 8.15% examples, 331424 words/s, in_qsize 15, out_qsize 0\n",
            "2020-05-05 18:09:14,282 : INFO : EPOCH 6 - PROGRESS: at 12.39% examples, 336532 words/s, in_qsize 16, out_qsize 1\n",
            "2020-05-05 18:09:15,354 : INFO : EPOCH 6 - PROGRESS: at 17.35% examples, 348376 words/s, in_qsize 15, out_qsize 0\n",
            "2020-05-05 18:09:16,366 : INFO : EPOCH 6 - PROGRESS: at 21.68% examples, 349171 words/s, in_qsize 15, out_qsize 0\n",
            "2020-05-05 18:09:17,367 : INFO : EPOCH 6 - PROGRESS: at 26.34% examples, 354676 words/s, in_qsize 14, out_qsize 0\n",
            "2020-05-05 18:09:18,396 : INFO : EPOCH 6 - PROGRESS: at 30.78% examples, 354773 words/s, in_qsize 16, out_qsize 0\n",
            "2020-05-05 18:09:19,429 : INFO : EPOCH 6 - PROGRESS: at 35.64% examples, 358961 words/s, in_qsize 16, out_qsize 0\n",
            "2020-05-05 18:09:20,438 : INFO : EPOCH 6 - PROGRESS: at 39.54% examples, 354438 words/s, in_qsize 15, out_qsize 0\n",
            "2020-05-05 18:09:21,468 : INFO : EPOCH 6 - PROGRESS: at 44.08% examples, 355281 words/s, in_qsize 15, out_qsize 0\n",
            "2020-05-05 18:09:22,474 : INFO : EPOCH 6 - PROGRESS: at 48.51% examples, 355971 words/s, in_qsize 15, out_qsize 0\n",
            "2020-05-05 18:09:23,476 : INFO : EPOCH 6 - PROGRESS: at 52.95% examples, 356702 words/s, in_qsize 11, out_qsize 2\n",
            "2020-05-05 18:09:24,482 : INFO : EPOCH 6 - PROGRESS: at 57.38% examples, 357232 words/s, in_qsize 15, out_qsize 0\n",
            "2020-05-05 18:09:25,511 : INFO : EPOCH 6 - PROGRESS: at 61.71% examples, 356437 words/s, in_qsize 14, out_qsize 1\n",
            "2020-05-05 18:09:26,554 : INFO : EPOCH 6 - PROGRESS: at 66.37% examples, 357162 words/s, in_qsize 16, out_qsize 1\n",
            "2020-05-05 18:09:27,581 : INFO : EPOCH 6 - PROGRESS: at 70.80% examples, 357080 words/s, in_qsize 14, out_qsize 1\n",
            "2020-05-05 18:09:28,595 : INFO : EPOCH 6 - PROGRESS: at 75.35% examples, 357764 words/s, in_qsize 15, out_qsize 0\n",
            "2020-05-05 18:09:29,607 : INFO : EPOCH 6 - PROGRESS: at 80.03% examples, 358893 words/s, in_qsize 15, out_qsize 0\n",
            "2020-05-05 18:09:30,614 : INFO : EPOCH 6 - PROGRESS: at 84.48% examples, 359092 words/s, in_qsize 13, out_qsize 4\n",
            "2020-05-05 18:09:31,656 : INFO : EPOCH 6 - PROGRESS: at 88.80% examples, 358217 words/s, in_qsize 11, out_qsize 4\n",
            "2020-05-05 18:09:32,746 : INFO : EPOCH 6 - PROGRESS: at 93.92% examples, 359514 words/s, in_qsize 15, out_qsize 0\n",
            "2020-05-05 18:09:33,797 : INFO : EPOCH 6 - PROGRESS: at 98.47% examples, 359352 words/s, in_qsize 15, out_qsize 0\n",
            "2020-05-05 18:09:33,912 : INFO : worker thread finished; awaiting finish of 7 more threads\n",
            "2020-05-05 18:09:33,931 : INFO : worker thread finished; awaiting finish of 6 more threads\n",
            "2020-05-05 18:09:33,964 : INFO : worker thread finished; awaiting finish of 5 more threads\n",
            "2020-05-05 18:09:33,969 : INFO : worker thread finished; awaiting finish of 4 more threads\n",
            "2020-05-05 18:09:33,997 : INFO : worker thread finished; awaiting finish of 3 more threads\n",
            "2020-05-05 18:09:34,004 : INFO : worker thread finished; awaiting finish of 2 more threads\n",
            "2020-05-05 18:09:34,017 : INFO : worker thread finished; awaiting finish of 1 more threads\n",
            "2020-05-05 18:09:34,018 : INFO : worker thread finished; awaiting finish of 0 more threads\n",
            "2020-05-05 18:09:34,019 : INFO : EPOCH - 6 : training on 9227204 raw words (8223044 effective words) took 22.8s, 361378 effective words/s\n",
            "2020-05-05 18:09:35,055 : INFO : EPOCH 7 - PROGRESS: at 3.80% examples, 304780 words/s, in_qsize 15, out_qsize 0\n",
            "2020-05-05 18:09:36,156 : INFO : EPOCH 7 - PROGRESS: at 8.69% examples, 335432 words/s, in_qsize 16, out_qsize 0\n",
            "2020-05-05 18:09:37,181 : INFO : EPOCH 7 - PROGRESS: at 13.25% examples, 345086 words/s, in_qsize 13, out_qsize 4\n",
            "2020-05-05 18:09:38,195 : INFO : EPOCH 7 - PROGRESS: at 18.00% examples, 355075 words/s, in_qsize 15, out_qsize 0\n",
            "2020-05-05 18:09:39,218 : INFO : EPOCH 7 - PROGRESS: at 21.90% examples, 347536 words/s, in_qsize 16, out_qsize 3\n",
            "2020-05-05 18:09:40,276 : INFO : EPOCH 7 - PROGRESS: at 26.67% examples, 350910 words/s, in_qsize 15, out_qsize 0\n",
            "2020-05-05 18:09:41,315 : INFO : EPOCH 7 - PROGRESS: at 31.21% examples, 352235 words/s, in_qsize 15, out_qsize 0\n",
            "2020-05-05 18:09:42,332 : INFO : EPOCH 7 - PROGRESS: at 35.54% examples, 351986 words/s, in_qsize 15, out_qsize 0\n",
            "2020-05-05 18:09:43,471 : INFO : EPOCH 7 - PROGRESS: at 40.62% examples, 353876 words/s, in_qsize 13, out_qsize 2\n",
            "2020-05-05 18:09:44,531 : INFO : EPOCH 7 - PROGRESS: at 45.37% examples, 355480 words/s, in_qsize 15, out_qsize 0\n",
            "2020-05-05 18:09:45,572 : INFO : EPOCH 7 - PROGRESS: at 49.81% examples, 355931 words/s, in_qsize 15, out_qsize 2\n",
            "2020-05-05 18:09:46,547 : INFO : EPOCH 7 - PROGRESS: at 54.13% examples, 355874 words/s, in_qsize 13, out_qsize 2\n",
            "2020-05-05 18:09:47,549 : INFO : EPOCH 7 - PROGRESS: at 59.01% examples, 359199 words/s, in_qsize 16, out_qsize 0\n",
            "2020-05-05 18:09:48,593 : INFO : EPOCH 7 - PROGRESS: at 62.79% examples, 354867 words/s, in_qsize 14, out_qsize 5\n",
            "2020-05-05 18:09:49,600 : INFO : EPOCH 7 - PROGRESS: at 67.56% examples, 357063 words/s, in_qsize 15, out_qsize 0\n",
            "2020-05-05 18:09:50,645 : INFO : EPOCH 7 - PROGRESS: at 72.32% examples, 358206 words/s, in_qsize 15, out_qsize 0\n",
            "2020-05-05 18:09:51,770 : INFO : EPOCH 7 - PROGRESS: at 76.66% examples, 355564 words/s, in_qsize 14, out_qsize 4\n",
            "2020-05-05 18:09:52,797 : INFO : EPOCH 7 - PROGRESS: at 81.34% examples, 356528 words/s, in_qsize 15, out_qsize 0\n",
            "2020-05-05 18:09:53,848 : INFO : EPOCH 7 - PROGRESS: at 86.21% examples, 357847 words/s, in_qsize 15, out_qsize 0\n",
            "2020-05-05 18:09:54,895 : INFO : EPOCH 7 - PROGRESS: at 90.11% examples, 355715 words/s, in_qsize 16, out_qsize 3\n",
            "2020-05-05 18:09:55,897 : INFO : EPOCH 7 - PROGRESS: at 94.47% examples, 355229 words/s, in_qsize 16, out_qsize 3\n",
            "2020-05-05 18:09:56,839 : INFO : worker thread finished; awaiting finish of 7 more threads\n",
            "2020-05-05 18:09:56,881 : INFO : worker thread finished; awaiting finish of 6 more threads\n",
            "2020-05-05 18:09:56,912 : INFO : EPOCH 7 - PROGRESS: at 99.45% examples, 357437 words/s, in_qsize 5, out_qsize 1\n",
            "2020-05-05 18:09:56,917 : INFO : worker thread finished; awaiting finish of 5 more threads\n",
            "2020-05-05 18:09:56,974 : INFO : worker thread finished; awaiting finish of 4 more threads\n",
            "2020-05-05 18:09:56,984 : INFO : worker thread finished; awaiting finish of 3 more threads\n",
            "2020-05-05 18:09:56,989 : INFO : worker thread finished; awaiting finish of 2 more threads\n",
            "2020-05-05 18:09:56,991 : INFO : worker thread finished; awaiting finish of 1 more threads\n",
            "2020-05-05 18:09:56,992 : INFO : worker thread finished; awaiting finish of 0 more threads\n",
            "2020-05-05 18:09:56,993 : INFO : EPOCH - 7 : training on 9227204 raw words (8222671 effective words) took 23.0s, 358116 effective words/s\n",
            "2020-05-05 18:09:58,049 : INFO : EPOCH 8 - PROGRESS: at 3.91% examples, 307756 words/s, in_qsize 15, out_qsize 0\n",
            "2020-05-05 18:09:59,137 : INFO : EPOCH 8 - PROGRESS: at 8.58% examples, 330443 words/s, in_qsize 16, out_qsize 2\n",
            "2020-05-05 18:10:00,143 : INFO : EPOCH 8 - PROGRESS: at 13.68% examples, 357869 words/s, in_qsize 15, out_qsize 0\n",
            "2020-05-05 18:10:01,145 : INFO : EPOCH 8 - PROGRESS: at 17.57% examples, 348688 words/s, in_qsize 15, out_qsize 0\n",
            "2020-05-05 18:10:02,194 : INFO : EPOCH 8 - PROGRESS: at 22.11% examples, 350298 words/s, in_qsize 15, out_qsize 0\n",
            "2020-05-05 18:10:03,209 : INFO : EPOCH 8 - PROGRESS: at 26.78% examples, 354799 words/s, in_qsize 15, out_qsize 0\n",
            "2020-05-05 18:10:04,217 : INFO : EPOCH 8 - PROGRESS: at 30.89% examples, 352163 words/s, in_qsize 15, out_qsize 2\n",
            "2020-05-05 18:10:05,237 : INFO : EPOCH 8 - PROGRESS: at 35.32% examples, 352846 words/s, in_qsize 15, out_qsize 0\n",
            "2020-05-05 18:10:06,270 : INFO : EPOCH 8 - PROGRESS: at 40.19% examples, 356804 words/s, in_qsize 15, out_qsize 0\n",
            "2020-05-05 18:10:07,294 : INFO : EPOCH 8 - PROGRESS: at 43.97% examples, 351604 words/s, in_qsize 15, out_qsize 3\n",
            "2020-05-05 18:10:08,303 : INFO : EPOCH 8 - PROGRESS: at 48.62% examples, 354107 words/s, in_qsize 15, out_qsize 0\n",
            "2020-05-05 18:10:09,305 : INFO : EPOCH 8 - PROGRESS: at 52.95% examples, 354250 words/s, in_qsize 15, out_qsize 0\n",
            "2020-05-05 18:10:10,443 : INFO : EPOCH 8 - PROGRESS: at 57.82% examples, 354094 words/s, in_qsize 15, out_qsize 0\n",
            "2020-05-05 18:10:11,489 : INFO : EPOCH 8 - PROGRESS: at 62.46% examples, 354979 words/s, in_qsize 15, out_qsize 0\n",
            "2020-05-05 18:10:12,508 : INFO : EPOCH 8 - PROGRESS: at 66.80% examples, 354621 words/s, in_qsize 15, out_qsize 0\n",
            "2020-05-05 18:10:13,574 : INFO : EPOCH 8 - PROGRESS: at 71.45% examples, 354937 words/s, in_qsize 14, out_qsize 1\n",
            "2020-05-05 18:10:14,663 : INFO : EPOCH 8 - PROGRESS: at 76.00% examples, 354221 words/s, in_qsize 16, out_qsize 2\n",
            "2020-05-05 18:10:15,726 : INFO : EPOCH 8 - PROGRESS: at 80.69% examples, 354555 words/s, in_qsize 14, out_qsize 1\n",
            "2020-05-05 18:10:16,801 : INFO : EPOCH 8 - PROGRESS: at 85.34% examples, 355130 words/s, in_qsize 14, out_qsize 6\n",
            "2020-05-05 18:10:17,786 : INFO : EPOCH 8 - PROGRESS: at 89.78% examples, 355406 words/s, in_qsize 12, out_qsize 3\n",
            "2020-05-05 18:10:18,851 : INFO : EPOCH 8 - PROGRESS: at 94.25% examples, 354775 words/s, in_qsize 11, out_qsize 4\n",
            "2020-05-05 18:10:19,892 : INFO : EPOCH 8 - PROGRESS: at 98.90% examples, 355912 words/s, in_qsize 11, out_qsize 1\n",
            "2020-05-05 18:10:19,923 : INFO : worker thread finished; awaiting finish of 7 more threads\n",
            "2020-05-05 18:10:19,931 : INFO : worker thread finished; awaiting finish of 6 more threads\n",
            "2020-05-05 18:10:19,946 : INFO : worker thread finished; awaiting finish of 5 more threads\n",
            "2020-05-05 18:10:19,960 : INFO : worker thread finished; awaiting finish of 4 more threads\n",
            "2020-05-05 18:10:19,973 : INFO : worker thread finished; awaiting finish of 3 more threads\n",
            "2020-05-05 18:10:19,979 : INFO : worker thread finished; awaiting finish of 2 more threads\n",
            "2020-05-05 18:10:20,001 : INFO : worker thread finished; awaiting finish of 1 more threads\n",
            "2020-05-05 18:10:20,004 : INFO : worker thread finished; awaiting finish of 0 more threads\n",
            "2020-05-05 18:10:20,005 : INFO : EPOCH - 8 : training on 9227204 raw words (8222785 effective words) took 23.0s, 357533 effective words/s\n",
            "2020-05-05 18:10:21,073 : INFO : EPOCH 9 - PROGRESS: at 3.91% examples, 302872 words/s, in_qsize 15, out_qsize 0\n",
            "2020-05-05 18:10:22,107 : INFO : EPOCH 9 - PROGRESS: at 8.58% examples, 340939 words/s, in_qsize 15, out_qsize 0\n",
            "2020-05-05 18:10:23,178 : INFO : EPOCH 9 - PROGRESS: at 13.15% examples, 340846 words/s, in_qsize 16, out_qsize 1\n",
            "2020-05-05 18:10:24,332 : INFO : EPOCH 9 - PROGRESS: at 18.11% examples, 344546 words/s, in_qsize 16, out_qsize 1\n",
            "2020-05-05 18:10:25,368 : INFO : EPOCH 9 - PROGRESS: at 22.65% examples, 347773 words/s, in_qsize 14, out_qsize 1\n",
            "2020-05-05 18:10:26,373 : INFO : EPOCH 9 - PROGRESS: at 27.21% examples, 351640 words/s, in_qsize 15, out_qsize 0\n",
            "2020-05-05 18:10:27,392 : INFO : EPOCH 9 - PROGRESS: at 31.97% examples, 356286 words/s, in_qsize 14, out_qsize 0\n",
            "2020-05-05 18:10:28,446 : INFO : EPOCH 9 - PROGRESS: at 36.40% examples, 355052 words/s, in_qsize 15, out_qsize 0\n",
            "2020-05-05 18:10:29,448 : INFO : EPOCH 9 - PROGRESS: at 40.51% examples, 353214 words/s, in_qsize 14, out_qsize 4\n",
            "2020-05-05 18:10:30,496 : INFO : EPOCH 9 - PROGRESS: at 45.37% examples, 356829 words/s, in_qsize 15, out_qsize 1\n",
            "2020-05-05 18:10:31,531 : INFO : EPOCH 9 - PROGRESS: at 49.59% examples, 354292 words/s, in_qsize 15, out_qsize 3\n",
            "2020-05-05 18:10:32,582 : INFO : EPOCH 9 - PROGRESS: at 54.35% examples, 355861 words/s, in_qsize 16, out_qsize 2\n",
            "2020-05-05 18:10:33,584 : INFO : EPOCH 9 - PROGRESS: at 59.12% examples, 358480 words/s, in_qsize 15, out_qsize 0\n",
            "2020-05-05 18:10:34,585 : INFO : EPOCH 9 - PROGRESS: at 63.33% examples, 357705 words/s, in_qsize 15, out_qsize 0\n",
            "2020-05-05 18:10:35,614 : INFO : EPOCH 9 - PROGRESS: at 67.88% examples, 358091 words/s, in_qsize 15, out_qsize 0\n",
            "2020-05-05 18:10:36,619 : INFO : EPOCH 9 - PROGRESS: at 72.53% examples, 359467 words/s, in_qsize 13, out_qsize 1\n",
            "2020-05-05 18:10:37,651 : INFO : EPOCH 9 - PROGRESS: at 76.88% examples, 359025 words/s, in_qsize 15, out_qsize 0\n",
            "2020-05-05 18:10:38,754 : INFO : EPOCH 9 - PROGRESS: at 81.55% examples, 357960 words/s, in_qsize 16, out_qsize 4\n",
            "2020-05-05 18:10:39,769 : INFO : EPOCH 9 - PROGRESS: at 86.64% examples, 360735 words/s, in_qsize 16, out_qsize 0\n",
            "2020-05-05 18:10:40,816 : INFO : EPOCH 9 - PROGRESS: at 90.98% examples, 359681 words/s, in_qsize 15, out_qsize 0\n",
            "2020-05-05 18:10:41,887 : INFO : EPOCH 9 - PROGRESS: at 95.55% examples, 359156 words/s, in_qsize 15, out_qsize 1\n",
            "2020-05-05 18:10:42,652 : INFO : worker thread finished; awaiting finish of 7 more threads\n",
            "2020-05-05 18:10:42,687 : INFO : worker thread finished; awaiting finish of 6 more threads\n",
            "2020-05-05 18:10:42,700 : INFO : worker thread finished; awaiting finish of 5 more threads\n",
            "2020-05-05 18:10:42,712 : INFO : worker thread finished; awaiting finish of 4 more threads\n",
            "2020-05-05 18:10:42,718 : INFO : worker thread finished; awaiting finish of 3 more threads\n",
            "2020-05-05 18:10:42,722 : INFO : worker thread finished; awaiting finish of 2 more threads\n",
            "2020-05-05 18:10:42,725 : INFO : worker thread finished; awaiting finish of 1 more threads\n",
            "2020-05-05 18:10:42,741 : INFO : worker thread finished; awaiting finish of 0 more threads\n",
            "2020-05-05 18:10:42,742 : INFO : EPOCH - 9 : training on 9227204 raw words (8222016 effective words) took 22.7s, 361771 effective words/s\n",
            "2020-05-05 18:10:43,847 : INFO : EPOCH 10 - PROGRESS: at 4.13% examples, 309508 words/s, in_qsize 12, out_qsize 3\n",
            "2020-05-05 18:10:44,858 : INFO : EPOCH 10 - PROGRESS: at 9.12% examples, 355569 words/s, in_qsize 15, out_qsize 0\n",
            "2020-05-05 18:10:45,937 : INFO : EPOCH 10 - PROGRESS: at 13.47% examples, 346947 words/s, in_qsize 12, out_qsize 3\n",
            "2020-05-05 18:10:46,946 : INFO : EPOCH 10 - PROGRESS: at 18.22% examples, 356883 words/s, in_qsize 14, out_qsize 1\n",
            "2020-05-05 18:10:47,972 : INFO : EPOCH 10 - PROGRESS: at 22.43% examples, 353275 words/s, in_qsize 15, out_qsize 0\n",
            "2020-05-05 18:10:49,041 : INFO : EPOCH 10 - PROGRESS: at 26.78% examples, 350812 words/s, in_qsize 15, out_qsize 6\n",
            "2020-05-05 18:10:50,048 : INFO : EPOCH 10 - PROGRESS: at 31.64% examples, 356579 words/s, in_qsize 15, out_qsize 0\n",
            "2020-05-05 18:10:51,048 : INFO : EPOCH 10 - PROGRESS: at 35.97% examples, 356537 words/s, in_qsize 15, out_qsize 0\n",
            "2020-05-05 18:10:52,103 : INFO : EPOCH 10 - PROGRESS: at 40.62% examples, 357269 words/s, in_qsize 15, out_qsize 0\n",
            "2020-05-05 18:10:53,139 : INFO : EPOCH 10 - PROGRESS: at 45.27% examples, 358518 words/s, in_qsize 14, out_qsize 4\n",
            "2020-05-05 18:10:54,264 : INFO : EPOCH 10 - PROGRESS: at 50.13% examples, 358322 words/s, in_qsize 16, out_qsize 1\n",
            "2020-05-05 18:10:55,282 : INFO : EPOCH 10 - PROGRESS: at 55.10% examples, 361927 words/s, in_qsize 15, out_qsize 0\n",
            "2020-05-05 18:10:56,311 : INFO : EPOCH 10 - PROGRESS: at 59.34% examples, 360752 words/s, in_qsize 15, out_qsize 2\n",
            "2020-05-05 18:10:57,343 : INFO : EPOCH 10 - PROGRESS: at 63.97% examples, 360913 words/s, in_qsize 16, out_qsize 0\n",
            "2020-05-05 18:10:58,431 : INFO : EPOCH 10 - PROGRESS: at 68.53% examples, 359742 words/s, in_qsize 16, out_qsize 0\n",
            "2020-05-05 18:10:59,492 : INFO : EPOCH 10 - PROGRESS: at 73.08% examples, 359264 words/s, in_qsize 16, out_qsize 3\n",
            "2020-05-05 18:11:00,605 : INFO : EPOCH 10 - PROGRESS: at 78.07% examples, 359823 words/s, in_qsize 11, out_qsize 4\n",
            "2020-05-05 18:11:01,690 : INFO : EPOCH 10 - PROGRESS: at 83.18% examples, 361852 words/s, in_qsize 15, out_qsize 1\n",
            "2020-05-05 18:11:02,768 : INFO : EPOCH 10 - PROGRESS: at 87.83% examples, 360967 words/s, in_qsize 16, out_qsize 0\n",
            "2020-05-05 18:11:03,768 : INFO : EPOCH 10 - PROGRESS: at 92.39% examples, 361558 words/s, in_qsize 16, out_qsize 0\n",
            "2020-05-05 18:11:04,796 : INFO : EPOCH 10 - PROGRESS: at 96.64% examples, 360837 words/s, in_qsize 15, out_qsize 6\n",
            "2020-05-05 18:11:05,264 : INFO : worker thread finished; awaiting finish of 7 more threads\n",
            "2020-05-05 18:11:05,271 : INFO : worker thread finished; awaiting finish of 6 more threads\n",
            "2020-05-05 18:11:05,302 : INFO : worker thread finished; awaiting finish of 5 more threads\n",
            "2020-05-05 18:11:05,320 : INFO : worker thread finished; awaiting finish of 4 more threads\n",
            "2020-05-05 18:11:05,348 : INFO : worker thread finished; awaiting finish of 3 more threads\n",
            "2020-05-05 18:11:05,363 : INFO : worker thread finished; awaiting finish of 2 more threads\n",
            "2020-05-05 18:11:05,367 : INFO : worker thread finished; awaiting finish of 1 more threads\n",
            "2020-05-05 18:11:05,372 : INFO : worker thread finished; awaiting finish of 0 more threads\n",
            "2020-05-05 18:11:05,373 : INFO : EPOCH - 10 : training on 9227204 raw words (8222419 effective words) took 22.6s, 363510 effective words/s\n",
            "2020-05-05 18:11:06,477 : INFO : EPOCH 11 - PROGRESS: at 4.23% examples, 317739 words/s, in_qsize 14, out_qsize 1\n",
            "2020-05-05 18:11:07,477 : INFO : EPOCH 11 - PROGRESS: at 8.90% examples, 349118 words/s, in_qsize 12, out_qsize 3\n",
            "2020-05-05 18:11:08,547 : INFO : EPOCH 11 - PROGRESS: at 13.47% examples, 349413 words/s, in_qsize 15, out_qsize 0\n",
            "2020-05-05 18:11:09,589 : INFO : EPOCH 11 - PROGRESS: at 17.89% examples, 349576 words/s, in_qsize 15, out_qsize 3\n",
            "2020-05-05 18:11:10,632 : INFO : EPOCH 11 - PROGRESS: at 22.76% examples, 356591 words/s, in_qsize 15, out_qsize 0\n",
            "2020-05-05 18:11:11,701 : INFO : EPOCH 11 - PROGRESS: at 27.31% examples, 355452 words/s, in_qsize 15, out_qsize 0\n",
            "2020-05-05 18:11:12,722 : INFO : EPOCH 11 - PROGRESS: at 31.76% examples, 355785 words/s, in_qsize 16, out_qsize 2\n",
            "2020-05-05 18:11:13,729 : INFO : EPOCH 11 - PROGRESS: at 36.40% examples, 358763 words/s, in_qsize 14, out_qsize 1\n",
            "2020-05-05 18:11:14,843 : INFO : EPOCH 11 - PROGRESS: at 41.26% examples, 358896 words/s, in_qsize 15, out_qsize 0\n",
            "2020-05-05 18:11:15,892 : INFO : EPOCH 11 - PROGRESS: at 45.92% examples, 359529 words/s, in_qsize 15, out_qsize 0\n",
            "2020-05-05 18:11:16,939 : INFO : EPOCH 11 - PROGRESS: at 50.46% examples, 359370 words/s, in_qsize 14, out_qsize 1\n",
            "2020-05-05 18:11:17,969 : INFO : EPOCH 11 - PROGRESS: at 54.89% examples, 359001 words/s, in_qsize 15, out_qsize 2\n",
            "2020-05-05 18:11:19,039 : INFO : EPOCH 11 - PROGRESS: at 59.66% examples, 359574 words/s, in_qsize 14, out_qsize 1\n",
            "2020-05-05 18:11:20,043 : INFO : EPOCH 11 - PROGRESS: at 64.08% examples, 359848 words/s, in_qsize 11, out_qsize 4\n",
            "2020-05-05 18:11:21,115 : INFO : EPOCH 11 - PROGRESS: at 68.85% examples, 360256 words/s, in_qsize 15, out_qsize 0\n",
            "2020-05-05 18:11:22,143 : INFO : EPOCH 11 - PROGRESS: at 73.73% examples, 362043 words/s, in_qsize 16, out_qsize 0\n",
            "2020-05-05 18:11:23,224 : INFO : EPOCH 11 - PROGRESS: at 78.07% examples, 360081 words/s, in_qsize 15, out_qsize 0\n",
            "2020-05-05 18:11:24,254 : INFO : EPOCH 11 - PROGRESS: at 82.74% examples, 360723 words/s, in_qsize 16, out_qsize 0\n",
            "2020-05-05 18:11:25,320 : INFO : EPOCH 11 - PROGRESS: at 87.18% examples, 359738 words/s, in_qsize 12, out_qsize 5\n",
            "2020-05-05 18:11:26,334 : INFO : EPOCH 11 - PROGRESS: at 92.17% examples, 361870 words/s, in_qsize 16, out_qsize 0\n",
            "2020-05-05 18:11:27,337 : INFO : EPOCH 11 - PROGRESS: at 96.53% examples, 361559 words/s, in_qsize 16, out_qsize 0\n",
            "2020-05-05 18:11:27,979 : INFO : worker thread finished; awaiting finish of 7 more threads\n",
            "2020-05-05 18:11:27,997 : INFO : worker thread finished; awaiting finish of 6 more threads\n",
            "2020-05-05 18:11:28,005 : INFO : worker thread finished; awaiting finish of 5 more threads\n",
            "2020-05-05 18:11:28,007 : INFO : worker thread finished; awaiting finish of 4 more threads\n",
            "2020-05-05 18:11:28,012 : INFO : worker thread finished; awaiting finish of 3 more threads\n",
            "2020-05-05 18:11:28,027 : INFO : worker thread finished; awaiting finish of 2 more threads\n",
            "2020-05-05 18:11:28,032 : INFO : worker thread finished; awaiting finish of 1 more threads\n",
            "2020-05-05 18:11:28,033 : INFO : worker thread finished; awaiting finish of 0 more threads\n",
            "2020-05-05 18:11:28,034 : INFO : EPOCH - 11 : training on 9227204 raw words (8223183 effective words) took 22.6s, 363066 effective words/s\n",
            "2020-05-05 18:11:29,053 : INFO : EPOCH 12 - PROGRESS: at 3.80% examples, 309318 words/s, in_qsize 16, out_qsize 3\n",
            "2020-05-05 18:11:30,066 : INFO : EPOCH 12 - PROGRESS: at 8.47% examples, 343974 words/s, in_qsize 14, out_qsize 0\n",
            "2020-05-05 18:11:31,080 : INFO : EPOCH 12 - PROGRESS: at 12.82% examples, 346512 words/s, in_qsize 15, out_qsize 0\n",
            "2020-05-05 18:11:32,182 : INFO : EPOCH 12 - PROGRESS: at 17.68% examples, 350985 words/s, in_qsize 16, out_qsize 0\n",
            "2020-05-05 18:11:33,254 : INFO : EPOCH 12 - PROGRESS: at 22.33% examples, 352277 words/s, in_qsize 14, out_qsize 4\n",
            "2020-05-05 18:11:34,286 : INFO : EPOCH 12 - PROGRESS: at 27.20% examples, 358285 words/s, in_qsize 15, out_qsize 0\n",
            "2020-05-05 18:11:35,305 : INFO : EPOCH 12 - PROGRESS: at 31.75% examples, 359564 words/s, in_qsize 15, out_qsize 0\n",
            "2020-05-05 18:11:36,315 : INFO : EPOCH 12 - PROGRESS: at 36.29% examples, 360861 words/s, in_qsize 15, out_qsize 0\n",
            "2020-05-05 18:11:37,321 : INFO : EPOCH 12 - PROGRESS: at 40.40% examples, 358202 words/s, in_qsize 16, out_qsize 1\n",
            "2020-05-05 18:11:38,325 : INFO : EPOCH 12 - PROGRESS: at 44.73% examples, 357878 words/s, in_qsize 13, out_qsize 2\n",
            "2020-05-05 18:11:39,407 : INFO : EPOCH 12 - PROGRESS: at 49.70% examples, 359865 words/s, in_qsize 15, out_qsize 0\n",
            "2020-05-05 18:11:40,432 : INFO : EPOCH 12 - PROGRESS: at 54.25% examples, 360308 words/s, in_qsize 15, out_qsize 0\n",
            "2020-05-05 18:11:41,462 : INFO : EPOCH 12 - PROGRESS: at 59.01% examples, 361902 words/s, in_qsize 16, out_qsize 0\n",
            "2020-05-05 18:11:42,507 : INFO : EPOCH 12 - PROGRESS: at 63.43% examples, 361019 words/s, in_qsize 16, out_qsize 0\n",
            "2020-05-05 18:11:43,566 : INFO : EPOCH 12 - PROGRESS: at 67.99% examples, 360467 words/s, in_qsize 15, out_qsize 0\n",
            "2020-05-05 18:11:44,604 : INFO : EPOCH 12 - PROGRESS: at 72.75% examples, 361537 words/s, in_qsize 16, out_qsize 0\n",
            "2020-05-05 18:11:45,609 : INFO : EPOCH 12 - PROGRESS: at 77.20% examples, 361621 words/s, in_qsize 15, out_qsize 0\n",
            "2020-05-05 18:11:46,640 : INFO : EPOCH 12 - PROGRESS: at 81.66% examples, 361228 words/s, in_qsize 14, out_qsize 1\n",
            "2020-05-05 18:11:47,662 : INFO : EPOCH 12 - PROGRESS: at 85.88% examples, 360114 words/s, in_qsize 13, out_qsize 2\n",
            "2020-05-05 18:11:48,701 : INFO : EPOCH 12 - PROGRESS: at 90.65% examples, 361332 words/s, in_qsize 14, out_qsize 3\n",
            "2020-05-05 18:11:49,698 : INFO : EPOCH 12 - PROGRESS: at 95.12% examples, 361185 words/s, in_qsize 15, out_qsize 0\n",
            "2020-05-05 18:11:50,588 : INFO : worker thread finished; awaiting finish of 7 more threads\n",
            "2020-05-05 18:11:50,629 : INFO : worker thread finished; awaiting finish of 6 more threads\n",
            "2020-05-05 18:11:50,688 : INFO : worker thread finished; awaiting finish of 5 more threads\n",
            "2020-05-05 18:11:50,694 : INFO : worker thread finished; awaiting finish of 4 more threads\n",
            "2020-05-05 18:11:50,695 : INFO : worker thread finished; awaiting finish of 3 more threads\n",
            "2020-05-05 18:11:50,699 : INFO : EPOCH 12 - PROGRESS: at 99.78% examples, 362189 words/s, in_qsize 1, out_qsize 3\n",
            "2020-05-05 18:11:50,701 : INFO : worker thread finished; awaiting finish of 2 more threads\n",
            "2020-05-05 18:11:50,704 : INFO : worker thread finished; awaiting finish of 1 more threads\n",
            "2020-05-05 18:11:50,710 : INFO : worker thread finished; awaiting finish of 0 more threads\n",
            "2020-05-05 18:11:50,710 : INFO : EPOCH - 12 : training on 9227204 raw words (8222550 effective words) took 22.7s, 362792 effective words/s\n",
            "2020-05-05 18:11:51,802 : INFO : EPOCH 13 - PROGRESS: at 4.23% examples, 322491 words/s, in_qsize 15, out_qsize 0\n",
            "2020-05-05 18:11:52,935 : INFO : EPOCH 13 - PROGRESS: at 9.12% examples, 338609 words/s, in_qsize 15, out_qsize 0\n",
            "2020-05-05 18:11:53,988 : INFO : EPOCH 13 - PROGRESS: at 13.57% examples, 343835 words/s, in_qsize 15, out_qsize 6\n",
            "2020-05-05 18:11:54,974 : INFO : EPOCH 13 - PROGRESS: at 18.11% examples, 350086 words/s, in_qsize 16, out_qsize 0\n",
            "2020-05-05 18:11:56,025 : INFO : EPOCH 13 - PROGRESS: at 22.76% examples, 352997 words/s, in_qsize 14, out_qsize 2\n",
            "2020-05-05 18:11:57,057 : INFO : EPOCH 13 - PROGRESS: at 27.53% examples, 357364 words/s, in_qsize 15, out_qsize 0\n",
            "2020-05-05 18:11:58,101 : INFO : EPOCH 13 - PROGRESS: at 31.97% examples, 356333 words/s, in_qsize 15, out_qsize 1\n",
            "2020-05-05 18:11:59,103 : INFO : EPOCH 13 - PROGRESS: at 36.83% examples, 361569 words/s, in_qsize 15, out_qsize 0\n",
            "2020-05-05 18:12:00,111 : INFO : EPOCH 13 - PROGRESS: at 41.05% examples, 359747 words/s, in_qsize 15, out_qsize 1\n",
            "2020-05-05 18:12:01,115 : INFO : EPOCH 13 - PROGRESS: at 45.48% examples, 360162 words/s, in_qsize 14, out_qsize 1\n",
            "2020-05-05 18:12:02,126 : INFO : EPOCH 13 - PROGRESS: at 49.92% examples, 360262 words/s, in_qsize 16, out_qsize 0\n",
            "2020-05-05 18:12:03,233 : INFO : EPOCH 13 - PROGRESS: at 54.56% examples, 358995 words/s, in_qsize 15, out_qsize 0\n",
            "2020-05-05 18:12:04,250 : INFO : EPOCH 13 - PROGRESS: at 59.01% examples, 359025 words/s, in_qsize 16, out_qsize 2\n",
            "2020-05-05 18:12:05,288 : INFO : EPOCH 13 - PROGRESS: at 63.76% examples, 360363 words/s, in_qsize 16, out_qsize 0\n",
            "2020-05-05 18:12:06,311 : INFO : EPOCH 13 - PROGRESS: at 68.21% examples, 360144 words/s, in_qsize 15, out_qsize 0\n",
            "2020-05-05 18:12:07,327 : INFO : EPOCH 13 - PROGRESS: at 72.86% examples, 361151 words/s, in_qsize 16, out_qsize 1\n",
            "2020-05-05 18:12:08,347 : INFO : EPOCH 13 - PROGRESS: at 77.52% examples, 361982 words/s, in_qsize 15, out_qsize 0\n",
            "2020-05-05 18:12:09,362 : INFO : EPOCH 13 - PROGRESS: at 81.88% examples, 361376 words/s, in_qsize 15, out_qsize 1\n",
            "2020-05-05 18:12:10,366 : INFO : EPOCH 13 - PROGRESS: at 86.31% examples, 361497 words/s, in_qsize 14, out_qsize 1\n",
            "2020-05-05 18:12:11,424 : INFO : EPOCH 13 - PROGRESS: at 90.76% examples, 360647 words/s, in_qsize 16, out_qsize 2\n",
            "2020-05-05 18:12:12,446 : INFO : EPOCH 13 - PROGRESS: at 95.23% examples, 360481 words/s, in_qsize 15, out_qsize 2\n",
            "2020-05-05 18:12:13,276 : INFO : worker thread finished; awaiting finish of 7 more threads\n",
            "2020-05-05 18:12:13,286 : INFO : worker thread finished; awaiting finish of 6 more threads\n",
            "2020-05-05 18:12:13,305 : INFO : worker thread finished; awaiting finish of 5 more threads\n",
            "2020-05-05 18:12:13,341 : INFO : worker thread finished; awaiting finish of 4 more threads\n",
            "2020-05-05 18:12:13,357 : INFO : worker thread finished; awaiting finish of 3 more threads\n",
            "2020-05-05 18:12:13,363 : INFO : worker thread finished; awaiting finish of 2 more threads\n",
            "2020-05-05 18:12:13,367 : INFO : worker thread finished; awaiting finish of 1 more threads\n",
            "2020-05-05 18:12:13,368 : INFO : worker thread finished; awaiting finish of 0 more threads\n",
            "2020-05-05 18:12:13,370 : INFO : EPOCH - 13 : training on 9227204 raw words (8222812 effective words) took 22.6s, 363126 effective words/s\n",
            "2020-05-05 18:12:14,432 : INFO : EPOCH 14 - PROGRESS: at 3.80% examples, 302263 words/s, in_qsize 15, out_qsize 2\n",
            "2020-05-05 18:12:15,434 : INFO : EPOCH 14 - PROGRESS: at 8.36% examples, 334627 words/s, in_qsize 15, out_qsize 0\n",
            "2020-05-05 18:12:16,631 : INFO : EPOCH 14 - PROGRESS: at 13.25% examples, 337410 words/s, in_qsize 15, out_qsize 2\n",
            "2020-05-05 18:12:17,664 : INFO : EPOCH 14 - PROGRESS: at 17.89% examples, 343374 words/s, in_qsize 14, out_qsize 1\n",
            "2020-05-05 18:12:18,677 : INFO : EPOCH 14 - PROGRESS: at 22.43% examples, 348432 words/s, in_qsize 16, out_qsize 0\n",
            "2020-05-05 18:12:19,692 : INFO : EPOCH 14 - PROGRESS: at 26.99% examples, 351661 words/s, in_qsize 16, out_qsize 0\n",
            "2020-05-05 18:12:20,745 : INFO : EPOCH 14 - PROGRESS: at 31.75% examples, 354659 words/s, in_qsize 15, out_qsize 0\n",
            "2020-05-05 18:12:21,769 : INFO : EPOCH 14 - PROGRESS: at 35.86% examples, 351695 words/s, in_qsize 14, out_qsize 4\n",
            "2020-05-05 18:12:22,871 : INFO : EPOCH 14 - PROGRESS: at 40.51% examples, 351208 words/s, in_qsize 12, out_qsize 8\n",
            "2020-05-05 18:12:23,904 : INFO : EPOCH 14 - PROGRESS: at 45.27% examples, 353977 words/s, in_qsize 13, out_qsize 5\n",
            "2020-05-05 18:12:24,936 : INFO : EPOCH 14 - PROGRESS: at 49.92% examples, 355533 words/s, in_qsize 15, out_qsize 0\n",
            "2020-05-05 18:12:26,021 : INFO : EPOCH 14 - PROGRESS: at 54.57% examples, 355364 words/s, in_qsize 14, out_qsize 1\n",
            "2020-05-05 18:12:27,067 : INFO : EPOCH 14 - PROGRESS: at 59.34% examples, 356855 words/s, in_qsize 15, out_qsize 0\n",
            "2020-05-05 18:12:28,070 : INFO : EPOCH 14 - PROGRESS: at 63.65% examples, 356746 words/s, in_qsize 15, out_qsize 0\n",
            "2020-05-05 18:12:29,085 : INFO : EPOCH 14 - PROGRESS: at 68.42% examples, 358616 words/s, in_qsize 16, out_qsize 2\n",
            "2020-05-05 18:12:30,100 : INFO : EPOCH 14 - PROGRESS: at 73.08% examples, 359772 words/s, in_qsize 15, out_qsize 0\n",
            "2020-05-05 18:12:31,209 : INFO : EPOCH 14 - PROGRESS: at 77.41% examples, 357349 words/s, in_qsize 13, out_qsize 2\n",
            "2020-05-05 18:12:32,214 : INFO : EPOCH 14 - PROGRESS: at 82.42% examples, 360046 words/s, in_qsize 16, out_qsize 0\n",
            "2020-05-05 18:12:33,220 : INFO : EPOCH 14 - PROGRESS: at 86.75% examples, 359759 words/s, in_qsize 16, out_qsize 0\n",
            "2020-05-05 18:12:34,251 : INFO : EPOCH 14 - PROGRESS: at 90.98% examples, 358611 words/s, in_qsize 15, out_qsize 0\n",
            "2020-05-05 18:12:35,313 : INFO : EPOCH 14 - PROGRESS: at 95.77% examples, 359088 words/s, in_qsize 15, out_qsize 0\n",
            "2020-05-05 18:12:36,066 : INFO : worker thread finished; awaiting finish of 7 more threads\n",
            "2020-05-05 18:12:36,073 : INFO : worker thread finished; awaiting finish of 6 more threads\n",
            "2020-05-05 18:12:36,089 : INFO : worker thread finished; awaiting finish of 5 more threads\n",
            "2020-05-05 18:12:36,106 : INFO : worker thread finished; awaiting finish of 4 more threads\n",
            "2020-05-05 18:12:36,118 : INFO : worker thread finished; awaiting finish of 3 more threads\n",
            "2020-05-05 18:12:36,140 : INFO : worker thread finished; awaiting finish of 2 more threads\n",
            "2020-05-05 18:12:36,154 : INFO : worker thread finished; awaiting finish of 1 more threads\n",
            "2020-05-05 18:12:36,161 : INFO : worker thread finished; awaiting finish of 0 more threads\n",
            "2020-05-05 18:12:36,162 : INFO : EPOCH - 14 : training on 9227204 raw words (8222852 effective words) took 22.8s, 361006 effective words/s\n",
            "2020-05-05 18:12:37,272 : INFO : EPOCH 15 - PROGRESS: at 4.13% examples, 307929 words/s, in_qsize 14, out_qsize 1\n",
            "2020-05-05 18:12:38,304 : INFO : EPOCH 15 - PROGRESS: at 8.80% examples, 338504 words/s, in_qsize 16, out_qsize 0\n",
            "2020-05-05 18:12:39,333 : INFO : EPOCH 15 - PROGRESS: at 13.36% examples, 346710 words/s, in_qsize 15, out_qsize 0\n",
            "2020-05-05 18:12:40,357 : INFO : EPOCH 15 - PROGRESS: at 18.00% examples, 353208 words/s, in_qsize 15, out_qsize 0\n",
            "2020-05-05 18:12:41,371 : INFO : EPOCH 15 - PROGRESS: at 22.44% examples, 354631 words/s, in_qsize 14, out_qsize 1\n",
            "2020-05-05 18:12:42,429 : INFO : EPOCH 15 - PROGRESS: at 26.88% examples, 353041 words/s, in_qsize 14, out_qsize 4\n",
            "2020-05-05 18:12:43,457 : INFO : EPOCH 15 - PROGRESS: at 31.54% examples, 355810 words/s, in_qsize 12, out_qsize 3\n",
            "2020-05-05 18:12:44,504 : INFO : EPOCH 15 - PROGRESS: at 36.29% examples, 358162 words/s, in_qsize 15, out_qsize 0\n",
            "2020-05-05 18:12:45,560 : INFO : EPOCH 15 - PROGRESS: at 41.16% examples, 360538 words/s, in_qsize 15, out_qsize 0\n",
            "2020-05-05 18:12:46,622 : INFO : EPOCH 15 - PROGRESS: at 45.59% examples, 358826 words/s, in_qsize 15, out_qsize 0\n",
            "2020-05-05 18:12:47,628 : INFO : EPOCH 15 - PROGRESS: at 50.35% examples, 361550 words/s, in_qsize 16, out_qsize 1\n",
            "2020-05-05 18:12:48,749 : INFO : EPOCH 15 - PROGRESS: at 54.67% examples, 357679 words/s, in_qsize 16, out_qsize 7\n",
            "2020-05-05 18:12:49,876 : INFO : EPOCH 15 - PROGRESS: at 59.77% examples, 358829 words/s, in_qsize 15, out_qsize 0\n",
            "2020-05-05 18:12:50,882 : INFO : EPOCH 15 - PROGRESS: at 64.08% examples, 358525 words/s, in_qsize 15, out_qsize 0\n",
            "2020-05-05 18:12:51,915 : INFO : EPOCH 15 - PROGRESS: at 68.43% examples, 357948 words/s, in_qsize 16, out_qsize 4\n",
            "2020-05-05 18:12:52,904 : INFO : EPOCH 15 - PROGRESS: at 72.97% examples, 358857 words/s, in_qsize 15, out_qsize 0\n",
            "2020-05-05 18:12:53,904 : INFO : EPOCH 15 - PROGRESS: at 77.42% examples, 359182 words/s, in_qsize 14, out_qsize 1\n",
            "2020-05-05 18:12:54,908 : INFO : EPOCH 15 - PROGRESS: at 82.10% examples, 360394 words/s, in_qsize 15, out_qsize 0\n",
            "2020-05-05 18:12:55,997 : INFO : EPOCH 15 - PROGRESS: at 86.42% examples, 358567 words/s, in_qsize 15, out_qsize 0\n",
            "2020-05-05 18:12:57,005 : INFO : EPOCH 15 - PROGRESS: at 91.09% examples, 359569 words/s, in_qsize 16, out_qsize 0\n",
            "2020-05-05 18:12:58,054 : INFO : EPOCH 15 - PROGRESS: at 95.23% examples, 357809 words/s, in_qsize 15, out_qsize 6\n",
            "2020-05-05 18:12:58,863 : INFO : worker thread finished; awaiting finish of 7 more threads\n",
            "2020-05-05 18:12:58,877 : INFO : worker thread finished; awaiting finish of 6 more threads\n",
            "2020-05-05 18:12:58,881 : INFO : worker thread finished; awaiting finish of 5 more threads\n",
            "2020-05-05 18:12:58,913 : INFO : worker thread finished; awaiting finish of 4 more threads\n",
            "2020-05-05 18:12:58,915 : INFO : worker thread finished; awaiting finish of 3 more threads\n",
            "2020-05-05 18:12:58,922 : INFO : worker thread finished; awaiting finish of 2 more threads\n",
            "2020-05-05 18:12:58,928 : INFO : worker thread finished; awaiting finish of 1 more threads\n",
            "2020-05-05 18:12:58,945 : INFO : worker thread finished; awaiting finish of 0 more threads\n",
            "2020-05-05 18:12:58,946 : INFO : EPOCH - 15 : training on 9227204 raw words (8221721 effective words) took 22.8s, 361036 effective words/s\n",
            "2020-05-05 18:12:59,960 : INFO : EPOCH 16 - PROGRESS: at 3.80% examples, 311047 words/s, in_qsize 15, out_qsize 0\n",
            "2020-05-05 18:13:00,967 : INFO : EPOCH 16 - PROGRESS: at 8.15% examples, 332441 words/s, in_qsize 13, out_qsize 3\n",
            "2020-05-05 18:13:01,977 : INFO : EPOCH 16 - PROGRESS: at 13.04% examples, 354100 words/s, in_qsize 14, out_qsize 0\n",
            "2020-05-05 18:13:03,048 : INFO : EPOCH 16 - PROGRESS: at 17.13% examples, 344071 words/s, in_qsize 16, out_qsize 2\n",
            "2020-05-05 18:13:04,067 : INFO : EPOCH 16 - PROGRESS: at 21.57% examples, 346941 words/s, in_qsize 15, out_qsize 2\n",
            "2020-05-05 18:13:05,104 : INFO : EPOCH 16 - PROGRESS: at 26.56% examples, 355092 words/s, in_qsize 16, out_qsize 0\n",
            "2020-05-05 18:13:06,113 : INFO : EPOCH 16 - PROGRESS: at 30.67% examples, 352322 words/s, in_qsize 16, out_qsize 2\n",
            "2020-05-05 18:13:07,118 : INFO : EPOCH 16 - PROGRESS: at 35.32% examples, 355827 words/s, in_qsize 16, out_qsize 0\n",
            "2020-05-05 18:13:08,138 : INFO : EPOCH 16 - PROGRESS: at 39.76% examples, 356084 words/s, in_qsize 13, out_qsize 2\n",
            "2020-05-05 18:13:09,194 : INFO : EPOCH 16 - PROGRESS: at 44.29% examples, 355880 words/s, in_qsize 13, out_qsize 2\n",
            "2020-05-05 18:13:10,218 : INFO : EPOCH 16 - PROGRESS: at 49.27% examples, 359902 words/s, in_qsize 15, out_qsize 0\n",
            "2020-05-05 18:13:11,278 : INFO : EPOCH 16 - PROGRESS: at 53.70% examples, 358603 words/s, in_qsize 15, out_qsize 0\n",
            "2020-05-05 18:13:12,313 : INFO : EPOCH 16 - PROGRESS: at 58.03% examples, 357521 words/s, in_qsize 12, out_qsize 3\n",
            "2020-05-05 18:13:13,342 : INFO : EPOCH 16 - PROGRESS: at 62.68% examples, 358580 words/s, in_qsize 14, out_qsize 1\n",
            "2020-05-05 18:13:14,400 : INFO : EPOCH 16 - PROGRESS: at 67.02% examples, 357870 words/s, in_qsize 16, out_qsize 5\n",
            "2020-05-05 18:13:15,368 : INFO : EPOCH 16 - PROGRESS: at 71.78% examples, 359907 words/s, in_qsize 13, out_qsize 2\n",
            "2020-05-05 18:13:16,405 : INFO : EPOCH 16 - PROGRESS: at 76.44% examples, 360451 words/s, in_qsize 15, out_qsize 0\n",
            "2020-05-05 18:13:17,506 : INFO : EPOCH 16 - PROGRESS: at 81.01% examples, 359230 words/s, in_qsize 16, out_qsize 0\n",
            "2020-05-05 18:13:18,523 : INFO : EPOCH 16 - PROGRESS: at 85.88% examples, 361040 words/s, in_qsize 15, out_qsize 0\n",
            "2020-05-05 18:13:19,557 : INFO : EPOCH 16 - PROGRESS: at 90.22% examples, 360220 words/s, in_qsize 15, out_qsize 0\n",
            "2020-05-05 18:13:20,561 : INFO : EPOCH 16 - PROGRESS: at 94.80% examples, 360768 words/s, in_qsize 15, out_qsize 0\n",
            "2020-05-05 18:13:21,571 : INFO : EPOCH 16 - PROGRESS: at 99.33% examples, 361194 words/s, in_qsize 6, out_qsize 3\n",
            "2020-05-05 18:13:21,577 : INFO : worker thread finished; awaiting finish of 7 more threads\n",
            "2020-05-05 18:13:21,579 : INFO : worker thread finished; awaiting finish of 6 more threads\n",
            "2020-05-05 18:13:21,582 : INFO : worker thread finished; awaiting finish of 5 more threads\n",
            "2020-05-05 18:13:21,584 : INFO : worker thread finished; awaiting finish of 4 more threads\n",
            "2020-05-05 18:13:21,589 : INFO : worker thread finished; awaiting finish of 3 more threads\n",
            "2020-05-05 18:13:21,598 : INFO : worker thread finished; awaiting finish of 2 more threads\n",
            "2020-05-05 18:13:21,629 : INFO : worker thread finished; awaiting finish of 1 more threads\n",
            "2020-05-05 18:13:21,630 : INFO : worker thread finished; awaiting finish of 0 more threads\n",
            "2020-05-05 18:13:21,631 : INFO : EPOCH - 16 : training on 9227204 raw words (8222338 effective words) took 22.7s, 362639 effective words/s\n",
            "2020-05-05 18:13:22,674 : INFO : EPOCH 17 - PROGRESS: at 3.69% examples, 294410 words/s, in_qsize 15, out_qsize 3\n",
            "2020-05-05 18:13:23,675 : INFO : EPOCH 17 - PROGRESS: at 8.58% examples, 346760 words/s, in_qsize 14, out_qsize 1\n",
            "2020-05-05 18:13:24,755 : INFO : EPOCH 17 - PROGRESS: at 12.93% examples, 340972 words/s, in_qsize 15, out_qsize 1\n",
            "2020-05-05 18:13:25,770 : INFO : EPOCH 17 - PROGRESS: at 17.46% examples, 347695 words/s, in_qsize 15, out_qsize 0\n",
            "2020-05-05 18:13:26,773 : INFO : EPOCH 17 - PROGRESS: at 21.90% examples, 350902 words/s, in_qsize 16, out_qsize 4\n",
            "2020-05-05 18:13:27,789 : INFO : EPOCH 17 - PROGRESS: at 26.67% examples, 356707 words/s, in_qsize 15, out_qsize 2\n",
            "2020-05-05 18:13:28,873 : INFO : EPOCH 17 - PROGRESS: at 31.10% examples, 353775 words/s, in_qsize 16, out_qsize 2\n",
            "2020-05-05 18:13:29,929 : INFO : EPOCH 17 - PROGRESS: at 36.18% examples, 359174 words/s, in_qsize 15, out_qsize 0\n",
            "2020-05-05 18:13:30,933 : INFO : EPOCH 17 - PROGRESS: at 40.51% examples, 358720 words/s, in_qsize 15, out_qsize 0\n",
            "2020-05-05 18:13:31,957 : INFO : EPOCH 17 - PROGRESS: at 44.94% examples, 359142 words/s, in_qsize 15, out_qsize 1\n",
            "2020-05-05 18:13:32,967 : INFO : EPOCH 17 - PROGRESS: at 49.81% examples, 361916 words/s, in_qsize 15, out_qsize 0\n",
            "2020-05-05 18:13:34,062 : INFO : EPOCH 17 - PROGRESS: at 54.25% examples, 359450 words/s, in_qsize 16, out_qsize 1\n",
            "2020-05-05 18:13:35,071 : INFO : EPOCH 17 - PROGRESS: at 58.90% examples, 360977 words/s, in_qsize 15, out_qsize 0\n",
            "2020-05-05 18:13:36,086 : INFO : EPOCH 17 - PROGRESS: at 63.22% examples, 360281 words/s, in_qsize 15, out_qsize 0\n",
            "2020-05-05 18:13:37,126 : INFO : EPOCH 17 - PROGRESS: at 67.55% examples, 359088 words/s, in_qsize 8, out_qsize 7\n",
            "2020-05-05 18:13:38,136 : INFO : EPOCH 17 - PROGRESS: at 72.32% examples, 360876 words/s, in_qsize 15, out_qsize 0\n",
            "2020-05-05 18:13:39,159 : INFO : EPOCH 17 - PROGRESS: at 76.88% examples, 361141 words/s, in_qsize 15, out_qsize 0\n",
            "2020-05-05 18:13:40,164 : INFO : EPOCH 17 - PROGRESS: at 81.23% examples, 360765 words/s, in_qsize 14, out_qsize 1\n",
            "2020-05-05 18:13:41,168 : INFO : EPOCH 17 - PROGRESS: at 85.66% examples, 360917 words/s, in_qsize 15, out_qsize 0\n",
            "2020-05-05 18:13:42,180 : INFO : EPOCH 17 - PROGRESS: at 90.11% examples, 360915 words/s, in_qsize 15, out_qsize 0\n",
            "2020-05-05 18:13:43,201 : INFO : EPOCH 17 - PROGRESS: at 94.69% examples, 361138 words/s, in_qsize 15, out_qsize 0\n",
            "2020-05-05 18:13:44,212 : INFO : EPOCH 17 - PROGRESS: at 99.22% examples, 361547 words/s, in_qsize 8, out_qsize 0\n",
            "2020-05-05 18:13:44,220 : INFO : worker thread finished; awaiting finish of 7 more threads\n",
            "2020-05-05 18:13:44,224 : INFO : worker thread finished; awaiting finish of 6 more threads\n",
            "2020-05-05 18:13:44,247 : INFO : worker thread finished; awaiting finish of 5 more threads\n",
            "2020-05-05 18:13:44,254 : INFO : worker thread finished; awaiting finish of 4 more threads\n",
            "2020-05-05 18:13:44,256 : INFO : worker thread finished; awaiting finish of 3 more threads\n",
            "2020-05-05 18:13:44,256 : INFO : worker thread finished; awaiting finish of 2 more threads\n",
            "2020-05-05 18:13:44,278 : INFO : worker thread finished; awaiting finish of 1 more threads\n",
            "2020-05-05 18:13:44,281 : INFO : worker thread finished; awaiting finish of 0 more threads\n",
            "2020-05-05 18:13:44,283 : INFO : EPOCH - 17 : training on 9227204 raw words (8222589 effective words) took 22.6s, 363224 effective words/s\n",
            "2020-05-05 18:13:45,305 : INFO : EPOCH 18 - PROGRESS: at 3.80% examples, 307937 words/s, in_qsize 16, out_qsize 2\n",
            "2020-05-05 18:13:46,313 : INFO : EPOCH 18 - PROGRESS: at 8.36% examples, 339474 words/s, in_qsize 13, out_qsize 3\n",
            "2020-05-05 18:13:47,336 : INFO : EPOCH 18 - PROGRESS: at 12.71% examples, 342535 words/s, in_qsize 11, out_qsize 3\n",
            "2020-05-05 18:13:48,414 : INFO : EPOCH 18 - PROGRESS: at 17.57% examples, 350139 words/s, in_qsize 14, out_qsize 1\n",
            "2020-05-05 18:13:49,453 : INFO : EPOCH 18 - PROGRESS: at 22.33% examples, 355591 words/s, in_qsize 15, out_qsize 0\n",
            "2020-05-05 18:13:50,481 : INFO : EPOCH 18 - PROGRESS: at 26.56% examples, 352704 words/s, in_qsize 13, out_qsize 6\n",
            "2020-05-05 18:13:51,564 : INFO : EPOCH 18 - PROGRESS: at 31.43% examples, 355287 words/s, in_qsize 15, out_qsize 0\n",
            "2020-05-05 18:13:52,643 : INFO : EPOCH 18 - PROGRESS: at 36.18% examples, 356301 words/s, in_qsize 15, out_qsize 0\n",
            "2020-05-05 18:13:53,668 : INFO : EPOCH 18 - PROGRESS: at 40.73% examples, 357288 words/s, in_qsize 13, out_qsize 2\n",
            "2020-05-05 18:13:54,739 : INFO : EPOCH 18 - PROGRESS: at 45.48% examples, 358190 words/s, in_qsize 16, out_qsize 1\n",
            "2020-05-05 18:13:55,754 : INFO : EPOCH 18 - PROGRESS: at 50.13% examples, 359898 words/s, in_qsize 16, out_qsize 0\n",
            "2020-05-05 18:13:56,763 : INFO : EPOCH 18 - PROGRESS: at 54.67% examples, 360782 words/s, in_qsize 14, out_qsize 1\n",
            "2020-05-05 18:13:57,779 : INFO : EPOCH 18 - PROGRESS: at 59.23% examples, 361371 words/s, in_qsize 15, out_qsize 0\n",
            "2020-05-05 18:13:58,870 : INFO : EPOCH 18 - PROGRESS: at 63.65% examples, 359398 words/s, in_qsize 15, out_qsize 0\n",
            "2020-05-05 18:13:59,874 : INFO : EPOCH 18 - PROGRESS: at 68.32% examples, 360819 words/s, in_qsize 15, out_qsize 0\n",
            "2020-05-05 18:14:00,874 : INFO : EPOCH 18 - PROGRESS: at 72.86% examples, 361602 words/s, in_qsize 15, out_qsize 2\n",
            "2020-05-05 18:14:01,935 : INFO : EPOCH 18 - PROGRESS: at 77.53% examples, 361560 words/s, in_qsize 15, out_qsize 0\n",
            "2020-05-05 18:14:02,948 : INFO : EPOCH 18 - PROGRESS: at 81.67% examples, 360065 words/s, in_qsize 16, out_qsize 3\n",
            "2020-05-05 18:14:04,046 : INFO : EPOCH 18 - PROGRESS: at 86.53% examples, 360340 words/s, in_qsize 13, out_qsize 2\n",
            "2020-05-05 18:14:05,092 : INFO : EPOCH 18 - PROGRESS: at 91.31% examples, 361048 words/s, in_qsize 14, out_qsize 1\n",
            "2020-05-05 18:14:06,092 : INFO : EPOCH 18 - PROGRESS: at 96.10% examples, 362441 words/s, in_qsize 15, out_qsize 1\n",
            "2020-05-05 18:14:06,808 : INFO : worker thread finished; awaiting finish of 7 more threads\n",
            "2020-05-05 18:14:06,834 : INFO : worker thread finished; awaiting finish of 6 more threads\n",
            "2020-05-05 18:14:06,859 : INFO : worker thread finished; awaiting finish of 5 more threads\n",
            "2020-05-05 18:14:06,872 : INFO : worker thread finished; awaiting finish of 4 more threads\n",
            "2020-05-05 18:14:06,913 : INFO : worker thread finished; awaiting finish of 3 more threads\n",
            "2020-05-05 18:14:06,915 : INFO : worker thread finished; awaiting finish of 2 more threads\n",
            "2020-05-05 18:14:06,915 : INFO : worker thread finished; awaiting finish of 1 more threads\n",
            "2020-05-05 18:14:06,923 : INFO : worker thread finished; awaiting finish of 0 more threads\n",
            "2020-05-05 18:14:06,924 : INFO : EPOCH - 18 : training on 9227204 raw words (8222579 effective words) took 22.6s, 363330 effective words/s\n",
            "2020-05-05 18:14:07,946 : INFO : EPOCH 19 - PROGRESS: at 3.80% examples, 308404 words/s, in_qsize 16, out_qsize 0\n",
            "2020-05-05 18:14:09,059 : INFO : EPOCH 19 - PROGRESS: at 8.47% examples, 327146 words/s, in_qsize 15, out_qsize 4\n",
            "2020-05-05 18:14:10,068 : INFO : EPOCH 19 - PROGRESS: at 13.47% examples, 352623 words/s, in_qsize 16, out_qsize 0\n",
            "2020-05-05 18:14:11,135 : INFO : EPOCH 19 - PROGRESS: at 17.78% examples, 347823 words/s, in_qsize 12, out_qsize 3\n",
            "2020-05-05 18:14:12,162 : INFO : EPOCH 19 - PROGRESS: at 22.33% examples, 351103 words/s, in_qsize 16, out_qsize 1\n",
            "2020-05-05 18:14:13,218 : INFO : EPOCH 19 - PROGRESS: at 26.99% examples, 353100 words/s, in_qsize 14, out_qsize 1\n",
            "2020-05-05 18:14:14,221 : INFO : EPOCH 19 - PROGRESS: at 31.97% examples, 360729 words/s, in_qsize 16, out_qsize 0\n",
            "2020-05-05 18:14:15,304 : INFO : EPOCH 19 - PROGRESS: at 36.40% examples, 357684 words/s, in_qsize 15, out_qsize 0\n",
            "2020-05-05 18:14:16,336 : INFO : EPOCH 19 - PROGRESS: at 41.05% examples, 359120 words/s, in_qsize 15, out_qsize 0\n",
            "2020-05-05 18:14:17,369 : INFO : EPOCH 19 - PROGRESS: at 45.16% examples, 356777 words/s, in_qsize 15, out_qsize 3\n",
            "2020-05-05 18:14:18,361 : INFO : EPOCH 19 - PROGRESS: at 50.02% examples, 360188 words/s, in_qsize 16, out_qsize 0\n",
            "2020-05-05 18:14:19,387 : INFO : EPOCH 19 - PROGRESS: at 54.46% examples, 359885 words/s, in_qsize 15, out_qsize 0\n",
            "2020-05-05 18:14:20,406 : INFO : EPOCH 19 - PROGRESS: at 58.80% examples, 359111 words/s, in_qsize 15, out_qsize 0\n",
            "2020-05-05 18:14:21,427 : INFO : EPOCH 19 - PROGRESS: at 63.11% examples, 358416 words/s, in_qsize 16, out_qsize 0\n",
            "2020-05-05 18:14:22,458 : INFO : EPOCH 19 - PROGRESS: at 67.66% examples, 358691 words/s, in_qsize 15, out_qsize 0\n",
            "2020-05-05 18:14:23,493 : INFO : EPOCH 19 - PROGRESS: at 71.99% examples, 357799 words/s, in_qsize 12, out_qsize 3\n",
            "2020-05-05 18:14:24,557 : INFO : EPOCH 19 - PROGRESS: at 77.20% examples, 360434 words/s, in_qsize 15, out_qsize 0\n",
            "2020-05-05 18:14:25,608 : INFO : EPOCH 19 - PROGRESS: at 81.67% examples, 359693 words/s, in_qsize 15, out_qsize 0\n",
            "2020-05-05 18:14:26,631 : INFO : EPOCH 19 - PROGRESS: at 85.99% examples, 359109 words/s, in_qsize 16, out_qsize 2\n",
            "2020-05-05 18:14:27,657 : INFO : EPOCH 19 - PROGRESS: at 90.76% examples, 360239 words/s, in_qsize 15, out_qsize 0\n",
            "2020-05-05 18:14:28,688 : INFO : EPOCH 19 - PROGRESS: at 95.23% examples, 359932 words/s, in_qsize 15, out_qsize 0\n",
            "2020-05-05 18:14:29,514 : INFO : worker thread finished; awaiting finish of 7 more threads\n",
            "2020-05-05 18:14:29,543 : INFO : worker thread finished; awaiting finish of 6 more threads\n",
            "2020-05-05 18:14:29,583 : INFO : worker thread finished; awaiting finish of 5 more threads\n",
            "2020-05-05 18:14:29,604 : INFO : worker thread finished; awaiting finish of 4 more threads\n",
            "2020-05-05 18:14:29,613 : INFO : worker thread finished; awaiting finish of 3 more threads\n",
            "2020-05-05 18:14:29,634 : INFO : worker thread finished; awaiting finish of 2 more threads\n",
            "2020-05-05 18:14:29,639 : INFO : worker thread finished; awaiting finish of 1 more threads\n",
            "2020-05-05 18:14:29,640 : INFO : worker thread finished; awaiting finish of 0 more threads\n",
            "2020-05-05 18:14:29,641 : INFO : EPOCH - 19 : training on 9227204 raw words (8222790 effective words) took 22.7s, 362145 effective words/s\n",
            "2020-05-05 18:14:30,661 : INFO : EPOCH 20 - PROGRESS: at 4.23% examples, 345099 words/s, in_qsize 15, out_qsize 0\n",
            "2020-05-05 18:14:31,684 : INFO : EPOCH 20 - PROGRESS: at 8.36% examples, 341582 words/s, in_qsize 15, out_qsize 1\n",
            "2020-05-05 18:14:32,685 : INFO : EPOCH 20 - PROGRESS: at 12.71% examples, 343868 words/s, in_qsize 15, out_qsize 0\n",
            "2020-05-05 18:14:33,699 : INFO : EPOCH 20 - PROGRESS: at 17.13% examples, 347880 words/s, in_qsize 13, out_qsize 2\n",
            "2020-05-05 18:14:34,702 : INFO : EPOCH 20 - PROGRESS: at 21.68% examples, 352928 words/s, in_qsize 15, out_qsize 0\n",
            "2020-05-05 18:14:35,702 : INFO : EPOCH 20 - PROGRESS: at 25.91% examples, 352047 words/s, in_qsize 16, out_qsize 3\n",
            "2020-05-05 18:14:36,763 : INFO : EPOCH 20 - PROGRESS: at 30.89% examples, 357117 words/s, in_qsize 15, out_qsize 0\n",
            "2020-05-05 18:14:37,794 : INFO : EPOCH 20 - PROGRESS: at 35.21% examples, 355696 words/s, in_qsize 15, out_qsize 0\n",
            "2020-05-05 18:14:38,836 : INFO : EPOCH 20 - PROGRESS: at 39.86% examples, 356995 words/s, in_qsize 15, out_qsize 1\n",
            "2020-05-05 18:14:39,847 : INFO : EPOCH 20 - PROGRESS: at 44.51% examples, 359146 words/s, in_qsize 15, out_qsize 0\n",
            "2020-05-05 18:14:40,872 : INFO : EPOCH 20 - PROGRESS: at 49.06% examples, 359679 words/s, in_qsize 15, out_qsize 0\n",
            "2020-05-05 18:14:41,891 : INFO : EPOCH 20 - PROGRESS: at 53.16% examples, 357500 words/s, in_qsize 16, out_qsize 5\n",
            "2020-05-05 18:14:43,002 : INFO : EPOCH 20 - PROGRESS: at 58.25% examples, 359059 words/s, in_qsize 16, out_qsize 0\n",
            "2020-05-05 18:14:44,039 : INFO : EPOCH 20 - PROGRESS: at 63.00% examples, 360415 words/s, in_qsize 16, out_qsize 0\n",
            "2020-05-05 18:14:45,111 : INFO : EPOCH 20 - PROGRESS: at 67.45% examples, 359046 words/s, in_qsize 15, out_qsize 0\n",
            "2020-05-05 18:14:46,118 : INFO : EPOCH 20 - PROGRESS: at 72.10% examples, 360356 words/s, in_qsize 16, out_qsize 0\n",
            "2020-05-05 18:14:47,207 : INFO : EPOCH 20 - PROGRESS: at 76.77% examples, 359809 words/s, in_qsize 15, out_qsize 0\n",
            "2020-05-05 18:14:48,220 : INFO : EPOCH 20 - PROGRESS: at 81.23% examples, 360108 words/s, in_qsize 15, out_qsize 2\n",
            "2020-05-05 18:14:49,224 : INFO : EPOCH 20 - PROGRESS: at 85.99% examples, 361414 words/s, in_qsize 15, out_qsize 2\n",
            "2020-05-05 18:14:50,302 : INFO : EPOCH 20 - PROGRESS: at 90.22% examples, 360574 words/s, in_qsize 14, out_qsize 4\n",
            "2020-05-05 18:14:51,266 : INFO : EPOCH 20 - PROGRESS: at 94.58% examples, 359813 words/s, in_qsize 12, out_qsize 3\n",
            "2020-05-05 18:14:52,230 : INFO : worker thread finished; awaiting finish of 7 more threads\n",
            "2020-05-05 18:14:52,241 : INFO : worker thread finished; awaiting finish of 6 more threads\n",
            "2020-05-05 18:14:52,243 : INFO : worker thread finished; awaiting finish of 5 more threads\n",
            "2020-05-05 18:14:52,244 : INFO : worker thread finished; awaiting finish of 4 more threads\n",
            "2020-05-05 18:14:52,273 : INFO : EPOCH 20 - PROGRESS: at 99.67% examples, 362333 words/s, in_qsize 3, out_qsize 1\n",
            "2020-05-05 18:14:52,275 : INFO : worker thread finished; awaiting finish of 3 more threads\n",
            "2020-05-05 18:14:52,303 : INFO : worker thread finished; awaiting finish of 2 more threads\n",
            "2020-05-05 18:14:52,314 : INFO : worker thread finished; awaiting finish of 1 more threads\n",
            "2020-05-05 18:14:52,318 : INFO : worker thread finished; awaiting finish of 0 more threads\n",
            "2020-05-05 18:14:52,319 : INFO : EPOCH - 20 : training on 9227204 raw words (8222244 effective words) took 22.7s, 362771 effective words/s\n",
            "2020-05-05 18:14:53,345 : INFO : EPOCH 21 - PROGRESS: at 4.13% examples, 333883 words/s, in_qsize 16, out_qsize 0\n",
            "2020-05-05 18:14:54,376 : INFO : EPOCH 21 - PROGRESS: at 8.47% examples, 343193 words/s, in_qsize 16, out_qsize 1\n",
            "2020-05-05 18:14:55,357 : INFO : EPOCH 21 - PROGRESS: at 13.15% examples, 356350 words/s, in_qsize 15, out_qsize 0\n",
            "2020-05-05 18:14:56,452 : INFO : EPOCH 21 - PROGRESS: at 17.68% examples, 352386 words/s, in_qsize 16, out_qsize 0\n",
            "2020-05-05 18:14:57,485 : INFO : EPOCH 21 - PROGRESS: at 22.11% examples, 352685 words/s, in_qsize 15, out_qsize 2\n",
            "2020-05-05 18:14:58,536 : INFO : EPOCH 21 - PROGRESS: at 26.88% examples, 356107 words/s, in_qsize 15, out_qsize 0\n",
            "2020-05-05 18:14:59,596 : INFO : EPOCH 21 - PROGRESS: at 31.54% examples, 356878 words/s, in_qsize 15, out_qsize 0\n",
            "2020-05-05 18:15:00,655 : INFO : EPOCH 21 - PROGRESS: at 35.97% examples, 355349 words/s, in_qsize 13, out_qsize 2\n",
            "2020-05-05 18:15:01,713 : INFO : EPOCH 21 - PROGRESS: at 40.62% examples, 356206 words/s, in_qsize 15, out_qsize 1\n",
            "2020-05-05 18:15:02,752 : INFO : EPOCH 21 - PROGRESS: at 45.37% examples, 358206 words/s, in_qsize 14, out_qsize 1\n",
            "2020-05-05 18:15:03,778 : INFO : EPOCH 21 - PROGRESS: at 50.02% examples, 359575 words/s, in_qsize 16, out_qsize 0\n",
            "2020-05-05 18:15:04,790 : INFO : EPOCH 21 - PROGRESS: at 54.35% examples, 359011 words/s, in_qsize 15, out_qsize 0\n",
            "2020-05-05 18:15:05,812 : INFO : EPOCH 21 - PROGRESS: at 58.90% examples, 359553 words/s, in_qsize 16, out_qsize 0\n",
            "2020-05-05 18:15:06,848 : INFO : EPOCH 21 - PROGRESS: at 63.43% examples, 359666 words/s, in_qsize 14, out_qsize 1\n",
            "2020-05-05 18:15:07,852 : INFO : EPOCH 21 - PROGRESS: at 67.88% examples, 359919 words/s, in_qsize 15, out_qsize 0\n",
            "2020-05-05 18:15:08,856 : INFO : EPOCH 21 - PROGRESS: at 72.43% examples, 360676 words/s, in_qsize 15, out_qsize 0\n",
            "2020-05-05 18:15:09,872 : INFO : EPOCH 21 - PROGRESS: at 76.77% examples, 360101 words/s, in_qsize 15, out_qsize 0\n",
            "2020-05-05 18:15:10,910 : INFO : EPOCH 21 - PROGRESS: at 81.23% examples, 359658 words/s, in_qsize 16, out_qsize 1\n",
            "2020-05-05 18:15:11,924 : INFO : EPOCH 21 - PROGRESS: at 86.10% examples, 361489 words/s, in_qsize 15, out_qsize 0\n",
            "2020-05-05 18:15:12,970 : INFO : EPOCH 21 - PROGRESS: at 90.44% examples, 360436 words/s, in_qsize 15, out_qsize 0\n",
            "2020-05-05 18:15:14,076 : INFO : EPOCH 21 - PROGRESS: at 95.55% examples, 361333 words/s, in_qsize 15, out_qsize 0\n",
            "2020-05-05 18:15:14,908 : INFO : worker thread finished; awaiting finish of 7 more threads\n",
            "2020-05-05 18:15:14,915 : INFO : worker thread finished; awaiting finish of 6 more threads\n",
            "2020-05-05 18:15:14,919 : INFO : worker thread finished; awaiting finish of 5 more threads\n",
            "2020-05-05 18:15:14,920 : INFO : worker thread finished; awaiting finish of 4 more threads\n",
            "2020-05-05 18:15:14,933 : INFO : worker thread finished; awaiting finish of 3 more threads\n",
            "2020-05-05 18:15:14,971 : INFO : worker thread finished; awaiting finish of 2 more threads\n",
            "2020-05-05 18:15:14,976 : INFO : worker thread finished; awaiting finish of 1 more threads\n",
            "2020-05-05 18:15:14,988 : INFO : worker thread finished; awaiting finish of 0 more threads\n",
            "2020-05-05 18:15:14,989 : INFO : EPOCH - 21 : training on 9227204 raw words (8223736 effective words) took 22.7s, 362946 effective words/s\n",
            "2020-05-05 18:15:16,027 : INFO : EPOCH 22 - PROGRESS: at 4.34% examples, 346859 words/s, in_qsize 16, out_qsize 0\n",
            "2020-05-05 18:15:17,098 : INFO : EPOCH 22 - PROGRESS: at 8.37% examples, 326855 words/s, in_qsize 12, out_qsize 6\n",
            "2020-05-05 18:15:18,120 : INFO : EPOCH 22 - PROGRESS: at 13.36% examples, 351265 words/s, in_qsize 16, out_qsize 0\n",
            "2020-05-05 18:15:19,154 : INFO : EPOCH 22 - PROGRESS: at 17.78% examples, 353161 words/s, in_qsize 15, out_qsize 1\n",
            "2020-05-05 18:15:20,215 : INFO : EPOCH 22 - PROGRESS: at 22.44% examples, 353544 words/s, in_qsize 15, out_qsize 0\n",
            "2020-05-05 18:15:21,290 : INFO : EPOCH 22 - PROGRESS: at 26.88% examples, 351223 words/s, in_qsize 10, out_qsize 5\n",
            "2020-05-05 18:15:22,352 : INFO : EPOCH 22 - PROGRESS: at 31.64% examples, 353829 words/s, in_qsize 14, out_qsize 1\n",
            "2020-05-05 18:15:23,364 : INFO : EPOCH 22 - PROGRESS: at 36.08% examples, 354652 words/s, in_qsize 15, out_qsize 1\n",
            "2020-05-05 18:15:24,367 : INFO : EPOCH 22 - PROGRESS: at 40.73% examples, 357553 words/s, in_qsize 15, out_qsize 1\n",
            "2020-05-05 18:15:25,417 : INFO : EPOCH 22 - PROGRESS: at 45.27% examples, 357421 words/s, in_qsize 15, out_qsize 0\n",
            "2020-05-05 18:15:26,459 : INFO : EPOCH 22 - PROGRESS: at 49.81% examples, 357614 words/s, in_qsize 16, out_qsize 0\n",
            "2020-05-05 18:15:27,468 : INFO : EPOCH 22 - PROGRESS: at 54.14% examples, 357260 words/s, in_qsize 13, out_qsize 2\n",
            "2020-05-05 18:15:28,477 : INFO : EPOCH 22 - PROGRESS: at 58.79% examples, 358951 words/s, in_qsize 16, out_qsize 2\n",
            "2020-05-05 18:15:29,496 : INFO : EPOCH 22 - PROGRESS: at 63.11% examples, 358296 words/s, in_qsize 16, out_qsize 2\n",
            "2020-05-05 18:15:30,575 : INFO : EPOCH 22 - PROGRESS: at 67.77% examples, 358640 words/s, in_qsize 16, out_qsize 2\n",
            "2020-05-05 18:15:31,568 : INFO : EPOCH 22 - PROGRESS: at 72.10% examples, 358119 words/s, in_qsize 10, out_qsize 5\n",
            "2020-05-05 18:15:32,574 : INFO : EPOCH 22 - PROGRESS: at 77.20% examples, 361429 words/s, in_qsize 16, out_qsize 0\n",
            "2020-05-05 18:15:33,574 : INFO : EPOCH 22 - PROGRESS: at 81.34% examples, 360187 words/s, in_qsize 16, out_qsize 1\n",
            "2020-05-05 18:15:34,585 : INFO : EPOCH 22 - PROGRESS: at 85.88% examples, 360675 words/s, in_qsize 16, out_qsize 0\n",
            "2020-05-05 18:15:35,637 : INFO : EPOCH 22 - PROGRESS: at 90.33% examples, 360537 words/s, in_qsize 16, out_qsize 2\n",
            "2020-05-05 18:15:36,702 : INFO : EPOCH 22 - PROGRESS: at 95.23% examples, 361208 words/s, in_qsize 15, out_qsize 0\n",
            "2020-05-05 18:15:37,602 : INFO : worker thread finished; awaiting finish of 7 more threads\n",
            "2020-05-05 18:15:37,604 : INFO : worker thread finished; awaiting finish of 6 more threads\n",
            "2020-05-05 18:15:37,608 : INFO : worker thread finished; awaiting finish of 5 more threads\n",
            "2020-05-05 18:15:37,615 : INFO : worker thread finished; awaiting finish of 4 more threads\n",
            "2020-05-05 18:15:37,648 : INFO : worker thread finished; awaiting finish of 3 more threads\n",
            "2020-05-05 18:15:37,658 : INFO : worker thread finished; awaiting finish of 2 more threads\n",
            "2020-05-05 18:15:37,661 : INFO : worker thread finished; awaiting finish of 1 more threads\n",
            "2020-05-05 18:15:37,662 : INFO : worker thread finished; awaiting finish of 0 more threads\n",
            "2020-05-05 18:15:37,664 : INFO : EPOCH - 22 : training on 9227204 raw words (8222224 effective words) took 22.7s, 362798 effective words/s\n",
            "2020-05-05 18:15:38,725 : INFO : EPOCH 23 - PROGRESS: at 4.02% examples, 313989 words/s, in_qsize 15, out_qsize 0\n",
            "2020-05-05 18:15:39,759 : INFO : EPOCH 23 - PROGRESS: at 8.69% examples, 341998 words/s, in_qsize 15, out_qsize 0\n",
            "2020-05-05 18:15:40,789 : INFO : EPOCH 23 - PROGRESS: at 13.25% examples, 349020 words/s, in_qsize 16, out_qsize 1\n",
            "2020-05-05 18:15:41,801 : INFO : EPOCH 23 - PROGRESS: at 17.68% examples, 351831 words/s, in_qsize 15, out_qsize 0\n",
            "2020-05-05 18:15:42,848 : INFO : EPOCH 23 - PROGRESS: at 22.22% examples, 353065 words/s, in_qsize 15, out_qsize 2\n",
            "2020-05-05 18:15:43,893 : INFO : EPOCH 23 - PROGRESS: at 26.88% examples, 355307 words/s, in_qsize 15, out_qsize 0\n",
            "2020-05-05 18:15:44,942 : INFO : EPOCH 23 - PROGRESS: at 31.32% examples, 354311 words/s, in_qsize 14, out_qsize 3\n",
            "2020-05-05 18:15:45,970 : INFO : EPOCH 23 - PROGRESS: at 36.08% examples, 357650 words/s, in_qsize 15, out_qsize 0\n",
            "2020-05-05 18:15:46,989 : INFO : EPOCH 23 - PROGRESS: at 40.84% examples, 360596 words/s, in_qsize 13, out_qsize 2\n",
            "2020-05-05 18:15:48,087 : INFO : EPOCH 23 - PROGRESS: at 45.48% examples, 359431 words/s, in_qsize 15, out_qsize 1\n",
            "2020-05-05 18:15:49,109 : INFO : EPOCH 23 - PROGRESS: at 50.35% examples, 362285 words/s, in_qsize 15, out_qsize 0\n",
            "2020-05-05 18:15:50,153 : INFO : EPOCH 23 - PROGRESS: at 54.56% examples, 360661 words/s, in_qsize 14, out_qsize 1\n",
            "2020-05-05 18:15:51,125 : INFO : EPOCH 23 - PROGRESS: at 59.33% examples, 362998 words/s, in_qsize 16, out_qsize 1\n",
            "2020-05-05 18:15:52,224 : INFO : EPOCH 23 - PROGRESS: at 63.75% examples, 361589 words/s, in_qsize 16, out_qsize 0\n",
            "2020-05-05 18:15:53,191 : INFO : EPOCH 23 - PROGRESS: at 68.53% examples, 363453 words/s, in_qsize 15, out_qsize 0\n",
            "2020-05-05 18:15:54,241 : INFO : EPOCH 23 - PROGRESS: at 72.64% examples, 360835 words/s, in_qsize 14, out_qsize 1\n",
            "2020-05-05 18:15:55,308 : INFO : EPOCH 23 - PROGRESS: at 77.63% examples, 362910 words/s, in_qsize 14, out_qsize 1\n",
            "2020-05-05 18:15:56,292 : INFO : EPOCH 23 - PROGRESS: at 81.77% examples, 361295 words/s, in_qsize 13, out_qsize 2\n",
            "2020-05-05 18:15:57,295 : INFO : EPOCH 23 - PROGRESS: at 86.64% examples, 363229 words/s, in_qsize 16, out_qsize 0\n",
            "2020-05-05 18:15:58,343 : INFO : EPOCH 23 - PROGRESS: at 90.98% examples, 362045 words/s, in_qsize 14, out_qsize 2\n",
            "2020-05-05 18:15:59,345 : INFO : EPOCH 23 - PROGRESS: at 95.77% examples, 363388 words/s, in_qsize 15, out_qsize 0\n",
            "2020-05-05 18:16:00,179 : INFO : worker thread finished; awaiting finish of 7 more threads\n",
            "2020-05-05 18:16:00,183 : INFO : worker thread finished; awaiting finish of 6 more threads\n",
            "2020-05-05 18:16:00,187 : INFO : worker thread finished; awaiting finish of 5 more threads\n",
            "2020-05-05 18:16:00,189 : INFO : worker thread finished; awaiting finish of 4 more threads\n",
            "2020-05-05 18:16:00,189 : INFO : worker thread finished; awaiting finish of 3 more threads\n",
            "2020-05-05 18:16:00,190 : INFO : worker thread finished; awaiting finish of 2 more threads\n",
            "2020-05-05 18:16:00,195 : INFO : worker thread finished; awaiting finish of 1 more threads\n",
            "2020-05-05 18:16:00,227 : INFO : worker thread finished; awaiting finish of 0 more threads\n",
            "2020-05-05 18:16:00,228 : INFO : EPOCH - 23 : training on 9227204 raw words (8222786 effective words) took 22.6s, 364608 effective words/s\n",
            "2020-05-05 18:16:01,241 : INFO : EPOCH 24 - PROGRESS: at 3.69% examples, 302303 words/s, in_qsize 15, out_qsize 0\n",
            "2020-05-05 18:16:02,244 : INFO : EPOCH 24 - PROGRESS: at 8.80% examples, 359907 words/s, in_qsize 14, out_qsize 0\n",
            "2020-05-05 18:16:03,245 : INFO : EPOCH 24 - PROGRESS: at 12.93% examples, 352800 words/s, in_qsize 14, out_qsize 1\n",
            "2020-05-05 18:16:04,261 : INFO : EPOCH 24 - PROGRESS: at 17.24% examples, 352217 words/s, in_qsize 14, out_qsize 1\n",
            "2020-05-05 18:16:05,282 : INFO : EPOCH 24 - PROGRESS: at 21.68% examples, 353358 words/s, in_qsize 14, out_qsize 2\n",
            "2020-05-05 18:16:06,306 : INFO : EPOCH 24 - PROGRESS: at 26.34% examples, 356852 words/s, in_qsize 15, out_qsize 0\n",
            "2020-05-05 18:16:07,378 : INFO : EPOCH 24 - PROGRESS: at 30.89% examples, 357728 words/s, in_qsize 13, out_qsize 3\n",
            "2020-05-05 18:16:08,372 : INFO : EPOCH 24 - PROGRESS: at 35.43% examples, 358207 words/s, in_qsize 14, out_qsize 2\n",
            "2020-05-05 18:16:09,399 : INFO : EPOCH 24 - PROGRESS: at 40.08% examples, 359839 words/s, in_qsize 15, out_qsize 0\n",
            "2020-05-05 18:16:10,425 : INFO : EPOCH 24 - PROGRESS: at 44.51% examples, 359421 words/s, in_qsize 15, out_qsize 0\n",
            "2020-05-05 18:16:11,451 : INFO : EPOCH 24 - PROGRESS: at 49.06% examples, 359900 words/s, in_qsize 16, out_qsize 0\n",
            "2020-05-05 18:16:12,465 : INFO : EPOCH 24 - PROGRESS: at 53.48% examples, 359948 words/s, in_qsize 12, out_qsize 3\n",
            "2020-05-05 18:16:13,471 : INFO : EPOCH 24 - PROGRESS: at 58.36% examples, 362888 words/s, in_qsize 15, out_qsize 0\n",
            "2020-05-05 18:16:14,503 : INFO : EPOCH 24 - PROGRESS: at 62.46% examples, 360340 words/s, in_qsize 14, out_qsize 1\n",
            "2020-05-05 18:16:15,527 : INFO : EPOCH 24 - PROGRESS: at 67.02% examples, 360666 words/s, in_qsize 15, out_qsize 0\n",
            "2020-05-05 18:16:16,559 : INFO : EPOCH 24 - PROGRESS: at 71.67% examples, 361331 words/s, in_qsize 16, out_qsize 0\n",
            "2020-05-05 18:16:17,667 : INFO : EPOCH 24 - PROGRESS: at 76.44% examples, 360819 words/s, in_qsize 12, out_qsize 3\n",
            "2020-05-05 18:16:18,676 : INFO : EPOCH 24 - PROGRESS: at 81.12% examples, 361839 words/s, in_qsize 15, out_qsize 0\n",
            "2020-05-05 18:16:19,689 : INFO : EPOCH 24 - PROGRESS: at 85.77% examples, 362677 words/s, in_qsize 16, out_qsize 0\n",
            "2020-05-05 18:16:20,721 : INFO : EPOCH 24 - PROGRESS: at 90.00% examples, 361363 words/s, in_qsize 16, out_qsize 0\n",
            "2020-05-05 18:16:21,724 : INFO : EPOCH 24 - PROGRESS: at 94.80% examples, 362721 words/s, in_qsize 15, out_qsize 0\n",
            "2020-05-05 18:16:22,779 : INFO : EPOCH 24 - PROGRESS: at 99.01% examples, 361143 words/s, in_qsize 9, out_qsize 1\n",
            "2020-05-05 18:16:22,818 : INFO : worker thread finished; awaiting finish of 7 more threads\n",
            "2020-05-05 18:16:22,834 : INFO : worker thread finished; awaiting finish of 6 more threads\n",
            "2020-05-05 18:16:22,840 : INFO : worker thread finished; awaiting finish of 5 more threads\n",
            "2020-05-05 18:16:22,863 : INFO : worker thread finished; awaiting finish of 4 more threads\n",
            "2020-05-05 18:16:22,882 : INFO : worker thread finished; awaiting finish of 3 more threads\n",
            "2020-05-05 18:16:22,885 : INFO : worker thread finished; awaiting finish of 2 more threads\n",
            "2020-05-05 18:16:22,886 : INFO : worker thread finished; awaiting finish of 1 more threads\n",
            "2020-05-05 18:16:22,892 : INFO : worker thread finished; awaiting finish of 0 more threads\n",
            "2020-05-05 18:16:22,892 : INFO : EPOCH - 24 : training on 9227204 raw words (8221158 effective words) took 22.7s, 362929 effective words/s\n",
            "2020-05-05 18:16:23,956 : INFO : EPOCH 25 - PROGRESS: at 4.01% examples, 313130 words/s, in_qsize 15, out_qsize 0\n",
            "2020-05-05 18:16:24,980 : INFO : EPOCH 25 - PROGRESS: at 8.80% examples, 347337 words/s, in_qsize 15, out_qsize 0\n",
            "2020-05-05 18:16:26,027 : INFO : EPOCH 25 - PROGRESS: at 13.36% examples, 350781 words/s, in_qsize 16, out_qsize 0\n",
            "2020-05-05 18:16:27,077 : INFO : EPOCH 25 - PROGRESS: at 17.89% examples, 352110 words/s, in_qsize 16, out_qsize 0\n",
            "2020-05-05 18:16:28,077 : INFO : EPOCH 25 - PROGRESS: at 22.33% examples, 354650 words/s, in_qsize 15, out_qsize 0\n",
            "2020-05-05 18:16:29,083 : INFO : EPOCH 25 - PROGRESS: at 26.99% examples, 358903 words/s, in_qsize 13, out_qsize 2\n",
            "2020-05-05 18:16:30,106 : INFO : EPOCH 25 - PROGRESS: at 31.43% examples, 358688 words/s, in_qsize 14, out_qsize 1\n",
            "2020-05-05 18:16:31,123 : INFO : EPOCH 25 - PROGRESS: at 35.86% examples, 358712 words/s, in_qsize 16, out_qsize 0\n",
            "2020-05-05 18:16:32,124 : INFO : EPOCH 25 - PROGRESS: at 40.29% examples, 359396 words/s, in_qsize 15, out_qsize 0\n",
            "2020-05-05 18:16:33,149 : INFO : EPOCH 25 - PROGRESS: at 44.51% examples, 357329 words/s, in_qsize 12, out_qsize 3\n",
            "2020-05-05 18:16:34,151 : INFO : EPOCH 25 - PROGRESS: at 49.05% examples, 358775 words/s, in_qsize 14, out_qsize 0\n",
            "2020-05-05 18:16:35,214 : INFO : EPOCH 25 - PROGRESS: at 53.81% examples, 359636 words/s, in_qsize 15, out_qsize 0\n",
            "2020-05-05 18:16:36,230 : INFO : EPOCH 25 - PROGRESS: at 58.03% examples, 358324 words/s, in_qsize 13, out_qsize 5\n",
            "2020-05-05 18:16:37,246 : INFO : EPOCH 25 - PROGRESS: at 62.68% examples, 359648 words/s, in_qsize 15, out_qsize 1\n",
            "2020-05-05 18:16:38,253 : INFO : EPOCH 25 - PROGRESS: at 67.24% examples, 360424 words/s, in_qsize 16, out_qsize 1\n",
            "2020-05-05 18:16:39,268 : INFO : EPOCH 25 - PROGRESS: at 71.78% examples, 360929 words/s, in_qsize 16, out_qsize 0\n",
            "2020-05-05 18:16:40,344 : INFO : EPOCH 25 - PROGRESS: at 76.22% examples, 359601 words/s, in_qsize 13, out_qsize 2\n",
            "2020-05-05 18:16:41,404 : INFO : EPOCH 25 - PROGRESS: at 81.23% examples, 361122 words/s, in_qsize 15, out_qsize 0\n",
            "2020-05-05 18:16:42,428 : INFO : EPOCH 25 - PROGRESS: at 85.55% examples, 360438 words/s, in_qsize 14, out_qsize 1\n",
            "2020-05-05 18:16:43,501 : INFO : EPOCH 25 - PROGRESS: at 90.43% examples, 361128 words/s, in_qsize 15, out_qsize 0\n",
            "2020-05-05 18:16:44,534 : INFO : EPOCH 25 - PROGRESS: at 95.12% examples, 361592 words/s, in_qsize 15, out_qsize 0\n",
            "2020-05-05 18:16:45,451 : INFO : worker thread finished; awaiting finish of 7 more threads\n",
            "2020-05-05 18:16:45,453 : INFO : worker thread finished; awaiting finish of 6 more threads\n",
            "2020-05-05 18:16:45,454 : INFO : worker thread finished; awaiting finish of 5 more threads\n",
            "2020-05-05 18:16:45,480 : INFO : worker thread finished; awaiting finish of 4 more threads\n",
            "2020-05-05 18:16:45,483 : INFO : worker thread finished; awaiting finish of 3 more threads\n",
            "2020-05-05 18:16:45,490 : INFO : worker thread finished; awaiting finish of 2 more threads\n",
            "2020-05-05 18:16:45,518 : INFO : worker thread finished; awaiting finish of 1 more threads\n",
            "2020-05-05 18:16:45,519 : INFO : worker thread finished; awaiting finish of 0 more threads\n",
            "2020-05-05 18:16:45,520 : INFO : EPOCH - 25 : training on 9227204 raw words (8223010 effective words) took 22.6s, 363580 effective words/s\n",
            "2020-05-05 18:16:46,570 : INFO : EPOCH 26 - PROGRESS: at 3.80% examples, 300632 words/s, in_qsize 14, out_qsize 1\n",
            "2020-05-05 18:16:47,614 : INFO : EPOCH 26 - PROGRESS: at 8.69% examples, 342526 words/s, in_qsize 16, out_qsize 0\n",
            "2020-05-05 18:16:48,639 : INFO : EPOCH 26 - PROGRESS: at 12.93% examples, 341483 words/s, in_qsize 12, out_qsize 5\n",
            "2020-05-05 18:16:49,643 : INFO : EPOCH 26 - PROGRESS: at 17.57% examples, 351113 words/s, in_qsize 16, out_qsize 0\n",
            "2020-05-05 18:16:50,648 : INFO : EPOCH 26 - PROGRESS: at 22.33% examples, 358816 words/s, in_qsize 16, out_qsize 0\n",
            "2020-05-05 18:16:51,660 : INFO : EPOCH 26 - PROGRESS: at 26.78% examples, 359140 words/s, in_qsize 16, out_qsize 0\n",
            "2020-05-05 18:16:52,672 : INFO : EPOCH 26 - PROGRESS: at 30.89% examples, 355685 words/s, in_qsize 15, out_qsize 0\n",
            "2020-05-05 18:16:53,699 : INFO : EPOCH 26 - PROGRESS: at 35.42% examples, 356746 words/s, in_qsize 15, out_qsize 0\n",
            "2020-05-05 18:16:54,711 : INFO : EPOCH 26 - PROGRESS: at 39.76% examples, 356222 words/s, in_qsize 15, out_qsize 0\n",
            "2020-05-05 18:16:55,722 : INFO : EPOCH 26 - PROGRESS: at 44.62% examples, 360212 words/s, in_qsize 15, out_qsize 0\n",
            "2020-05-05 18:16:56,742 : INFO : EPOCH 26 - PROGRESS: at 48.84% examples, 358409 words/s, in_qsize 13, out_qsize 2\n",
            "2020-05-05 18:16:57,779 : INFO : EPOCH 26 - PROGRESS: at 53.38% examples, 358634 words/s, in_qsize 13, out_qsize 2\n",
            "2020-05-05 18:16:58,884 : INFO : EPOCH 26 - PROGRESS: at 58.25% examples, 358993 words/s, in_qsize 13, out_qsize 2\n",
            "2020-05-05 18:16:59,887 : INFO : EPOCH 26 - PROGRESS: at 63.11% examples, 361847 words/s, in_qsize 14, out_qsize 1\n",
            "2020-05-05 18:17:00,888 : INFO : EPOCH 26 - PROGRESS: at 67.56% examples, 362023 words/s, in_qsize 15, out_qsize 0\n",
            "2020-05-05 18:17:01,899 : INFO : EPOCH 26 - PROGRESS: at 72.10% examples, 362518 words/s, in_qsize 11, out_qsize 0\n",
            "2020-05-05 18:17:02,920 : INFO : EPOCH 26 - PROGRESS: at 76.22% examples, 360679 words/s, in_qsize 16, out_qsize 0\n",
            "2020-05-05 18:17:03,946 : INFO : EPOCH 26 - PROGRESS: at 80.80% examples, 360908 words/s, in_qsize 15, out_qsize 0\n",
            "2020-05-05 18:17:04,947 : INFO : EPOCH 26 - PROGRESS: at 85.02% examples, 360186 words/s, in_qsize 13, out_qsize 2\n",
            "2020-05-05 18:17:05,956 : INFO : EPOCH 26 - PROGRESS: at 89.67% examples, 361141 words/s, in_qsize 15, out_qsize 0\n",
            "2020-05-05 18:17:06,966 : INFO : EPOCH 26 - PROGRESS: at 94.03% examples, 360721 words/s, in_qsize 11, out_qsize 4\n",
            "2020-05-05 18:17:07,984 : INFO : EPOCH 26 - PROGRESS: at 98.79% examples, 361824 words/s, in_qsize 12, out_qsize 0\n",
            "2020-05-05 18:17:08,097 : INFO : worker thread finished; awaiting finish of 7 more threads\n",
            "2020-05-05 18:17:08,102 : INFO : worker thread finished; awaiting finish of 6 more threads\n",
            "2020-05-05 18:17:08,103 : INFO : worker thread finished; awaiting finish of 5 more threads\n",
            "2020-05-05 18:17:08,123 : INFO : worker thread finished; awaiting finish of 4 more threads\n",
            "2020-05-05 18:17:08,131 : INFO : worker thread finished; awaiting finish of 3 more threads\n",
            "2020-05-05 18:17:08,136 : INFO : worker thread finished; awaiting finish of 2 more threads\n",
            "2020-05-05 18:17:08,145 : INFO : worker thread finished; awaiting finish of 1 more threads\n",
            "2020-05-05 18:17:08,165 : INFO : worker thread finished; awaiting finish of 0 more threads\n",
            "2020-05-05 18:17:08,166 : INFO : EPOCH - 26 : training on 9227204 raw words (8222082 effective words) took 22.6s, 363282 effective words/s\n",
            "2020-05-05 18:17:09,244 : INFO : EPOCH 27 - PROGRESS: at 4.23% examples, 325472 words/s, in_qsize 15, out_qsize 0\n",
            "2020-05-05 18:17:10,288 : INFO : EPOCH 27 - PROGRESS: at 9.01% examples, 350252 words/s, in_qsize 15, out_qsize 0\n",
            "2020-05-05 18:17:11,305 : INFO : EPOCH 27 - PROGRESS: at 13.36% examples, 350231 words/s, in_qsize 15, out_qsize 0\n",
            "2020-05-05 18:17:12,349 : INFO : EPOCH 27 - PROGRESS: at 17.89% examples, 354697 words/s, in_qsize 16, out_qsize 0\n",
            "2020-05-05 18:17:13,374 : INFO : EPOCH 27 - PROGRESS: at 22.33% examples, 353814 words/s, in_qsize 15, out_qsize 1\n",
            "2020-05-05 18:17:14,370 : INFO : EPOCH 27 - PROGRESS: at 26.88% examples, 356711 words/s, in_qsize 15, out_qsize 0\n",
            "2020-05-05 18:17:15,373 : INFO : EPOCH 27 - PROGRESS: at 31.43% examples, 359040 words/s, in_qsize 16, out_qsize 1\n",
            "2020-05-05 18:17:16,450 : INFO : EPOCH 27 - PROGRESS: at 35.97% examples, 357551 words/s, in_qsize 16, out_qsize 1\n",
            "2020-05-05 18:17:17,486 : INFO : EPOCH 27 - PROGRESS: at 40.62% examples, 358875 words/s, in_qsize 14, out_qsize 1\n",
            "2020-05-05 18:17:18,500 : INFO : EPOCH 27 - PROGRESS: at 45.16% examples, 359866 words/s, in_qsize 15, out_qsize 0\n",
            "2020-05-05 18:17:19,503 : INFO : EPOCH 27 - PROGRESS: at 49.27% examples, 357926 words/s, in_qsize 14, out_qsize 1\n",
            "2020-05-05 18:17:20,511 : INFO : EPOCH 27 - PROGRESS: at 53.70% examples, 358284 words/s, in_qsize 13, out_qsize 2\n",
            "2020-05-05 18:17:21,608 : INFO : EPOCH 27 - PROGRESS: at 58.58% examples, 358900 words/s, in_qsize 15, out_qsize 0\n",
            "2020-05-05 18:17:22,662 : INFO : EPOCH 27 - PROGRESS: at 62.89% examples, 357373 words/s, in_qsize 13, out_qsize 2\n",
            "2020-05-05 18:17:23,667 : INFO : EPOCH 27 - PROGRESS: at 67.77% examples, 360048 words/s, in_qsize 15, out_qsize 0\n",
            "2020-05-05 18:17:24,688 : INFO : EPOCH 27 - PROGRESS: at 72.10% examples, 359370 words/s, in_qsize 15, out_qsize 0\n",
            "2020-05-05 18:17:25,713 : INFO : EPOCH 27 - PROGRESS: at 76.55% examples, 359160 words/s, in_qsize 15, out_qsize 0\n",
            "2020-05-05 18:17:26,746 : INFO : EPOCH 27 - PROGRESS: at 81.01% examples, 358854 words/s, in_qsize 11, out_qsize 4\n",
            "2020-05-05 18:17:27,750 : INFO : EPOCH 27 - PROGRESS: at 85.45% examples, 359116 words/s, in_qsize 13, out_qsize 2\n",
            "2020-05-05 18:17:28,793 : INFO : EPOCH 27 - PROGRESS: at 89.89% examples, 358665 words/s, in_qsize 16, out_qsize 3\n",
            "2020-05-05 18:17:29,801 : INFO : EPOCH 27 - PROGRESS: at 94.91% examples, 360873 words/s, in_qsize 15, out_qsize 0\n",
            "2020-05-05 18:17:30,806 : INFO : EPOCH 27 - PROGRESS: at 99.12% examples, 360201 words/s, in_qsize 9, out_qsize 0\n",
            "2020-05-05 18:17:30,819 : INFO : worker thread finished; awaiting finish of 7 more threads\n",
            "2020-05-05 18:17:30,827 : INFO : worker thread finished; awaiting finish of 6 more threads\n",
            "2020-05-05 18:17:30,828 : INFO : worker thread finished; awaiting finish of 5 more threads\n",
            "2020-05-05 18:17:30,832 : INFO : worker thread finished; awaiting finish of 4 more threads\n",
            "2020-05-05 18:17:30,850 : INFO : worker thread finished; awaiting finish of 3 more threads\n",
            "2020-05-05 18:17:30,877 : INFO : worker thread finished; awaiting finish of 2 more threads\n",
            "2020-05-05 18:17:30,891 : INFO : worker thread finished; awaiting finish of 1 more threads\n",
            "2020-05-05 18:17:30,896 : INFO : worker thread finished; awaiting finish of 0 more threads\n",
            "2020-05-05 18:17:30,897 : INFO : EPOCH - 27 : training on 9227204 raw words (8222947 effective words) took 22.7s, 361944 effective words/s\n",
            "2020-05-05 18:17:32,024 : INFO : EPOCH 28 - PROGRESS: at 4.23% examples, 311399 words/s, in_qsize 15, out_qsize 0\n",
            "2020-05-05 18:17:33,058 : INFO : EPOCH 28 - PROGRESS: at 8.80% examples, 335747 words/s, in_qsize 15, out_qsize 0\n",
            "2020-05-05 18:17:34,111 : INFO : EPOCH 28 - PROGRESS: at 13.47% examples, 345004 words/s, in_qsize 13, out_qsize 2\n",
            "2020-05-05 18:17:35,140 : INFO : EPOCH 28 - PROGRESS: at 18.32% examples, 355770 words/s, in_qsize 16, out_qsize 0\n",
            "2020-05-05 18:17:36,186 : INFO : EPOCH 28 - PROGRESS: at 22.87% examples, 356221 words/s, in_qsize 15, out_qsize 0\n",
            "2020-05-05 18:17:37,319 : INFO : EPOCH 28 - PROGRESS: at 27.31% examples, 353366 words/s, in_qsize 10, out_qsize 8\n",
            "2020-05-05 18:17:38,293 : INFO : EPOCH 28 - PROGRESS: at 32.41% examples, 360794 words/s, in_qsize 15, out_qsize 0\n",
            "2020-05-05 18:17:39,300 : INFO : EPOCH 28 - PROGRESS: at 37.05% examples, 363123 words/s, in_qsize 16, out_qsize 0\n",
            "2020-05-05 18:17:40,324 : INFO : EPOCH 28 - PROGRESS: at 41.26% examples, 360528 words/s, in_qsize 15, out_qsize 0\n",
            "2020-05-05 18:17:41,329 : INFO : EPOCH 28 - PROGRESS: at 45.59% examples, 359932 words/s, in_qsize 15, out_qsize 0\n",
            "2020-05-05 18:17:42,345 : INFO : EPOCH 28 - PROGRESS: at 50.02% examples, 359921 words/s, in_qsize 15, out_qsize 1\n",
            "2020-05-05 18:17:43,402 : INFO : EPOCH 28 - PROGRESS: at 54.78% examples, 360879 words/s, in_qsize 16, out_qsize 0\n",
            "2020-05-05 18:17:44,457 : INFO : EPOCH 28 - PROGRESS: at 59.34% examples, 360424 words/s, in_qsize 15, out_qsize 0\n",
            "2020-05-05 18:17:45,481 : INFO : EPOCH 28 - PROGRESS: at 64.19% examples, 362569 words/s, in_qsize 15, out_qsize 0\n",
            "2020-05-05 18:17:46,483 : INFO : EPOCH 28 - PROGRESS: at 68.42% examples, 361561 words/s, in_qsize 12, out_qsize 3\n",
            "2020-05-05 18:17:47,565 : INFO : EPOCH 28 - PROGRESS: at 72.75% examples, 359453 words/s, in_qsize 15, out_qsize 6\n",
            "2020-05-05 18:17:48,599 : INFO : EPOCH 28 - PROGRESS: at 77.63% examples, 361098 words/s, in_qsize 16, out_qsize 1\n",
            "2020-05-05 18:17:49,602 : INFO : EPOCH 28 - PROGRESS: at 82.10% examples, 361261 words/s, in_qsize 15, out_qsize 0\n",
            "2020-05-05 18:17:50,613 : INFO : EPOCH 28 - PROGRESS: at 86.31% examples, 360341 words/s, in_qsize 14, out_qsize 4\n",
            "2020-05-05 18:17:51,626 : INFO : EPOCH 28 - PROGRESS: at 90.87% examples, 360769 words/s, in_qsize 16, out_qsize 2\n",
            "2020-05-05 18:17:52,644 : INFO : EPOCH 28 - PROGRESS: at 95.99% examples, 363133 words/s, in_qsize 15, out_qsize 0\n",
            "2020-05-05 18:17:53,423 : INFO : worker thread finished; awaiting finish of 7 more threads\n",
            "2020-05-05 18:17:53,441 : INFO : worker thread finished; awaiting finish of 6 more threads\n",
            "2020-05-05 18:17:53,451 : INFO : worker thread finished; awaiting finish of 5 more threads\n",
            "2020-05-05 18:17:53,457 : INFO : worker thread finished; awaiting finish of 4 more threads\n",
            "2020-05-05 18:17:53,467 : INFO : worker thread finished; awaiting finish of 3 more threads\n",
            "2020-05-05 18:17:53,481 : INFO : worker thread finished; awaiting finish of 2 more threads\n",
            "2020-05-05 18:17:53,496 : INFO : worker thread finished; awaiting finish of 1 more threads\n",
            "2020-05-05 18:17:53,509 : INFO : worker thread finished; awaiting finish of 0 more threads\n",
            "2020-05-05 18:17:53,509 : INFO : EPOCH - 28 : training on 9227204 raw words (8223483 effective words) took 22.6s, 363853 effective words/s\n",
            "2020-05-05 18:17:54,542 : INFO : EPOCH 29 - PROGRESS: at 3.91% examples, 314113 words/s, in_qsize 15, out_qsize 0\n",
            "2020-05-05 18:17:55,553 : INFO : EPOCH 29 - PROGRESS: at 8.58% examples, 346553 words/s, in_qsize 15, out_qsize 0\n",
            "2020-05-05 18:17:56,554 : INFO : EPOCH 29 - PROGRESS: at 13.04% examples, 352646 words/s, in_qsize 15, out_qsize 0\n",
            "2020-05-05 18:17:57,591 : INFO : EPOCH 29 - PROGRESS: at 17.46% examples, 352439 words/s, in_qsize 15, out_qsize 0\n",
            "2020-05-05 18:17:58,621 : INFO : EPOCH 29 - PROGRESS: at 21.89% examples, 352890 words/s, in_qsize 14, out_qsize 4\n",
            "2020-05-05 18:17:59,646 : INFO : EPOCH 29 - PROGRESS: at 26.56% examples, 357455 words/s, in_qsize 15, out_qsize 0\n",
            "2020-05-05 18:18:00,661 : INFO : EPOCH 29 - PROGRESS: at 30.78% examples, 354449 words/s, in_qsize 16, out_qsize 1\n",
            "2020-05-05 18:18:01,705 : INFO : EPOCH 29 - PROGRESS: at 35.32% examples, 356339 words/s, in_qsize 16, out_qsize 2\n",
            "2020-05-05 18:18:02,714 : INFO : EPOCH 29 - PROGRESS: at 40.08% examples, 358605 words/s, in_qsize 16, out_qsize 0\n",
            "2020-05-05 18:18:03,749 : INFO : EPOCH 29 - PROGRESS: at 44.40% examples, 357145 words/s, in_qsize 15, out_qsize 0\n",
            "2020-05-05 18:18:04,790 : INFO : EPOCH 29 - PROGRESS: at 48.73% examples, 355751 words/s, in_qsize 15, out_qsize 2\n",
            "2020-05-05 18:18:05,798 : INFO : EPOCH 29 - PROGRESS: at 53.48% examples, 358513 words/s, in_qsize 16, out_qsize 3\n",
            "2020-05-05 18:18:06,821 : INFO : EPOCH 29 - PROGRESS: at 57.82% examples, 357739 words/s, in_qsize 15, out_qsize 0\n",
            "2020-05-05 18:18:07,854 : INFO : EPOCH 29 - PROGRESS: at 62.25% examples, 358039 words/s, in_qsize 16, out_qsize 1\n",
            "2020-05-05 18:18:08,840 : INFO : EPOCH 29 - PROGRESS: at 66.69% examples, 358266 words/s, in_qsize 15, out_qsize 0\n",
            "2020-05-05 18:18:09,930 : INFO : EPOCH 29 - PROGRESS: at 71.45% examples, 358373 words/s, in_qsize 15, out_qsize 0\n",
            "2020-05-05 18:18:10,954 : INFO : EPOCH 29 - PROGRESS: at 75.67% examples, 357231 words/s, in_qsize 13, out_qsize 2\n",
            "2020-05-05 18:18:12,000 : INFO : EPOCH 29 - PROGRESS: at 80.47% examples, 358497 words/s, in_qsize 15, out_qsize 1\n",
            "2020-05-05 18:18:13,004 : INFO : EPOCH 29 - PROGRESS: at 84.80% examples, 358048 words/s, in_qsize 15, out_qsize 2\n",
            "2020-05-05 18:18:14,022 : INFO : EPOCH 29 - PROGRESS: at 89.78% examples, 360250 words/s, in_qsize 15, out_qsize 0\n",
            "2020-05-05 18:18:15,027 : INFO : EPOCH 29 - PROGRESS: at 94.36% examples, 360786 words/s, in_qsize 15, out_qsize 0\n",
            "2020-05-05 18:18:16,041 : INFO : EPOCH 29 - PROGRESS: at 98.47% examples, 359575 words/s, in_qsize 12, out_qsize 3\n",
            "2020-05-05 18:18:16,148 : INFO : worker thread finished; awaiting finish of 7 more threads\n",
            "2020-05-05 18:18:16,155 : INFO : worker thread finished; awaiting finish of 6 more threads\n",
            "2020-05-05 18:18:16,183 : INFO : worker thread finished; awaiting finish of 5 more threads\n",
            "2020-05-05 18:18:16,202 : INFO : worker thread finished; awaiting finish of 4 more threads\n",
            "2020-05-05 18:18:16,228 : INFO : worker thread finished; awaiting finish of 3 more threads\n",
            "2020-05-05 18:18:16,235 : INFO : worker thread finished; awaiting finish of 2 more threads\n",
            "2020-05-05 18:18:16,241 : INFO : worker thread finished; awaiting finish of 1 more threads\n",
            "2020-05-05 18:18:16,248 : INFO : worker thread finished; awaiting finish of 0 more threads\n",
            "2020-05-05 18:18:16,249 : INFO : EPOCH - 29 : training on 9227204 raw words (8223336 effective words) took 22.7s, 361816 effective words/s\n",
            "2020-05-05 18:18:17,263 : INFO : EPOCH 30 - PROGRESS: at 3.69% examples, 301745 words/s, in_qsize 14, out_qsize 3\n",
            "2020-05-05 18:18:18,297 : INFO : EPOCH 30 - PROGRESS: at 8.36% examples, 336836 words/s, in_qsize 15, out_qsize 0\n",
            "2020-05-05 18:18:19,341 : INFO : EPOCH 30 - PROGRESS: at 13.14% examples, 349994 words/s, in_qsize 15, out_qsize 0\n",
            "2020-05-05 18:18:20,424 : INFO : EPOCH 30 - PROGRESS: at 17.57% examples, 346579 words/s, in_qsize 14, out_qsize 1\n",
            "2020-05-05 18:18:21,473 : INFO : EPOCH 30 - PROGRESS: at 22.54% examples, 355489 words/s, in_qsize 16, out_qsize 0\n",
            "2020-05-05 18:18:22,513 : INFO : EPOCH 30 - PROGRESS: at 26.88% examples, 353364 words/s, in_qsize 15, out_qsize 0\n",
            "2020-05-05 18:18:23,536 : INFO : EPOCH 30 - PROGRESS: at 30.99% examples, 350239 words/s, in_qsize 15, out_qsize 5\n",
            "2020-05-05 18:18:24,538 : INFO : EPOCH 30 - PROGRESS: at 35.97% examples, 357302 words/s, in_qsize 15, out_qsize 0\n",
            "2020-05-05 18:18:25,598 : INFO : EPOCH 30 - PROGRESS: at 40.29% examples, 356066 words/s, in_qsize 15, out_qsize 2\n",
            "2020-05-05 18:18:26,609 : INFO : EPOCH 30 - PROGRESS: at 44.83% examples, 356321 words/s, in_qsize 16, out_qsize 1\n",
            "2020-05-05 18:18:27,613 : INFO : EPOCH 30 - PROGRESS: at 49.49% examples, 358565 words/s, in_qsize 15, out_qsize 0\n",
            "2020-05-05 18:18:28,634 : INFO : EPOCH 30 - PROGRESS: at 54.03% examples, 359251 words/s, in_qsize 15, out_qsize 0\n",
            "2020-05-05 18:18:29,640 : INFO : EPOCH 30 - PROGRESS: at 58.36% examples, 358887 words/s, in_qsize 15, out_qsize 0\n",
            "2020-05-05 18:18:30,702 : INFO : EPOCH 30 - PROGRESS: at 62.68% examples, 357156 words/s, in_qsize 15, out_qsize 0\n",
            "2020-05-05 18:18:31,711 : INFO : EPOCH 30 - PROGRESS: at 67.45% examples, 359204 words/s, in_qsize 14, out_qsize 1\n",
            "2020-05-05 18:18:32,714 : INFO : EPOCH 30 - PROGRESS: at 71.45% examples, 357360 words/s, in_qsize 14, out_qsize 1\n",
            "2020-05-05 18:18:33,735 : INFO : EPOCH 30 - PROGRESS: at 76.22% examples, 358891 words/s, in_qsize 16, out_qsize 1\n",
            "2020-05-05 18:18:34,776 : INFO : EPOCH 30 - PROGRESS: at 80.68% examples, 358450 words/s, in_qsize 14, out_qsize 1\n",
            "2020-05-05 18:18:35,843 : INFO : EPOCH 30 - PROGRESS: at 85.45% examples, 358925 words/s, in_qsize 15, out_qsize 0\n",
            "2020-05-05 18:18:36,881 : INFO : EPOCH 30 - PROGRESS: at 89.67% examples, 357687 words/s, in_qsize 15, out_qsize 3\n",
            "2020-05-05 18:18:37,888 : INFO : EPOCH 30 - PROGRESS: at 94.26% examples, 358312 words/s, in_qsize 16, out_qsize 3\n",
            "2020-05-05 18:18:38,974 : INFO : EPOCH 30 - PROGRESS: at 99.12% examples, 358821 words/s, in_qsize 9, out_qsize 0\n",
            "2020-05-05 18:18:39,000 : INFO : worker thread finished; awaiting finish of 7 more threads\n",
            "2020-05-05 18:18:39,011 : INFO : worker thread finished; awaiting finish of 6 more threads\n",
            "2020-05-05 18:18:39,016 : INFO : worker thread finished; awaiting finish of 5 more threads\n",
            "2020-05-05 18:18:39,022 : INFO : worker thread finished; awaiting finish of 4 more threads\n",
            "2020-05-05 18:18:39,023 : INFO : worker thread finished; awaiting finish of 3 more threads\n",
            "2020-05-05 18:18:39,026 : INFO : worker thread finished; awaiting finish of 2 more threads\n",
            "2020-05-05 18:18:39,032 : INFO : worker thread finished; awaiting finish of 1 more threads\n",
            "2020-05-05 18:18:39,050 : INFO : worker thread finished; awaiting finish of 0 more threads\n",
            "2020-05-05 18:18:39,051 : INFO : EPOCH - 30 : training on 9227204 raw words (8222349 effective words) took 22.8s, 360780 effective words/s\n",
            "2020-05-05 18:18:40,078 : INFO : EPOCH 31 - PROGRESS: at 3.80% examples, 306987 words/s, in_qsize 15, out_qsize 0\n",
            "2020-05-05 18:18:41,097 : INFO : EPOCH 31 - PROGRESS: at 8.80% examples, 354839 words/s, in_qsize 15, out_qsize 0\n",
            "2020-05-05 18:18:42,107 : INFO : EPOCH 31 - PROGRESS: at 13.25% examples, 357117 words/s, in_qsize 16, out_qsize 0\n",
            "2020-05-05 18:18:43,241 : INFO : EPOCH 31 - PROGRESS: at 17.68% examples, 347549 words/s, in_qsize 16, out_qsize 2\n",
            "2020-05-05 18:18:44,248 : INFO : EPOCH 31 - PROGRESS: at 22.54% examples, 357410 words/s, in_qsize 15, out_qsize 0\n",
            "2020-05-05 18:18:45,278 : INFO : EPOCH 31 - PROGRESS: at 26.99% examples, 356946 words/s, in_qsize 14, out_qsize 1\n",
            "2020-05-05 18:18:46,372 : INFO : EPOCH 31 - PROGRESS: at 31.43% examples, 353508 words/s, in_qsize 15, out_qsize 0\n",
            "2020-05-05 18:18:47,474 : INFO : EPOCH 31 - PROGRESS: at 36.29% examples, 356060 words/s, in_qsize 15, out_qsize 1\n",
            "2020-05-05 18:18:48,531 : INFO : EPOCH 31 - PROGRESS: at 40.83% examples, 354789 words/s, in_qsize 16, out_qsize 1\n",
            "2020-05-05 18:18:49,567 : INFO : EPOCH 31 - PROGRESS: at 45.27% examples, 354550 words/s, in_qsize 9, out_qsize 6\n",
            "2020-05-05 18:18:50,596 : INFO : EPOCH 31 - PROGRESS: at 50.46% examples, 360021 words/s, in_qsize 15, out_qsize 0\n",
            "2020-05-05 18:18:51,599 : INFO : EPOCH 31 - PROGRESS: at 54.56% examples, 358237 words/s, in_qsize 16, out_qsize 0\n",
            "2020-05-05 18:18:52,603 : INFO : EPOCH 31 - PROGRESS: at 58.79% examples, 357362 words/s, in_qsize 15, out_qsize 0\n",
            "2020-05-05 18:18:53,662 : INFO : EPOCH 31 - PROGRESS: at 63.43% examples, 357670 words/s, in_qsize 14, out_qsize 1\n",
            "2020-05-05 18:18:54,681 : INFO : EPOCH 31 - PROGRESS: at 67.88% examples, 357711 words/s, in_qsize 15, out_qsize 0\n",
            "2020-05-05 18:18:55,686 : INFO : EPOCH 31 - PROGRESS: at 72.53% examples, 359111 words/s, in_qsize 13, out_qsize 0\n",
            "2020-05-05 18:18:56,715 : INFO : EPOCH 31 - PROGRESS: at 77.20% examples, 359889 words/s, in_qsize 15, out_qsize 0\n",
            "2020-05-05 18:18:57,728 : INFO : EPOCH 31 - PROGRESS: at 81.45% examples, 358977 words/s, in_qsize 15, out_qsize 0\n",
            "2020-05-05 18:18:58,735 : INFO : EPOCH 31 - PROGRESS: at 86.21% examples, 360513 words/s, in_qsize 15, out_qsize 0\n",
            "2020-05-05 18:18:59,782 : INFO : EPOCH 31 - PROGRESS: at 90.33% examples, 358625 words/s, in_qsize 16, out_qsize 1\n",
            "2020-05-05 18:19:00,838 : INFO : EPOCH 31 - PROGRESS: at 95.23% examples, 359623 words/s, in_qsize 15, out_qsize 0\n",
            "2020-05-05 18:19:01,741 : INFO : worker thread finished; awaiting finish of 7 more threads\n",
            "2020-05-05 18:19:01,760 : INFO : worker thread finished; awaiting finish of 6 more threads\n",
            "2020-05-05 18:19:01,762 : INFO : worker thread finished; awaiting finish of 5 more threads\n",
            "2020-05-05 18:19:01,767 : INFO : worker thread finished; awaiting finish of 4 more threads\n",
            "2020-05-05 18:19:01,768 : INFO : worker thread finished; awaiting finish of 3 more threads\n",
            "2020-05-05 18:19:01,775 : INFO : worker thread finished; awaiting finish of 2 more threads\n",
            "2020-05-05 18:19:01,798 : INFO : worker thread finished; awaiting finish of 1 more threads\n",
            "2020-05-05 18:19:01,806 : INFO : worker thread finished; awaiting finish of 0 more threads\n",
            "2020-05-05 18:19:01,806 : INFO : EPOCH - 31 : training on 9227204 raw words (8223906 effective words) took 22.7s, 361585 effective words/s\n",
            "2020-05-05 18:19:02,833 : INFO : EPOCH 32 - PROGRESS: at 3.80% examples, 306916 words/s, in_qsize 15, out_qsize 0\n",
            "2020-05-05 18:19:03,843 : INFO : EPOCH 32 - PROGRESS: at 8.36% examples, 338712 words/s, in_qsize 15, out_qsize 0\n",
            "2020-05-05 18:19:04,891 : INFO : EPOCH 32 - PROGRESS: at 12.93% examples, 348678 words/s, in_qsize 15, out_qsize 0\n",
            "2020-05-05 18:19:05,930 : INFO : EPOCH 32 - PROGRESS: at 17.46% examples, 348666 words/s, in_qsize 15, out_qsize 0\n",
            "2020-05-05 18:19:06,946 : INFO : EPOCH 32 - PROGRESS: at 21.90% examples, 350877 words/s, in_qsize 14, out_qsize 1\n",
            "2020-05-05 18:19:07,972 : INFO : EPOCH 32 - PROGRESS: at 26.45% examples, 353221 words/s, in_qsize 15, out_qsize 0\n",
            "2020-05-05 18:19:08,973 : INFO : EPOCH 32 - PROGRESS: at 30.89% examples, 354862 words/s, in_qsize 15, out_qsize 0\n",
            "2020-05-05 18:19:10,087 : INFO : EPOCH 32 - PROGRESS: at 35.43% examples, 352855 words/s, in_qsize 13, out_qsize 6\n",
            "2020-05-05 18:19:11,117 : INFO : EPOCH 32 - PROGRESS: at 40.19% examples, 355422 words/s, in_qsize 16, out_qsize 0\n",
            "2020-05-05 18:19:12,126 : INFO : EPOCH 32 - PROGRESS: at 45.16% examples, 360369 words/s, in_qsize 13, out_qsize 0\n",
            "2020-05-05 18:19:13,128 : INFO : EPOCH 32 - PROGRESS: at 49.27% examples, 358393 words/s, in_qsize 15, out_qsize 0\n",
            "2020-05-05 18:19:14,141 : INFO : EPOCH 32 - PROGRESS: at 53.59% examples, 357892 words/s, in_qsize 14, out_qsize 1\n",
            "2020-05-05 18:19:15,149 : INFO : EPOCH 32 - PROGRESS: at 58.26% examples, 359550 words/s, in_qsize 14, out_qsize 1\n",
            "2020-05-05 18:19:16,162 : INFO : EPOCH 32 - PROGRESS: at 62.89% examples, 360884 words/s, in_qsize 16, out_qsize 0\n",
            "2020-05-05 18:19:17,260 : INFO : EPOCH 32 - PROGRESS: at 67.45% examples, 359443 words/s, in_qsize 14, out_qsize 1\n",
            "2020-05-05 18:19:18,297 : INFO : EPOCH 32 - PROGRESS: at 71.89% examples, 358974 words/s, in_qsize 13, out_qsize 2\n",
            "2020-05-05 18:19:19,339 : INFO : EPOCH 32 - PROGRESS: at 76.88% examples, 360981 words/s, in_qsize 15, out_qsize 0\n",
            "2020-05-05 18:19:20,397 : INFO : EPOCH 32 - PROGRESS: at 81.56% examples, 361036 words/s, in_qsize 15, out_qsize 0\n",
            "2020-05-05 18:19:21,422 : INFO : EPOCH 32 - PROGRESS: at 85.77% examples, 359884 words/s, in_qsize 13, out_qsize 2\n",
            "2020-05-05 18:19:22,439 : INFO : EPOCH 32 - PROGRESS: at 90.32% examples, 360276 words/s, in_qsize 14, out_qsize 1\n",
            "2020-05-05 18:19:23,462 : INFO : EPOCH 32 - PROGRESS: at 94.80% examples, 360123 words/s, in_qsize 14, out_qsize 1\n",
            "2020-05-05 18:19:24,413 : INFO : worker thread finished; awaiting finish of 7 more threads\n",
            "2020-05-05 18:19:24,419 : INFO : worker thread finished; awaiting finish of 6 more threads\n",
            "2020-05-05 18:19:24,420 : INFO : worker thread finished; awaiting finish of 5 more threads\n",
            "2020-05-05 18:19:24,428 : INFO : worker thread finished; awaiting finish of 4 more threads\n",
            "2020-05-05 18:19:24,446 : INFO : worker thread finished; awaiting finish of 3 more threads\n",
            "2020-05-05 18:19:24,478 : INFO : EPOCH 32 - PROGRESS: at 99.78% examples, 362076 words/s, in_qsize 2, out_qsize 1\n",
            "2020-05-05 18:19:24,482 : INFO : worker thread finished; awaiting finish of 2 more threads\n",
            "2020-05-05 18:19:24,483 : INFO : worker thread finished; awaiting finish of 1 more threads\n",
            "2020-05-05 18:19:24,494 : INFO : worker thread finished; awaiting finish of 0 more threads\n",
            "2020-05-05 18:19:24,494 : INFO : EPOCH - 32 : training on 9227204 raw words (8222771 effective words) took 22.7s, 362606 effective words/s\n",
            "2020-05-05 18:19:24,495 : INFO : training on a 295270528 raw words (263125537 effective words) took 727.2s, 361819 effective words/s\n"
          ],
          "name": "stderr"
        },
        {
          "output_type": "stream",
          "text": [
            "CPU times: user 23min 34s, sys: 5.54 s, total: 23min 40s\n",
            "Wall time: 12min 7s\n"
          ],
          "name": "stdout"
        },
        {
          "output_type": "execute_result",
          "data": {
            "text/plain": [
              "(263125537, 295270528)"
            ]
          },
          "metadata": {
            "tags": []
          },
          "execution_count": 21
        }
      ]
    },
    {
      "cell_type": "code",
      "metadata": {
        "id": "eN9JvEDCDkD4",
        "colab_type": "code",
        "outputId": "40832936-98aa-4ff3-bdcf-4bee658dade8",
        "colab": {
          "base_uri": "https://localhost:8080/",
          "height": 255
        }
      },
      "source": [
        "w2v_model.most_similar(\"awesome\")"
      ],
      "execution_count": 0,
      "outputs": [
        {
          "output_type": "stream",
          "text": [
            "/usr/local/lib/python3.6/dist-packages/ipykernel_launcher.py:1: DeprecationWarning: Call to deprecated `most_similar` (Method will be removed in 4.0.0, use self.wv.most_similar() instead).\n",
            "  \"\"\"Entry point for launching an IPython kernel.\n",
            "2020-05-05 18:19:24,511 : INFO : precomputing L2-norms of word weight vectors\n"
          ],
          "name": "stderr"
        },
        {
          "output_type": "execute_result",
          "data": {
            "text/plain": [
              "[('amazing', 0.7794113159179688),\n",
              " ('great', 0.6846311688423157),\n",
              " ('fantastic', 0.6324511766433716),\n",
              " ('awsome', 0.5763086676597595),\n",
              " ('cool', 0.5393363237380981),\n",
              " ('incredible', 0.5287753343582153),\n",
              " ('fab', 0.49834758043289185),\n",
              " ('love', 0.4627910256385803),\n",
              " ('good', 0.45397692918777466),\n",
              " ('excellent', 0.4516769051551819)]"
            ]
          },
          "metadata": {
            "tags": []
          },
          "execution_count": 22
        }
      ]
    },
    {
      "cell_type": "code",
      "metadata": {
        "id": "m-hyVZiIDkFp",
        "colab_type": "code",
        "outputId": "b813cbd6-394e-48d1-8241-7abdbe96e51a",
        "colab": {
          "base_uri": "https://localhost:8080/",
          "height": 402
        }
      },
      "source": [
        "df_train"
      ],
      "execution_count": 0,
      "outputs": [
        {
          "output_type": "execute_result",
          "data": {
            "text/html": [
              "<div>\n",
              "<style scoped>\n",
              "    .dataframe tbody tr th:only-of-type {\n",
              "        vertical-align: middle;\n",
              "    }\n",
              "\n",
              "    .dataframe tbody tr th {\n",
              "        vertical-align: top;\n",
              "    }\n",
              "\n",
              "    .dataframe thead th {\n",
              "        text-align: right;\n",
              "    }\n",
              "</style>\n",
              "<table border=\"1\" class=\"dataframe\">\n",
              "  <thead>\n",
              "    <tr style=\"text-align: right;\">\n",
              "      <th></th>\n",
              "      <th>target</th>\n",
              "      <th>ids</th>\n",
              "      <th>date</th>\n",
              "      <th>flag</th>\n",
              "      <th>user</th>\n",
              "      <th>text</th>\n",
              "    </tr>\n",
              "  </thead>\n",
              "  <tbody>\n",
              "    <tr>\n",
              "      <th>1374558</th>\n",
              "      <td>POSITIVE</td>\n",
              "      <td>2051457557</td>\n",
              "      <td>Fri Jun 05 22:04:23 PDT 2009</td>\n",
              "      <td>NO_QUERY</td>\n",
              "      <td>JGoldsborough</td>\n",
              "      <td>ya quot like palm pre touchstone charger ready...</td>\n",
              "    </tr>\n",
              "    <tr>\n",
              "      <th>1389115</th>\n",
              "      <td>POSITIVE</td>\n",
              "      <td>2053083567</td>\n",
              "      <td>Sat Jun 06 03:12:21 PDT 2009</td>\n",
              "      <td>NO_QUERY</td>\n",
              "      <td>Psioui</td>\n",
              "      <td>felt earthquake afternoon seems epicenter</td>\n",
              "    </tr>\n",
              "    <tr>\n",
              "      <th>1137831</th>\n",
              "      <td>POSITIVE</td>\n",
              "      <td>1976779404</td>\n",
              "      <td>Sat May 30 19:02:49 PDT 2009</td>\n",
              "      <td>NO_QUERY</td>\n",
              "      <td>adriville</td>\n",
              "      <td>ruffles shirts like likey</td>\n",
              "    </tr>\n",
              "    <tr>\n",
              "      <th>790714</th>\n",
              "      <td>NEGATIVE</td>\n",
              "      <td>2325739990</td>\n",
              "      <td>Thu Jun 25 05:59:18 PDT 2009</td>\n",
              "      <td>NO_QUERY</td>\n",
              "      <td>Blondie128</td>\n",
              "      <td>pretty bad night crappy morning fml buttface d...</td>\n",
              "    </tr>\n",
              "    <tr>\n",
              "      <th>1117911</th>\n",
              "      <td>POSITIVE</td>\n",
              "      <td>1973503391</td>\n",
              "      <td>Sat May 30 11:16:35 PDT 2009</td>\n",
              "      <td>NO_QUERY</td>\n",
              "      <td>khrabrov</td>\n",
              "      <td>yeah clear view</td>\n",
              "    </tr>\n",
              "    <tr>\n",
              "      <th>...</th>\n",
              "      <td>...</td>\n",
              "      <td>...</td>\n",
              "      <td>...</td>\n",
              "      <td>...</td>\n",
              "      <td>...</td>\n",
              "      <td>...</td>\n",
              "    </tr>\n",
              "    <tr>\n",
              "      <th>259178</th>\n",
              "      <td>NEGATIVE</td>\n",
              "      <td>1985361990</td>\n",
              "      <td>Sun May 31 16:57:39 PDT 2009</td>\n",
              "      <td>NO_QUERY</td>\n",
              "      <td>lutheasalom</td>\n",
              "      <td>song middle change want born arghhhh</td>\n",
              "    </tr>\n",
              "    <tr>\n",
              "      <th>1414414</th>\n",
              "      <td>POSITIVE</td>\n",
              "      <td>2057029784</td>\n",
              "      <td>Sat Jun 06 12:14:24 PDT 2009</td>\n",
              "      <td>NO_QUERY</td>\n",
              "      <td>beeluz</td>\n",
              "      <td>good luck</td>\n",
              "    </tr>\n",
              "    <tr>\n",
              "      <th>131932</th>\n",
              "      <td>NEGATIVE</td>\n",
              "      <td>1835639354</td>\n",
              "      <td>Mon May 18 06:26:21 PDT 2009</td>\n",
              "      <td>NO_QUERY</td>\n",
              "      <td>lordmuttley</td>\n",
              "      <td>rather average 32370</td>\n",
              "    </tr>\n",
              "    <tr>\n",
              "      <th>671155</th>\n",
              "      <td>NEGATIVE</td>\n",
              "      <td>2246780174</td>\n",
              "      <td>Fri Jun 19 18:06:46 PDT 2009</td>\n",
              "      <td>NO_QUERY</td>\n",
              "      <td>MizSadittyFancy</td>\n",
              "      <td>pickin misstinayao waitin sadittysash 2 hurry ...</td>\n",
              "    </tr>\n",
              "    <tr>\n",
              "      <th>121958</th>\n",
              "      <td>NEGATIVE</td>\n",
              "      <td>1833617173</td>\n",
              "      <td>Sun May 17 23:52:31 PDT 2009</td>\n",
              "      <td>NO_QUERY</td>\n",
              "      <td>dindahh</td>\n",
              "      <td>home studying maths wooot im going fail shit</td>\n",
              "    </tr>\n",
              "  </tbody>\n",
              "</table>\n",
              "<p>1280000 rows × 6 columns</p>\n",
              "</div>"
            ],
            "text/plain": [
              "           target  ...                                               text\n",
              "1374558  POSITIVE  ...  ya quot like palm pre touchstone charger ready...\n",
              "1389115  POSITIVE  ...          felt earthquake afternoon seems epicenter\n",
              "1137831  POSITIVE  ...                          ruffles shirts like likey\n",
              "790714   NEGATIVE  ...  pretty bad night crappy morning fml buttface d...\n",
              "1117911  POSITIVE  ...                                    yeah clear view\n",
              "...           ...  ...                                                ...\n",
              "259178   NEGATIVE  ...               song middle change want born arghhhh\n",
              "1414414  POSITIVE  ...                                          good luck\n",
              "131932   NEGATIVE  ...                               rather average 32370\n",
              "671155   NEGATIVE  ...  pickin misstinayao waitin sadittysash 2 hurry ...\n",
              "121958   NEGATIVE  ...       home studying maths wooot im going fail shit\n",
              "\n",
              "[1280000 rows x 6 columns]"
            ]
          },
          "metadata": {
            "tags": []
          },
          "execution_count": 23
        }
      ]
    },
    {
      "cell_type": "code",
      "metadata": {
        "id": "nJnPwfp4DkI9",
        "colab_type": "code",
        "outputId": "deeb30dc-8934-4467-c281-bb67c66cb5a0",
        "colab": {
          "base_uri": "https://localhost:8080/",
          "height": 67
        }
      },
      "source": [
        "%%time\n",
        "tokenizer = Tokenizer()\n",
        "tokenizer.fit_on_texts(df_train.text)\n",
        "\n",
        "vocab_size = len(tokenizer.word_index) + 1\n",
        "print(\"Total words\", vocab_size)"
      ],
      "execution_count": 0,
      "outputs": [
        {
          "output_type": "stream",
          "text": [
            "Total words 290419\n",
            "CPU times: user 20.4 s, sys: 98 ms, total: 20.5 s\n",
            "Wall time: 20.5 s\n"
          ],
          "name": "stdout"
        }
      ]
    },
    {
      "cell_type": "code",
      "metadata": {
        "id": "4E6_0f1cH34P",
        "colab_type": "code",
        "outputId": "0f388300-fa3b-482a-d207-e43262871c98",
        "colab": {
          "base_uri": "https://localhost:8080/",
          "height": 50
        }
      },
      "source": [
        "%%time\n",
        "x_train = pad_sequences(tokenizer.texts_to_sequences(df_train.text), maxlen=SEQUENCE_LENGTH)\n",
        "x_test = pad_sequences(tokenizer.texts_to_sequences(df_test.text), maxlen=SEQUENCE_LENGTH)"
      ],
      "execution_count": 0,
      "outputs": [
        {
          "output_type": "stream",
          "text": [
            "CPU times: user 32.1 s, sys: 1.34 s, total: 33.4 s\n",
            "Wall time: 33.5 s\n"
          ],
          "name": "stdout"
        }
      ]
    },
    {
      "cell_type": "code",
      "metadata": {
        "id": "vfwEjzjlIRKU",
        "colab_type": "code",
        "outputId": "00eae2e8-a05f-4c16-ccb5-eeaca46b0ef7",
        "colab": {
          "base_uri": "https://localhost:8080/",
          "height": 134
        }
      },
      "source": [
        "x_train"
      ],
      "execution_count": 0,
      "outputs": [
        {
          "output_type": "execute_result",
          "data": {
            "text/plain": [
              "array([[     0,      0,      0, ...,    712,    118,  24590],\n",
              "       [     0,      0,      0, ...,    452,    378,  32447],\n",
              "       [     0,      0,      0, ...,   2048,      4,   5487],\n",
              "       ...,\n",
              "       [     0,      0,      0, ...,    661,   4246, 290416],\n",
              "       [     0,      0,      0, ...,     12,    477,    957],\n",
              "       [     0,      0,      0, ...,      9,    502,    268]], dtype=int32)"
            ]
          },
          "metadata": {
            "tags": []
          },
          "execution_count": 26
        }
      ]
    },
    {
      "cell_type": "code",
      "metadata": {
        "id": "25L-L2uXISEt",
        "colab_type": "code",
        "outputId": "85432a6d-bd1d-4a4b-cac3-44ff4bbc3a9d",
        "colab": {
          "base_uri": "https://localhost:8080/",
          "height": 34
        }
      },
      "source": [
        "labels = df_train.target.unique().tolist()\n",
        "labels.append(NEUTRAL)\n",
        "labels"
      ],
      "execution_count": 0,
      "outputs": [
        {
          "output_type": "execute_result",
          "data": {
            "text/plain": [
              "['POSITIVE', 'NEGATIVE', 'NEUTRAL']"
            ]
          },
          "metadata": {
            "tags": []
          },
          "execution_count": 27
        }
      ]
    },
    {
      "cell_type": "code",
      "metadata": {
        "id": "6UtxEh48ISGa",
        "colab_type": "code",
        "outputId": "a61414cb-abed-4bc5-9397-e5bbe348286e",
        "colab": {
          "base_uri": "https://localhost:8080/",
          "height": 402
        }
      },
      "source": [
        "df_train"
      ],
      "execution_count": 0,
      "outputs": [
        {
          "output_type": "execute_result",
          "data": {
            "text/html": [
              "<div>\n",
              "<style scoped>\n",
              "    .dataframe tbody tr th:only-of-type {\n",
              "        vertical-align: middle;\n",
              "    }\n",
              "\n",
              "    .dataframe tbody tr th {\n",
              "        vertical-align: top;\n",
              "    }\n",
              "\n",
              "    .dataframe thead th {\n",
              "        text-align: right;\n",
              "    }\n",
              "</style>\n",
              "<table border=\"1\" class=\"dataframe\">\n",
              "  <thead>\n",
              "    <tr style=\"text-align: right;\">\n",
              "      <th></th>\n",
              "      <th>target</th>\n",
              "      <th>ids</th>\n",
              "      <th>date</th>\n",
              "      <th>flag</th>\n",
              "      <th>user</th>\n",
              "      <th>text</th>\n",
              "    </tr>\n",
              "  </thead>\n",
              "  <tbody>\n",
              "    <tr>\n",
              "      <th>1374558</th>\n",
              "      <td>POSITIVE</td>\n",
              "      <td>2051457557</td>\n",
              "      <td>Fri Jun 05 22:04:23 PDT 2009</td>\n",
              "      <td>NO_QUERY</td>\n",
              "      <td>JGoldsborough</td>\n",
              "      <td>ya quot like palm pre touchstone charger ready...</td>\n",
              "    </tr>\n",
              "    <tr>\n",
              "      <th>1389115</th>\n",
              "      <td>POSITIVE</td>\n",
              "      <td>2053083567</td>\n",
              "      <td>Sat Jun 06 03:12:21 PDT 2009</td>\n",
              "      <td>NO_QUERY</td>\n",
              "      <td>Psioui</td>\n",
              "      <td>felt earthquake afternoon seems epicenter</td>\n",
              "    </tr>\n",
              "    <tr>\n",
              "      <th>1137831</th>\n",
              "      <td>POSITIVE</td>\n",
              "      <td>1976779404</td>\n",
              "      <td>Sat May 30 19:02:49 PDT 2009</td>\n",
              "      <td>NO_QUERY</td>\n",
              "      <td>adriville</td>\n",
              "      <td>ruffles shirts like likey</td>\n",
              "    </tr>\n",
              "    <tr>\n",
              "      <th>790714</th>\n",
              "      <td>NEGATIVE</td>\n",
              "      <td>2325739990</td>\n",
              "      <td>Thu Jun 25 05:59:18 PDT 2009</td>\n",
              "      <td>NO_QUERY</td>\n",
              "      <td>Blondie128</td>\n",
              "      <td>pretty bad night crappy morning fml buttface d...</td>\n",
              "    </tr>\n",
              "    <tr>\n",
              "      <th>1117911</th>\n",
              "      <td>POSITIVE</td>\n",
              "      <td>1973503391</td>\n",
              "      <td>Sat May 30 11:16:35 PDT 2009</td>\n",
              "      <td>NO_QUERY</td>\n",
              "      <td>khrabrov</td>\n",
              "      <td>yeah clear view</td>\n",
              "    </tr>\n",
              "    <tr>\n",
              "      <th>...</th>\n",
              "      <td>...</td>\n",
              "      <td>...</td>\n",
              "      <td>...</td>\n",
              "      <td>...</td>\n",
              "      <td>...</td>\n",
              "      <td>...</td>\n",
              "    </tr>\n",
              "    <tr>\n",
              "      <th>259178</th>\n",
              "      <td>NEGATIVE</td>\n",
              "      <td>1985361990</td>\n",
              "      <td>Sun May 31 16:57:39 PDT 2009</td>\n",
              "      <td>NO_QUERY</td>\n",
              "      <td>lutheasalom</td>\n",
              "      <td>song middle change want born arghhhh</td>\n",
              "    </tr>\n",
              "    <tr>\n",
              "      <th>1414414</th>\n",
              "      <td>POSITIVE</td>\n",
              "      <td>2057029784</td>\n",
              "      <td>Sat Jun 06 12:14:24 PDT 2009</td>\n",
              "      <td>NO_QUERY</td>\n",
              "      <td>beeluz</td>\n",
              "      <td>good luck</td>\n",
              "    </tr>\n",
              "    <tr>\n",
              "      <th>131932</th>\n",
              "      <td>NEGATIVE</td>\n",
              "      <td>1835639354</td>\n",
              "      <td>Mon May 18 06:26:21 PDT 2009</td>\n",
              "      <td>NO_QUERY</td>\n",
              "      <td>lordmuttley</td>\n",
              "      <td>rather average 32370</td>\n",
              "    </tr>\n",
              "    <tr>\n",
              "      <th>671155</th>\n",
              "      <td>NEGATIVE</td>\n",
              "      <td>2246780174</td>\n",
              "      <td>Fri Jun 19 18:06:46 PDT 2009</td>\n",
              "      <td>NO_QUERY</td>\n",
              "      <td>MizSadittyFancy</td>\n",
              "      <td>pickin misstinayao waitin sadittysash 2 hurry ...</td>\n",
              "    </tr>\n",
              "    <tr>\n",
              "      <th>121958</th>\n",
              "      <td>NEGATIVE</td>\n",
              "      <td>1833617173</td>\n",
              "      <td>Sun May 17 23:52:31 PDT 2009</td>\n",
              "      <td>NO_QUERY</td>\n",
              "      <td>dindahh</td>\n",
              "      <td>home studying maths wooot im going fail shit</td>\n",
              "    </tr>\n",
              "  </tbody>\n",
              "</table>\n",
              "<p>1280000 rows × 6 columns</p>\n",
              "</div>"
            ],
            "text/plain": [
              "           target  ...                                               text\n",
              "1374558  POSITIVE  ...  ya quot like palm pre touchstone charger ready...\n",
              "1389115  POSITIVE  ...          felt earthquake afternoon seems epicenter\n",
              "1137831  POSITIVE  ...                          ruffles shirts like likey\n",
              "790714   NEGATIVE  ...  pretty bad night crappy morning fml buttface d...\n",
              "1117911  POSITIVE  ...                                    yeah clear view\n",
              "...           ...  ...                                                ...\n",
              "259178   NEGATIVE  ...               song middle change want born arghhhh\n",
              "1414414  POSITIVE  ...                                          good luck\n",
              "131932   NEGATIVE  ...                               rather average 32370\n",
              "671155   NEGATIVE  ...  pickin misstinayao waitin sadittysash 2 hurry ...\n",
              "121958   NEGATIVE  ...       home studying maths wooot im going fail shit\n",
              "\n",
              "[1280000 rows x 6 columns]"
            ]
          },
          "metadata": {
            "tags": []
          },
          "execution_count": 28
        }
      ]
    },
    {
      "cell_type": "code",
      "metadata": {
        "id": "D4ns4hQFISJ-",
        "colab_type": "code",
        "outputId": "167a889e-893a-460e-f00b-efb471ec8f85",
        "colab": {
          "base_uri": "https://localhost:8080/",
          "height": 50
        }
      },
      "source": [
        "encoder = LabelEncoder()\n",
        "encoder.fit(df_train.target.tolist())\n",
        "\n",
        "y_train = encoder.transform(df_train.target.tolist())\n",
        "y_test = encoder.transform(df_test.target.tolist())\n",
        "\n",
        "y_train = y_train.reshape(-1,1)\n",
        "y_test = y_test.reshape(-1,1)\n",
        "\n",
        "print(\"y_train\",y_train.shape)\n",
        "print(\"y_test\",y_test.shape)"
      ],
      "execution_count": 0,
      "outputs": [
        {
          "output_type": "stream",
          "text": [
            "y_train (1280000, 1)\n",
            "y_test (320000, 1)\n"
          ],
          "name": "stdout"
        }
      ]
    },
    {
      "cell_type": "code",
      "metadata": {
        "id": "_nEz0-opISL5",
        "colab_type": "code",
        "outputId": "c52ea213-06e1-43e4-b52c-e8881196b91d",
        "colab": {
          "base_uri": "https://localhost:8080/",
          "height": 101
        }
      },
      "source": [
        "print(\"x_train\", x_train.shape)\n",
        "print(\"y_train\", y_train.shape)\n",
        "print()\n",
        "print(\"x_test\", x_test.shape)\n",
        "print(\"y_test\", y_test.shape)"
      ],
      "execution_count": 0,
      "outputs": [
        {
          "output_type": "stream",
          "text": [
            "x_train (1280000, 300)\n",
            "y_train (1280000, 1)\n",
            "\n",
            "x_test (320000, 300)\n",
            "y_test (320000, 1)\n"
          ],
          "name": "stdout"
        }
      ]
    },
    {
      "cell_type": "code",
      "metadata": {
        "id": "S4ZkXH-gISPG",
        "colab_type": "code",
        "outputId": "69d0f0a4-62dd-4839-a762-200dce4c15a8",
        "colab": {
          "base_uri": "https://localhost:8080/",
          "height": 185
        }
      },
      "source": [
        "y_train[:10]"
      ],
      "execution_count": 0,
      "outputs": [
        {
          "output_type": "execute_result",
          "data": {
            "text/plain": [
              "array([[1],\n",
              "       [1],\n",
              "       [1],\n",
              "       [0],\n",
              "       [1],\n",
              "       [1],\n",
              "       [1],\n",
              "       [1],\n",
              "       [1],\n",
              "       [1]])"
            ]
          },
          "metadata": {
            "tags": []
          },
          "execution_count": 31
        }
      ]
    },
    {
      "cell_type": "code",
      "metadata": {
        "id": "ahEhShZ6JWRa",
        "colab_type": "code",
        "outputId": "a0a68f60-e4d3-44c8-8c4a-963ff33c774b",
        "colab": {
          "base_uri": "https://localhost:8080/",
          "height": 34
        }
      },
      "source": [
        "embedding_matrix = np.zeros((vocab_size, W2V_SIZE))\n",
        "for word, i in tokenizer.word_index.items():\n",
        "  if word in w2v_model.wv:\n",
        "    embedding_matrix[i] = w2v_model.wv[word]\n",
        "print(embedding_matrix.shape)"
      ],
      "execution_count": 0,
      "outputs": [
        {
          "output_type": "stream",
          "text": [
            "(290419, 300)\n"
          ],
          "name": "stdout"
        }
      ]
    },
    {
      "cell_type": "code",
      "metadata": {
        "id": "dXWU-dh5JW4x",
        "colab_type": "code",
        "colab": {}
      },
      "source": [
        "embedding_layer = Embedding(vocab_size, W2V_SIZE, weights=[embedding_matrix], input_length=SEQUENCE_LENGTH, trainable=False)"
      ],
      "execution_count": 0,
      "outputs": []
    },
    {
      "cell_type": "code",
      "metadata": {
        "id": "EqIKolq5JW62",
        "colab_type": "code",
        "outputId": "7b42e021-4f01-4555-852e-93ee649d39f4",
        "colab": {
          "base_uri": "https://localhost:8080/",
          "height": 286
        }
      },
      "source": [
        "model = Sequential()\n",
        "model.add(embedding_layer)\n",
        "model.add(Dropout(0.5))\n",
        "model.add(LSTM(100, dropout=0.2, recurrent_dropout=0.2))\n",
        "model.add(Dense(1, activation='sigmoid'))\n",
        "\n",
        "model.summary()"
      ],
      "execution_count": 0,
      "outputs": [
        {
          "output_type": "stream",
          "text": [
            "Model: \"sequential_1\"\n",
            "_________________________________________________________________\n",
            "Layer (type)                 Output Shape              Param #   \n",
            "=================================================================\n",
            "embedding_1 (Embedding)      (None, 300, 300)          87125700  \n",
            "_________________________________________________________________\n",
            "dropout_1 (Dropout)          (None, 300, 300)          0         \n",
            "_________________________________________________________________\n",
            "lstm_1 (LSTM)                (None, 100)               160400    \n",
            "_________________________________________________________________\n",
            "dense_1 (Dense)              (None, 1)                 101       \n",
            "=================================================================\n",
            "Total params: 87,286,201\n",
            "Trainable params: 160,501\n",
            "Non-trainable params: 87,125,700\n",
            "_________________________________________________________________\n"
          ],
          "name": "stdout"
        }
      ]
    },
    {
      "cell_type": "code",
      "metadata": {
        "id": "WZBH3md4JW-c",
        "colab_type": "code",
        "colab": {}
      },
      "source": [
        "model.compile(loss='binary_crossentropy',\n",
        "              optimizer=\"adam\",\n",
        "              metrics=['accuracy'])"
      ],
      "execution_count": 0,
      "outputs": []
    },
    {
      "cell_type": "code",
      "metadata": {
        "id": "S25jyGLhJW_7",
        "colab_type": "code",
        "colab": {}
      },
      "source": [
        "callbacks = [ ReduceLROnPlateau(monitor='val_loss', patience=5, cooldown=0),\n",
        "              EarlyStopping(monitor='val_acc', min_delta=1e-4, patience=5)]"
      ],
      "execution_count": 0,
      "outputs": []
    },
    {
      "cell_type": "code",
      "metadata": {
        "id": "mjpFtBoFJXDb",
        "colab_type": "code",
        "outputId": "a28f453a-87e2-4216-a64a-bd6a7be392a4",
        "colab": {
          "base_uri": "https://localhost:8080/",
          "height": 222
        }
      },
      "source": [
        "%%time\n",
        "history = model.fit(x_train, y_train,\n",
        "                    batch_size=BATCH_SIZE,\n",
        "                    epochs=EPOCHS,\n",
        "                    validation_split=0.1,\n",
        "                    verbose=1,\n",
        "                    callbacks=callbacks)"
      ],
      "execution_count": 0,
      "outputs": [
        {
          "output_type": "stream",
          "text": [
            "Train on 1152000 samples, validate on 128000 samples\n",
            "Epoch 1/3\n",
            "1152000/1152000 [==============================] - 8220s 7ms/step - loss: 0.5066 - accuracy: 0.7480 - val_loss: 0.4662 - val_accuracy: 0.7784\n",
            "Epoch 2/3\n"
          ],
          "name": "stdout"
        },
        {
          "output_type": "stream",
          "text": [
            "/usr/local/lib/python3.6/dist-packages/keras/callbacks/callbacks.py:846: RuntimeWarning: Early stopping conditioned on metric `val_acc` which is not available. Available metrics are: val_loss,val_accuracy,loss,accuracy,lr\n",
            "  (self.monitor, ','.join(list(logs.keys()))), RuntimeWarning\n"
          ],
          "name": "stderr"
        },
        {
          "output_type": "stream",
          "text": [
            "1152000/1152000 [==============================] - 8126s 7ms/step - loss: 0.4921 - accuracy: 0.7589 - val_loss: 0.4610 - val_accuracy: 0.7810\n",
            "Epoch 3/3\n",
            "1152000/1152000 [==============================] - 8098s 7ms/step - loss: 0.4812 - accuracy: 0.7658 - val_loss: 0.4553 - val_accuracy: 0.7844\n",
            "CPU times: user 12h 26min 44s, sys: 39min 19s, total: 13h 6min 4s\n",
            "Wall time: 6h 47min 25s\n"
          ],
          "name": "stdout"
        }
      ]
    },
    {
      "cell_type": "code",
      "metadata": {
        "id": "BVowg9QyMKu0",
        "colab_type": "code",
        "outputId": "83f49b1e-e219-4028-f58f-d6dc3df97409",
        "colab": {
          "base_uri": "https://localhost:8080/",
          "height": 445
        }
      },
      "source": [
        "import pandas as pd\n",
        "pd.DataFrame(history.history).plot(figsize=(10,7))"
      ],
      "execution_count": 0,
      "outputs": [
        {
          "output_type": "execute_result",
          "data": {
            "text/plain": [
              "<matplotlib.axes._subplots.AxesSubplot at 0x7f3eb6a505f8>"
            ]
          },
          "metadata": {
            "tags": []
          },
          "execution_count": 38
        },
        {
          "output_type": "display_data",
          "data": {
            "image/png": "[encoded data removed]",
            "text/plain": [
              "<Figure size 720x504 with 1 Axes>"
            ]
          },
          "metadata": {
            "tags": [],
            "needs_background": "light"
          }
        }
      ]
    },
    {
      "cell_type": "code",
      "metadata": {
        "id": "-I1HNj_4MKxG",
        "colab_type": "code",
        "outputId": "717f5e2b-1fbe-4ceb-fa89-ccc4a82e8bb6",
        "colab": {
          "base_uri": "https://localhost:8080/",
          "height": 118
        }
      },
      "source": [
        "%%time\n",
        "score = model.evaluate(x_test, y_test, batch_size=BATCH_SIZE)\n",
        "print()\n",
        "print(\"ACCURACY:\",score[1])\n",
        "print(\"LOSS:\",score[0])"
      ],
      "execution_count": 0,
      "outputs": [
        {
          "output_type": "stream",
          "text": [
            "320000/320000 [==============================] - 694s 2ms/step\n",
            "\n",
            "ACCURACY: 0.7854468822479248\n",
            "LOSS: 0.4541092287063599\n",
            "CPU times: user 21min 17s, sys: 56.9 s, total: 22min 14s\n",
            "Wall time: 11min 33s\n"
          ],
          "name": "stdout"
        }
      ]
    },
    {
      "cell_type": "code",
      "metadata": {
        "id": "rhjKDSIlMKz-",
        "colab_type": "code",
        "colab": {}
      },
      "source": [
        "def decode_sentiment(score, include_neutral=True):\n",
        "    if include_neutral:        \n",
        "        label = NEUTRAL\n",
        "        if score <= SENTIMENT_THRESHOLDS[0]:\n",
        "            label = NEGATIVE\n",
        "        elif score >= SENTIMENT_THRESHOLDS[1]:\n",
        "            label = POSITIVE\n",
        "\n",
        "        return label\n",
        "    else:\n",
        "        return NEGATIVE if score < 0.5 else POSITIVE"
      ],
      "execution_count": 0,
      "outputs": []
    },
    {
      "cell_type": "code",
      "metadata": {
        "id": "9hyl2CyZEgNd",
        "colab_type": "code",
        "colab": {}
      },
      "source": [
        "def predict(text, include_neutral=True):\n",
        "    start_at = time.time()\n",
        "    # Tokenize text\n",
        "    x_test = pad_sequences(tokenizer.texts_to_sequences([text]), maxlen=SEQUENCE_LENGTH)\n",
        "    # Predict\n",
        "    score = model.predict([x_test])[0]\n",
        "    # Decode sentiment\n",
        "    label = decode_sentiment(score, include_neutral=include_neutral)\n",
        "\n",
        "    return {\"label\": label, \"score\": float(score),\n",
        "       \"elapsed_time\": time.time()-start_at} "
      ],
      "execution_count": 0,
      "outputs": []
    },
    {
      "cell_type": "code",
      "metadata": {
        "id": "G_plXfX9EgPX",
        "colab_type": "code",
        "outputId": "189f7997-92a4-474c-b062-60805a117e68",
        "colab": {
          "base_uri": "https://localhost:8080/",
          "height": 67
        }
      },
      "source": [
        "predict(\"I love the guitar but playing guitar is difficult\")"
      ],
      "execution_count": 0,
      "outputs": [
        {
          "output_type": "execute_result",
          "data": {
            "text/plain": [
              "{'elapsed_time': 0.1716294288635254,\n",
              " 'label': 'POSITIVE',\n",
              " 'score': 0.7896862626075745}"
            ]
          },
          "metadata": {
            "tags": []
          },
          "execution_count": 42
        }
      ]
    }
  ]
}