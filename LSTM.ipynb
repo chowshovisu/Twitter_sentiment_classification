{
  "nbformat": 4,
  "nbformat_minor": 0,
  "metadata": {
    "colab": {
      "name": "Copy of Untitled2.ipynb",
      "provenance": []
    },
    "kernelspec": {
      "name": "python3",
      "display_name": "Python 3"
    }
  },
  "cells": [
    {
      "cell_type": "code",
      "metadata": {
        "id": "2BC5-Zxa-UYt",
        "colab_type": "code",
        "outputId": "5d124bd7-f522-4f25-fe02-dc34dc81018a",
        "colab": {
          "base_uri": "https://localhost:8080/",
          "height": 121
        }
      },
      "source": [
        "from google.colab import drive\n",
        "drive.mount('/content/drive')"
      ],
      "execution_count": 1,
      "outputs": [
        {
          "output_type": "stream",
          "text": [
            "Go to this URL in a browser: https://accounts.google.com/o/oauth2/auth?client_id=947318989803-6bn6qk8qdgf4n4g3pfee6491hc0brc4i.apps.googleusercontent.com&redirect_uri=urn%3aietf%3awg%3aoauth%3a2.0%3aoob&response_type=code&scope=email%20https%3a%2f%2fwww.googleapis.com%2fauth%2fdocs.test%20https%3a%2f%2fwww.googleapis.com%2fauth%2fdrive%20https%3a%2f%2fwww.googleapis.com%2fauth%2fdrive.photos.readonly%20https%3a%2f%2fwww.googleapis.com%2fauth%2fpeopleapi.readonly\n",
            "\n",
            "Enter your authorization code:\n",
            "··········\n",
            "Mounted at /content/drive\n"
          ],
          "name": "stdout"
        }
      ]
    },
    {
      "cell_type": "code",
      "metadata": {
        "id": "VUVoRRstAa0y",
        "colab_type": "code",
        "outputId": "4ba9f55b-5632-476b-b064-721c61c08d46",
        "colab": {
          "base_uri": "https://localhost:8080/",
          "height": 658
        }
      },
      "source": [
        "!pip install gensim --upgrade\n",
        "!pip install keras --upgrade\n",
        "!pip install pandas --upgrade"
      ],
      "execution_count": 2,
      "outputs": [
        {
          "output_type": "stream",
          "text": [
            "Collecting gensim\n",
            "\u001b[?25l  Downloading https://files.pythonhosted.org/packages/2b/e0/fa6326251692056dc880a64eb22117e03269906ba55a6864864d24ec8b4e/gensim-3.8.3-cp36-cp36m-manylinux1_x86_64.whl (24.2MB)\n",
            "\u001b[K     |████████████████████████████████| 24.2MB 163kB/s \n",
            "\u001b[?25hRequirement already satisfied, skipping upgrade: numpy>=1.11.3 in /usr/local/lib/python3.6/dist-packages (from gensim) (1.18.3)\n",
            "Requirement already satisfied, skipping upgrade: scipy>=0.18.1 in /usr/local/lib/python3.6/dist-packages (from gensim) (1.4.1)\n",
            "Requirement already satisfied, skipping upgrade: smart-open>=1.8.1 in /usr/local/lib/python3.6/dist-packages (from gensim) (1.11.1)\n",
            "Requirement already satisfied, skipping upgrade: six>=1.5.0 in /usr/local/lib/python3.6/dist-packages (from gensim) (1.12.0)\n",
            "Requirement already satisfied, skipping upgrade: boto in /usr/local/lib/python3.6/dist-packages (from smart-open>=1.8.1->gensim) (2.49.0)\n",
            "Requirement already satisfied, skipping upgrade: requests in /usr/local/lib/python3.6/dist-packages (from smart-open>=1.8.1->gensim) (2.23.0)\n",
            "Requirement already satisfied, skipping upgrade: boto3 in /usr/local/lib/python3.6/dist-packages (from smart-open>=1.8.1->gensim) (1.12.47)\n",
            "Requirement already satisfied, skipping upgrade: idna<3,>=2.5 in /usr/local/lib/python3.6/dist-packages (from requests->smart-open>=1.8.1->gensim) (2.9)\n",
            "Requirement already satisfied, skipping upgrade: chardet<4,>=3.0.2 in /usr/local/lib/python3.6/dist-packages (from requests->smart-open>=1.8.1->gensim) (3.0.4)\n",
            "Requirement already satisfied, skipping upgrade: certifi>=2017.4.17 in /usr/local/lib/python3.6/dist-packages (from requests->smart-open>=1.8.1->gensim) (2020.4.5.1)\n",
            "Requirement already satisfied, skipping upgrade: urllib3!=1.25.0,!=1.25.1,<1.26,>=1.21.1 in /usr/local/lib/python3.6/dist-packages (from requests->smart-open>=1.8.1->gensim) (1.24.3)\n",
            "Requirement already satisfied, skipping upgrade: jmespath<1.0.0,>=0.7.1 in /usr/local/lib/python3.6/dist-packages (from boto3->smart-open>=1.8.1->gensim) (0.9.5)\n",
            "Requirement already satisfied, skipping upgrade: s3transfer<0.4.0,>=0.3.0 in /usr/local/lib/python3.6/dist-packages (from boto3->smart-open>=1.8.1->gensim) (0.3.3)\n",
            "Requirement already satisfied, skipping upgrade: botocore<1.16.0,>=1.15.47 in /usr/local/lib/python3.6/dist-packages (from boto3->smart-open>=1.8.1->gensim) (1.15.47)\n",
            "Requirement already satisfied, skipping upgrade: python-dateutil<3.0.0,>=2.1 in /usr/local/lib/python3.6/dist-packages (from botocore<1.16.0,>=1.15.47->boto3->smart-open>=1.8.1->gensim) (2.8.1)\n",
            "Requirement already satisfied, skipping upgrade: docutils<0.16,>=0.10 in /usr/local/lib/python3.6/dist-packages (from botocore<1.16.0,>=1.15.47->boto3->smart-open>=1.8.1->gensim) (0.15.2)\n",
            "Installing collected packages: gensim\n",
            "  Found existing installation: gensim 3.6.0\n",
            "    Uninstalling gensim-3.6.0:\n",
            "      Successfully uninstalled gensim-3.6.0\n",
            "Successfully installed gensim-3.8.3\n",
            "Requirement already up-to-date: keras in /usr/local/lib/python3.6/dist-packages (2.3.1)\n",
            "Requirement already satisfied, skipping upgrade: scipy>=0.14 in /usr/local/lib/python3.6/dist-packages (from keras) (1.4.1)\n",
            "Requirement already satisfied, skipping upgrade: h5py in /usr/local/lib/python3.6/dist-packages (from keras) (2.10.0)\n",
            "Requirement already satisfied, skipping upgrade: six>=1.9.0 in /usr/local/lib/python3.6/dist-packages (from keras) (1.12.0)\n",
            "Requirement already satisfied, skipping upgrade: keras-preprocessing>=1.0.5 in /usr/local/lib/python3.6/dist-packages (from keras) (1.1.0)\n",
            "Requirement already satisfied, skipping upgrade: numpy>=1.9.1 in /usr/local/lib/python3.6/dist-packages (from keras) (1.18.3)\n",
            "Requirement already satisfied, skipping upgrade: keras-applications>=1.0.6 in /usr/local/lib/python3.6/dist-packages (from keras) (1.0.8)\n",
            "Requirement already satisfied, skipping upgrade: pyyaml in /usr/local/lib/python3.6/dist-packages (from keras) (3.13)\n",
            "Requirement already up-to-date: pandas in /usr/local/lib/python3.6/dist-packages (1.0.3)\n",
            "Requirement already satisfied, skipping upgrade: python-dateutil>=2.6.1 in /usr/local/lib/python3.6/dist-packages (from pandas) (2.8.1)\n",
            "Requirement already satisfied, skipping upgrade: numpy>=1.13.3 in /usr/local/lib/python3.6/dist-packages (from pandas) (1.18.3)\n",
            "Requirement already satisfied, skipping upgrade: pytz>=2017.2 in /usr/local/lib/python3.6/dist-packages (from pandas) (2018.9)\n",
            "Requirement already satisfied, skipping upgrade: six>=1.5 in /usr/local/lib/python3.6/dist-packages (from python-dateutil>=2.6.1->pandas) (1.12.0)\n"
          ],
          "name": "stdout"
        }
      ]
    },
    {
      "cell_type": "code",
      "metadata": {
        "id": "0__KdzM9-kvE",
        "colab_type": "code",
        "colab": {}
      },
      "source": [
        "import pandas as pd\n",
        "\n",
        "DATASET_COLUMNS = [\"target\", \"ids\", \"date\", \"flag\", \"user\", \"text\"]\n",
        "DATASET_ENCODING = \"ISO-8859-1\"\n",
        "\n",
        "path = \"/content/drive/My Drive/data/training.1600000.processed.noemoticon.csv\"\n",
        "df = pd.read_csv(path, encoding =DATASET_ENCODING , names=DATASET_COLUMNS)"
      ],
      "execution_count": 0,
      "outputs": []
    },
    {
      "cell_type": "code",
      "metadata": {
        "id": "Bhv-a_s3-1B8",
        "colab_type": "code",
        "colab": {}
      },
      "source": [
        "df.head() "
      ],
      "execution_count": 0,
      "outputs": []
    },
    {
      "cell_type": "code",
      "metadata": {
        "id": "XEV_Ebee_rCP",
        "colab_type": "code",
        "colab": {}
      },
      "source": [
        "# DataFrame\n",
        "import pandas as pd\n",
        "\n",
        "# Matplot\n",
        "import matplotlib.pyplot as plt\n",
        "%matplotlib inline\n",
        "\n",
        "# Scikit-learn\n",
        "from sklearn.model_selection import train_test_split\n",
        "from sklearn.preprocessing import LabelEncoder\n",
        "from sklearn.metrics import confusion_matrix, classification_report, accuracy_score\n",
        "from sklearn.manifold import TSNE\n",
        "from sklearn.feature_extraction.text import TfidfVectorizer\n",
        "\n",
        "# Keras\n",
        "from keras.preprocessing.text import Tokenizer\n",
        "from keras.preprocessing.sequence import pad_sequences\n",
        "from keras.models import Sequential\n",
        "from keras.layers import Activation, Dense, Dropout, Embedding, Flatten, Conv1D, MaxPooling1D, LSTM\n",
        "from keras import utils\n",
        "from keras.callbacks import ReduceLROnPlateau, EarlyStopping\n",
        "\n",
        "# nltk\n",
        "import nltk\n",
        "from nltk.corpus import stopwords\n",
        "from  nltk.stem import SnowballStemmer\n",
        "\n",
        "# Word2vec\n",
        "import gensim\n",
        "\n",
        "# Utility\n",
        "import re\n",
        "import numpy as np\n",
        "import os\n",
        "from collections import Counter\n",
        "import logging\n",
        "import time\n",
        "import pickle\n",
        "import itertools\n",
        "\n",
        "# Set log\n",
        "logging.basicConfig(format='%(asctime)s : %(levelname)s : %(message)s', level=logging.INFO)"
      ],
      "execution_count": 0,
      "outputs": []
    },
    {
      "cell_type": "code",
      "metadata": {
        "id": "BDbaRaD8A_tT",
        "colab_type": "code",
        "outputId": "7a644620-d858-49f0-a178-45983f4ed1f3",
        "colab": {
          "base_uri": "https://localhost:8080/",
          "height": 67
        }
      },
      "source": [
        "nltk.download('stopwords')"
      ],
      "execution_count": 21,
      "outputs": [
        {
          "output_type": "stream",
          "text": [
            "[nltk_data] Downloading package stopwords to /root/nltk_data...\n",
            "[nltk_data]   Package stopwords is already up-to-date!\n"
          ],
          "name": "stdout"
        },
        {
          "output_type": "execute_result",
          "data": {
            "text/plain": [
              "True"
            ]
          },
          "metadata": {
            "tags": []
          },
          "execution_count": 21
        }
      ]
    },
    {
      "cell_type": "code",
      "metadata": {
        "id": "hYSl7so9BPvB",
        "colab_type": "code",
        "colab": {}
      },
      "source": [
        "# TEXT CLENAING\n",
        "TEXT_CLEANING_RE = \"@\\S+|https?:\\S+|http?:\\S|[^A-Za-z0-9]+\"\n",
        "\n",
        "# WORD2VEC \n",
        "W2V_SIZE = 300\n",
        "W2V_WINDOW = 7\n",
        "W2V_EPOCH = 32\n",
        "W2V_MIN_COUNT = 10\n",
        "\n",
        "# KERAS\n",
        "SEQUENCE_LENGTH = 300\n",
        "EPOCHS = 3\n",
        "BATCH_SIZE = 1024\n",
        "\n",
        "# SENTIMENT\n",
        "POSITIVE = \"POSITIVE\"\n",
        "NEGATIVE = \"NEGATIVE\"\n",
        "NEUTRAL = \"NEUTRAL\"\n",
        "SENTIMENT_THRESHOLDS = (0.4, 0.7)\n",
        "\n",
        "# EXPORT\n",
        "KERAS_MODEL = \"model.h5\"\n",
        "WORD2VEC_MODEL = \"model.w2v\"\n",
        "TOKENIZER_MODEL = \"tokenizer.pkl\"\n",
        "ENCODER_MODEL = \"encoder.pkl\""
      ],
      "execution_count": 0,
      "outputs": []
    },
    {
      "cell_type": "code",
      "metadata": {
        "id": "HDC2bo2LBc9t",
        "colab_type": "code",
        "colab": {}
      },
      "source": [
        "decode_map = {0: \"NEGATIVE\", 2: \"NEUTRAL\", 4: \"POSITIVE\"}\n",
        "def decode_sentiment(label):\n",
        "    return decode_map[int(label)]"
      ],
      "execution_count": 0,
      "outputs": []
    },
    {
      "cell_type": "code",
      "metadata": {
        "id": "UXPYX_o1BoPk",
        "colab_type": "code",
        "outputId": "d6ded952-dcea-438a-c6db-7f5a0a2d580d",
        "colab": {
          "base_uri": "https://localhost:8080/",
          "height": 50
        }
      },
      "source": [
        "%%time\n",
        "df.target = df.target.apply(lambda x: decode_sentiment(x))"
      ],
      "execution_count": 24,
      "outputs": [
        {
          "output_type": "stream",
          "text": [
            "CPU times: user 510 ms, sys: 3.95 ms, total: 514 ms\n",
            "Wall time: 519 ms\n"
          ],
          "name": "stdout"
        }
      ]
    },
    {
      "cell_type": "code",
      "metadata": {
        "id": "PSXqTXVdBsGR",
        "colab_type": "code",
        "outputId": "24b78338-a6f2-49d7-bebc-4f9d6f32f0ad",
        "colab": {
          "base_uri": "https://localhost:8080/",
          "height": 516
        }
      },
      "source": [
        "target_cnt = Counter(df.target)\n",
        "\n",
        "plt.figure(figsize=(16,8))\n",
        "plt.bar(target_cnt.keys(), target_cnt.values())\n",
        "plt.title(\"Dataset labels distribuition\")"
      ],
      "execution_count": 25,
      "outputs": [
        {
          "output_type": "execute_result",
          "data": {
            "text/plain": [
              "Text(0.5, 1.0, 'Dataset labels distribuition')"
            ]
          },
          "metadata": {
            "tags": []
          },
          "execution_count": 25
        },
        {
          "output_type": "display_data",
          "data": {
            "image/png": "[encoded data removed]",
            "text/plain": [
              "<Figure size 1152x576 with 1 Axes>"
            ]
          },
          "metadata": {
            "tags": [],
            "needs_background": "light"
          }
        }
      ]
    },
    {
      "cell_type": "code",
      "metadata": {
        "id": "zhsirjYlBtEb",
        "colab_type": "code",
        "colab": {}
      },
      "source": [
        "stop_words = stopwords.words(\"english\")\n",
        "stemmer = SnowballStemmer(\"english\")"
      ],
      "execution_count": 0,
      "outputs": []
    },
    {
      "cell_type": "code",
      "metadata": {
        "id": "GzRwi5RpBtGB",
        "colab_type": "code",
        "colab": {}
      },
      "source": [
        "def preprocess(text, stem=False):\n",
        "    # Remove link,user and special characters\n",
        "    text = re.sub(TEXT_CLEANING_RE, ' ', str(text).lower()).strip()\n",
        "    tokens = []\n",
        "    for token in text.split():\n",
        "        if token not in stop_words:\n",
        "            if stem:\n",
        "                tokens.append(stemmer.stem(token))\n",
        "            else:\n",
        "                tokens.append(token)\n",
        "    return \" \".join(tokens)"
      ],
      "execution_count": 0,
      "outputs": []
    },
    {
      "cell_type": "code",
      "metadata": {
        "id": "NNS68rMpB54k",
        "colab_type": "code",
        "outputId": "9b5ffbc1-7f3e-4719-cf2c-c3d987dd295c",
        "colab": {
          "base_uri": "https://localhost:8080/",
          "height": 50
        }
      },
      "source": [
        "%%time\n",
        "df.text = df.text.apply(lambda x: preprocess(x))"
      ],
      "execution_count": 28,
      "outputs": [
        {
          "output_type": "stream",
          "text": [
            "CPU times: user 46.2 s, sys: 190 ms, total: 46.4 s\n",
            "Wall time: 46.4 s\n"
          ],
          "name": "stdout"
        }
      ]
    },
    {
      "cell_type": "code",
      "metadata": {
        "id": "e8uMQWsFB56c",
        "colab_type": "code",
        "outputId": "fbefd029-f279-4895-f8bf-2a3e0544d39c",
        "colab": {
          "base_uri": "https://localhost:8080/",
          "height": 50
        }
      },
      "source": [
        "TRAIN_SIZE=0.8\n",
        "\n",
        "df_train, df_test = train_test_split(df, test_size=1-TRAIN_SIZE, random_state=42)\n",
        "print(\"TRAIN size:\", len(df_train))\n",
        "print(\"TEST size:\", len(df_test))"
      ],
      "execution_count": 29,
      "outputs": [
        {
          "output_type": "stream",
          "text": [
            "TRAIN size: 1280000\n",
            "TEST size: 320000\n"
          ],
          "name": "stdout"
        }
      ]
    },
    {
      "cell_type": "code",
      "metadata": {
        "id": "GFOwS0HSB59K",
        "colab_type": "code",
        "outputId": "c0658053-c5be-4e49-be4c-19566bdb5033",
        "colab": {
          "base_uri": "https://localhost:8080/",
          "height": 50
        }
      },
      "source": [
        "%%time\n",
        "documents = [_text.split() for _text in df_train.text] \n"
      ],
      "execution_count": 30,
      "outputs": [
        {
          "output_type": "stream",
          "text": [
            "CPU times: user 2.8 s, sys: 430 ms, total: 3.23 s\n",
            "Wall time: 3.23 s\n"
          ],
          "name": "stdout"
        }
      ]
    },
    {
      "cell_type": "code",
      "metadata": {
        "id": "p7bJp8ONB5__",
        "colab_type": "code",
        "colab": {}
      },
      "source": [
        "w2v_model = gensim.models.word2vec.Word2Vec(size=W2V_SIZE, \n",
        "                                            window=W2V_WINDOW, \n",
        "                                            min_count=W2V_MIN_COUNT, \n",
        "                                            workers=8)"
      ],
      "execution_count": 0,
      "outputs": []
    },
    {
      "cell_type": "code",
      "metadata": {
        "id": "RTNaZD-WBtJL",
        "colab_type": "code",
        "outputId": "a0674f69-875c-4f2c-c68d-45b1f42947fe",
        "colab": {
          "base_uri": "https://localhost:8080/",
          "height": 1000
        }
      },
      "source": [
        "w2v_model.build_vocab(documents)"
      ],
      "execution_count": 32,
      "outputs": [
        {
          "output_type": "stream",
          "text": [
            "2020-05-04 22:27:01,822 : INFO : collecting all words and their counts\n",
            "2020-05-04 22:27:01,823 : INFO : PROGRESS: at sentence #0, processed 0 words, keeping 0 word types\n",
            "2020-05-04 22:27:01,851 : INFO : PROGRESS: at sentence #10000, processed 72565 words, keeping 14005 word types\n",
            "2020-05-04 22:27:01,874 : INFO : PROGRESS: at sentence #20000, processed 144393 words, keeping 21587 word types\n",
            "2020-05-04 22:27:01,899 : INFO : PROGRESS: at sentence #30000, processed 215826 words, keeping 27541 word types\n",
            "2020-05-04 22:27:01,920 : INFO : PROGRESS: at sentence #40000, processed 288271 words, keeping 32764 word types\n",
            "2020-05-04 22:27:01,943 : INFO : PROGRESS: at sentence #50000, processed 359772 words, keeping 37587 word types\n",
            "2020-05-04 22:27:01,963 : INFO : PROGRESS: at sentence #60000, processed 431431 words, keeping 42198 word types\n",
            "2020-05-04 22:27:01,986 : INFO : PROGRESS: at sentence #70000, processed 503103 words, keeping 46458 word types\n",
            "2020-05-04 22:27:02,010 : INFO : PROGRESS: at sentence #80000, processed 575709 words, keeping 50476 word types\n",
            "2020-05-04 22:27:02,030 : INFO : PROGRESS: at sentence #90000, processed 647100 words, keeping 54140 word types\n",
            "2020-05-04 22:27:02,054 : INFO : PROGRESS: at sentence #100000, processed 718681 words, keeping 57777 word types\n",
            "2020-05-04 22:27:02,074 : INFO : PROGRESS: at sentence #110000, processed 790696 words, keeping 61207 word types\n",
            "2020-05-04 22:27:02,100 : INFO : PROGRESS: at sentence #120000, processed 863134 words, keeping 64583 word types\n",
            "2020-05-04 22:27:02,124 : INFO : PROGRESS: at sentence #130000, processed 935111 words, keeping 67865 word types\n",
            "2020-05-04 22:27:02,145 : INFO : PROGRESS: at sentence #140000, processed 1006668 words, keeping 70966 word types\n",
            "2020-05-04 22:27:02,171 : INFO : PROGRESS: at sentence #150000, processed 1078512 words, keeping 74119 word types\n",
            "2020-05-04 22:27:02,195 : INFO : PROGRESS: at sentence #160000, processed 1149914 words, keeping 77187 word types\n",
            "2020-05-04 22:27:02,217 : INFO : PROGRESS: at sentence #170000, processed 1222145 words, keeping 80267 word types\n",
            "2020-05-04 22:27:02,243 : INFO : PROGRESS: at sentence #180000, processed 1294708 words, keeping 83393 word types\n",
            "2020-05-04 22:27:02,267 : INFO : PROGRESS: at sentence #190000, processed 1367608 words, keeping 86329 word types\n",
            "2020-05-04 22:27:02,291 : INFO : PROGRESS: at sentence #200000, processed 1439469 words, keeping 89103 word types\n",
            "2020-05-04 22:27:02,321 : INFO : PROGRESS: at sentence #210000, processed 1512099 words, keeping 91840 word types\n",
            "2020-05-04 22:27:02,344 : INFO : PROGRESS: at sentence #220000, processed 1584149 words, keeping 94636 word types\n",
            "2020-05-04 22:27:02,372 : INFO : PROGRESS: at sentence #230000, processed 1656354 words, keeping 97353 word types\n",
            "2020-05-04 22:27:02,394 : INFO : PROGRESS: at sentence #240000, processed 1728573 words, keeping 99975 word types\n",
            "2020-05-04 22:27:02,418 : INFO : PROGRESS: at sentence #250000, processed 1801102 words, keeping 102594 word types\n",
            "2020-05-04 22:27:02,443 : INFO : PROGRESS: at sentence #260000, processed 1873103 words, keeping 105162 word types\n",
            "2020-05-04 22:27:02,466 : INFO : PROGRESS: at sentence #270000, processed 1945245 words, keeping 107626 word types\n",
            "2020-05-04 22:27:02,490 : INFO : PROGRESS: at sentence #280000, processed 2017163 words, keeping 110141 word types\n",
            "2020-05-04 22:27:02,513 : INFO : PROGRESS: at sentence #290000, processed 2089574 words, keeping 112539 word types\n",
            "2020-05-04 22:27:02,536 : INFO : PROGRESS: at sentence #300000, processed 2160996 words, keeping 114893 word types\n",
            "2020-05-04 22:27:02,560 : INFO : PROGRESS: at sentence #310000, processed 2232913 words, keeping 117298 word types\n",
            "2020-05-04 22:27:02,584 : INFO : PROGRESS: at sentence #320000, processed 2305039 words, keeping 119693 word types\n",
            "2020-05-04 22:27:02,606 : INFO : PROGRESS: at sentence #330000, processed 2377119 words, keeping 122131 word types\n",
            "2020-05-04 22:27:02,633 : INFO : PROGRESS: at sentence #340000, processed 2449370 words, keeping 124416 word types\n",
            "2020-05-04 22:27:02,657 : INFO : PROGRESS: at sentence #350000, processed 2521564 words, keeping 126669 word types\n",
            "2020-05-04 22:27:02,683 : INFO : PROGRESS: at sentence #360000, processed 2593681 words, keeping 128912 word types\n",
            "2020-05-04 22:27:02,704 : INFO : PROGRESS: at sentence #370000, processed 2665692 words, keeping 131135 word types\n",
            "2020-05-04 22:27:02,729 : INFO : PROGRESS: at sentence #380000, processed 2737859 words, keeping 133403 word types\n",
            "2020-05-04 22:27:02,751 : INFO : PROGRESS: at sentence #390000, processed 2809848 words, keeping 135551 word types\n",
            "2020-05-04 22:27:02,777 : INFO : PROGRESS: at sentence #400000, processed 2882438 words, keeping 137742 word types\n",
            "2020-05-04 22:27:02,799 : INFO : PROGRESS: at sentence #410000, processed 2954075 words, keeping 139909 word types\n",
            "2020-05-04 22:27:02,824 : INFO : PROGRESS: at sentence #420000, processed 3026247 words, keeping 142144 word types\n",
            "2020-05-04 22:27:02,848 : INFO : PROGRESS: at sentence #430000, processed 3098659 words, keeping 144364 word types\n",
            "2020-05-04 22:27:02,872 : INFO : PROGRESS: at sentence #440000, processed 3170663 words, keeping 146439 word types\n",
            "2020-05-04 22:27:02,896 : INFO : PROGRESS: at sentence #450000, processed 3243344 words, keeping 148526 word types\n",
            "2020-05-04 22:27:02,921 : INFO : PROGRESS: at sentence #460000, processed 3315466 words, keeping 150610 word types\n",
            "2020-05-04 22:27:02,944 : INFO : PROGRESS: at sentence #470000, processed 3388295 words, keeping 152737 word types\n",
            "2020-05-04 22:27:02,975 : INFO : PROGRESS: at sentence #480000, processed 3460120 words, keeping 154757 word types\n",
            "2020-05-04 22:27:02,997 : INFO : PROGRESS: at sentence #490000, processed 3531883 words, keeping 156825 word types\n",
            "2020-05-04 22:27:03,023 : INFO : PROGRESS: at sentence #500000, processed 3604217 words, keeping 158859 word types\n",
            "2020-05-04 22:27:03,045 : INFO : PROGRESS: at sentence #510000, processed 3676427 words, keeping 160852 word types\n",
            "2020-05-04 22:27:03,069 : INFO : PROGRESS: at sentence #520000, processed 3749045 words, keeping 162863 word types\n",
            "2020-05-04 22:27:03,095 : INFO : PROGRESS: at sentence #530000, processed 3821622 words, keeping 164929 word types\n",
            "2020-05-04 22:27:03,119 : INFO : PROGRESS: at sentence #540000, processed 3893627 words, keeping 166840 word types\n",
            "2020-05-04 22:27:03,143 : INFO : PROGRESS: at sentence #550000, processed 3965477 words, keeping 168799 word types\n",
            "2020-05-04 22:27:03,167 : INFO : PROGRESS: at sentence #560000, processed 4038050 words, keeping 170802 word types\n",
            "2020-05-04 22:27:03,191 : INFO : PROGRESS: at sentence #570000, processed 4110296 words, keeping 172760 word types\n",
            "2020-05-04 22:27:03,216 : INFO : PROGRESS: at sentence #580000, processed 4182385 words, keeping 174635 word types\n",
            "2020-05-04 22:27:03,243 : INFO : PROGRESS: at sentence #590000, processed 4254632 words, keeping 176470 word types\n",
            "2020-05-04 22:27:03,267 : INFO : PROGRESS: at sentence #600000, processed 4326859 words, keeping 178350 word types\n",
            "2020-05-04 22:27:03,293 : INFO : PROGRESS: at sentence #610000, processed 4399183 words, keeping 180290 word types\n",
            "2020-05-04 22:27:03,323 : INFO : PROGRESS: at sentence #620000, processed 4471343 words, keeping 182129 word types\n",
            "2020-05-04 22:27:03,346 : INFO : PROGRESS: at sentence #630000, processed 4543286 words, keeping 184005 word types\n",
            "2020-05-04 22:27:03,371 : INFO : PROGRESS: at sentence #640000, processed 4615780 words, keeping 185835 word types\n",
            "2020-05-04 22:27:03,393 : INFO : PROGRESS: at sentence #650000, processed 4688481 words, keeping 187705 word types\n",
            "2020-05-04 22:27:03,419 : INFO : PROGRESS: at sentence #660000, processed 4760481 words, keeping 189439 word types\n",
            "2020-05-04 22:27:03,444 : INFO : PROGRESS: at sentence #670000, processed 4833024 words, keeping 191232 word types\n",
            "2020-05-04 22:27:03,468 : INFO : PROGRESS: at sentence #680000, processed 4904516 words, keeping 193177 word types\n",
            "2020-05-04 22:27:03,495 : INFO : PROGRESS: at sentence #690000, processed 4976968 words, keeping 194960 word types\n",
            "2020-05-04 22:27:03,517 : INFO : PROGRESS: at sentence #700000, processed 5049412 words, keeping 196725 word types\n",
            "2020-05-04 22:27:03,543 : INFO : PROGRESS: at sentence #710000, processed 5121976 words, keeping 198516 word types\n",
            "2020-05-04 22:27:03,567 : INFO : PROGRESS: at sentence #720000, processed 5193881 words, keeping 200325 word types\n",
            "2020-05-04 22:27:03,589 : INFO : PROGRESS: at sentence #730000, processed 5265467 words, keeping 202133 word types\n",
            "2020-05-04 22:27:03,615 : INFO : PROGRESS: at sentence #740000, processed 5337518 words, keeping 203818 word types\n",
            "2020-05-04 22:27:03,638 : INFO : PROGRESS: at sentence #750000, processed 5409321 words, keeping 205535 word types\n",
            "2020-05-04 22:27:03,662 : INFO : PROGRESS: at sentence #760000, processed 5481512 words, keeping 207282 word types\n",
            "2020-05-04 22:27:03,684 : INFO : PROGRESS: at sentence #770000, processed 5554093 words, keeping 209076 word types\n",
            "2020-05-04 22:27:03,707 : INFO : PROGRESS: at sentence #780000, processed 5625382 words, keeping 210805 word types\n",
            "2020-05-04 22:27:03,734 : INFO : PROGRESS: at sentence #790000, processed 5698066 words, keeping 212618 word types\n",
            "2020-05-04 22:27:03,758 : INFO : PROGRESS: at sentence #800000, processed 5770880 words, keeping 214374 word types\n",
            "2020-05-04 22:27:03,786 : INFO : PROGRESS: at sentence #810000, processed 5843418 words, keeping 216009 word types\n",
            "2020-05-04 22:27:03,812 : INFO : PROGRESS: at sentence #820000, processed 5915628 words, keeping 217804 word types\n",
            "2020-05-04 22:27:03,838 : INFO : PROGRESS: at sentence #830000, processed 5987499 words, keeping 219585 word types\n",
            "2020-05-04 22:27:03,864 : INFO : PROGRESS: at sentence #840000, processed 6058973 words, keeping 221344 word types\n",
            "2020-05-04 22:27:03,889 : INFO : PROGRESS: at sentence #850000, processed 6131125 words, keeping 223002 word types\n",
            "2020-05-04 22:27:03,911 : INFO : PROGRESS: at sentence #860000, processed 6202951 words, keeping 224643 word types\n",
            "2020-05-04 22:27:03,937 : INFO : PROGRESS: at sentence #870000, processed 6275461 words, keeping 226362 word types\n",
            "2020-05-04 22:27:03,962 : INFO : PROGRESS: at sentence #880000, processed 6347661 words, keeping 227986 word types\n",
            "2020-05-04 22:27:03,983 : INFO : PROGRESS: at sentence #890000, processed 6419806 words, keeping 229634 word types\n",
            "2020-05-04 22:27:04,007 : INFO : PROGRESS: at sentence #900000, processed 6491644 words, keeping 231389 word types\n",
            "2020-05-04 22:27:04,034 : INFO : PROGRESS: at sentence #910000, processed 6564022 words, keeping 233050 word types\n",
            "2020-05-04 22:27:04,057 : INFO : PROGRESS: at sentence #920000, processed 6636228 words, keeping 234686 word types\n",
            "2020-05-04 22:27:04,083 : INFO : PROGRESS: at sentence #930000, processed 6708573 words, keeping 236393 word types\n",
            "2020-05-04 22:27:04,107 : INFO : PROGRESS: at sentence #940000, processed 6779956 words, keeping 238052 word types\n",
            "2020-05-04 22:27:04,130 : INFO : PROGRESS: at sentence #950000, processed 6852599 words, keeping 239716 word types\n",
            "2020-05-04 22:27:04,155 : INFO : PROGRESS: at sentence #960000, processed 6924717 words, keeping 241354 word types\n",
            "2020-05-04 22:27:04,180 : INFO : PROGRESS: at sentence #970000, processed 6996992 words, keeping 242980 word types\n",
            "2020-05-04 22:27:04,203 : INFO : PROGRESS: at sentence #980000, processed 7068402 words, keeping 244646 word types\n",
            "2020-05-04 22:27:04,229 : INFO : PROGRESS: at sentence #990000, processed 7140346 words, keeping 246186 word types\n",
            "2020-05-04 22:27:04,253 : INFO : PROGRESS: at sentence #1000000, processed 7211757 words, keeping 247726 word types\n",
            "2020-05-04 22:27:04,276 : INFO : PROGRESS: at sentence #1010000, processed 7283267 words, keeping 249288 word types\n",
            "2020-05-04 22:27:04,302 : INFO : PROGRESS: at sentence #1020000, processed 7355299 words, keeping 250860 word types\n",
            "2020-05-04 22:27:04,328 : INFO : PROGRESS: at sentence #1030000, processed 7426918 words, keeping 252366 word types\n",
            "2020-05-04 22:27:04,355 : INFO : PROGRESS: at sentence #1040000, processed 7498815 words, keeping 253930 word types\n",
            "2020-05-04 22:27:04,382 : INFO : PROGRESS: at sentence #1050000, processed 7570499 words, keeping 255471 word types\n",
            "2020-05-04 22:27:04,406 : INFO : PROGRESS: at sentence #1060000, processed 7643251 words, keeping 257035 word types\n",
            "2020-05-04 22:27:04,429 : INFO : PROGRESS: at sentence #1070000, processed 7714721 words, keeping 258509 word types\n",
            "2020-05-04 22:27:04,452 : INFO : PROGRESS: at sentence #1080000, processed 7787371 words, keeping 260071 word types\n",
            "2020-05-04 22:27:04,479 : INFO : PROGRESS: at sentence #1090000, processed 7859336 words, keeping 261683 word types\n",
            "2020-05-04 22:27:04,502 : INFO : PROGRESS: at sentence #1100000, processed 7932029 words, keeping 263278 word types\n",
            "2020-05-04 22:27:04,527 : INFO : PROGRESS: at sentence #1110000, processed 8004146 words, keeping 264800 word types\n",
            "2020-05-04 22:27:04,549 : INFO : PROGRESS: at sentence #1120000, processed 8075880 words, keeping 266309 word types\n",
            "2020-05-04 22:27:04,576 : INFO : PROGRESS: at sentence #1130000, processed 8148163 words, keeping 267826 word types\n",
            "2020-05-04 22:27:04,597 : INFO : PROGRESS: at sentence #1140000, processed 8220487 words, keeping 269391 word types\n",
            "2020-05-04 22:27:04,620 : INFO : PROGRESS: at sentence #1150000, processed 8292498 words, keeping 270894 word types\n",
            "2020-05-04 22:27:04,646 : INFO : PROGRESS: at sentence #1160000, processed 8363838 words, keeping 272400 word types\n",
            "2020-05-04 22:27:04,674 : INFO : PROGRESS: at sentence #1170000, processed 8435510 words, keeping 273970 word types\n",
            "2020-05-04 22:27:04,698 : INFO : PROGRESS: at sentence #1180000, processed 8507795 words, keeping 275521 word types\n",
            "2020-05-04 22:27:04,723 : INFO : PROGRESS: at sentence #1190000, processed 8579080 words, keeping 277007 word types\n",
            "2020-05-04 22:27:04,745 : INFO : PROGRESS: at sentence #1200000, processed 8650606 words, keeping 278457 word types\n",
            "2020-05-04 22:27:04,770 : INFO : PROGRESS: at sentence #1210000, processed 8721893 words, keeping 279959 word types\n",
            "2020-05-04 22:27:04,791 : INFO : PROGRESS: at sentence #1220000, processed 8793795 words, keeping 281427 word types\n",
            "2020-05-04 22:27:04,816 : INFO : PROGRESS: at sentence #1230000, processed 8865726 words, keeping 282981 word types\n",
            "2020-05-04 22:27:04,840 : INFO : PROGRESS: at sentence #1240000, processed 8938173 words, keeping 284542 word types\n",
            "2020-05-04 22:27:04,863 : INFO : PROGRESS: at sentence #1250000, processed 9010842 words, keeping 286064 word types\n",
            "2020-05-04 22:27:04,887 : INFO : PROGRESS: at sentence #1260000, processed 9083261 words, keeping 287521 word types\n",
            "2020-05-04 22:27:04,909 : INFO : PROGRESS: at sentence #1270000, processed 9155616 words, keeping 288987 word types\n",
            "2020-05-04 22:27:04,935 : INFO : collected 290418 word types from a corpus of 9227204 raw words and 1280000 sentences\n",
            "2020-05-04 22:27:04,936 : INFO : Loading a fresh vocabulary\n",
            "2020-05-04 22:27:05,094 : INFO : effective_min_count=10 retains 30369 unique words (10% of original 290418, drops 260049)\n",
            "2020-05-04 22:27:05,095 : INFO : effective_min_count=10 leaves 8780739 word corpus (95% of original 9227204, drops 446465)\n",
            "2020-05-04 22:27:05,194 : INFO : deleting the raw counts dictionary of 290418 items\n",
            "2020-05-04 22:27:05,202 : INFO : sample=0.001 downsamples 45 most-common words\n",
            "2020-05-04 22:27:05,202 : INFO : downsampling leaves estimated 8222658 word corpus (93.6% of prior 8780739)\n",
            "2020-05-04 22:27:05,307 : INFO : estimated required memory for 30369 words and 300 dimensions: 88070100 bytes\n",
            "2020-05-04 22:27:05,308 : INFO : resetting layer weights\n"
          ],
          "name": "stderr"
        }
      ]
    },
    {
      "cell_type": "code",
      "metadata": {
        "id": "xv9DKmHqBtME",
        "colab_type": "code",
        "outputId": "c0afe32a-1ea8-4cb7-f8ce-1cd2cc97b344",
        "colab": {
          "base_uri": "https://localhost:8080/",
          "height": 34
        }
      },
      "source": [
        "words = w2v_model.wv.vocab.keys()\n",
        "vocab_size = len(words)\n",
        "print(\"Vocab size\", vocab_size)"
      ],
      "execution_count": 33,
      "outputs": [
        {
          "output_type": "stream",
          "text": [
            "Vocab size 30369\n"
          ],
          "name": "stdout"
        }
      ]
    },
    {
      "cell_type": "code",
      "metadata": {
        "id": "BcmHdRh8DkAj",
        "colab_type": "code",
        "outputId": "01f6d510-d931-4659-8be9-ebe64cade20d",
        "colab": {
          "base_uri": "https://localhost:8080/",
          "height": 1000
        }
      },
      "source": [
        "%%time\n",
        "w2v_model.train(documents, total_examples=len(documents), epochs=W2V_EPOCH)"
      ],
      "execution_count": 34,
      "outputs": [
        {
          "output_type": "stream",
          "text": [
            "2020-05-04 22:27:48,436 : INFO : training model with 8 workers on 30369 vocabulary and 300 features, using sg=0 hs=0 sample=0.001 negative=5 window=7\n",
            "2020-05-04 22:27:49,480 : INFO : EPOCH 1 - PROGRESS: at 4.23% examples, 340013 words/s, in_qsize 14, out_qsize 1\n",
            "2020-05-04 22:27:50,529 : INFO : EPOCH 1 - PROGRESS: at 8.69% examples, 344211 words/s, in_qsize 16, out_qsize 0\n",
            "2020-05-04 22:27:51,575 : INFO : EPOCH 1 - PROGRESS: at 13.36% examples, 351688 words/s, in_qsize 13, out_qsize 2\n",
            "2020-05-04 22:27:52,590 : INFO : EPOCH 1 - PROGRESS: at 17.89% examples, 355696 words/s, in_qsize 13, out_qsize 2\n",
            "2020-05-04 22:27:53,629 : INFO : EPOCH 1 - PROGRESS: at 22.76% examples, 361836 words/s, in_qsize 16, out_qsize 0\n",
            "2020-05-04 22:27:54,638 : INFO : EPOCH 1 - PROGRESS: at 27.32% examples, 363355 words/s, in_qsize 15, out_qsize 0\n",
            "2020-05-04 22:27:55,646 : INFO : EPOCH 1 - PROGRESS: at 31.97% examples, 365704 words/s, in_qsize 16, out_qsize 0\n",
            "2020-05-04 22:27:56,659 : INFO : EPOCH 1 - PROGRESS: at 36.40% examples, 365024 words/s, in_qsize 15, out_qsize 0\n",
            "2020-05-04 22:27:57,661 : INFO : EPOCH 1 - PROGRESS: at 41.37% examples, 369776 words/s, in_qsize 15, out_qsize 0\n",
            "2020-05-04 22:27:58,803 : INFO : EPOCH 1 - PROGRESS: at 45.70% examples, 363446 words/s, in_qsize 13, out_qsize 5\n",
            "2020-05-04 22:27:59,860 : INFO : EPOCH 1 - PROGRESS: at 50.56% examples, 364926 words/s, in_qsize 15, out_qsize 0\n",
            "2020-05-04 22:28:00,937 : INFO : EPOCH 1 - PROGRESS: at 55.42% examples, 365564 words/s, in_qsize 14, out_qsize 1\n",
            "2020-05-04 22:28:01,985 : INFO : EPOCH 1 - PROGRESS: at 60.09% examples, 365555 words/s, in_qsize 14, out_qsize 1\n",
            "2020-05-04 22:28:02,987 : INFO : EPOCH 1 - PROGRESS: at 64.95% examples, 367951 words/s, in_qsize 15, out_qsize 0\n",
            "2020-05-04 22:28:04,023 : INFO : EPOCH 1 - PROGRESS: at 69.39% examples, 366914 words/s, in_qsize 15, out_qsize 0\n",
            "2020-05-04 22:28:05,069 : INFO : EPOCH 1 - PROGRESS: at 74.37% examples, 368481 words/s, in_qsize 15, out_qsize 0\n",
            "2020-05-04 22:28:06,075 : INFO : EPOCH 1 - PROGRESS: at 78.84% examples, 368263 words/s, in_qsize 15, out_qsize 3\n",
            "2020-05-04 22:28:07,075 : INFO : EPOCH 1 - PROGRESS: at 83.40% examples, 368481 words/s, in_qsize 15, out_qsize 0\n",
            "2020-05-04 22:28:08,171 : INFO : EPOCH 1 - PROGRESS: at 88.37% examples, 368770 words/s, in_qsize 15, out_qsize 2\n",
            "2020-05-04 22:28:09,248 : INFO : EPOCH 1 - PROGRESS: at 93.27% examples, 369354 words/s, in_qsize 15, out_qsize 0\n",
            "2020-05-04 22:28:10,262 : INFO : EPOCH 1 - PROGRESS: at 98.26% examples, 370561 words/s, in_qsize 15, out_qsize 0\n",
            "2020-05-04 22:28:10,520 : INFO : worker thread finished; awaiting finish of 7 more threads\n",
            "2020-05-04 22:28:10,532 : INFO : worker thread finished; awaiting finish of 6 more threads\n",
            "2020-05-04 22:28:10,547 : INFO : worker thread finished; awaiting finish of 5 more threads\n",
            "2020-05-04 22:28:10,588 : INFO : worker thread finished; awaiting finish of 4 more threads\n",
            "2020-05-04 22:28:10,589 : INFO : worker thread finished; awaiting finish of 3 more threads\n",
            "2020-05-04 22:28:10,603 : INFO : worker thread finished; awaiting finish of 2 more threads\n",
            "2020-05-04 22:28:10,617 : INFO : worker thread finished; awaiting finish of 1 more threads\n",
            "2020-05-04 22:28:10,623 : INFO : worker thread finished; awaiting finish of 0 more threads\n",
            "2020-05-04 22:28:10,624 : INFO : EPOCH - 1 : training on 9227204 raw words (8223207 effective words) took 22.2s, 370986 effective words/s\n",
            "2020-05-04 22:28:11,656 : INFO : EPOCH 2 - PROGRESS: at 4.34% examples, 349275 words/s, in_qsize 15, out_qsize 0\n",
            "2020-05-04 22:28:12,716 : INFO : EPOCH 2 - PROGRESS: at 8.69% examples, 345604 words/s, in_qsize 15, out_qsize 1\n",
            "2020-05-04 22:28:13,709 : INFO : EPOCH 2 - PROGRESS: at 13.36% examples, 356719 words/s, in_qsize 12, out_qsize 3\n",
            "2020-05-04 22:28:14,716 : INFO : EPOCH 2 - PROGRESS: at 17.89% examples, 360233 words/s, in_qsize 15, out_qsize 0\n",
            "2020-05-04 22:28:15,719 : INFO : EPOCH 2 - PROGRESS: at 22.43% examples, 362831 words/s, in_qsize 15, out_qsize 1\n",
            "2020-05-04 22:28:16,725 : INFO : EPOCH 2 - PROGRESS: at 27.10% examples, 365794 words/s, in_qsize 15, out_qsize 0\n",
            "2020-05-04 22:28:17,764 : INFO : EPOCH 2 - PROGRESS: at 32.08% examples, 370005 words/s, in_qsize 15, out_qsize 0\n",
            "2020-05-04 22:28:18,797 : INFO : EPOCH 2 - PROGRESS: at 36.51% examples, 367880 words/s, in_qsize 15, out_qsize 0\n",
            "2020-05-04 22:28:19,801 : INFO : EPOCH 2 - PROGRESS: at 41.05% examples, 368417 words/s, in_qsize 15, out_qsize 1\n",
            "2020-05-04 22:28:20,824 : INFO : EPOCH 2 - PROGRESS: at 45.59% examples, 368131 words/s, in_qsize 15, out_qsize 3\n",
            "2020-05-04 22:28:21,836 : INFO : EPOCH 2 - PROGRESS: at 50.35% examples, 369860 words/s, in_qsize 14, out_qsize 1\n",
            "2020-05-04 22:28:22,843 : INFO : EPOCH 2 - PROGRESS: at 54.99% examples, 370772 words/s, in_qsize 15, out_qsize 2\n",
            "2020-05-04 22:28:23,953 : INFO : EPOCH 2 - PROGRESS: at 59.76% examples, 369310 words/s, in_qsize 14, out_qsize 1\n",
            "2020-05-04 22:28:24,963 : INFO : EPOCH 2 - PROGRESS: at 64.30% examples, 369372 words/s, in_qsize 14, out_qsize 1\n",
            "2020-05-04 22:28:26,038 : INFO : EPOCH 2 - PROGRESS: at 69.40% examples, 371208 words/s, in_qsize 15, out_qsize 0\n",
            "2020-05-04 22:28:27,023 : INFO : EPOCH 2 - PROGRESS: at 73.84% examples, 370773 words/s, in_qsize 15, out_qsize 0\n",
            "2020-05-04 22:28:28,112 : INFO : EPOCH 2 - PROGRESS: at 78.73% examples, 370602 words/s, in_qsize 14, out_qsize 1\n",
            "2020-05-04 22:28:29,209 : INFO : EPOCH 2 - PROGRESS: at 83.83% examples, 371259 words/s, in_qsize 15, out_qsize 0\n",
            "2020-05-04 22:28:30,288 : INFO : EPOCH 2 - PROGRESS: at 88.69% examples, 371240 words/s, in_qsize 14, out_qsize 1\n",
            "2020-05-04 22:28:31,353 : INFO : EPOCH 2 - PROGRESS: at 93.37% examples, 370639 words/s, in_qsize 11, out_qsize 4\n",
            "2020-05-04 22:28:32,358 : INFO : EPOCH 2 - PROGRESS: at 98.04% examples, 371107 words/s, in_qsize 16, out_qsize 2\n",
            "2020-05-04 22:28:32,569 : INFO : worker thread finished; awaiting finish of 7 more threads\n",
            "2020-05-04 22:28:32,578 : INFO : worker thread finished; awaiting finish of 6 more threads\n",
            "2020-05-04 22:28:32,607 : INFO : worker thread finished; awaiting finish of 5 more threads\n",
            "2020-05-04 22:28:32,608 : INFO : worker thread finished; awaiting finish of 4 more threads\n",
            "2020-05-04 22:28:32,633 : INFO : worker thread finished; awaiting finish of 3 more threads\n",
            "2020-05-04 22:28:32,659 : INFO : worker thread finished; awaiting finish of 2 more threads\n",
            "2020-05-04 22:28:32,660 : INFO : worker thread finished; awaiting finish of 1 more threads\n",
            "2020-05-04 22:28:32,661 : INFO : worker thread finished; awaiting finish of 0 more threads\n",
            "2020-05-04 22:28:32,662 : INFO : EPOCH - 2 : training on 9227204 raw words (8222758 effective words) took 22.0s, 373319 effective words/s\n",
            "2020-05-04 22:28:33,691 : INFO : EPOCH 3 - PROGRESS: at 4.23% examples, 342824 words/s, in_qsize 14, out_qsize 1\n",
            "2020-05-04 22:28:34,751 : INFO : EPOCH 3 - PROGRESS: at 8.80% examples, 348132 words/s, in_qsize 14, out_qsize 1\n",
            "2020-05-04 22:28:35,790 : INFO : EPOCH 3 - PROGRESS: at 13.57% examples, 357873 words/s, in_qsize 13, out_qsize 2\n",
            "2020-05-04 22:28:36,926 : INFO : EPOCH 3 - PROGRESS: at 18.65% examples, 360610 words/s, in_qsize 16, out_qsize 0\n",
            "2020-05-04 22:28:37,979 : INFO : EPOCH 3 - PROGRESS: at 23.41% examples, 362984 words/s, in_qsize 11, out_qsize 4\n",
            "2020-05-04 22:28:39,002 : INFO : EPOCH 3 - PROGRESS: at 28.40% examples, 369388 words/s, in_qsize 15, out_qsize 0\n",
            "2020-05-04 22:28:40,049 : INFO : EPOCH 3 - PROGRESS: at 32.95% examples, 367393 words/s, in_qsize 15, out_qsize 0\n",
            "2020-05-04 22:28:41,099 : INFO : EPOCH 3 - PROGRESS: at 37.92% examples, 370232 words/s, in_qsize 15, out_qsize 0\n",
            "2020-05-04 22:28:42,102 : INFO : EPOCH 3 - PROGRESS: at 42.13% examples, 367689 words/s, in_qsize 14, out_qsize 4\n",
            "2020-05-04 22:28:43,115 : INFO : EPOCH 3 - PROGRESS: at 46.99% examples, 370417 words/s, in_qsize 15, out_qsize 0\n",
            "2020-05-04 22:28:44,143 : INFO : EPOCH 3 - PROGRESS: at 51.75% examples, 371386 words/s, in_qsize 15, out_qsize 0\n",
            "2020-05-04 22:28:45,225 : INFO : EPOCH 3 - PROGRESS: at 56.51% examples, 370621 words/s, in_qsize 15, out_qsize 0\n",
            "2020-05-04 22:28:46,237 : INFO : EPOCH 3 - PROGRESS: at 61.07% examples, 370575 words/s, in_qsize 15, out_qsize 0\n",
            "2020-05-04 22:28:47,346 : INFO : EPOCH 3 - PROGRESS: at 66.04% examples, 370468 words/s, in_qsize 15, out_qsize 0\n",
            "2020-05-04 22:28:48,349 : INFO : EPOCH 3 - PROGRESS: at 70.48% examples, 370065 words/s, in_qsize 12, out_qsize 3\n",
            "2020-05-04 22:28:49,351 : INFO : EPOCH 3 - PROGRESS: at 74.80% examples, 369183 words/s, in_qsize 10, out_qsize 5\n",
            "2020-05-04 22:28:50,439 : INFO : EPOCH 3 - PROGRESS: at 80.03% examples, 370627 words/s, in_qsize 15, out_qsize 0\n",
            "2020-05-04 22:28:51,457 : INFO : EPOCH 3 - PROGRESS: at 84.80% examples, 371409 words/s, in_qsize 15, out_qsize 0\n",
            "2020-05-04 22:28:52,545 : INFO : EPOCH 3 - PROGRESS: at 89.34% examples, 369889 words/s, in_qsize 14, out_qsize 1\n",
            "2020-05-04 22:28:53,568 : INFO : EPOCH 3 - PROGRESS: at 94.03% examples, 370093 words/s, in_qsize 15, out_qsize 0\n",
            "2020-05-04 22:28:54,585 : INFO : EPOCH 3 - PROGRESS: at 98.90% examples, 371213 words/s, in_qsize 11, out_qsize 0\n",
            "2020-05-04 22:28:54,639 : INFO : worker thread finished; awaiting finish of 7 more threads\n",
            "2020-05-04 22:28:54,649 : INFO : worker thread finished; awaiting finish of 6 more threads\n",
            "2020-05-04 22:28:54,660 : INFO : worker thread finished; awaiting finish of 5 more threads\n",
            "2020-05-04 22:28:54,699 : INFO : worker thread finished; awaiting finish of 4 more threads\n",
            "2020-05-04 22:28:54,705 : INFO : worker thread finished; awaiting finish of 3 more threads\n",
            "2020-05-04 22:28:54,724 : INFO : worker thread finished; awaiting finish of 2 more threads\n",
            "2020-05-04 22:28:54,729 : INFO : worker thread finished; awaiting finish of 1 more threads\n",
            "2020-05-04 22:28:54,734 : INFO : worker thread finished; awaiting finish of 0 more threads\n",
            "2020-05-04 22:28:54,735 : INFO : EPOCH - 3 : training on 9227204 raw words (8221986 effective words) took 22.1s, 372774 effective words/s\n",
            "2020-05-04 22:28:55,763 : INFO : EPOCH 4 - PROGRESS: at 4.01% examples, 323890 words/s, in_qsize 14, out_qsize 1\n",
            "2020-05-04 22:28:56,797 : INFO : EPOCH 4 - PROGRESS: at 8.36% examples, 337289 words/s, in_qsize 15, out_qsize 6\n",
            "2020-05-04 22:28:57,854 : INFO : EPOCH 4 - PROGRESS: at 13.25% examples, 349670 words/s, in_qsize 13, out_qsize 5\n",
            "2020-05-04 22:28:58,856 : INFO : EPOCH 4 - PROGRESS: at 18.00% examples, 359699 words/s, in_qsize 16, out_qsize 0\n",
            "2020-05-04 22:28:59,962 : INFO : EPOCH 4 - PROGRESS: at 22.98% examples, 362109 words/s, in_qsize 13, out_qsize 2\n",
            "2020-05-04 22:29:00,968 : INFO : EPOCH 4 - PROGRESS: at 27.86% examples, 367994 words/s, in_qsize 13, out_qsize 1\n",
            "2020-05-04 22:29:01,983 : INFO : EPOCH 4 - PROGRESS: at 32.30% examples, 366812 words/s, in_qsize 15, out_qsize 1\n",
            "2020-05-04 22:29:03,010 : INFO : EPOCH 4 - PROGRESS: at 36.62% examples, 364710 words/s, in_qsize 13, out_qsize 5\n",
            "2020-05-04 22:29:04,047 : INFO : EPOCH 4 - PROGRESS: at 41.37% examples, 365834 words/s, in_qsize 15, out_qsize 0\n",
            "2020-05-04 22:29:05,067 : INFO : EPOCH 4 - PROGRESS: at 45.92% examples, 365908 words/s, in_qsize 13, out_qsize 2\n",
            "2020-05-04 22:29:06,093 : INFO : EPOCH 4 - PROGRESS: at 50.56% examples, 366631 words/s, in_qsize 11, out_qsize 5\n",
            "2020-05-04 22:29:07,130 : INFO : EPOCH 4 - PROGRESS: at 55.53% examples, 369026 words/s, in_qsize 15, out_qsize 0\n",
            "2020-05-04 22:29:08,170 : INFO : EPOCH 4 - PROGRESS: at 60.30% examples, 369635 words/s, in_qsize 12, out_qsize 2\n",
            "2020-05-04 22:29:09,252 : INFO : EPOCH 4 - PROGRESS: at 65.28% examples, 370315 words/s, in_qsize 15, out_qsize 0\n",
            "2020-05-04 22:29:10,256 : INFO : EPOCH 4 - PROGRESS: at 70.15% examples, 372187 words/s, in_qsize 15, out_qsize 0\n",
            "2020-05-04 22:29:11,354 : INFO : EPOCH 4 - PROGRESS: at 74.49% examples, 369032 words/s, in_qsize 16, out_qsize 1\n",
            "2020-05-04 22:29:12,380 : INFO : EPOCH 4 - PROGRESS: at 79.49% examples, 370771 words/s, in_qsize 16, out_qsize 0\n",
            "2020-05-04 22:29:13,382 : INFO : EPOCH 4 - PROGRESS: at 83.62% examples, 369021 words/s, in_qsize 16, out_qsize 3\n",
            "2020-05-04 22:29:14,412 : INFO : EPOCH 4 - PROGRESS: at 88.48% examples, 370050 words/s, in_qsize 15, out_qsize 0\n",
            "2020-05-04 22:29:15,429 : INFO : EPOCH 4 - PROGRESS: at 93.15% examples, 370353 words/s, in_qsize 15, out_qsize 0\n",
            "2020-05-04 22:29:16,468 : INFO : EPOCH 4 - PROGRESS: at 97.71% examples, 369835 words/s, in_qsize 14, out_qsize 2\n",
            "2020-05-04 22:29:16,688 : INFO : worker thread finished; awaiting finish of 7 more threads\n",
            "2020-05-04 22:29:16,696 : INFO : worker thread finished; awaiting finish of 6 more threads\n",
            "2020-05-04 22:29:16,735 : INFO : worker thread finished; awaiting finish of 5 more threads\n",
            "2020-05-04 22:29:16,740 : INFO : worker thread finished; awaiting finish of 4 more threads\n",
            "2020-05-04 22:29:16,781 : INFO : worker thread finished; awaiting finish of 3 more threads\n",
            "2020-05-04 22:29:16,794 : INFO : worker thread finished; awaiting finish of 2 more threads\n",
            "2020-05-04 22:29:16,798 : INFO : worker thread finished; awaiting finish of 1 more threads\n",
            "2020-05-04 22:29:16,800 : INFO : worker thread finished; awaiting finish of 0 more threads\n",
            "2020-05-04 22:29:16,801 : INFO : EPOCH - 4 : training on 9227204 raw words (8221734 effective words) took 22.1s, 372785 effective words/s\n",
            "2020-05-04 22:29:17,816 : INFO : EPOCH 5 - PROGRESS: at 4.12% examples, 337545 words/s, in_qsize 16, out_qsize 2\n",
            "2020-05-04 22:29:18,878 : INFO : EPOCH 5 - PROGRESS: at 8.90% examples, 359962 words/s, in_qsize 16, out_qsize 0\n",
            "2020-05-04 22:29:19,943 : INFO : EPOCH 5 - PROGRESS: at 13.58% examples, 355912 words/s, in_qsize 13, out_qsize 2\n",
            "2020-05-04 22:29:21,058 : INFO : EPOCH 5 - PROGRESS: at 18.43% examples, 361555 words/s, in_qsize 15, out_qsize 4\n",
            "2020-05-04 22:29:22,020 : INFO : EPOCH 5 - PROGRESS: at 23.31% examples, 368040 words/s, in_qsize 15, out_qsize 0\n",
            "2020-05-04 22:29:23,057 : INFO : EPOCH 5 - PROGRESS: at 27.75% examples, 365405 words/s, in_qsize 12, out_qsize 3\n",
            "2020-05-04 22:29:24,089 : INFO : EPOCH 5 - PROGRESS: at 32.30% examples, 365017 words/s, in_qsize 15, out_qsize 1\n",
            "2020-05-04 22:29:25,112 : INFO : EPOCH 5 - PROGRESS: at 37.05% examples, 367255 words/s, in_qsize 16, out_qsize 0\n",
            "2020-05-04 22:29:26,126 : INFO : EPOCH 5 - PROGRESS: at 42.13% examples, 372213 words/s, in_qsize 15, out_qsize 0\n",
            "2020-05-04 22:29:27,205 : INFO : EPOCH 5 - PROGRESS: at 46.57% examples, 368741 words/s, in_qsize 15, out_qsize 0\n",
            "2020-05-04 22:29:28,254 : INFO : EPOCH 5 - PROGRESS: at 51.32% examples, 369220 words/s, in_qsize 12, out_qsize 3\n",
            "2020-05-04 22:29:29,288 : INFO : EPOCH 5 - PROGRESS: at 56.29% examples, 371480 words/s, in_qsize 15, out_qsize 0\n",
            "2020-05-04 22:29:30,349 : INFO : EPOCH 5 - PROGRESS: at 60.85% examples, 370009 words/s, in_qsize 14, out_qsize 1\n",
            "2020-05-04 22:29:31,370 : INFO : EPOCH 5 - PROGRESS: at 65.83% examples, 372196 words/s, in_qsize 15, out_qsize 0\n",
            "2020-05-04 22:29:32,376 : INFO : EPOCH 5 - PROGRESS: at 70.16% examples, 371026 words/s, in_qsize 15, out_qsize 0\n",
            "2020-05-04 22:29:33,393 : INFO : EPOCH 5 - PROGRESS: at 75.02% examples, 372442 words/s, in_qsize 15, out_qsize 0\n",
            "2020-05-04 22:29:34,470 : INFO : EPOCH 5 - PROGRESS: at 79.16% examples, 368877 words/s, in_qsize 11, out_qsize 4\n",
            "2020-05-04 22:29:35,473 : INFO : EPOCH 5 - PROGRESS: at 84.26% examples, 371511 words/s, in_qsize 16, out_qsize 1\n",
            "2020-05-04 22:29:36,491 : INFO : EPOCH 5 - PROGRESS: at 88.59% examples, 370381 words/s, in_qsize 16, out_qsize 0\n",
            "2020-05-04 22:29:37,530 : INFO : EPOCH 5 - PROGRESS: at 93.59% examples, 371549 words/s, in_qsize 16, out_qsize 0\n",
            "2020-05-04 22:29:38,619 : INFO : EPOCH 5 - PROGRESS: at 98.14% examples, 370394 words/s, in_qsize 15, out_qsize 3\n",
            "2020-05-04 22:29:38,785 : INFO : worker thread finished; awaiting finish of 7 more threads\n",
            "2020-05-04 22:29:38,804 : INFO : worker thread finished; awaiting finish of 6 more threads\n",
            "2020-05-04 22:29:38,826 : INFO : worker thread finished; awaiting finish of 5 more threads\n",
            "2020-05-04 22:29:38,834 : INFO : worker thread finished; awaiting finish of 4 more threads\n",
            "2020-05-04 22:29:38,845 : INFO : worker thread finished; awaiting finish of 3 more threads\n",
            "2020-05-04 22:29:38,853 : INFO : worker thread finished; awaiting finish of 2 more threads\n",
            "2020-05-04 22:29:38,874 : INFO : worker thread finished; awaiting finish of 1 more threads\n",
            "2020-05-04 22:29:38,877 : INFO : worker thread finished; awaiting finish of 0 more threads\n",
            "2020-05-04 22:29:38,878 : INFO : EPOCH - 5 : training on 9227204 raw words (8223844 effective words) took 22.1s, 372724 effective words/s\n",
            "2020-05-04 22:29:39,897 : INFO : EPOCH 6 - PROGRESS: at 4.02% examples, 326891 words/s, in_qsize 15, out_qsize 2\n",
            "2020-05-04 22:29:40,915 : INFO : EPOCH 6 - PROGRESS: at 8.58% examples, 349659 words/s, in_qsize 15, out_qsize 0\n",
            "2020-05-04 22:29:41,914 : INFO : EPOCH 6 - PROGRESS: at 13.15% examples, 356373 words/s, in_qsize 14, out_qsize 1\n",
            "2020-05-04 22:29:42,948 : INFO : EPOCH 6 - PROGRESS: at 17.46% examples, 354673 words/s, in_qsize 16, out_qsize 6\n",
            "2020-05-04 22:29:43,949 : INFO : EPOCH 6 - PROGRESS: at 22.22% examples, 360893 words/s, in_qsize 15, out_qsize 0\n",
            "2020-05-04 22:29:45,046 : INFO : EPOCH 6 - PROGRESS: at 26.89% examples, 358763 words/s, in_qsize 12, out_qsize 3\n",
            "2020-05-04 22:29:46,067 : INFO : EPOCH 6 - PROGRESS: at 32.08% examples, 367347 words/s, in_qsize 15, out_qsize 0\n",
            "2020-05-04 22:29:47,089 : INFO : EPOCH 6 - PROGRESS: at 36.40% examples, 364972 words/s, in_qsize 15, out_qsize 0\n",
            "2020-05-04 22:29:48,109 : INFO : EPOCH 6 - PROGRESS: at 40.94% examples, 365170 words/s, in_qsize 15, out_qsize 0\n",
            "2020-05-04 22:29:49,170 : INFO : EPOCH 6 - PROGRESS: at 45.70% examples, 365608 words/s, in_qsize 16, out_qsize 0\n",
            "2020-05-04 22:29:50,247 : INFO : EPOCH 6 - PROGRESS: at 50.67% examples, 367042 words/s, in_qsize 15, out_qsize 0\n",
            "2020-05-04 22:29:51,299 : INFO : EPOCH 6 - PROGRESS: at 55.21% examples, 366124 words/s, in_qsize 14, out_qsize 1\n",
            "2020-05-04 22:29:52,386 : INFO : EPOCH 6 - PROGRESS: at 60.30% examples, 368791 words/s, in_qsize 15, out_qsize 2\n",
            "2020-05-04 22:29:53,360 : INFO : EPOCH 6 - PROGRESS: at 64.73% examples, 368154 words/s, in_qsize 14, out_qsize 1\n",
            "2020-05-04 22:29:54,391 : INFO : EPOCH 6 - PROGRESS: at 69.40% examples, 368396 words/s, in_qsize 16, out_qsize 0\n",
            "2020-05-04 22:29:55,428 : INFO : EPOCH 6 - PROGRESS: at 74.05% examples, 368451 words/s, in_qsize 15, out_qsize 0\n",
            "2020-05-04 22:29:56,433 : INFO : EPOCH 6 - PROGRESS: at 78.62% examples, 368657 words/s, in_qsize 12, out_qsize 3\n",
            "2020-05-04 22:29:57,548 : INFO : EPOCH 6 - PROGRESS: at 83.72% examples, 369072 words/s, in_qsize 14, out_qsize 1\n",
            "2020-05-04 22:29:58,553 : INFO : EPOCH 6 - PROGRESS: at 88.26% examples, 369213 words/s, in_qsize 15, out_qsize 0\n",
            "2020-05-04 22:29:59,610 : INFO : EPOCH 6 - PROGRESS: at 93.15% examples, 369700 words/s, in_qsize 15, out_qsize 2\n",
            "2020-05-04 22:30:00,646 : INFO : EPOCH 6 - PROGRESS: at 98.04% examples, 370531 words/s, in_qsize 15, out_qsize 0\n",
            "2020-05-04 22:30:00,907 : INFO : worker thread finished; awaiting finish of 7 more threads\n",
            "2020-05-04 22:30:00,919 : INFO : worker thread finished; awaiting finish of 6 more threads\n",
            "2020-05-04 22:30:00,923 : INFO : worker thread finished; awaiting finish of 5 more threads\n",
            "2020-05-04 22:30:00,926 : INFO : worker thread finished; awaiting finish of 4 more threads\n",
            "2020-05-04 22:30:00,948 : INFO : worker thread finished; awaiting finish of 3 more threads\n",
            "2020-05-04 22:30:00,965 : INFO : worker thread finished; awaiting finish of 2 more threads\n",
            "2020-05-04 22:30:00,982 : INFO : worker thread finished; awaiting finish of 1 more threads\n",
            "2020-05-04 22:30:00,984 : INFO : worker thread finished; awaiting finish of 0 more threads\n",
            "2020-05-04 22:30:00,987 : INFO : EPOCH - 6 : training on 9227204 raw words (8222833 effective words) took 22.1s, 372116 effective words/s\n",
            "2020-05-04 22:30:02,010 : INFO : EPOCH 7 - PROGRESS: at 4.34% examples, 351628 words/s, in_qsize 15, out_qsize 0\n",
            "2020-05-04 22:30:03,053 : INFO : EPOCH 7 - PROGRESS: at 8.80% examples, 354664 words/s, in_qsize 15, out_qsize 1\n",
            "2020-05-04 22:30:04,056 : INFO : EPOCH 7 - PROGRESS: at 13.47% examples, 361161 words/s, in_qsize 13, out_qsize 2\n",
            "2020-05-04 22:30:05,126 : INFO : EPOCH 7 - PROGRESS: at 18.22% examples, 362435 words/s, in_qsize 15, out_qsize 0\n",
            "2020-05-04 22:30:06,147 : INFO : EPOCH 7 - PROGRESS: at 22.87% examples, 365051 words/s, in_qsize 15, out_qsize 0\n",
            "2020-05-04 22:30:07,180 : INFO : EPOCH 7 - PROGRESS: at 27.31% examples, 363171 words/s, in_qsize 16, out_qsize 5\n",
            "2020-05-04 22:30:08,185 : INFO : EPOCH 7 - PROGRESS: at 32.19% examples, 368174 words/s, in_qsize 14, out_qsize 1\n",
            "2020-05-04 22:30:09,246 : INFO : EPOCH 7 - PROGRESS: at 36.83% examples, 367238 words/s, in_qsize 16, out_qsize 3\n",
            "2020-05-04 22:30:10,257 : INFO : EPOCH 7 - PROGRESS: at 41.80% examples, 371364 words/s, in_qsize 15, out_qsize 3\n",
            "2020-05-04 22:30:11,259 : INFO : EPOCH 7 - PROGRESS: at 46.35% examples, 371555 words/s, in_qsize 15, out_qsize 0\n",
            "2020-05-04 22:30:12,281 : INFO : EPOCH 7 - PROGRESS: at 51.10% examples, 372686 words/s, in_qsize 15, out_qsize 0\n",
            "2020-05-04 22:30:13,293 : INFO : EPOCH 7 - PROGRESS: at 55.64% examples, 372444 words/s, in_qsize 16, out_qsize 0\n",
            "2020-05-04 22:30:14,307 : INFO : EPOCH 7 - PROGRESS: at 60.31% examples, 372892 words/s, in_qsize 15, out_qsize 1\n",
            "2020-05-04 22:30:15,345 : INFO : EPOCH 7 - PROGRESS: at 64.84% examples, 371975 words/s, in_qsize 14, out_qsize 1\n",
            "2020-05-04 22:30:16,359 : INFO : EPOCH 7 - PROGRESS: at 69.72% examples, 373511 words/s, in_qsize 16, out_qsize 0\n",
            "2020-05-04 22:30:17,411 : INFO : EPOCH 7 - PROGRESS: at 74.27% examples, 372349 words/s, in_qsize 16, out_qsize 1\n",
            "2020-05-04 22:30:18,413 : INFO : EPOCH 7 - PROGRESS: at 78.73% examples, 371891 words/s, in_qsize 15, out_qsize 3\n",
            "2020-05-04 22:30:19,463 : INFO : EPOCH 7 - PROGRESS: at 83.72% examples, 372926 words/s, in_qsize 16, out_qsize 1\n",
            "2020-05-04 22:30:20,464 : INFO : EPOCH 7 - PROGRESS: at 88.48% examples, 373896 words/s, in_qsize 15, out_qsize 0\n",
            "2020-05-04 22:30:21,507 : INFO : EPOCH 7 - PROGRESS: at 92.72% examples, 371798 words/s, in_qsize 10, out_qsize 5\n",
            "2020-05-04 22:30:22,510 : INFO : EPOCH 7 - PROGRESS: at 97.39% examples, 372258 words/s, in_qsize 16, out_qsize 1\n",
            "2020-05-04 22:30:22,893 : INFO : worker thread finished; awaiting finish of 7 more threads\n",
            "2020-05-04 22:30:22,899 : INFO : worker thread finished; awaiting finish of 6 more threads\n",
            "2020-05-04 22:30:22,901 : INFO : worker thread finished; awaiting finish of 5 more threads\n",
            "2020-05-04 22:30:22,915 : INFO : worker thread finished; awaiting finish of 4 more threads\n",
            "2020-05-04 22:30:22,933 : INFO : worker thread finished; awaiting finish of 3 more threads\n",
            "2020-05-04 22:30:22,957 : INFO : worker thread finished; awaiting finish of 2 more threads\n",
            "2020-05-04 22:30:22,974 : INFO : worker thread finished; awaiting finish of 1 more threads\n",
            "2020-05-04 22:30:22,980 : INFO : worker thread finished; awaiting finish of 0 more threads\n",
            "2020-05-04 22:30:22,982 : INFO : EPOCH - 7 : training on 9227204 raw words (8223294 effective words) took 22.0s, 374047 effective words/s\n",
            "2020-05-04 22:30:23,995 : INFO : EPOCH 8 - PROGRESS: at 3.80% examples, 311462 words/s, in_qsize 16, out_qsize 2\n",
            "2020-05-04 22:30:25,076 : INFO : EPOCH 8 - PROGRESS: at 8.80% examples, 350413 words/s, in_qsize 15, out_qsize 1\n",
            "2020-05-04 22:30:26,053 : INFO : EPOCH 8 - PROGRESS: at 13.25% examples, 355187 words/s, in_qsize 16, out_qsize 0\n",
            "2020-05-04 22:30:27,123 : INFO : EPOCH 8 - PROGRESS: at 18.00% examples, 357955 words/s, in_qsize 14, out_qsize 1\n",
            "2020-05-04 22:30:28,131 : INFO : EPOCH 8 - PROGRESS: at 22.33% examples, 357083 words/s, in_qsize 13, out_qsize 5\n",
            "2020-05-04 22:30:29,139 : INFO : EPOCH 8 - PROGRESS: at 26.99% examples, 360843 words/s, in_qsize 16, out_qsize 1\n",
            "2020-05-04 22:30:30,176 : INFO : EPOCH 8 - PROGRESS: at 31.86% examples, 364555 words/s, in_qsize 16, out_qsize 1\n",
            "2020-05-04 22:30:31,231 : INFO : EPOCH 8 - PROGRESS: at 36.18% examples, 361116 words/s, in_qsize 13, out_qsize 2\n",
            "2020-05-04 22:30:32,246 : INFO : EPOCH 8 - PROGRESS: at 40.94% examples, 363863 words/s, in_qsize 14, out_qsize 1\n",
            "2020-05-04 22:30:33,274 : INFO : EPOCH 8 - PROGRESS: at 45.38% examples, 362979 words/s, in_qsize 16, out_qsize 5\n",
            "2020-05-04 22:30:34,278 : INFO : EPOCH 8 - PROGRESS: at 50.45% examples, 367799 words/s, in_qsize 15, out_qsize 0\n",
            "2020-05-04 22:30:35,304 : INFO : EPOCH 8 - PROGRESS: at 54.89% examples, 366837 words/s, in_qsize 15, out_qsize 0\n",
            "2020-05-04 22:30:36,324 : INFO : EPOCH 8 - PROGRESS: at 59.66% examples, 368188 words/s, in_qsize 14, out_qsize 0\n",
            "2020-05-04 22:30:37,495 : INFO : EPOCH 8 - PROGRESS: at 64.41% examples, 365488 words/s, in_qsize 11, out_qsize 4\n",
            "2020-05-04 22:30:38,539 : INFO : EPOCH 8 - PROGRESS: at 69.50% examples, 367900 words/s, in_qsize 15, out_qsize 0\n",
            "2020-05-04 22:30:39,568 : INFO : EPOCH 8 - PROGRESS: at 74.05% examples, 367594 words/s, in_qsize 14, out_qsize 1\n",
            "2020-05-04 22:30:40,590 : INFO : EPOCH 8 - PROGRESS: at 79.16% examples, 370050 words/s, in_qsize 15, out_qsize 0\n",
            "2020-05-04 22:30:41,644 : INFO : EPOCH 8 - PROGRESS: at 83.83% examples, 369690 words/s, in_qsize 15, out_qsize 1\n",
            "2020-05-04 22:30:42,657 : INFO : EPOCH 8 - PROGRESS: at 88.26% examples, 369199 words/s, in_qsize 15, out_qsize 3\n",
            "2020-05-04 22:30:43,665 : INFO : EPOCH 8 - PROGRESS: at 92.94% examples, 369699 words/s, in_qsize 15, out_qsize 0\n",
            "2020-05-04 22:30:44,692 : INFO : EPOCH 8 - PROGRESS: at 97.71% examples, 370260 words/s, in_qsize 14, out_qsize 1\n",
            "2020-05-04 22:30:44,973 : INFO : worker thread finished; awaiting finish of 7 more threads\n",
            "2020-05-04 22:30:44,976 : INFO : worker thread finished; awaiting finish of 6 more threads\n",
            "2020-05-04 22:30:45,039 : INFO : worker thread finished; awaiting finish of 5 more threads\n",
            "2020-05-04 22:30:45,056 : INFO : worker thread finished; awaiting finish of 4 more threads\n",
            "2020-05-04 22:30:45,057 : INFO : worker thread finished; awaiting finish of 3 more threads\n",
            "2020-05-04 22:30:45,064 : INFO : worker thread finished; awaiting finish of 2 more threads\n",
            "2020-05-04 22:30:45,073 : INFO : worker thread finished; awaiting finish of 1 more threads\n",
            "2020-05-04 22:30:45,084 : INFO : worker thread finished; awaiting finish of 0 more threads\n",
            "2020-05-04 22:30:45,085 : INFO : EPOCH - 8 : training on 9227204 raw words (8222031 effective words) took 22.1s, 372196 effective words/s\n",
            "2020-05-04 22:30:46,123 : INFO : EPOCH 9 - PROGRESS: at 3.91% examples, 312154 words/s, in_qsize 11, out_qsize 4\n",
            "2020-05-04 22:30:47,140 : INFO : EPOCH 9 - PROGRESS: at 8.58% examples, 345342 words/s, in_qsize 15, out_qsize 3\n",
            "2020-05-04 22:30:48,179 : INFO : EPOCH 9 - PROGRESS: at 13.25% examples, 355328 words/s, in_qsize 14, out_qsize 5\n",
            "2020-05-04 22:30:49,194 : INFO : EPOCH 9 - PROGRESS: at 18.22% examples, 366840 words/s, in_qsize 15, out_qsize 0\n",
            "2020-05-04 22:30:50,180 : INFO : EPOCH 9 - PROGRESS: at 22.87% examples, 369751 words/s, in_qsize 14, out_qsize 1\n",
            "2020-05-04 22:30:51,250 : INFO : EPOCH 9 - PROGRESS: at 27.42% examples, 366203 words/s, in_qsize 15, out_qsize 0\n",
            "2020-05-04 22:30:52,416 : INFO : EPOCH 9 - PROGRESS: at 32.62% examples, 366309 words/s, in_qsize 13, out_qsize 2\n",
            "2020-05-04 22:30:53,433 : INFO : EPOCH 9 - PROGRESS: at 37.16% examples, 366505 words/s, in_qsize 16, out_qsize 4\n",
            "2020-05-04 22:30:54,488 : INFO : EPOCH 9 - PROGRESS: at 42.24% examples, 369919 words/s, in_qsize 15, out_qsize 0\n",
            "2020-05-04 22:30:55,514 : INFO : EPOCH 9 - PROGRESS: at 46.78% examples, 369385 words/s, in_qsize 14, out_qsize 1\n",
            "2020-05-04 22:30:56,515 : INFO : EPOCH 9 - PROGRESS: at 51.43% examples, 370556 words/s, in_qsize 15, out_qsize 1\n",
            "2020-05-04 22:30:57,550 : INFO : EPOCH 9 - PROGRESS: at 55.97% examples, 369808 words/s, in_qsize 14, out_qsize 1\n",
            "2020-05-04 22:30:58,585 : INFO : EPOCH 9 - PROGRESS: at 61.07% examples, 372496 words/s, in_qsize 16, out_qsize 0\n",
            "2020-05-04 22:30:59,606 : INFO : EPOCH 9 - PROGRESS: at 65.39% examples, 370821 words/s, in_qsize 12, out_qsize 3\n",
            "2020-05-04 22:31:00,645 : INFO : EPOCH 9 - PROGRESS: at 70.27% examples, 371820 words/s, in_qsize 15, out_qsize 0\n",
            "2020-05-04 22:31:01,720 : INFO : EPOCH 9 - PROGRESS: at 75.24% examples, 372419 words/s, in_qsize 15, out_qsize 0\n",
            "2020-05-04 22:31:02,809 : INFO : EPOCH 9 - PROGRESS: at 80.03% examples, 371627 words/s, in_qsize 15, out_qsize 0\n",
            "2020-05-04 22:31:03,836 : INFO : EPOCH 9 - PROGRESS: at 85.23% examples, 374073 words/s, in_qsize 15, out_qsize 0\n",
            "2020-05-04 22:31:04,845 : INFO : EPOCH 9 - PROGRESS: at 89.67% examples, 373440 words/s, in_qsize 15, out_qsize 1\n",
            "2020-05-04 22:31:05,857 : INFO : EPOCH 9 - PROGRESS: at 94.36% examples, 373660 words/s, in_qsize 15, out_qsize 0\n",
            "2020-05-04 22:31:06,912 : INFO : EPOCH 9 - PROGRESS: at 99.12% examples, 373561 words/s, in_qsize 7, out_qsize 3\n",
            "2020-05-04 22:31:06,926 : INFO : worker thread finished; awaiting finish of 7 more threads\n",
            "2020-05-04 22:31:06,928 : INFO : worker thread finished; awaiting finish of 6 more threads\n",
            "2020-05-04 22:31:06,930 : INFO : worker thread finished; awaiting finish of 5 more threads\n",
            "2020-05-04 22:31:06,936 : INFO : worker thread finished; awaiting finish of 4 more threads\n",
            "2020-05-04 22:31:06,952 : INFO : worker thread finished; awaiting finish of 3 more threads\n",
            "2020-05-04 22:31:06,959 : INFO : worker thread finished; awaiting finish of 2 more threads\n",
            "2020-05-04 22:31:06,965 : INFO : worker thread finished; awaiting finish of 1 more threads\n",
            "2020-05-04 22:31:06,971 : INFO : worker thread finished; awaiting finish of 0 more threads\n",
            "2020-05-04 22:31:06,972 : INFO : EPOCH - 9 : training on 9227204 raw words (8221753 effective words) took 21.9s, 375847 effective words/s\n",
            "2020-05-04 22:31:07,993 : INFO : EPOCH 10 - PROGRESS: at 4.23% examples, 344528 words/s, in_qsize 15, out_qsize 0\n",
            "2020-05-04 22:31:09,023 : INFO : EPOCH 10 - PROGRESS: at 8.58% examples, 345230 words/s, in_qsize 16, out_qsize 0\n",
            "2020-05-04 22:31:10,047 : INFO : EPOCH 10 - PROGRESS: at 13.03% examples, 349062 words/s, in_qsize 16, out_qsize 1\n",
            "2020-05-04 22:31:11,063 : INFO : EPOCH 10 - PROGRESS: at 17.89% examples, 360248 words/s, in_qsize 16, out_qsize 0\n",
            "2020-05-04 22:31:12,067 : INFO : EPOCH 10 - PROGRESS: at 22.11% examples, 357467 words/s, in_qsize 14, out_qsize 4\n",
            "2020-05-04 22:31:13,089 : INFO : EPOCH 10 - PROGRESS: at 26.78% examples, 360837 words/s, in_qsize 15, out_qsize 4\n",
            "2020-05-04 22:31:14,109 : INFO : EPOCH 10 - PROGRESS: at 31.54% examples, 363844 words/s, in_qsize 15, out_qsize 0\n",
            "2020-05-04 22:31:15,144 : INFO : EPOCH 10 - PROGRESS: at 36.08% examples, 363542 words/s, in_qsize 12, out_qsize 3\n",
            "2020-05-04 22:31:16,190 : INFO : EPOCH 10 - PROGRESS: at 41.26% examples, 368661 words/s, in_qsize 15, out_qsize 0\n",
            "2020-05-04 22:31:17,268 : INFO : EPOCH 10 - PROGRESS: at 45.81% examples, 366374 words/s, in_qsize 16, out_qsize 1\n",
            "2020-05-04 22:31:18,292 : INFO : EPOCH 10 - PROGRESS: at 50.78% examples, 369460 words/s, in_qsize 16, out_qsize 0\n",
            "2020-05-04 22:31:19,313 : INFO : EPOCH 10 - PROGRESS: at 55.21% examples, 368546 words/s, in_qsize 15, out_qsize 0\n",
            "2020-05-04 22:31:20,372 : INFO : EPOCH 10 - PROGRESS: at 59.87% examples, 367998 words/s, in_qsize 15, out_qsize 0\n",
            "2020-05-04 22:31:21,376 : INFO : EPOCH 10 - PROGRESS: at 64.84% examples, 370800 words/s, in_qsize 16, out_qsize 0\n",
            "2020-05-04 22:31:22,422 : INFO : EPOCH 10 - PROGRESS: at 69.50% examples, 370482 words/s, in_qsize 16, out_qsize 0\n",
            "2020-05-04 22:31:23,489 : INFO : EPOCH 10 - PROGRESS: at 74.05% examples, 369191 words/s, in_qsize 15, out_qsize 0\n",
            "2020-05-04 22:31:24,515 : INFO : EPOCH 10 - PROGRESS: at 79.27% examples, 371963 words/s, in_qsize 15, out_qsize 0\n",
            "2020-05-04 22:31:25,530 : INFO : EPOCH 10 - PROGRESS: at 83.51% examples, 370345 words/s, in_qsize 15, out_qsize 3\n",
            "2020-05-04 22:31:26,533 : INFO : EPOCH 10 - PROGRESS: at 88.37% examples, 371819 words/s, in_qsize 15, out_qsize 0\n",
            "2020-05-04 22:31:27,552 : INFO : EPOCH 10 - PROGRESS: at 93.05% examples, 371995 words/s, in_qsize 15, out_qsize 0\n",
            "2020-05-04 22:31:28,618 : INFO : EPOCH 10 - PROGRESS: at 97.50% examples, 370532 words/s, in_qsize 15, out_qsize 4\n",
            "2020-05-04 22:31:28,895 : INFO : worker thread finished; awaiting finish of 7 more threads\n",
            "2020-05-04 22:31:28,906 : INFO : worker thread finished; awaiting finish of 6 more threads\n",
            "2020-05-04 22:31:28,919 : INFO : worker thread finished; awaiting finish of 5 more threads\n",
            "2020-05-04 22:31:28,962 : INFO : worker thread finished; awaiting finish of 4 more threads\n",
            "2020-05-04 22:31:28,980 : INFO : worker thread finished; awaiting finish of 3 more threads\n",
            "2020-05-04 22:31:28,992 : INFO : worker thread finished; awaiting finish of 2 more threads\n",
            "2020-05-04 22:31:29,005 : INFO : worker thread finished; awaiting finish of 1 more threads\n",
            "2020-05-04 22:31:29,007 : INFO : worker thread finished; awaiting finish of 0 more threads\n",
            "2020-05-04 22:31:29,008 : INFO : EPOCH - 10 : training on 9227204 raw words (8221516 effective words) took 22.0s, 373314 effective words/s\n",
            "2020-05-04 22:31:30,031 : INFO : EPOCH 11 - PROGRESS: at 4.23% examples, 344975 words/s, in_qsize 15, out_qsize 0\n",
            "2020-05-04 22:31:31,066 : INFO : EPOCH 11 - PROGRESS: at 8.69% examples, 348955 words/s, in_qsize 15, out_qsize 0\n",
            "2020-05-04 22:31:32,078 : INFO : EPOCH 11 - PROGRESS: at 13.36% examples, 358852 words/s, in_qsize 15, out_qsize 0\n",
            "2020-05-04 22:31:33,108 : INFO : EPOCH 11 - PROGRESS: at 18.22% examples, 366473 words/s, in_qsize 15, out_qsize 0\n",
            "2020-05-04 22:31:34,175 : INFO : EPOCH 11 - PROGRESS: at 22.76% examples, 363274 words/s, in_qsize 9, out_qsize 6\n",
            "2020-05-04 22:31:35,182 : INFO : EPOCH 11 - PROGRESS: at 27.86% examples, 371901 words/s, in_qsize 16, out_qsize 0\n",
            "2020-05-04 22:31:36,246 : INFO : EPOCH 11 - PROGRESS: at 32.52% examples, 370175 words/s, in_qsize 15, out_qsize 0\n",
            "2020-05-04 22:31:37,252 : INFO : EPOCH 11 - PROGRESS: at 37.16% examples, 371410 words/s, in_qsize 15, out_qsize 1\n",
            "2020-05-04 22:31:38,259 : INFO : EPOCH 11 - PROGRESS: at 41.70% examples, 371438 words/s, in_qsize 15, out_qsize 0\n",
            "2020-05-04 22:31:39,260 : INFO : EPOCH 11 - PROGRESS: at 46.24% examples, 371656 words/s, in_qsize 16, out_qsize 1\n",
            "2020-05-04 22:31:40,329 : INFO : EPOCH 11 - PROGRESS: at 51.10% examples, 371985 words/s, in_qsize 15, out_qsize 0\n",
            "2020-05-04 22:31:41,342 : INFO : EPOCH 11 - PROGRESS: at 55.64% examples, 371792 words/s, in_qsize 16, out_qsize 0\n",
            "2020-05-04 22:31:42,390 : INFO : EPOCH 11 - PROGRESS: at 60.52% examples, 372647 words/s, in_qsize 15, out_qsize 3\n",
            "2020-05-04 22:31:43,412 : INFO : EPOCH 11 - PROGRESS: at 65.50% examples, 374649 words/s, in_qsize 16, out_qsize 1\n",
            "2020-05-04 22:31:44,449 : INFO : EPOCH 11 - PROGRESS: at 69.83% examples, 372563 words/s, in_qsize 13, out_qsize 4\n",
            "2020-05-04 22:31:45,545 : INFO : EPOCH 11 - PROGRESS: at 75.13% examples, 374251 words/s, in_qsize 15, out_qsize 0\n",
            "2020-05-04 22:31:46,613 : INFO : EPOCH 11 - PROGRESS: at 79.92% examples, 373788 words/s, in_qsize 15, out_qsize 0\n",
            "2020-05-04 22:31:47,697 : INFO : EPOCH 11 - PROGRESS: at 84.91% examples, 374044 words/s, in_qsize 15, out_qsize 0\n",
            "2020-05-04 22:31:48,715 : INFO : EPOCH 11 - PROGRESS: at 89.56% examples, 374160 words/s, in_qsize 14, out_qsize 1\n",
            "2020-05-04 22:31:49,728 : INFO : EPOCH 11 - PROGRESS: at 94.03% examples, 373481 words/s, in_qsize 16, out_qsize 1\n",
            "2020-05-04 22:31:50,796 : INFO : EPOCH 11 - PROGRESS: at 99.01% examples, 373974 words/s, in_qsize 10, out_qsize 0\n",
            "2020-05-04 22:31:50,822 : INFO : worker thread finished; awaiting finish of 7 more threads\n",
            "2020-05-04 22:31:50,842 : INFO : worker thread finished; awaiting finish of 6 more threads\n",
            "2020-05-04 22:31:50,843 : INFO : worker thread finished; awaiting finish of 5 more threads\n",
            "2020-05-04 22:31:50,843 : INFO : worker thread finished; awaiting finish of 4 more threads\n",
            "2020-05-04 22:31:50,844 : INFO : worker thread finished; awaiting finish of 3 more threads\n",
            "2020-05-04 22:31:50,846 : INFO : worker thread finished; awaiting finish of 2 more threads\n",
            "2020-05-04 22:31:50,875 : INFO : worker thread finished; awaiting finish of 1 more threads\n",
            "2020-05-04 22:31:50,891 : INFO : worker thread finished; awaiting finish of 0 more threads\n",
            "2020-05-04 22:31:50,891 : INFO : EPOCH - 11 : training on 9227204 raw words (8223739 effective words) took 21.9s, 376066 effective words/s\n",
            "2020-05-04 22:31:52,021 : INFO : EPOCH 12 - PROGRESS: at 4.56% examples, 334580 words/s, in_qsize 15, out_qsize 1\n",
            "2020-05-04 22:31:53,079 : INFO : EPOCH 12 - PROGRESS: at 9.45% examples, 356281 words/s, in_qsize 15, out_qsize 2\n",
            "2020-05-04 22:31:54,127 : INFO : EPOCH 12 - PROGRESS: at 14.11% examples, 359145 words/s, in_qsize 16, out_qsize 0\n",
            "2020-05-04 22:31:55,139 : INFO : EPOCH 12 - PROGRESS: at 18.97% examples, 367996 words/s, in_qsize 12, out_qsize 3\n",
            "2020-05-04 22:31:56,179 : INFO : EPOCH 12 - PROGRESS: at 23.52% examples, 366461 words/s, in_qsize 12, out_qsize 3\n",
            "2020-05-04 22:31:57,225 : INFO : EPOCH 12 - PROGRESS: at 28.18% examples, 366393 words/s, in_qsize 15, out_qsize 0\n",
            "2020-05-04 22:31:58,230 : INFO : EPOCH 12 - PROGRESS: at 32.62% examples, 366000 words/s, in_qsize 16, out_qsize 2\n",
            "2020-05-04 22:31:59,244 : INFO : EPOCH 12 - PROGRESS: at 37.27% examples, 367429 words/s, in_qsize 13, out_qsize 2\n",
            "2020-05-04 22:32:00,289 : INFO : EPOCH 12 - PROGRESS: at 41.80% examples, 366756 words/s, in_qsize 15, out_qsize 3\n",
            "2020-05-04 22:32:01,385 : INFO : EPOCH 12 - PROGRESS: at 46.89% examples, 368012 words/s, in_qsize 15, out_qsize 0\n",
            "2020-05-04 22:32:02,398 : INFO : EPOCH 12 - PROGRESS: at 51.75% examples, 370498 words/s, in_qsize 15, out_qsize 0\n",
            "2020-05-04 22:32:03,420 : INFO : EPOCH 12 - PROGRESS: at 56.40% examples, 370862 words/s, in_qsize 15, out_qsize 0\n",
            "2020-05-04 22:32:04,451 : INFO : EPOCH 12 - PROGRESS: at 61.07% examples, 370927 words/s, in_qsize 16, out_qsize 1\n",
            "2020-05-04 22:32:05,536 : INFO : EPOCH 12 - PROGRESS: at 65.83% examples, 370197 words/s, in_qsize 16, out_qsize 1\n",
            "2020-05-04 22:32:06,553 : INFO : EPOCH 12 - PROGRESS: at 70.59% examples, 371186 words/s, in_qsize 15, out_qsize 0\n",
            "2020-05-04 22:32:07,590 : INFO : EPOCH 12 - PROGRESS: at 75.35% examples, 371594 words/s, in_qsize 15, out_qsize 0\n",
            "2020-05-04 22:32:08,708 : INFO : EPOCH 12 - PROGRESS: at 80.47% examples, 371752 words/s, in_qsize 16, out_qsize 2\n",
            "2020-05-04 22:32:09,741 : INFO : EPOCH 12 - PROGRESS: at 85.13% examples, 371711 words/s, in_qsize 16, out_qsize 2\n",
            "2020-05-04 22:32:10,770 : INFO : EPOCH 12 - PROGRESS: at 90.00% examples, 372640 words/s, in_qsize 16, out_qsize 0\n",
            "2020-05-04 22:32:11,776 : INFO : EPOCH 12 - PROGRESS: at 94.58% examples, 372582 words/s, in_qsize 15, out_qsize 0\n",
            "2020-05-04 22:32:12,727 : INFO : worker thread finished; awaiting finish of 7 more threads\n",
            "2020-05-04 22:32:12,744 : INFO : worker thread finished; awaiting finish of 6 more threads\n",
            "2020-05-04 22:32:12,810 : INFO : EPOCH 12 - PROGRESS: at 99.45% examples, 373339 words/s, in_qsize 5, out_qsize 0\n",
            "2020-05-04 22:32:12,814 : INFO : worker thread finished; awaiting finish of 5 more threads\n",
            "2020-05-04 22:32:12,834 : INFO : worker thread finished; awaiting finish of 4 more threads\n",
            "2020-05-04 22:32:12,839 : INFO : worker thread finished; awaiting finish of 3 more threads\n",
            "2020-05-04 22:32:12,846 : INFO : worker thread finished; awaiting finish of 2 more threads\n",
            "2020-05-04 22:32:12,852 : INFO : worker thread finished; awaiting finish of 1 more threads\n",
            "2020-05-04 22:32:12,853 : INFO : worker thread finished; awaiting finish of 0 more threads\n",
            "2020-05-04 22:32:12,854 : INFO : EPOCH - 12 : training on 9227204 raw words (8223150 effective words) took 22.0s, 374619 effective words/s\n",
            "2020-05-04 22:32:13,871 : INFO : EPOCH 13 - PROGRESS: at 4.34% examples, 354525 words/s, in_qsize 15, out_qsize 0\n",
            "2020-05-04 22:32:14,889 : INFO : EPOCH 13 - PROGRESS: at 8.58% examples, 347926 words/s, in_qsize 16, out_qsize 1\n",
            "2020-05-04 22:32:15,898 : INFO : EPOCH 13 - PROGRESS: at 13.36% examples, 361512 words/s, in_qsize 14, out_qsize 1\n",
            "2020-05-04 22:32:16,952 : INFO : EPOCH 13 - PROGRESS: at 18.32% examples, 368434 words/s, in_qsize 15, out_qsize 0\n",
            "2020-05-04 22:32:17,980 : INFO : EPOCH 13 - PROGRESS: at 23.09% examples, 371071 words/s, in_qsize 16, out_qsize 0\n",
            "2020-05-04 22:32:19,045 : INFO : EPOCH 13 - PROGRESS: at 27.64% examples, 367668 words/s, in_qsize 14, out_qsize 1\n",
            "2020-05-04 22:32:20,127 : INFO : EPOCH 13 - PROGRESS: at 32.62% examples, 369308 words/s, in_qsize 13, out_qsize 2\n",
            "2020-05-04 22:32:21,128 : INFO : EPOCH 13 - PROGRESS: at 37.48% examples, 373052 words/s, in_qsize 16, out_qsize 0\n",
            "2020-05-04 22:32:22,137 : INFO : EPOCH 13 - PROGRESS: at 42.24% examples, 374745 words/s, in_qsize 16, out_qsize 0\n",
            "2020-05-04 22:32:23,225 : INFO : EPOCH 13 - PROGRESS: at 46.78% examples, 371507 words/s, in_qsize 14, out_qsize 1\n",
            "2020-05-04 22:32:24,237 : INFO : EPOCH 13 - PROGRESS: at 51.54% examples, 372962 words/s, in_qsize 14, out_qsize 1\n",
            "2020-05-04 22:32:25,270 : INFO : EPOCH 13 - PROGRESS: at 56.18% examples, 372798 words/s, in_qsize 16, out_qsize 0\n",
            "2020-05-04 22:32:26,331 : INFO : EPOCH 13 - PROGRESS: at 61.18% examples, 373876 words/s, in_qsize 15, out_qsize 0\n",
            "2020-05-04 22:32:27,353 : INFO : EPOCH 13 - PROGRESS: at 65.93% examples, 374525 words/s, in_qsize 15, out_qsize 0\n",
            "2020-05-04 22:32:28,365 : INFO : EPOCH 13 - PROGRESS: at 70.16% examples, 372511 words/s, in_qsize 16, out_qsize 7\n",
            "2020-05-04 22:32:29,365 : INFO : EPOCH 13 - PROGRESS: at 75.35% examples, 375815 words/s, in_qsize 15, out_qsize 0\n",
            "2020-05-04 22:32:30,417 : INFO : EPOCH 13 - PROGRESS: at 79.92% examples, 375279 words/s, in_qsize 15, out_qsize 0\n",
            "2020-05-04 22:32:31,415 : INFO : EPOCH 13 - PROGRESS: at 84.26% examples, 373670 words/s, in_qsize 16, out_qsize 2\n",
            "2020-05-04 22:32:32,428 : INFO : EPOCH 13 - PROGRESS: at 89.34% examples, 375696 words/s, in_qsize 15, out_qsize 0\n",
            "2020-05-04 22:32:33,448 : INFO : EPOCH 13 - PROGRESS: at 93.81% examples, 374810 words/s, in_qsize 15, out_qsize 0\n",
            "2020-05-04 22:32:34,461 : INFO : EPOCH 13 - PROGRESS: at 98.69% examples, 375791 words/s, in_qsize 13, out_qsize 0\n",
            "2020-05-04 22:32:34,548 : INFO : worker thread finished; awaiting finish of 7 more threads\n",
            "2020-05-04 22:32:34,569 : INFO : worker thread finished; awaiting finish of 6 more threads\n",
            "2020-05-04 22:32:34,593 : INFO : worker thread finished; awaiting finish of 5 more threads\n",
            "2020-05-04 22:32:34,595 : INFO : worker thread finished; awaiting finish of 4 more threads\n",
            "2020-05-04 22:32:34,639 : INFO : worker thread finished; awaiting finish of 3 more threads\n",
            "2020-05-04 22:32:34,643 : INFO : worker thread finished; awaiting finish of 2 more threads\n",
            "2020-05-04 22:32:34,652 : INFO : worker thread finished; awaiting finish of 1 more threads\n",
            "2020-05-04 22:32:34,657 : INFO : worker thread finished; awaiting finish of 0 more threads\n",
            "2020-05-04 22:32:34,658 : INFO : EPOCH - 13 : training on 9227204 raw words (8223017 effective words) took 21.8s, 377350 effective words/s\n",
            "2020-05-04 22:32:35,732 : INFO : EPOCH 14 - PROGRESS: at 4.34% examples, 335217 words/s, in_qsize 15, out_qsize 1\n",
            "2020-05-04 22:32:36,779 : INFO : EPOCH 14 - PROGRESS: at 9.01% examples, 350499 words/s, in_qsize 16, out_qsize 1\n",
            "2020-05-04 22:32:37,782 : INFO : EPOCH 14 - PROGRESS: at 13.90% examples, 366267 words/s, in_qsize 16, out_qsize 0\n",
            "2020-05-04 22:32:38,826 : INFO : EPOCH 14 - PROGRESS: at 18.65% examples, 368505 words/s, in_qsize 14, out_qsize 1\n",
            "2020-05-04 22:32:39,828 : INFO : EPOCH 14 - PROGRESS: at 22.98% examples, 366125 words/s, in_qsize 16, out_qsize 1\n",
            "2020-05-04 22:32:40,852 : INFO : EPOCH 14 - PROGRESS: at 28.07% examples, 373214 words/s, in_qsize 15, out_qsize 0\n",
            "2020-05-04 22:32:41,924 : INFO : EPOCH 14 - PROGRESS: at 32.73% examples, 370840 words/s, in_qsize 16, out_qsize 0\n",
            "2020-05-04 22:32:42,945 : INFO : EPOCH 14 - PROGRESS: at 37.37% examples, 371382 words/s, in_qsize 15, out_qsize 0\n",
            "2020-05-04 22:32:43,946 : INFO : EPOCH 14 - PROGRESS: at 42.03% examples, 372614 words/s, in_qsize 14, out_qsize 1\n",
            "2020-05-04 22:32:44,952 : INFO : EPOCH 14 - PROGRESS: at 46.57% examples, 372521 words/s, in_qsize 16, out_qsize 0\n",
            "2020-05-04 22:32:45,963 : INFO : EPOCH 14 - PROGRESS: at 50.99% examples, 371515 words/s, in_qsize 15, out_qsize 0\n",
            "2020-05-04 22:32:47,013 : INFO : EPOCH 14 - PROGRESS: at 55.53% examples, 370260 words/s, in_qsize 12, out_qsize 3\n",
            "2020-05-04 22:32:48,016 : INFO : EPOCH 14 - PROGRESS: at 60.19% examples, 371149 words/s, in_qsize 15, out_qsize 0\n",
            "2020-05-04 22:32:49,040 : INFO : EPOCH 14 - PROGRESS: at 64.84% examples, 371343 words/s, in_qsize 15, out_qsize 0\n",
            "2020-05-04 22:32:50,119 : INFO : EPOCH 14 - PROGRESS: at 69.94% examples, 372538 words/s, in_qsize 15, out_qsize 0\n",
            "2020-05-04 22:32:51,228 : INFO : EPOCH 14 - PROGRESS: at 74.92% examples, 372304 words/s, in_qsize 14, out_qsize 1\n",
            "2020-05-04 22:32:52,248 : INFO : EPOCH 14 - PROGRESS: at 79.49% examples, 371992 words/s, in_qsize 14, out_qsize 2\n",
            "2020-05-04 22:32:53,252 : INFO : EPOCH 14 - PROGRESS: at 84.37% examples, 373478 words/s, in_qsize 15, out_qsize 2\n",
            "2020-05-04 22:32:54,287 : INFO : EPOCH 14 - PROGRESS: at 88.81% examples, 372376 words/s, in_qsize 13, out_qsize 2\n",
            "2020-05-04 22:32:55,310 : INFO : EPOCH 14 - PROGRESS: at 93.92% examples, 374189 words/s, in_qsize 12, out_qsize 0\n",
            "2020-05-04 22:32:56,316 : INFO : EPOCH 14 - PROGRESS: at 98.36% examples, 373667 words/s, in_qsize 16, out_qsize 0\n",
            "2020-05-04 22:32:56,517 : INFO : worker thread finished; awaiting finish of 7 more threads\n",
            "2020-05-04 22:32:56,536 : INFO : worker thread finished; awaiting finish of 6 more threads\n",
            "2020-05-04 22:32:56,551 : INFO : worker thread finished; awaiting finish of 5 more threads\n",
            "2020-05-04 22:32:56,555 : INFO : worker thread finished; awaiting finish of 4 more threads\n",
            "2020-05-04 22:32:56,557 : INFO : worker thread finished; awaiting finish of 3 more threads\n",
            "2020-05-04 22:32:56,573 : INFO : worker thread finished; awaiting finish of 2 more threads\n",
            "2020-05-04 22:32:56,577 : INFO : worker thread finished; awaiting finish of 1 more threads\n",
            "2020-05-04 22:32:56,578 : INFO : worker thread finished; awaiting finish of 0 more threads\n",
            "2020-05-04 22:32:56,579 : INFO : EPOCH - 14 : training on 9227204 raw words (8223390 effective words) took 21.9s, 375327 effective words/s\n",
            "2020-05-04 22:32:57,626 : INFO : EPOCH 15 - PROGRESS: at 4.45% examples, 353128 words/s, in_qsize 15, out_qsize 0\n",
            "2020-05-04 22:32:58,777 : INFO : EPOCH 15 - PROGRESS: at 9.34% examples, 350727 words/s, in_qsize 15, out_qsize 0\n",
            "2020-05-04 22:32:59,778 : INFO : EPOCH 15 - PROGRESS: at 14.43% examples, 371911 words/s, in_qsize 15, out_qsize 0\n",
            "2020-05-04 22:33:00,778 : INFO : EPOCH 15 - PROGRESS: at 18.87% examples, 370204 words/s, in_qsize 15, out_qsize 0\n",
            "2020-05-04 22:33:01,836 : INFO : EPOCH 15 - PROGRESS: at 23.31% examples, 365181 words/s, in_qsize 13, out_qsize 2\n",
            "2020-05-04 22:33:02,862 : INFO : EPOCH 15 - PROGRESS: at 27.96% examples, 366529 words/s, in_qsize 15, out_qsize 0\n",
            "2020-05-04 22:33:03,931 : INFO : EPOCH 15 - PROGRESS: at 32.73% examples, 366557 words/s, in_qsize 11, out_qsize 4\n",
            "2020-05-04 22:33:04,938 : INFO : EPOCH 15 - PROGRESS: at 37.70% examples, 371397 words/s, in_qsize 15, out_qsize 0\n",
            "2020-05-04 22:33:05,945 : INFO : EPOCH 15 - PROGRESS: at 42.35% examples, 372374 words/s, in_qsize 15, out_qsize 0\n",
            "2020-05-04 22:33:06,972 : INFO : EPOCH 15 - PROGRESS: at 47.00% examples, 372428 words/s, in_qsize 15, out_qsize 0\n",
            "2020-05-04 22:33:08,034 : INFO : EPOCH 15 - PROGRESS: at 51.53% examples, 370581 words/s, in_qsize 13, out_qsize 2\n",
            "2020-05-04 22:33:09,057 : INFO : EPOCH 15 - PROGRESS: at 56.40% examples, 372343 words/s, in_qsize 13, out_qsize 2\n",
            "2020-05-04 22:33:10,093 : INFO : EPOCH 15 - PROGRESS: at 61.07% examples, 372160 words/s, in_qsize 15, out_qsize 0\n",
            "2020-05-04 22:33:11,113 : INFO : EPOCH 15 - PROGRESS: at 65.72% examples, 372392 words/s, in_qsize 14, out_qsize 1\n",
            "2020-05-04 22:33:12,117 : INFO : EPOCH 15 - PROGRESS: at 70.48% examples, 373570 words/s, in_qsize 13, out_qsize 2\n",
            "2020-05-04 22:33:13,122 : INFO : EPOCH 15 - PROGRESS: at 75.13% examples, 374014 words/s, in_qsize 16, out_qsize 1\n",
            "2020-05-04 22:33:14,148 : INFO : EPOCH 15 - PROGRESS: at 79.71% examples, 373491 words/s, in_qsize 15, out_qsize 0\n",
            "2020-05-04 22:33:15,182 : INFO : EPOCH 15 - PROGRESS: at 84.26% examples, 372838 words/s, in_qsize 16, out_qsize 0\n",
            "2020-05-04 22:33:16,247 : INFO : EPOCH 15 - PROGRESS: at 89.02% examples, 372560 words/s, in_qsize 10, out_qsize 5\n",
            "2020-05-04 22:33:17,333 : INFO : EPOCH 15 - PROGRESS: at 94.36% examples, 374086 words/s, in_qsize 15, out_qsize 0\n",
            "2020-05-04 22:33:18,346 : INFO : EPOCH 15 - PROGRESS: at 99.01% examples, 374260 words/s, in_qsize 8, out_qsize 2\n",
            "2020-05-04 22:33:18,366 : INFO : worker thread finished; awaiting finish of 7 more threads\n",
            "2020-05-04 22:33:18,397 : INFO : worker thread finished; awaiting finish of 6 more threads\n",
            "2020-05-04 22:33:18,398 : INFO : worker thread finished; awaiting finish of 5 more threads\n",
            "2020-05-04 22:33:18,411 : INFO : worker thread finished; awaiting finish of 4 more threads\n",
            "2020-05-04 22:33:18,423 : INFO : worker thread finished; awaiting finish of 3 more threads\n",
            "2020-05-04 22:33:18,446 : INFO : worker thread finished; awaiting finish of 2 more threads\n",
            "2020-05-04 22:33:18,451 : INFO : worker thread finished; awaiting finish of 1 more threads\n",
            "2020-05-04 22:33:18,458 : INFO : worker thread finished; awaiting finish of 0 more threads\n",
            "2020-05-04 22:33:18,458 : INFO : EPOCH - 15 : training on 9227204 raw words (8223010 effective words) took 21.9s, 376056 effective words/s\n",
            "2020-05-04 22:33:19,635 : INFO : EPOCH 16 - PROGRESS: at 4.56% examples, 327257 words/s, in_qsize 15, out_qsize 4\n",
            "2020-05-04 22:33:20,712 : INFO : EPOCH 16 - PROGRESS: at 9.77% examples, 357789 words/s, in_qsize 14, out_qsize 1\n",
            "2020-05-04 22:33:21,727 : INFO : EPOCH 16 - PROGRESS: at 14.54% examples, 366520 words/s, in_qsize 11, out_qsize 2\n",
            "2020-05-04 22:33:22,783 : INFO : EPOCH 16 - PROGRESS: at 19.30% examples, 367588 words/s, in_qsize 16, out_qsize 2\n",
            "2020-05-04 22:33:23,784 : INFO : EPOCH 16 - PROGRESS: at 23.85% examples, 368823 words/s, in_qsize 14, out_qsize 1\n",
            "2020-05-04 22:33:24,817 : INFO : EPOCH 16 - PROGRESS: at 28.18% examples, 364956 words/s, in_qsize 14, out_qsize 5\n",
            "2020-05-04 22:33:25,829 : INFO : EPOCH 16 - PROGRESS: at 33.27% examples, 371659 words/s, in_qsize 15, out_qsize 0\n",
            "2020-05-04 22:33:26,852 : INFO : EPOCH 16 - PROGRESS: at 37.92% examples, 371998 words/s, in_qsize 15, out_qsize 0\n",
            "2020-05-04 22:33:27,899 : INFO : EPOCH 16 - PROGRESS: at 42.57% examples, 371272 words/s, in_qsize 13, out_qsize 2\n",
            "2020-05-04 22:33:28,941 : INFO : EPOCH 16 - PROGRESS: at 47.43% examples, 372591 words/s, in_qsize 14, out_qsize 1\n",
            "2020-05-04 22:33:29,998 : INFO : EPOCH 16 - PROGRESS: at 52.29% examples, 373249 words/s, in_qsize 15, out_qsize 0\n",
            "2020-05-04 22:33:31,041 : INFO : EPOCH 16 - PROGRESS: at 56.84% examples, 372072 words/s, in_qsize 12, out_qsize 4\n",
            "2020-05-04 22:33:32,061 : INFO : EPOCH 16 - PROGRESS: at 61.39% examples, 371647 words/s, in_qsize 14, out_qsize 1\n",
            "2020-05-04 22:33:33,070 : INFO : EPOCH 16 - PROGRESS: at 66.04% examples, 372201 words/s, in_qsize 15, out_qsize 1\n",
            "2020-05-04 22:33:34,078 : INFO : EPOCH 16 - PROGRESS: at 70.70% examples, 372709 words/s, in_qsize 15, out_qsize 0\n",
            "2020-05-04 22:33:35,088 : INFO : EPOCH 16 - PROGRESS: at 75.13% examples, 372041 words/s, in_qsize 15, out_qsize 0\n",
            "2020-05-04 22:33:36,110 : INFO : EPOCH 16 - PROGRESS: at 79.92% examples, 373023 words/s, in_qsize 15, out_qsize 1\n",
            "2020-05-04 22:33:37,102 : INFO : EPOCH 16 - PROGRESS: at 84.48% examples, 372918 words/s, in_qsize 15, out_qsize 0\n",
            "2020-05-04 22:33:38,116 : INFO : EPOCH 16 - PROGRESS: at 89.13% examples, 373147 words/s, in_qsize 16, out_qsize 0\n",
            "2020-05-04 22:33:39,138 : INFO : EPOCH 16 - PROGRESS: at 93.92% examples, 373643 words/s, in_qsize 16, out_qsize 1\n",
            "2020-05-04 22:33:40,178 : INFO : EPOCH 16 - PROGRESS: at 98.69% examples, 373796 words/s, in_qsize 13, out_qsize 0\n",
            "2020-05-04 22:33:40,300 : INFO : worker thread finished; awaiting finish of 7 more threads\n",
            "2020-05-04 22:33:40,302 : INFO : worker thread finished; awaiting finish of 6 more threads\n",
            "2020-05-04 22:33:40,309 : INFO : worker thread finished; awaiting finish of 5 more threads\n",
            "2020-05-04 22:33:40,316 : INFO : worker thread finished; awaiting finish of 4 more threads\n",
            "2020-05-04 22:33:40,331 : INFO : worker thread finished; awaiting finish of 3 more threads\n",
            "2020-05-04 22:33:40,358 : INFO : worker thread finished; awaiting finish of 2 more threads\n",
            "2020-05-04 22:33:40,363 : INFO : worker thread finished; awaiting finish of 1 more threads\n",
            "2020-05-04 22:33:40,378 : INFO : worker thread finished; awaiting finish of 0 more threads\n",
            "2020-05-04 22:33:40,379 : INFO : EPOCH - 16 : training on 9227204 raw words (8222606 effective words) took 21.9s, 375302 effective words/s\n",
            "2020-05-04 22:33:41,415 : INFO : EPOCH 17 - PROGRESS: at 4.01% examples, 328037 words/s, in_qsize 15, out_qsize 1\n",
            "2020-05-04 22:33:42,433 : INFO : EPOCH 17 - PROGRESS: at 8.69% examples, 349007 words/s, in_qsize 13, out_qsize 2\n",
            "2020-05-04 22:33:43,447 : INFO : EPOCH 17 - PROGRESS: at 13.25% examples, 355660 words/s, in_qsize 12, out_qsize 3\n",
            "2020-05-04 22:33:44,519 : INFO : EPOCH 17 - PROGRESS: at 18.22% examples, 362545 words/s, in_qsize 16, out_qsize 1\n",
            "2020-05-04 22:33:45,528 : INFO : EPOCH 17 - PROGRESS: at 22.87% examples, 365962 words/s, in_qsize 15, out_qsize 0\n",
            "2020-05-04 22:33:46,535 : INFO : EPOCH 17 - PROGRESS: at 27.64% examples, 369791 words/s, in_qsize 15, out_qsize 0\n",
            "2020-05-04 22:33:47,551 : INFO : EPOCH 17 - PROGRESS: at 32.08% examples, 368298 words/s, in_qsize 15, out_qsize 0\n",
            "2020-05-04 22:33:48,569 : INFO : EPOCH 17 - PROGRESS: at 36.62% examples, 368204 words/s, in_qsize 15, out_qsize 0\n",
            "2020-05-04 22:33:49,620 : INFO : EPOCH 17 - PROGRESS: at 41.37% examples, 368742 words/s, in_qsize 15, out_qsize 0\n",
            "2020-05-04 22:33:50,620 : INFO : EPOCH 17 - PROGRESS: at 46.46% examples, 373623 words/s, in_qsize 15, out_qsize 0\n",
            "2020-05-04 22:33:51,703 : INFO : EPOCH 17 - PROGRESS: at 51.21% examples, 372505 words/s, in_qsize 15, out_qsize 0\n",
            "2020-05-04 22:33:52,708 : INFO : EPOCH 17 - PROGRESS: at 55.53% examples, 371070 words/s, in_qsize 16, out_qsize 1\n",
            "2020-05-04 22:33:53,714 : INFO : EPOCH 17 - PROGRESS: at 60.09% examples, 371150 words/s, in_qsize 15, out_qsize 1\n",
            "2020-05-04 22:33:54,757 : INFO : EPOCH 17 - PROGRESS: at 64.84% examples, 371480 words/s, in_qsize 15, out_qsize 0\n",
            "2020-05-04 22:33:55,852 : INFO : EPOCH 17 - PROGRESS: at 69.83% examples, 371680 words/s, in_qsize 15, out_qsize 0\n",
            "2020-05-04 22:33:56,888 : INFO : EPOCH 17 - PROGRESS: at 74.37% examples, 370994 words/s, in_qsize 12, out_qsize 3\n",
            "2020-05-04 22:33:57,905 : INFO : EPOCH 17 - PROGRESS: at 79.05% examples, 371320 words/s, in_qsize 12, out_qsize 3\n",
            "2020-05-04 22:33:58,906 : INFO : EPOCH 17 - PROGRESS: at 83.73% examples, 371936 words/s, in_qsize 15, out_qsize 0\n",
            "2020-05-04 22:33:59,945 : INFO : EPOCH 17 - PROGRESS: at 88.70% examples, 373144 words/s, in_qsize 15, out_qsize 0\n",
            "2020-05-04 22:34:00,989 : INFO : EPOCH 17 - PROGRESS: at 93.48% examples, 373219 words/s, in_qsize 16, out_qsize 0\n",
            "2020-05-04 22:34:02,024 : INFO : EPOCH 17 - PROGRESS: at 98.25% examples, 373475 words/s, in_qsize 15, out_qsize 0\n",
            "2020-05-04 22:34:02,215 : INFO : worker thread finished; awaiting finish of 7 more threads\n",
            "2020-05-04 22:34:02,219 : INFO : worker thread finished; awaiting finish of 6 more threads\n",
            "2020-05-04 22:34:02,230 : INFO : worker thread finished; awaiting finish of 5 more threads\n",
            "2020-05-04 22:34:02,234 : INFO : worker thread finished; awaiting finish of 4 more threads\n",
            "2020-05-04 22:34:02,273 : INFO : worker thread finished; awaiting finish of 3 more threads\n",
            "2020-05-04 22:34:02,280 : INFO : worker thread finished; awaiting finish of 2 more threads\n",
            "2020-05-04 22:34:02,285 : INFO : worker thread finished; awaiting finish of 1 more threads\n",
            "2020-05-04 22:34:02,287 : INFO : worker thread finished; awaiting finish of 0 more threads\n",
            "2020-05-04 22:34:02,288 : INFO : EPOCH - 17 : training on 9227204 raw words (8222980 effective words) took 21.9s, 375528 effective words/s\n",
            "2020-05-04 22:34:03,341 : INFO : EPOCH 18 - PROGRESS: at 4.34% examples, 341950 words/s, in_qsize 15, out_qsize 0\n",
            "2020-05-04 22:34:04,343 : INFO : EPOCH 18 - PROGRESS: at 9.12% examples, 366173 words/s, in_qsize 15, out_qsize 0\n",
            "2020-05-04 22:34:05,364 : INFO : EPOCH 18 - PROGRESS: at 13.57% examples, 363396 words/s, in_qsize 15, out_qsize 0\n",
            "2020-05-04 22:34:06,365 : INFO : EPOCH 18 - PROGRESS: at 18.32% examples, 370157 words/s, in_qsize 15, out_qsize 0\n",
            "2020-05-04 22:34:07,426 : INFO : EPOCH 18 - PROGRESS: at 22.87% examples, 366594 words/s, in_qsize 15, out_qsize 0\n",
            "2020-05-04 22:34:08,456 : INFO : EPOCH 18 - PROGRESS: at 27.32% examples, 364568 words/s, in_qsize 13, out_qsize 6\n",
            "2020-05-04 22:34:09,459 : INFO : EPOCH 18 - PROGRESS: at 32.62% examples, 374488 words/s, in_qsize 15, out_qsize 0\n",
            "2020-05-04 22:34:10,494 : INFO : EPOCH 18 - PROGRESS: at 37.37% examples, 375032 words/s, in_qsize 15, out_qsize 0\n",
            "2020-05-04 22:34:11,498 : INFO : EPOCH 18 - PROGRESS: at 41.70% examples, 372826 words/s, in_qsize 16, out_qsize 1\n",
            "2020-05-04 22:34:12,506 : INFO : EPOCH 18 - PROGRESS: at 46.57% examples, 375290 words/s, in_qsize 15, out_qsize 0\n",
            "2020-05-04 22:34:13,539 : INFO : EPOCH 18 - PROGRESS: at 50.88% examples, 372506 words/s, in_qsize 15, out_qsize 3\n",
            "2020-05-04 22:34:14,553 : INFO : EPOCH 18 - PROGRESS: at 55.86% examples, 375168 words/s, in_qsize 14, out_qsize 1\n",
            "2020-05-04 22:34:15,604 : INFO : EPOCH 18 - PROGRESS: at 60.63% examples, 374956 words/s, in_qsize 15, out_qsize 0\n",
            "2020-05-04 22:34:16,606 : INFO : EPOCH 18 - PROGRESS: at 65.39% examples, 376087 words/s, in_qsize 16, out_qsize 2\n",
            "2020-05-04 22:34:17,615 : INFO : EPOCH 18 - PROGRESS: at 69.94% examples, 375761 words/s, in_qsize 15, out_qsize 0\n",
            "2020-05-04 22:34:18,709 : INFO : EPOCH 18 - PROGRESS: at 74.69% examples, 374580 words/s, in_qsize 14, out_qsize 1\n",
            "2020-05-04 22:34:19,714 : INFO : EPOCH 18 - PROGRESS: at 78.73% examples, 371884 words/s, in_qsize 13, out_qsize 5\n",
            "2020-05-04 22:34:20,779 : INFO : EPOCH 18 - PROGRESS: at 83.72% examples, 372622 words/s, in_qsize 16, out_qsize 0\n",
            "2020-05-04 22:34:21,879 : INFO : EPOCH 18 - PROGRESS: at 88.91% examples, 373499 words/s, in_qsize 15, out_qsize 0\n",
            "2020-05-04 22:34:22,889 : INFO : EPOCH 18 - PROGRESS: at 93.70% examples, 374195 words/s, in_qsize 16, out_qsize 1\n",
            "2020-05-04 22:34:23,995 : INFO : EPOCH 18 - PROGRESS: at 98.69% examples, 374001 words/s, in_qsize 13, out_qsize 0\n",
            "2020-05-04 22:34:24,087 : INFO : worker thread finished; awaiting finish of 7 more threads\n",
            "2020-05-04 22:34:24,093 : INFO : worker thread finished; awaiting finish of 6 more threads\n",
            "2020-05-04 22:34:24,098 : INFO : worker thread finished; awaiting finish of 5 more threads\n",
            "2020-05-04 22:34:24,106 : INFO : worker thread finished; awaiting finish of 4 more threads\n",
            "2020-05-04 22:34:24,145 : INFO : worker thread finished; awaiting finish of 3 more threads\n",
            "2020-05-04 22:34:24,162 : INFO : worker thread finished; awaiting finish of 2 more threads\n",
            "2020-05-04 22:34:24,175 : INFO : worker thread finished; awaiting finish of 1 more threads\n",
            "2020-05-04 22:34:24,187 : INFO : worker thread finished; awaiting finish of 0 more threads\n",
            "2020-05-04 22:34:24,187 : INFO : EPOCH - 18 : training on 9227204 raw words (8221908 effective words) took 21.9s, 375639 effective words/s\n",
            "2020-05-04 22:34:25,204 : INFO : EPOCH 19 - PROGRESS: at 4.23% examples, 345891 words/s, in_qsize 16, out_qsize 0\n",
            "2020-05-04 22:34:26,207 : INFO : EPOCH 19 - PROGRESS: at 8.47% examples, 346118 words/s, in_qsize 15, out_qsize 4\n",
            "2020-05-04 22:34:27,246 : INFO : EPOCH 19 - PROGRESS: at 13.68% examples, 368520 words/s, in_qsize 15, out_qsize 0\n",
            "2020-05-04 22:34:28,255 : INFO : EPOCH 19 - PROGRESS: at 18.22% examples, 368972 words/s, in_qsize 15, out_qsize 0\n",
            "2020-05-04 22:34:29,340 : INFO : EPOCH 19 - PROGRESS: at 22.98% examples, 367369 words/s, in_qsize 14, out_qsize 1\n",
            "2020-05-04 22:34:30,366 : INFO : EPOCH 19 - PROGRESS: at 27.75% examples, 369826 words/s, in_qsize 14, out_qsize 2\n",
            "2020-05-04 22:34:31,409 : INFO : EPOCH 19 - PROGRESS: at 32.62% examples, 371938 words/s, in_qsize 15, out_qsize 0\n",
            "2020-05-04 22:34:32,412 : INFO : EPOCH 19 - PROGRESS: at 37.05% examples, 370955 words/s, in_qsize 16, out_qsize 0\n",
            "2020-05-04 22:34:33,474 : INFO : EPOCH 19 - PROGRESS: at 41.80% examples, 370757 words/s, in_qsize 15, out_qsize 0\n",
            "2020-05-04 22:34:34,474 : INFO : EPOCH 19 - PROGRESS: at 46.57% examples, 372821 words/s, in_qsize 15, out_qsize 0\n",
            "2020-05-04 22:34:35,493 : INFO : EPOCH 19 - PROGRESS: at 50.99% examples, 371541 words/s, in_qsize 15, out_qsize 0\n",
            "2020-05-04 22:34:36,495 : INFO : EPOCH 19 - PROGRESS: at 55.65% examples, 372444 words/s, in_qsize 15, out_qsize 0\n",
            "2020-05-04 22:34:37,542 : INFO : EPOCH 19 - PROGRESS: at 60.19% examples, 371284 words/s, in_qsize 15, out_qsize 0\n",
            "2020-05-04 22:34:38,608 : INFO : EPOCH 19 - PROGRESS: at 64.95% examples, 371020 words/s, in_qsize 10, out_qsize 5\n",
            "2020-05-04 22:34:39,651 : INFO : EPOCH 19 - PROGRESS: at 70.05% examples, 373849 words/s, in_qsize 15, out_qsize 0\n",
            "2020-05-04 22:34:40,680 : INFO : EPOCH 19 - PROGRESS: at 74.70% examples, 373714 words/s, in_qsize 15, out_qsize 2\n",
            "2020-05-04 22:34:41,661 : INFO : EPOCH 19 - PROGRESS: at 79.49% examples, 374481 words/s, in_qsize 15, out_qsize 0\n",
            "2020-05-04 22:34:42,702 : INFO : EPOCH 19 - PROGRESS: at 84.15% examples, 374105 words/s, in_qsize 16, out_qsize 0\n",
            "2020-05-04 22:34:43,742 : INFO : EPOCH 19 - PROGRESS: at 89.23% examples, 375599 words/s, in_qsize 15, out_qsize 0\n",
            "2020-05-04 22:34:44,744 : INFO : EPOCH 19 - PROGRESS: at 93.81% examples, 375489 words/s, in_qsize 16, out_qsize 0\n",
            "2020-05-04 22:34:45,749 : INFO : EPOCH 19 - PROGRESS: at 98.36% examples, 375346 words/s, in_qsize 15, out_qsize 0\n",
            "2020-05-04 22:34:45,891 : INFO : worker thread finished; awaiting finish of 7 more threads\n",
            "2020-05-04 22:34:45,967 : INFO : worker thread finished; awaiting finish of 6 more threads\n",
            "2020-05-04 22:34:45,979 : INFO : worker thread finished; awaiting finish of 5 more threads\n",
            "2020-05-04 22:34:46,002 : INFO : worker thread finished; awaiting finish of 4 more threads\n",
            "2020-05-04 22:34:46,003 : INFO : worker thread finished; awaiting finish of 3 more threads\n",
            "2020-05-04 22:34:46,004 : INFO : worker thread finished; awaiting finish of 2 more threads\n",
            "2020-05-04 22:34:46,007 : INFO : worker thread finished; awaiting finish of 1 more threads\n",
            "2020-05-04 22:34:46,014 : INFO : worker thread finished; awaiting finish of 0 more threads\n",
            "2020-05-04 22:34:46,015 : INFO : EPOCH - 19 : training on 9227204 raw words (8223051 effective words) took 21.8s, 376932 effective words/s\n",
            "2020-05-04 22:34:47,098 : INFO : EPOCH 20 - PROGRESS: at 4.23% examples, 323630 words/s, in_qsize 15, out_qsize 0\n",
            "2020-05-04 22:34:48,146 : INFO : EPOCH 20 - PROGRESS: at 9.12% examples, 356569 words/s, in_qsize 15, out_qsize 0\n",
            "2020-05-04 22:34:49,127 : INFO : EPOCH 20 - PROGRESS: at 13.58% examples, 358953 words/s, in_qsize 14, out_qsize 1\n",
            "2020-05-04 22:34:50,146 : INFO : EPOCH 20 - PROGRESS: at 18.22% examples, 363086 words/s, in_qsize 15, out_qsize 0\n",
            "2020-05-04 22:34:51,152 : INFO : EPOCH 20 - PROGRESS: at 22.87% examples, 366612 words/s, in_qsize 14, out_qsize 1\n",
            "2020-05-04 22:34:52,166 : INFO : EPOCH 20 - PROGRESS: at 27.75% examples, 371401 words/s, in_qsize 16, out_qsize 0\n",
            "2020-05-04 22:34:53,291 : INFO : EPOCH 20 - PROGRESS: at 32.73% examples, 371042 words/s, in_qsize 15, out_qsize 1\n",
            "2020-05-04 22:34:54,322 : INFO : EPOCH 20 - PROGRESS: at 37.27% examples, 369351 words/s, in_qsize 16, out_qsize 4\n",
            "2020-05-04 22:34:55,324 : INFO : EPOCH 20 - PROGRESS: at 42.35% examples, 374562 words/s, in_qsize 14, out_qsize 1\n",
            "2020-05-04 22:34:56,324 : INFO : EPOCH 20 - PROGRESS: at 46.78% examples, 373660 words/s, in_qsize 15, out_qsize 1\n",
            "2020-05-04 22:34:57,336 : INFO : EPOCH 20 - PROGRESS: at 51.32% examples, 373333 words/s, in_qsize 15, out_qsize 0\n",
            "2020-05-04 22:34:58,338 : INFO : EPOCH 20 - PROGRESS: at 56.08% examples, 374813 words/s, in_qsize 15, out_qsize 0\n",
            "2020-05-04 22:34:59,361 : INFO : EPOCH 20 - PROGRESS: at 60.85% examples, 375460 words/s, in_qsize 15, out_qsize 0\n",
            "2020-05-04 22:35:00,404 : INFO : EPOCH 20 - PROGRESS: at 65.17% examples, 372971 words/s, in_qsize 13, out_qsize 3\n",
            "2020-05-04 22:35:01,404 : INFO : EPOCH 20 - PROGRESS: at 70.05% examples, 374801 words/s, in_qsize 15, out_qsize 0\n",
            "2020-05-04 22:35:02,406 : INFO : EPOCH 20 - PROGRESS: at 74.92% examples, 376354 words/s, in_qsize 15, out_qsize 0\n",
            "2020-05-04 22:35:03,441 : INFO : EPOCH 20 - PROGRESS: at 79.38% examples, 374949 words/s, in_qsize 16, out_qsize 0\n",
            "2020-05-04 22:35:04,453 : INFO : EPOCH 20 - PROGRESS: at 84.04% examples, 375147 words/s, in_qsize 15, out_qsize 0\n",
            "2020-05-04 22:35:05,470 : INFO : EPOCH 20 - PROGRESS: at 89.02% examples, 376573 words/s, in_qsize 16, out_qsize 0\n",
            "2020-05-04 22:35:06,491 : INFO : EPOCH 20 - PROGRESS: at 93.26% examples, 374748 words/s, in_qsize 12, out_qsize 3\n",
            "2020-05-04 22:35:07,530 : INFO : EPOCH 20 - PROGRESS: at 98.15% examples, 375271 words/s, in_qsize 15, out_qsize 0\n",
            "2020-05-04 22:35:07,786 : INFO : worker thread finished; awaiting finish of 7 more threads\n",
            "2020-05-04 22:35:07,826 : INFO : worker thread finished; awaiting finish of 6 more threads\n",
            "2020-05-04 22:35:07,834 : INFO : worker thread finished; awaiting finish of 5 more threads\n",
            "2020-05-04 22:35:07,835 : INFO : worker thread finished; awaiting finish of 4 more threads\n",
            "2020-05-04 22:35:07,837 : INFO : worker thread finished; awaiting finish of 3 more threads\n",
            "2020-05-04 22:35:07,839 : INFO : worker thread finished; awaiting finish of 2 more threads\n",
            "2020-05-04 22:35:07,873 : INFO : worker thread finished; awaiting finish of 1 more threads\n",
            "2020-05-04 22:35:07,881 : INFO : worker thread finished; awaiting finish of 0 more threads\n",
            "2020-05-04 22:35:07,883 : INFO : EPOCH - 20 : training on 9227204 raw words (8222828 effective words) took 21.9s, 376195 effective words/s\n",
            "2020-05-04 22:35:08,989 : INFO : EPOCH 21 - PROGRESS: at 4.45% examples, 333954 words/s, in_qsize 15, out_qsize 0\n",
            "2020-05-04 22:35:10,041 : INFO : EPOCH 21 - PROGRESS: at 9.23% examples, 352978 words/s, in_qsize 15, out_qsize 2\n",
            "2020-05-04 22:35:11,054 : INFO : EPOCH 21 - PROGRESS: at 14.00% examples, 363794 words/s, in_qsize 14, out_qsize 1\n",
            "2020-05-04 22:35:12,137 : INFO : EPOCH 21 - PROGRESS: at 18.76% examples, 363278 words/s, in_qsize 13, out_qsize 2\n",
            "2020-05-04 22:35:13,199 : INFO : EPOCH 21 - PROGRESS: at 23.74% examples, 369911 words/s, in_qsize 15, out_qsize 2\n",
            "2020-05-04 22:35:14,186 : INFO : EPOCH 21 - PROGRESS: at 28.39% examples, 371025 words/s, in_qsize 14, out_qsize 1\n",
            "2020-05-04 22:35:15,250 : INFO : EPOCH 21 - PROGRESS: at 33.17% examples, 370616 words/s, in_qsize 16, out_qsize 1\n",
            "2020-05-04 22:35:16,380 : INFO : EPOCH 21 - PROGRESS: at 38.35% examples, 371659 words/s, in_qsize 15, out_qsize 0\n",
            "2020-05-04 22:35:17,466 : INFO : EPOCH 21 - PROGRESS: at 43.43% examples, 373249 words/s, in_qsize 15, out_qsize 0\n",
            "2020-05-04 22:35:18,559 : INFO : EPOCH 21 - PROGRESS: at 48.19% examples, 372484 words/s, in_qsize 15, out_qsize 1\n",
            "2020-05-04 22:35:19,542 : INFO : EPOCH 21 - PROGRESS: at 53.16% examples, 375568 words/s, in_qsize 15, out_qsize 0\n",
            "2020-05-04 22:35:20,570 : INFO : EPOCH 21 - PROGRESS: at 57.81% examples, 375354 words/s, in_qsize 16, out_qsize 0\n",
            "2020-05-04 22:35:21,606 : INFO : EPOCH 21 - PROGRESS: at 62.36% examples, 374270 words/s, in_qsize 15, out_qsize 0\n",
            "2020-05-04 22:35:22,681 : INFO : EPOCH 21 - PROGRESS: at 67.34% examples, 374749 words/s, in_qsize 15, out_qsize 0\n",
            "2020-05-04 22:35:23,686 : INFO : EPOCH 21 - PROGRESS: at 72.32% examples, 376837 words/s, in_qsize 15, out_qsize 0\n",
            "2020-05-04 22:35:24,696 : INFO : EPOCH 21 - PROGRESS: at 76.66% examples, 375397 words/s, in_qsize 16, out_qsize 0\n",
            "2020-05-04 22:35:25,756 : INFO : EPOCH 21 - PROGRESS: at 81.55% examples, 375554 words/s, in_qsize 15, out_qsize 0\n",
            "2020-05-04 22:35:26,786 : INFO : EPOCH 21 - PROGRESS: at 86.21% examples, 375352 words/s, in_qsize 15, out_qsize 0\n",
            "2020-05-04 22:35:27,817 : INFO : EPOCH 21 - PROGRESS: at 91.20% examples, 376496 words/s, in_qsize 15, out_qsize 0\n",
            "2020-05-04 22:35:28,881 : INFO : EPOCH 21 - PROGRESS: at 95.66% examples, 374797 words/s, in_qsize 15, out_qsize 0\n",
            "2020-05-04 22:35:29,622 : INFO : worker thread finished; awaiting finish of 7 more threads\n",
            "2020-05-04 22:35:29,637 : INFO : worker thread finished; awaiting finish of 6 more threads\n",
            "2020-05-04 22:35:29,648 : INFO : worker thread finished; awaiting finish of 5 more threads\n",
            "2020-05-04 22:35:29,655 : INFO : worker thread finished; awaiting finish of 4 more threads\n",
            "2020-05-04 22:35:29,660 : INFO : worker thread finished; awaiting finish of 3 more threads\n",
            "2020-05-04 22:35:29,667 : INFO : worker thread finished; awaiting finish of 2 more threads\n",
            "2020-05-04 22:35:29,674 : INFO : worker thread finished; awaiting finish of 1 more threads\n",
            "2020-05-04 22:35:29,690 : INFO : worker thread finished; awaiting finish of 0 more threads\n",
            "2020-05-04 22:35:29,691 : INFO : EPOCH - 21 : training on 9227204 raw words (8222730 effective words) took 21.8s, 377268 effective words/s\n",
            "2020-05-04 22:35:30,756 : INFO : EPOCH 22 - PROGRESS: at 4.13% examples, 329056 words/s, in_qsize 15, out_qsize 0\n",
            "2020-05-04 22:35:31,799 : INFO : EPOCH 22 - PROGRESS: at 9.12% examples, 356991 words/s, in_qsize 15, out_qsize 0\n",
            "2020-05-04 22:35:32,820 : INFO : EPOCH 22 - PROGRESS: at 13.47% examples, 354398 words/s, in_qsize 11, out_qsize 4\n",
            "2020-05-04 22:35:33,830 : INFO : EPOCH 22 - PROGRESS: at 18.65% examples, 371149 words/s, in_qsize 15, out_qsize 0\n",
            "2020-05-04 22:35:34,890 : INFO : EPOCH 22 - PROGRESS: at 23.19% examples, 368963 words/s, in_qsize 15, out_qsize 1\n",
            "2020-05-04 22:35:35,925 : INFO : EPOCH 22 - PROGRESS: at 27.97% examples, 369325 words/s, in_qsize 14, out_qsize 1\n",
            "2020-05-04 22:35:36,972 : INFO : EPOCH 22 - PROGRESS: at 32.62% examples, 368818 words/s, in_qsize 14, out_qsize 5\n",
            "2020-05-04 22:35:38,024 : INFO : EPOCH 22 - PROGRESS: at 37.05% examples, 367613 words/s, in_qsize 16, out_qsize 7\n",
            "2020-05-04 22:35:38,996 : INFO : EPOCH 22 - PROGRESS: at 42.02% examples, 371891 words/s, in_qsize 15, out_qsize 1\n",
            "2020-05-04 22:35:40,050 : INFO : EPOCH 22 - PROGRESS: at 46.67% examples, 371002 words/s, in_qsize 15, out_qsize 0\n",
            "2020-05-04 22:35:41,055 : INFO : EPOCH 22 - PROGRESS: at 51.32% examples, 371938 words/s, in_qsize 10, out_qsize 5\n",
            "2020-05-04 22:35:42,101 : INFO : EPOCH 22 - PROGRESS: at 56.29% examples, 373620 words/s, in_qsize 15, out_qsize 0\n",
            "2020-05-04 22:35:43,107 : INFO : EPOCH 22 - PROGRESS: at 60.96% examples, 374186 words/s, in_qsize 15, out_qsize 0\n",
            "2020-05-04 22:35:44,142 : INFO : EPOCH 22 - PROGRESS: at 65.61% examples, 373880 words/s, in_qsize 15, out_qsize 0\n",
            "2020-05-04 22:35:45,205 : INFO : EPOCH 22 - PROGRESS: at 70.37% examples, 373869 words/s, in_qsize 15, out_qsize 1\n",
            "2020-05-04 22:35:46,200 : INFO : EPOCH 22 - PROGRESS: at 75.24% examples, 375309 words/s, in_qsize 15, out_qsize 0\n",
            "2020-05-04 22:35:47,244 : INFO : EPOCH 22 - PROGRESS: at 80.14% examples, 375796 words/s, in_qsize 15, out_qsize 0\n",
            "2020-05-04 22:35:48,245 : INFO : EPOCH 22 - PROGRESS: at 84.48% examples, 374722 words/s, in_qsize 16, out_qsize 2\n",
            "2020-05-04 22:35:49,358 : INFO : EPOCH 22 - PROGRESS: at 89.56% examples, 375180 words/s, in_qsize 15, out_qsize 0\n",
            "2020-05-04 22:35:50,378 : INFO : EPOCH 22 - PROGRESS: at 94.69% examples, 376538 words/s, in_qsize 15, out_qsize 0\n",
            "2020-05-04 22:35:51,397 : INFO : EPOCH 22 - PROGRESS: at 99.12% examples, 375683 words/s, in_qsize 9, out_qsize 0\n",
            "2020-05-04 22:35:51,444 : INFO : worker thread finished; awaiting finish of 7 more threads\n",
            "2020-05-04 22:35:51,445 : INFO : worker thread finished; awaiting finish of 6 more threads\n",
            "2020-05-04 22:35:51,446 : INFO : worker thread finished; awaiting finish of 5 more threads\n",
            "2020-05-04 22:35:51,451 : INFO : worker thread finished; awaiting finish of 4 more threads\n",
            "2020-05-04 22:35:51,453 : INFO : worker thread finished; awaiting finish of 3 more threads\n",
            "2020-05-04 22:35:51,455 : INFO : worker thread finished; awaiting finish of 2 more threads\n",
            "2020-05-04 22:35:51,474 : INFO : worker thread finished; awaiting finish of 1 more threads\n",
            "2020-05-04 22:35:51,486 : INFO : worker thread finished; awaiting finish of 0 more threads\n",
            "2020-05-04 22:35:51,487 : INFO : EPOCH - 22 : training on 9227204 raw words (8222422 effective words) took 21.8s, 377439 effective words/s\n",
            "2020-05-04 22:35:52,607 : INFO : EPOCH 23 - PROGRESS: at 4.02% examples, 314055 words/s, in_qsize 16, out_qsize 6\n",
            "2020-05-04 22:35:53,560 : INFO : EPOCH 23 - PROGRESS: at 9.01% examples, 358692 words/s, in_qsize 15, out_qsize 0\n",
            "2020-05-04 22:35:54,624 : INFO : EPOCH 23 - PROGRESS: at 13.79% examples, 361997 words/s, in_qsize 15, out_qsize 0\n",
            "2020-05-04 22:35:55,694 : INFO : EPOCH 23 - PROGRESS: at 18.54% examples, 363022 words/s, in_qsize 15, out_qsize 0\n",
            "2020-05-04 22:35:56,695 : INFO : EPOCH 23 - PROGRESS: at 23.09% examples, 365229 words/s, in_qsize 15, out_qsize 0\n",
            "2020-05-04 22:35:57,743 : INFO : EPOCH 23 - PROGRESS: at 27.64% examples, 363860 words/s, in_qsize 12, out_qsize 3\n",
            "2020-05-04 22:35:58,748 : INFO : EPOCH 23 - PROGRESS: at 32.52% examples, 368736 words/s, in_qsize 15, out_qsize 2\n",
            "2020-05-04 22:35:59,763 : INFO : EPOCH 23 - PROGRESS: at 37.05% examples, 368732 words/s, in_qsize 15, out_qsize 0\n",
            "2020-05-04 22:36:00,776 : INFO : EPOCH 23 - PROGRESS: at 41.59% examples, 368785 words/s, in_qsize 15, out_qsize 1\n",
            "2020-05-04 22:36:01,829 : INFO : EPOCH 23 - PROGRESS: at 46.35% examples, 369140 words/s, in_qsize 15, out_qsize 0\n",
            "2020-05-04 22:36:02,836 : INFO : EPOCH 23 - PROGRESS: at 51.21% examples, 371738 words/s, in_qsize 15, out_qsize 0\n",
            "2020-05-04 22:36:03,837 : INFO : EPOCH 23 - PROGRESS: at 55.53% examples, 370492 words/s, in_qsize 15, out_qsize 0\n",
            "2020-05-04 22:36:04,850 : INFO : EPOCH 23 - PROGRESS: at 60.09% examples, 370382 words/s, in_qsize 15, out_qsize 0\n",
            "2020-05-04 22:36:05,868 : INFO : EPOCH 23 - PROGRESS: at 65.27% examples, 373881 words/s, in_qsize 15, out_qsize 0\n",
            "2020-05-04 22:36:06,888 : INFO : EPOCH 23 - PROGRESS: at 69.61% examples, 372264 words/s, in_qsize 15, out_qsize 0\n",
            "2020-05-04 22:36:08,009 : INFO : EPOCH 23 - PROGRESS: at 74.81% examples, 372882 words/s, in_qsize 16, out_qsize 0\n",
            "2020-05-04 22:36:09,177 : INFO : EPOCH 23 - PROGRESS: at 79.92% examples, 371931 words/s, in_qsize 9, out_qsize 6\n",
            "2020-05-04 22:36:10,219 : INFO : EPOCH 23 - PROGRESS: at 84.91% examples, 373136 words/s, in_qsize 14, out_qsize 1\n",
            "2020-05-04 22:36:11,234 : INFO : EPOCH 23 - PROGRESS: at 89.34% examples, 372435 words/s, in_qsize 15, out_qsize 3\n",
            "2020-05-04 22:36:12,234 : INFO : EPOCH 23 - PROGRESS: at 94.14% examples, 373346 words/s, in_qsize 14, out_qsize 1\n",
            "2020-05-04 22:36:13,255 : INFO : EPOCH 23 - PROGRESS: at 99.11% examples, 374659 words/s, in_qsize 9, out_qsize 0\n",
            "2020-05-04 22:36:13,311 : INFO : worker thread finished; awaiting finish of 7 more threads\n",
            "2020-05-04 22:36:13,324 : INFO : worker thread finished; awaiting finish of 6 more threads\n",
            "2020-05-04 22:36:13,329 : INFO : worker thread finished; awaiting finish of 5 more threads\n",
            "2020-05-04 22:36:13,337 : INFO : worker thread finished; awaiting finish of 4 more threads\n",
            "2020-05-04 22:36:13,344 : INFO : worker thread finished; awaiting finish of 3 more threads\n",
            "2020-05-04 22:36:13,354 : INFO : worker thread finished; awaiting finish of 2 more threads\n",
            "2020-05-04 22:36:13,360 : INFO : worker thread finished; awaiting finish of 1 more threads\n",
            "2020-05-04 22:36:13,367 : INFO : worker thread finished; awaiting finish of 0 more threads\n",
            "2020-05-04 22:36:13,367 : INFO : EPOCH - 23 : training on 9227204 raw words (8223697 effective words) took 21.9s, 376046 effective words/s\n",
            "2020-05-04 22:36:14,388 : INFO : EPOCH 24 - PROGRESS: at 3.91% examples, 318219 words/s, in_qsize 15, out_qsize 0\n",
            "2020-05-04 22:36:15,408 : INFO : EPOCH 24 - PROGRESS: at 9.12% examples, 369092 words/s, in_qsize 15, out_qsize 0\n",
            "2020-05-04 22:36:16,409 : INFO : EPOCH 24 - PROGRESS: at 13.36% examples, 361821 words/s, in_qsize 15, out_qsize 0\n",
            "2020-05-04 22:36:17,415 : INFO : EPOCH 24 - PROGRESS: at 18.32% examples, 373120 words/s, in_qsize 15, out_qsize 0\n",
            "2020-05-04 22:36:18,505 : INFO : EPOCH 24 - PROGRESS: at 22.98% examples, 368557 words/s, in_qsize 15, out_qsize 0\n",
            "2020-05-04 22:36:19,674 : INFO : EPOCH 24 - PROGRESS: at 28.18% examples, 368012 words/s, in_qsize 12, out_qsize 5\n",
            "2020-05-04 22:36:20,691 : INFO : EPOCH 24 - PROGRESS: at 33.48% examples, 376544 words/s, in_qsize 15, out_qsize 0\n",
            "2020-05-04 22:36:21,695 : INFO : EPOCH 24 - PROGRESS: at 37.81% examples, 373970 words/s, in_qsize 15, out_qsize 1\n",
            "2020-05-04 22:36:22,745 : INFO : EPOCH 24 - PROGRESS: at 42.35% examples, 371991 words/s, in_qsize 16, out_qsize 0\n",
            "2020-05-04 22:36:23,765 : INFO : EPOCH 24 - PROGRESS: at 47.32% examples, 374926 words/s, in_qsize 15, out_qsize 0\n",
            "2020-05-04 22:36:24,772 : INFO : EPOCH 24 - PROGRESS: at 52.07% examples, 376208 words/s, in_qsize 15, out_qsize 0\n",
            "2020-05-04 22:36:25,830 : INFO : EPOCH 24 - PROGRESS: at 56.73% examples, 375030 words/s, in_qsize 15, out_qsize 0\n",
            "2020-05-04 22:36:26,858 : INFO : EPOCH 24 - PROGRESS: at 61.17% examples, 373541 words/s, in_qsize 14, out_qsize 1\n",
            "2020-05-04 22:36:27,913 : INFO : EPOCH 24 - PROGRESS: at 65.82% examples, 372762 words/s, in_qsize 16, out_qsize 4\n",
            "2020-05-04 22:36:28,924 : INFO : EPOCH 24 - PROGRESS: at 71.02% examples, 376020 words/s, in_qsize 15, out_qsize 0\n",
            "2020-05-04 22:36:29,996 : INFO : EPOCH 24 - PROGRESS: at 75.78% examples, 375353 words/s, in_qsize 15, out_qsize 0\n",
            "2020-05-04 22:36:31,046 : INFO : EPOCH 24 - PROGRESS: at 80.57% examples, 375224 words/s, in_qsize 15, out_qsize 0\n",
            "2020-05-04 22:36:32,147 : INFO : EPOCH 24 - PROGRESS: at 85.34% examples, 374087 words/s, in_qsize 14, out_qsize 2\n",
            "2020-05-04 22:36:33,226 : INFO : EPOCH 24 - PROGRESS: at 90.33% examples, 374383 words/s, in_qsize 15, out_qsize 0\n",
            "2020-05-04 22:36:34,231 : INFO : EPOCH 24 - PROGRESS: at 95.01% examples, 374697 words/s, in_qsize 15, out_qsize 1\n",
            "2020-05-04 22:36:35,124 : INFO : worker thread finished; awaiting finish of 7 more threads\n",
            "2020-05-04 22:36:35,143 : INFO : worker thread finished; awaiting finish of 6 more threads\n",
            "2020-05-04 22:36:35,151 : INFO : worker thread finished; awaiting finish of 5 more threads\n",
            "2020-05-04 22:36:35,168 : INFO : worker thread finished; awaiting finish of 4 more threads\n",
            "2020-05-04 22:36:35,175 : INFO : worker thread finished; awaiting finish of 3 more threads\n",
            "2020-05-04 22:36:35,194 : INFO : worker thread finished; awaiting finish of 2 more threads\n",
            "2020-05-04 22:36:35,208 : INFO : worker thread finished; awaiting finish of 1 more threads\n",
            "2020-05-04 22:36:35,209 : INFO : worker thread finished; awaiting finish of 0 more threads\n",
            "2020-05-04 22:36:35,210 : INFO : EPOCH - 24 : training on 9227204 raw words (8223232 effective words) took 21.8s, 376699 effective words/s\n",
            "2020-05-04 22:36:36,257 : INFO : EPOCH 25 - PROGRESS: at 4.02% examples, 326262 words/s, in_qsize 14, out_qsize 2\n",
            "2020-05-04 22:36:37,301 : INFO : EPOCH 25 - PROGRESS: at 8.90% examples, 351554 words/s, in_qsize 15, out_qsize 1\n",
            "2020-05-04 22:36:38,302 : INFO : EPOCH 25 - PROGRESS: at 13.90% examples, 370359 words/s, in_qsize 14, out_qsize 1\n",
            "2020-05-04 22:36:39,364 : INFO : EPOCH 25 - PROGRESS: at 18.54% examples, 367792 words/s, in_qsize 15, out_qsize 0\n",
            "2020-05-04 22:36:40,388 : INFO : EPOCH 25 - PROGRESS: at 23.08% examples, 367395 words/s, in_qsize 13, out_qsize 2\n",
            "2020-05-04 22:36:41,424 : INFO : EPOCH 25 - PROGRESS: at 28.07% examples, 372102 words/s, in_qsize 15, out_qsize 0\n",
            "2020-05-04 22:36:42,434 : INFO : EPOCH 25 - PROGRESS: at 32.30% examples, 368188 words/s, in_qsize 15, out_qsize 0\n",
            "2020-05-04 22:36:43,571 : INFO : EPOCH 25 - PROGRESS: at 37.27% examples, 367111 words/s, in_qsize 16, out_qsize 1\n",
            "2020-05-04 22:36:44,574 : INFO : EPOCH 25 - PROGRESS: at 41.91% examples, 368680 words/s, in_qsize 16, out_qsize 3\n",
            "2020-05-04 22:36:45,618 : INFO : EPOCH 25 - PROGRESS: at 46.78% examples, 370240 words/s, in_qsize 15, out_qsize 0\n",
            "2020-05-04 22:36:46,720 : INFO : EPOCH 25 - PROGRESS: at 51.54% examples, 369754 words/s, in_qsize 14, out_qsize 4\n",
            "2020-05-04 22:36:47,693 : INFO : EPOCH 25 - PROGRESS: at 56.18% examples, 370830 words/s, in_qsize 16, out_qsize 1\n",
            "2020-05-04 22:36:48,728 : INFO : EPOCH 25 - PROGRESS: at 60.52% examples, 368795 words/s, in_qsize 16, out_qsize 6\n",
            "2020-05-04 22:36:49,767 : INFO : EPOCH 25 - PROGRESS: at 65.72% examples, 371875 words/s, in_qsize 15, out_qsize 0\n",
            "2020-05-04 22:36:50,812 : INFO : EPOCH 25 - PROGRESS: at 70.59% examples, 372648 words/s, in_qsize 15, out_qsize 0\n",
            "2020-05-04 22:36:51,831 : INFO : EPOCH 25 - PROGRESS: at 75.24% examples, 372849 words/s, in_qsize 15, out_qsize 0\n",
            "2020-05-04 22:36:52,847 : INFO : EPOCH 25 - PROGRESS: at 79.92% examples, 373072 words/s, in_qsize 15, out_qsize 0\n",
            "2020-05-04 22:36:53,928 : INFO : EPOCH 25 - PROGRESS: at 84.70% examples, 372482 words/s, in_qsize 15, out_qsize 0\n",
            "2020-05-04 22:36:55,003 : INFO : EPOCH 25 - PROGRESS: at 89.56% examples, 372494 words/s, in_qsize 14, out_qsize 1\n",
            "2020-05-04 22:36:56,010 : INFO : EPOCH 25 - PROGRESS: at 94.58% examples, 374136 words/s, in_qsize 15, out_qsize 0\n",
            "2020-05-04 22:36:57,019 : INFO : EPOCH 25 - PROGRESS: at 98.90% examples, 373151 words/s, in_qsize 11, out_qsize 0\n",
            "2020-05-04 22:36:57,030 : INFO : worker thread finished; awaiting finish of 7 more threads\n",
            "2020-05-04 22:36:57,053 : INFO : worker thread finished; awaiting finish of 6 more threads\n",
            "2020-05-04 22:36:57,054 : INFO : worker thread finished; awaiting finish of 5 more threads\n",
            "2020-05-04 22:36:57,067 : INFO : worker thread finished; awaiting finish of 4 more threads\n",
            "2020-05-04 22:36:57,102 : INFO : worker thread finished; awaiting finish of 3 more threads\n",
            "2020-05-04 22:36:57,121 : INFO : worker thread finished; awaiting finish of 2 more threads\n",
            "2020-05-04 22:36:57,129 : INFO : worker thread finished; awaiting finish of 1 more threads\n",
            "2020-05-04 22:36:57,134 : INFO : worker thread finished; awaiting finish of 0 more threads\n",
            "2020-05-04 22:36:57,134 : INFO : EPOCH - 25 : training on 9227204 raw words (8223485 effective words) took 21.9s, 375299 effective words/s\n",
            "2020-05-04 22:36:58,199 : INFO : EPOCH 26 - PROGRESS: at 4.23% examples, 330802 words/s, in_qsize 15, out_qsize 0\n",
            "2020-05-04 22:36:59,210 : INFO : EPOCH 26 - PROGRESS: at 8.69% examples, 345698 words/s, in_qsize 10, out_qsize 5\n",
            "2020-05-04 22:37:00,268 : INFO : EPOCH 26 - PROGRESS: at 13.68% examples, 359769 words/s, in_qsize 15, out_qsize 0\n",
            "2020-05-04 22:37:01,362 : INFO : EPOCH 26 - PROGRESS: at 18.76% examples, 365639 words/s, in_qsize 14, out_qsize 1\n",
            "2020-05-04 22:37:02,369 : INFO : EPOCH 26 - PROGRESS: at 23.41% examples, 368578 words/s, in_qsize 14, out_qsize 2\n",
            "2020-05-04 22:37:03,411 : INFO : EPOCH 26 - PROGRESS: at 27.96% examples, 366984 words/s, in_qsize 15, out_qsize 0\n",
            "2020-05-04 22:37:04,438 : INFO : EPOCH 26 - PROGRESS: at 32.73% examples, 369046 words/s, in_qsize 13, out_qsize 2\n",
            "2020-05-04 22:37:05,506 : INFO : EPOCH 26 - PROGRESS: at 37.70% examples, 370933 words/s, in_qsize 15, out_qsize 0\n",
            "2020-05-04 22:37:06,517 : INFO : EPOCH 26 - PROGRESS: at 42.56% examples, 373708 words/s, in_qsize 16, out_qsize 2\n",
            "2020-05-04 22:37:07,523 : INFO : EPOCH 26 - PROGRESS: at 47.32% examples, 375221 words/s, in_qsize 14, out_qsize 0\n",
            "2020-05-04 22:37:08,576 : INFO : EPOCH 26 - PROGRESS: at 51.86% examples, 373411 words/s, in_qsize 15, out_qsize 0\n",
            "2020-05-04 22:37:09,593 : INFO : EPOCH 26 - PROGRESS: at 56.84% examples, 375808 words/s, in_qsize 15, out_qsize 0\n",
            "2020-05-04 22:37:10,641 : INFO : EPOCH 26 - PROGRESS: at 61.28% examples, 373689 words/s, in_qsize 15, out_qsize 0\n",
            "2020-05-04 22:37:11,717 : INFO : EPOCH 26 - PROGRESS: at 66.36% examples, 374810 words/s, in_qsize 15, out_qsize 0\n",
            "2020-05-04 22:37:12,735 : INFO : EPOCH 26 - PROGRESS: at 71.02% examples, 374913 words/s, in_qsize 15, out_qsize 0\n",
            "2020-05-04 22:37:13,807 : INFO : EPOCH 26 - PROGRESS: at 75.57% examples, 373238 words/s, in_qsize 11, out_qsize 4\n",
            "2020-05-04 22:37:14,835 : INFO : EPOCH 26 - PROGRESS: at 80.80% examples, 375710 words/s, in_qsize 16, out_qsize 0\n",
            "2020-05-04 22:37:15,845 : INFO : EPOCH 26 - PROGRESS: at 85.55% examples, 376367 words/s, in_qsize 13, out_qsize 0\n",
            "2020-05-04 22:37:16,884 : INFO : EPOCH 26 - PROGRESS: at 89.89% examples, 374605 words/s, in_qsize 11, out_qsize 4\n",
            "2020-05-04 22:37:17,932 : INFO : EPOCH 26 - PROGRESS: at 94.69% examples, 374554 words/s, in_qsize 16, out_qsize 3\n",
            "2020-05-04 22:37:18,825 : INFO : worker thread finished; awaiting finish of 7 more threads\n",
            "2020-05-04 22:37:18,828 : INFO : worker thread finished; awaiting finish of 6 more threads\n",
            "2020-05-04 22:37:18,845 : INFO : worker thread finished; awaiting finish of 5 more threads\n",
            "2020-05-04 22:37:18,850 : INFO : worker thread finished; awaiting finish of 4 more threads\n",
            "2020-05-04 22:37:18,875 : INFO : worker thread finished; awaiting finish of 3 more threads\n",
            "2020-05-04 22:37:18,891 : INFO : worker thread finished; awaiting finish of 2 more threads\n",
            "2020-05-04 22:37:18,906 : INFO : worker thread finished; awaiting finish of 1 more threads\n",
            "2020-05-04 22:37:18,911 : INFO : worker thread finished; awaiting finish of 0 more threads\n",
            "2020-05-04 22:37:18,912 : INFO : EPOCH - 26 : training on 9227204 raw words (8222044 effective words) took 21.8s, 377787 effective words/s\n",
            "2020-05-04 22:37:19,949 : INFO : EPOCH 27 - PROGRESS: at 4.13% examples, 330208 words/s, in_qsize 15, out_qsize 0\n",
            "2020-05-04 22:37:20,952 : INFO : EPOCH 27 - PROGRESS: at 8.69% examples, 351446 words/s, in_qsize 13, out_qsize 2\n",
            "2020-05-04 22:37:21,980 : INFO : EPOCH 27 - PROGRESS: at 13.47% examples, 361463 words/s, in_qsize 15, out_qsize 0\n",
            "2020-05-04 22:37:23,018 : INFO : EPOCH 27 - PROGRESS: at 18.11% examples, 363330 words/s, in_qsize 15, out_qsize 0\n",
            "2020-05-04 22:37:24,080 : INFO : EPOCH 27 - PROGRESS: at 23.20% examples, 369729 words/s, in_qsize 15, out_qsize 0\n",
            "2020-05-04 22:37:25,149 : INFO : EPOCH 27 - PROGRESS: at 27.86% examples, 367788 words/s, in_qsize 15, out_qsize 0\n",
            "2020-05-04 22:37:26,186 : INFO : EPOCH 27 - PROGRESS: at 32.30% examples, 365578 words/s, in_qsize 15, out_qsize 2\n",
            "2020-05-04 22:37:27,206 : INFO : EPOCH 27 - PROGRESS: at 37.27% examples, 369980 words/s, in_qsize 15, out_qsize 0\n",
            "2020-05-04 22:37:28,224 : INFO : EPOCH 27 - PROGRESS: at 42.24% examples, 373535 words/s, in_qsize 16, out_qsize 0\n",
            "2020-05-04 22:37:29,243 : INFO : EPOCH 27 - PROGRESS: at 46.46% examples, 370323 words/s, in_qsize 15, out_qsize 0\n",
            "2020-05-04 22:37:30,310 : INFO : EPOCH 27 - PROGRESS: at 51.10% examples, 369269 words/s, in_qsize 15, out_qsize 0\n",
            "2020-05-04 22:37:31,403 : INFO : EPOCH 27 - PROGRESS: at 56.08% examples, 369786 words/s, in_qsize 15, out_qsize 0\n",
            "2020-05-04 22:37:32,484 : INFO : EPOCH 27 - PROGRESS: at 61.07% examples, 370519 words/s, in_qsize 15, out_qsize 0\n",
            "2020-05-04 22:37:33,548 : INFO : EPOCH 27 - PROGRESS: at 65.72% examples, 369739 words/s, in_qsize 14, out_qsize 1\n",
            "2020-05-04 22:37:34,589 : INFO : EPOCH 27 - PROGRESS: at 70.37% examples, 369620 words/s, in_qsize 15, out_qsize 0\n",
            "2020-05-04 22:37:35,628 : INFO : EPOCH 27 - PROGRESS: at 75.14% examples, 370088 words/s, in_qsize 16, out_qsize 0\n",
            "2020-05-04 22:37:36,661 : INFO : EPOCH 27 - PROGRESS: at 79.92% examples, 370613 words/s, in_qsize 15, out_qsize 0\n",
            "2020-05-04 22:37:37,703 : INFO : EPOCH 27 - PROGRESS: at 84.48% examples, 369978 words/s, in_qsize 15, out_qsize 0\n",
            "2020-05-04 22:37:38,705 : INFO : EPOCH 27 - PROGRESS: at 89.13% examples, 370607 words/s, in_qsize 15, out_qsize 0\n",
            "2020-05-04 22:37:39,715 : INFO : EPOCH 27 - PROGRESS: at 94.25% examples, 372713 words/s, in_qsize 15, out_qsize 0\n",
            "2020-05-04 22:37:40,717 : INFO : EPOCH 27 - PROGRESS: at 98.69% examples, 372344 words/s, in_qsize 12, out_qsize 1\n",
            "2020-05-04 22:37:40,855 : INFO : worker thread finished; awaiting finish of 7 more threads\n",
            "2020-05-04 22:37:40,858 : INFO : worker thread finished; awaiting finish of 6 more threads\n",
            "2020-05-04 22:37:40,865 : INFO : worker thread finished; awaiting finish of 5 more threads\n",
            "2020-05-04 22:37:40,879 : INFO : worker thread finished; awaiting finish of 4 more threads\n",
            "2020-05-04 22:37:40,887 : INFO : worker thread finished; awaiting finish of 3 more threads\n",
            "2020-05-04 22:37:40,893 : INFO : worker thread finished; awaiting finish of 2 more threads\n",
            "2020-05-04 22:37:40,925 : INFO : worker thread finished; awaiting finish of 1 more threads\n",
            "2020-05-04 22:37:40,928 : INFO : worker thread finished; awaiting finish of 0 more threads\n",
            "2020-05-04 22:37:40,929 : INFO : EPOCH - 27 : training on 9227204 raw words (8222398 effective words) took 22.0s, 373650 effective words/s\n",
            "2020-05-04 22:37:42,025 : INFO : EPOCH 28 - PROGRESS: at 4.34% examples, 327706 words/s, in_qsize 15, out_qsize 0\n",
            "2020-05-04 22:37:43,059 : INFO : EPOCH 28 - PROGRESS: at 8.90% examples, 344405 words/s, in_qsize 15, out_qsize 0\n",
            "2020-05-04 22:37:44,098 : INFO : EPOCH 28 - PROGRESS: at 13.47% examples, 353690 words/s, in_qsize 15, out_qsize 3\n",
            "2020-05-04 22:37:45,198 : INFO : EPOCH 28 - PROGRESS: at 18.65% examples, 359580 words/s, in_qsize 15, out_qsize 0\n",
            "2020-05-04 22:37:46,212 : INFO : EPOCH 28 - PROGRESS: at 23.52% examples, 366599 words/s, in_qsize 13, out_qsize 1\n",
            "2020-05-04 22:37:47,290 : INFO : EPOCH 28 - PROGRESS: at 28.18% examples, 364656 words/s, in_qsize 15, out_qsize 0\n",
            "2020-05-04 22:37:48,316 : INFO : EPOCH 28 - PROGRESS: at 32.62% examples, 363427 words/s, in_qsize 14, out_qsize 6\n",
            "2020-05-04 22:37:49,327 : INFO : EPOCH 28 - PROGRESS: at 37.92% examples, 371665 words/s, in_qsize 15, out_qsize 0\n",
            "2020-05-04 22:37:50,395 : INFO : EPOCH 28 - PROGRESS: at 42.68% examples, 371149 words/s, in_qsize 16, out_qsize 0\n",
            "2020-05-04 22:37:51,500 : INFO : EPOCH 28 - PROGRESS: at 47.54% examples, 370284 words/s, in_qsize 15, out_qsize 0\n",
            "2020-05-04 22:37:52,510 : INFO : EPOCH 28 - PROGRESS: at 52.51% examples, 373408 words/s, in_qsize 15, out_qsize 0\n",
            "2020-05-04 22:37:53,517 : INFO : EPOCH 28 - PROGRESS: at 57.06% examples, 373242 words/s, in_qsize 15, out_qsize 0\n",
            "2020-05-04 22:37:54,538 : INFO : EPOCH 28 - PROGRESS: at 61.60% examples, 372733 words/s, in_qsize 14, out_qsize 1\n",
            "2020-05-04 22:37:55,562 : INFO : EPOCH 28 - PROGRESS: at 65.93% examples, 370991 words/s, in_qsize 15, out_qsize 0\n",
            "2020-05-04 22:37:56,582 : INFO : EPOCH 28 - PROGRESS: at 70.59% examples, 371293 words/s, in_qsize 15, out_qsize 0\n",
            "2020-05-04 22:37:57,633 : INFO : EPOCH 28 - PROGRESS: at 75.57% examples, 372455 words/s, in_qsize 15, out_qsize 0\n",
            "2020-05-04 22:37:58,635 : INFO : EPOCH 28 - PROGRESS: at 80.47% examples, 374021 words/s, in_qsize 13, out_qsize 1\n",
            "2020-05-04 22:37:59,687 : INFO : EPOCH 28 - PROGRESS: at 85.02% examples, 373730 words/s, in_qsize 16, out_qsize 1\n",
            "2020-05-04 22:38:00,667 : INFO : EPOCH 28 - PROGRESS: at 89.67% examples, 373861 words/s, in_qsize 16, out_qsize 0\n",
            "2020-05-04 22:38:01,679 : INFO : EPOCH 28 - PROGRESS: at 94.14% examples, 373201 words/s, in_qsize 15, out_qsize 0\n",
            "2020-05-04 22:38:02,709 : INFO : EPOCH 28 - PROGRESS: at 98.90% examples, 373560 words/s, in_qsize 11, out_qsize 0\n",
            "2020-05-04 22:38:02,748 : INFO : worker thread finished; awaiting finish of 7 more threads\n",
            "2020-05-04 22:38:02,751 : INFO : worker thread finished; awaiting finish of 6 more threads\n",
            "2020-05-04 22:38:02,766 : INFO : worker thread finished; awaiting finish of 5 more threads\n",
            "2020-05-04 22:38:02,767 : INFO : worker thread finished; awaiting finish of 4 more threads\n",
            "2020-05-04 22:38:02,769 : INFO : worker thread finished; awaiting finish of 3 more threads\n",
            "2020-05-04 22:38:02,809 : INFO : worker thread finished; awaiting finish of 2 more threads\n",
            "2020-05-04 22:38:02,815 : INFO : worker thread finished; awaiting finish of 1 more threads\n",
            "2020-05-04 22:38:02,827 : INFO : worker thread finished; awaiting finish of 0 more threads\n",
            "2020-05-04 22:38:02,828 : INFO : EPOCH - 28 : training on 9227204 raw words (8222649 effective words) took 21.9s, 375652 effective words/s\n",
            "2020-05-04 22:38:03,916 : INFO : EPOCH 29 - PROGRESS: at 4.24% examples, 322414 words/s, in_qsize 14, out_qsize 1\n",
            "2020-05-04 22:38:04,975 : INFO : EPOCH 29 - PROGRESS: at 9.34% examples, 358731 words/s, in_qsize 15, out_qsize 0\n",
            "2020-05-04 22:38:05,983 : INFO : EPOCH 29 - PROGRESS: at 13.68% examples, 356949 words/s, in_qsize 15, out_qsize 2\n",
            "2020-05-04 22:38:07,068 : INFO : EPOCH 29 - PROGRESS: at 18.65% examples, 362229 words/s, in_qsize 16, out_qsize 0\n",
            "2020-05-04 22:38:08,077 : INFO : EPOCH 29 - PROGRESS: at 23.52% examples, 369061 words/s, in_qsize 15, out_qsize 0\n",
            "2020-05-04 22:38:09,077 : INFO : EPOCH 29 - PROGRESS: at 27.96% examples, 368413 words/s, in_qsize 16, out_qsize 0\n",
            "2020-05-04 22:38:10,129 : INFO : EPOCH 29 - PROGRESS: at 32.62% examples, 367809 words/s, in_qsize 9, out_qsize 6\n",
            "2020-05-04 22:38:11,197 : INFO : EPOCH 29 - PROGRESS: at 37.92% examples, 373070 words/s, in_qsize 16, out_qsize 0\n",
            "2020-05-04 22:38:12,256 : INFO : EPOCH 29 - PROGRESS: at 42.68% examples, 372737 words/s, in_qsize 14, out_qsize 1\n",
            "2020-05-04 22:38:13,278 : INFO : EPOCH 29 - PROGRESS: at 47.43% examples, 373746 words/s, in_qsize 16, out_qsize 0\n",
            "2020-05-04 22:38:14,288 : INFO : EPOCH 29 - PROGRESS: at 52.18% examples, 375045 words/s, in_qsize 15, out_qsize 0\n",
            "2020-05-04 22:38:15,429 : INFO : EPOCH 29 - PROGRESS: at 57.16% examples, 373649 words/s, in_qsize 15, out_qsize 0\n",
            "2020-05-04 22:38:16,452 : INFO : EPOCH 29 - PROGRESS: at 62.14% examples, 375677 words/s, in_qsize 16, out_qsize 0\n",
            "2020-05-04 22:38:17,454 : INFO : EPOCH 29 - PROGRESS: at 66.36% examples, 373688 words/s, in_qsize 16, out_qsize 0\n",
            "2020-05-04 22:38:18,501 : INFO : EPOCH 29 - PROGRESS: at 70.80% examples, 372023 words/s, in_qsize 16, out_qsize 1\n",
            "2020-05-04 22:38:19,539 : INFO : EPOCH 29 - PROGRESS: at 75.78% examples, 373430 words/s, in_qsize 16, out_qsize 2\n",
            "2020-05-04 22:38:20,539 : INFO : EPOCH 29 - PROGRESS: at 80.25% examples, 372953 words/s, in_qsize 14, out_qsize 1\n",
            "2020-05-04 22:38:21,618 : INFO : EPOCH 29 - PROGRESS: at 85.23% examples, 373341 words/s, in_qsize 16, out_qsize 1\n",
            "2020-05-04 22:38:22,638 : INFO : EPOCH 29 - PROGRESS: at 90.22% examples, 374797 words/s, in_qsize 15, out_qsize 0\n",
            "2020-05-04 22:38:23,663 : INFO : EPOCH 29 - PROGRESS: at 94.58% examples, 373443 words/s, in_qsize 14, out_qsize 1\n",
            "2020-05-04 22:38:24,637 : INFO : worker thread finished; awaiting finish of 7 more threads\n",
            "2020-05-04 22:38:24,643 : INFO : worker thread finished; awaiting finish of 6 more threads\n",
            "2020-05-04 22:38:24,649 : INFO : worker thread finished; awaiting finish of 5 more threads\n",
            "2020-05-04 22:38:24,653 : INFO : worker thread finished; awaiting finish of 4 more threads\n",
            "2020-05-04 22:38:24,661 : INFO : worker thread finished; awaiting finish of 3 more threads\n",
            "2020-05-04 22:38:24,664 : INFO : EPOCH 29 - PROGRESS: at 99.78% examples, 375950 words/s, in_qsize 2, out_qsize 1\n",
            "2020-05-04 22:38:24,665 : INFO : worker thread finished; awaiting finish of 2 more threads\n",
            "2020-05-04 22:38:24,674 : INFO : worker thread finished; awaiting finish of 1 more threads\n",
            "2020-05-04 22:38:24,696 : INFO : worker thread finished; awaiting finish of 0 more threads\n",
            "2020-05-04 22:38:24,697 : INFO : EPOCH - 29 : training on 9227204 raw words (8222912 effective words) took 21.9s, 376196 effective words/s\n",
            "2020-05-04 22:38:25,726 : INFO : EPOCH 30 - PROGRESS: at 4.45% examples, 358730 words/s, in_qsize 15, out_qsize 0\n",
            "2020-05-04 22:38:26,854 : INFO : EPOCH 30 - PROGRESS: at 9.01% examples, 344550 words/s, in_qsize 15, out_qsize 0\n",
            "2020-05-04 22:38:27,950 : INFO : EPOCH 30 - PROGRESS: at 14.22% examples, 359874 words/s, in_qsize 15, out_qsize 0\n",
            "2020-05-04 22:38:28,970 : INFO : EPOCH 30 - PROGRESS: at 18.65% examples, 359675 words/s, in_qsize 15, out_qsize 2\n",
            "2020-05-04 22:38:30,002 : INFO : EPOCH 30 - PROGRESS: at 23.52% examples, 365166 words/s, in_qsize 15, out_qsize 0\n",
            "2020-05-04 22:38:31,087 : INFO : EPOCH 30 - PROGRESS: at 28.40% examples, 365864 words/s, in_qsize 15, out_qsize 0\n",
            "2020-05-04 22:38:32,165 : INFO : EPOCH 30 - PROGRESS: at 33.37% examples, 368966 words/s, in_qsize 16, out_qsize 0\n",
            "2020-05-04 22:38:33,149 : INFO : EPOCH 30 - PROGRESS: at 37.70% examples, 367243 words/s, in_qsize 15, out_qsize 0\n",
            "2020-05-04 22:38:34,194 : INFO : EPOCH 30 - PROGRESS: at 42.57% examples, 369046 words/s, in_qsize 15, out_qsize 0\n",
            "2020-05-04 22:38:35,219 : INFO : EPOCH 30 - PROGRESS: at 47.11% examples, 368628 words/s, in_qsize 16, out_qsize 1\n",
            "2020-05-04 22:38:36,314 : INFO : EPOCH 30 - PROGRESS: at 51.97% examples, 368389 words/s, in_qsize 13, out_qsize 2\n",
            "2020-05-04 22:38:37,374 : INFO : EPOCH 30 - PROGRESS: at 57.06% examples, 370631 words/s, in_qsize 15, out_qsize 0\n",
            "2020-05-04 22:38:38,470 : INFO : EPOCH 30 - PROGRESS: at 62.14% examples, 371514 words/s, in_qsize 15, out_qsize 0\n",
            "2020-05-04 22:38:39,508 : INFO : EPOCH 30 - PROGRESS: at 66.80% examples, 371318 words/s, in_qsize 15, out_qsize 0\n",
            "2020-05-04 22:38:40,520 : INFO : EPOCH 30 - PROGRESS: at 71.24% examples, 370673 words/s, in_qsize 13, out_qsize 5\n",
            "2020-05-04 22:38:41,544 : INFO : EPOCH 30 - PROGRESS: at 76.22% examples, 372452 words/s, in_qsize 15, out_qsize 0\n",
            "2020-05-04 22:38:42,546 : INFO : EPOCH 30 - PROGRESS: at 81.12% examples, 374003 words/s, in_qsize 16, out_qsize 0\n",
            "2020-05-04 22:38:43,571 : INFO : EPOCH 30 - PROGRESS: at 85.34% examples, 372095 words/s, in_qsize 15, out_qsize 0\n",
            "2020-05-04 22:38:44,601 : INFO : EPOCH 30 - PROGRESS: at 90.11% examples, 372524 words/s, in_qsize 15, out_qsize 0\n",
            "2020-05-04 22:38:45,606 : INFO : EPOCH 30 - PROGRESS: at 94.79% examples, 372932 words/s, in_qsize 15, out_qsize 0\n",
            "2020-05-04 22:38:46,504 : INFO : worker thread finished; awaiting finish of 7 more threads\n",
            "2020-05-04 22:38:46,553 : INFO : worker thread finished; awaiting finish of 6 more threads\n",
            "2020-05-04 22:38:46,564 : INFO : worker thread finished; awaiting finish of 5 more threads\n",
            "2020-05-04 22:38:46,582 : INFO : worker thread finished; awaiting finish of 4 more threads\n",
            "2020-05-04 22:38:46,588 : INFO : worker thread finished; awaiting finish of 3 more threads\n",
            "2020-05-04 22:38:46,603 : INFO : worker thread finished; awaiting finish of 2 more threads\n",
            "2020-05-04 22:38:46,608 : INFO : EPOCH 30 - PROGRESS: at 99.89% examples, 375029 words/s, in_qsize 1, out_qsize 1\n",
            "2020-05-04 22:38:46,609 : INFO : worker thread finished; awaiting finish of 1 more threads\n",
            "2020-05-04 22:38:46,611 : INFO : worker thread finished; awaiting finish of 0 more threads\n",
            "2020-05-04 22:38:46,612 : INFO : EPOCH - 30 : training on 9227204 raw words (8222147 effective words) took 21.9s, 375370 effective words/s\n",
            "2020-05-04 22:38:47,635 : INFO : EPOCH 31 - PROGRESS: at 3.91% examples, 315787 words/s, in_qsize 15, out_qsize 0\n",
            "2020-05-04 22:38:48,667 : INFO : EPOCH 31 - PROGRESS: at 8.69% examples, 348147 words/s, in_qsize 14, out_qsize 1\n",
            "2020-05-04 22:38:49,684 : INFO : EPOCH 31 - PROGRESS: at 13.68% examples, 366378 words/s, in_qsize 15, out_qsize 0\n",
            "2020-05-04 22:38:50,704 : INFO : EPOCH 31 - PROGRESS: at 18.00% examples, 362097 words/s, in_qsize 13, out_qsize 2\n",
            "2020-05-04 22:38:51,725 : INFO : EPOCH 31 - PROGRESS: at 22.76% examples, 366564 words/s, in_qsize 15, out_qsize 0\n",
            "2020-05-04 22:38:52,754 : INFO : EPOCH 31 - PROGRESS: at 27.64% examples, 371436 words/s, in_qsize 15, out_qsize 1\n",
            "2020-05-04 22:38:53,781 : INFO : EPOCH 31 - PROGRESS: at 32.08% examples, 368310 words/s, in_qsize 15, out_qsize 3\n",
            "2020-05-04 22:38:54,838 : INFO : EPOCH 31 - PROGRESS: at 36.94% examples, 369689 words/s, in_qsize 16, out_qsize 1\n",
            "2020-05-04 22:38:55,839 : INFO : EPOCH 31 - PROGRESS: at 41.92% examples, 374000 words/s, in_qsize 15, out_qsize 0\n",
            "2020-05-04 22:38:56,849 : INFO : EPOCH 31 - PROGRESS: at 46.57% examples, 374497 words/s, in_qsize 16, out_qsize 0\n",
            "2020-05-04 22:38:57,883 : INFO : EPOCH 31 - PROGRESS: at 50.78% examples, 370972 words/s, in_qsize 16, out_qsize 0\n",
            "2020-05-04 22:38:58,936 : INFO : EPOCH 31 - PROGRESS: at 55.75% examples, 372584 words/s, in_qsize 15, out_qsize 0\n",
            "2020-05-04 22:38:59,963 : INFO : EPOCH 31 - PROGRESS: at 60.20% examples, 371268 words/s, in_qsize 15, out_qsize 0\n",
            "2020-05-04 22:39:01,038 : INFO : EPOCH 31 - PROGRESS: at 65.17% examples, 372018 words/s, in_qsize 15, out_qsize 0\n",
            "2020-05-04 22:39:02,050 : INFO : EPOCH 31 - PROGRESS: at 70.05% examples, 373605 words/s, in_qsize 16, out_qsize 2\n",
            "2020-05-04 22:39:03,074 : INFO : EPOCH 31 - PROGRESS: at 74.59% examples, 373088 words/s, in_qsize 16, out_qsize 1\n",
            "2020-05-04 22:39:04,110 : INFO : EPOCH 31 - PROGRESS: at 79.27% examples, 372862 words/s, in_qsize 14, out_qsize 3\n",
            "2020-05-04 22:39:05,176 : INFO : EPOCH 31 - PROGRESS: at 83.94% examples, 372093 words/s, in_qsize 13, out_qsize 2\n",
            "2020-05-04 22:39:06,180 : INFO : EPOCH 31 - PROGRESS: at 88.48% examples, 372105 words/s, in_qsize 15, out_qsize 0\n",
            "2020-05-04 22:39:07,209 : INFO : EPOCH 31 - PROGRESS: at 93.26% examples, 372527 words/s, in_qsize 15, out_qsize 0\n",
            "2020-05-04 22:39:08,278 : INFO : EPOCH 31 - PROGRESS: at 98.04% examples, 372243 words/s, in_qsize 13, out_qsize 2\n",
            "2020-05-04 22:39:08,513 : INFO : worker thread finished; awaiting finish of 7 more threads\n",
            "2020-05-04 22:39:08,515 : INFO : worker thread finished; awaiting finish of 6 more threads\n",
            "2020-05-04 22:39:08,519 : INFO : worker thread finished; awaiting finish of 5 more threads\n",
            "2020-05-04 22:39:08,523 : INFO : worker thread finished; awaiting finish of 4 more threads\n",
            "2020-05-04 22:39:08,532 : INFO : worker thread finished; awaiting finish of 3 more threads\n",
            "2020-05-04 22:39:08,564 : INFO : worker thread finished; awaiting finish of 2 more threads\n",
            "2020-05-04 22:39:08,574 : INFO : worker thread finished; awaiting finish of 1 more threads\n",
            "2020-05-04 22:39:08,575 : INFO : worker thread finished; awaiting finish of 0 more threads\n",
            "2020-05-04 22:39:08,576 : INFO : EPOCH - 31 : training on 9227204 raw words (8222949 effective words) took 22.0s, 374535 effective words/s\n",
            "2020-05-04 22:39:09,671 : INFO : EPOCH 32 - PROGRESS: at 4.34% examples, 329111 words/s, in_qsize 15, out_qsize 0\n",
            "2020-05-04 22:39:10,705 : INFO : EPOCH 32 - PROGRESS: at 9.45% examples, 366292 words/s, in_qsize 16, out_qsize 0\n",
            "2020-05-04 22:39:11,711 : INFO : EPOCH 32 - PROGRESS: at 14.11% examples, 370851 words/s, in_qsize 16, out_qsize 1\n",
            "2020-05-04 22:39:12,719 : INFO : EPOCH 32 - PROGRESS: at 18.32% examples, 364327 words/s, in_qsize 14, out_qsize 1\n",
            "2020-05-04 22:39:13,748 : INFO : EPOCH 32 - PROGRESS: at 22.98% examples, 365979 words/s, in_qsize 11, out_qsize 4\n",
            "2020-05-04 22:39:14,858 : INFO : EPOCH 32 - PROGRESS: at 27.96% examples, 367962 words/s, in_qsize 15, out_qsize 1\n",
            "2020-05-04 22:39:15,933 : INFO : EPOCH 32 - PROGRESS: at 32.84% examples, 367510 words/s, in_qsize 12, out_qsize 4\n",
            "2020-05-04 22:39:16,952 : INFO : EPOCH 32 - PROGRESS: at 37.70% examples, 370670 words/s, in_qsize 15, out_qsize 0\n",
            "2020-05-04 22:39:17,961 : INFO : EPOCH 32 - PROGRESS: at 42.46% examples, 372923 words/s, in_qsize 15, out_qsize 2\n",
            "2020-05-04 22:39:18,966 : INFO : EPOCH 32 - PROGRESS: at 46.99% examples, 372552 words/s, in_qsize 15, out_qsize 0\n",
            "2020-05-04 22:39:20,035 : INFO : EPOCH 32 - PROGRESS: at 51.75% examples, 372050 words/s, in_qsize 15, out_qsize 3\n",
            "2020-05-04 22:39:21,095 : INFO : EPOCH 32 - PROGRESS: at 56.40% examples, 371174 words/s, in_qsize 13, out_qsize 3\n",
            "2020-05-04 22:39:22,100 : INFO : EPOCH 32 - PROGRESS: at 61.28% examples, 373253 words/s, in_qsize 16, out_qsize 0\n",
            "2020-05-04 22:39:23,120 : INFO : EPOCH 32 - PROGRESS: at 65.83% examples, 372777 words/s, in_qsize 15, out_qsize 0\n",
            "2020-05-04 22:39:24,178 : INFO : EPOCH 32 - PROGRESS: at 70.37% examples, 371475 words/s, in_qsize 15, out_qsize 3\n",
            "2020-05-04 22:39:25,250 : INFO : EPOCH 32 - PROGRESS: at 75.46% examples, 372689 words/s, in_qsize 16, out_qsize 2\n",
            "2020-05-04 22:39:26,318 : INFO : EPOCH 32 - PROGRESS: at 80.47% examples, 373346 words/s, in_qsize 15, out_qsize 0\n",
            "2020-05-04 22:39:27,327 : INFO : EPOCH 32 - PROGRESS: at 85.23% examples, 374145 words/s, in_qsize 15, out_qsize 0\n",
            "2020-05-04 22:39:28,350 : INFO : EPOCH 32 - PROGRESS: at 89.89% examples, 374160 words/s, in_qsize 16, out_qsize 0\n",
            "2020-05-04 22:39:29,356 : INFO : EPOCH 32 - PROGRESS: at 94.68% examples, 374883 words/s, in_qsize 15, out_qsize 1\n",
            "2020-05-04 22:39:30,364 : INFO : EPOCH 32 - PROGRESS: at 99.12% examples, 374310 words/s, in_qsize 8, out_qsize 1\n",
            "2020-05-04 22:39:30,392 : INFO : worker thread finished; awaiting finish of 7 more threads\n",
            "2020-05-04 22:39:30,395 : INFO : worker thread finished; awaiting finish of 6 more threads\n",
            "2020-05-04 22:39:30,398 : INFO : worker thread finished; awaiting finish of 5 more threads\n",
            "2020-05-04 22:39:30,399 : INFO : worker thread finished; awaiting finish of 4 more threads\n",
            "2020-05-04 22:39:30,402 : INFO : worker thread finished; awaiting finish of 3 more threads\n",
            "2020-05-04 22:39:30,426 : INFO : worker thread finished; awaiting finish of 2 more threads\n",
            "2020-05-04 22:39:30,449 : INFO : worker thread finished; awaiting finish of 1 more threads\n",
            "2020-05-04 22:39:30,451 : INFO : worker thread finished; awaiting finish of 0 more threads\n",
            "2020-05-04 22:39:30,452 : INFO : EPOCH - 32 : training on 9227204 raw words (8222777 effective words) took 21.9s, 376102 effective words/s\n",
            "2020-05-04 22:39:30,453 : INFO : training on a 295270528 raw words (263128077 effective words) took 702.0s, 374818 effective words/s\n"
          ],
          "name": "stderr"
        },
        {
          "output_type": "stream",
          "text": [
            "CPU times: user 22min 43s, sys: 5.1 s, total: 22min 48s\n",
            "Wall time: 11min 42s\n"
          ],
          "name": "stdout"
        },
        {
          "output_type": "execute_result",
          "data": {
            "text/plain": [
              "(263128077, 295270528)"
            ]
          },
          "metadata": {
            "tags": []
          },
          "execution_count": 34
        }
      ]
    },
    {
      "cell_type": "code",
      "metadata": {
        "id": "m-hyVZiIDkFp",
        "colab_type": "code",
        "outputId": "fa7934a0-9067-4d39-948b-e156129d5d60",
        "colab": {
          "base_uri": "https://localhost:8080/",
          "height": 402
        }
      },
      "source": [
        "df_train"
      ],
      "execution_count": 36,
      "outputs": [
        {
          "output_type": "execute_result",
          "data": {
            "text/html": [
              "<div>\n",
              "<style scoped>\n",
              "    .dataframe tbody tr th:only-of-type {\n",
              "        vertical-align: middle;\n",
              "    }\n",
              "\n",
              "    .dataframe tbody tr th {\n",
              "        vertical-align: top;\n",
              "    }\n",
              "\n",
              "    .dataframe thead th {\n",
              "        text-align: right;\n",
              "    }\n",
              "</style>\n",
              "<table border=\"1\" class=\"dataframe\">\n",
              "  <thead>\n",
              "    <tr style=\"text-align: right;\">\n",
              "      <th></th>\n",
              "      <th>target</th>\n",
              "      <th>ids</th>\n",
              "      <th>date</th>\n",
              "      <th>flag</th>\n",
              "      <th>user</th>\n",
              "      <th>text</th>\n",
              "    </tr>\n",
              "  </thead>\n",
              "  <tbody>\n",
              "    <tr>\n",
              "      <th>1374558</th>\n",
              "      <td>POSITIVE</td>\n",
              "      <td>2051457557</td>\n",
              "      <td>Fri Jun 05 22:04:23 PDT 2009</td>\n",
              "      <td>NO_QUERY</td>\n",
              "      <td>JGoldsborough</td>\n",
              "      <td>ya quot like palm pre touchstone charger ready...</td>\n",
              "    </tr>\n",
              "    <tr>\n",
              "      <th>1389115</th>\n",
              "      <td>POSITIVE</td>\n",
              "      <td>2053083567</td>\n",
              "      <td>Sat Jun 06 03:12:21 PDT 2009</td>\n",
              "      <td>NO_QUERY</td>\n",
              "      <td>Psioui</td>\n",
              "      <td>felt earthquake afternoon seems epicenter</td>\n",
              "    </tr>\n",
              "    <tr>\n",
              "      <th>1137831</th>\n",
              "      <td>POSITIVE</td>\n",
              "      <td>1976779404</td>\n",
              "      <td>Sat May 30 19:02:49 PDT 2009</td>\n",
              "      <td>NO_QUERY</td>\n",
              "      <td>adriville</td>\n",
              "      <td>ruffles shirts like likey</td>\n",
              "    </tr>\n",
              "    <tr>\n",
              "      <th>790714</th>\n",
              "      <td>NEGATIVE</td>\n",
              "      <td>2325739990</td>\n",
              "      <td>Thu Jun 25 05:59:18 PDT 2009</td>\n",
              "      <td>NO_QUERY</td>\n",
              "      <td>Blondie128</td>\n",
              "      <td>pretty bad night crappy morning fml buttface d...</td>\n",
              "    </tr>\n",
              "    <tr>\n",
              "      <th>1117911</th>\n",
              "      <td>POSITIVE</td>\n",
              "      <td>1973503391</td>\n",
              "      <td>Sat May 30 11:16:35 PDT 2009</td>\n",
              "      <td>NO_QUERY</td>\n",
              "      <td>khrabrov</td>\n",
              "      <td>yeah clear view</td>\n",
              "    </tr>\n",
              "    <tr>\n",
              "      <th>...</th>\n",
              "      <td>...</td>\n",
              "      <td>...</td>\n",
              "      <td>...</td>\n",
              "      <td>...</td>\n",
              "      <td>...</td>\n",
              "      <td>...</td>\n",
              "    </tr>\n",
              "    <tr>\n",
              "      <th>259178</th>\n",
              "      <td>NEGATIVE</td>\n",
              "      <td>1985361990</td>\n",
              "      <td>Sun May 31 16:57:39 PDT 2009</td>\n",
              "      <td>NO_QUERY</td>\n",
              "      <td>lutheasalom</td>\n",
              "      <td>song middle change want born arghhhh</td>\n",
              "    </tr>\n",
              "    <tr>\n",
              "      <th>1414414</th>\n",
              "      <td>POSITIVE</td>\n",
              "      <td>2057029784</td>\n",
              "      <td>Sat Jun 06 12:14:24 PDT 2009</td>\n",
              "      <td>NO_QUERY</td>\n",
              "      <td>beeluz</td>\n",
              "      <td>good luck</td>\n",
              "    </tr>\n",
              "    <tr>\n",
              "      <th>131932</th>\n",
              "      <td>NEGATIVE</td>\n",
              "      <td>1835639354</td>\n",
              "      <td>Mon May 18 06:26:21 PDT 2009</td>\n",
              "      <td>NO_QUERY</td>\n",
              "      <td>lordmuttley</td>\n",
              "      <td>rather average 32370</td>\n",
              "    </tr>\n",
              "    <tr>\n",
              "      <th>671155</th>\n",
              "      <td>NEGATIVE</td>\n",
              "      <td>2246780174</td>\n",
              "      <td>Fri Jun 19 18:06:46 PDT 2009</td>\n",
              "      <td>NO_QUERY</td>\n",
              "      <td>MizSadittyFancy</td>\n",
              "      <td>pickin misstinayao waitin sadittysash 2 hurry ...</td>\n",
              "    </tr>\n",
              "    <tr>\n",
              "      <th>121958</th>\n",
              "      <td>NEGATIVE</td>\n",
              "      <td>1833617173</td>\n",
              "      <td>Sun May 17 23:52:31 PDT 2009</td>\n",
              "      <td>NO_QUERY</td>\n",
              "      <td>dindahh</td>\n",
              "      <td>home studying maths wooot im going fail shit</td>\n",
              "    </tr>\n",
              "  </tbody>\n",
              "</table>\n",
              "<p>1280000 rows × 6 columns</p>\n",
              "</div>"
            ],
            "text/plain": [
              "           target  ...                                               text\n",
              "1374558  POSITIVE  ...  ya quot like palm pre touchstone charger ready...\n",
              "1389115  POSITIVE  ...          felt earthquake afternoon seems epicenter\n",
              "1137831  POSITIVE  ...                          ruffles shirts like likey\n",
              "790714   NEGATIVE  ...  pretty bad night crappy morning fml buttface d...\n",
              "1117911  POSITIVE  ...                                    yeah clear view\n",
              "...           ...  ...                                                ...\n",
              "259178   NEGATIVE  ...               song middle change want born arghhhh\n",
              "1414414  POSITIVE  ...                                          good luck\n",
              "131932   NEGATIVE  ...                               rather average 32370\n",
              "671155   NEGATIVE  ...  pickin misstinayao waitin sadittysash 2 hurry ...\n",
              "121958   NEGATIVE  ...       home studying maths wooot im going fail shit\n",
              "\n",
              "[1280000 rows x 6 columns]"
            ]
          },
          "metadata": {
            "tags": []
          },
          "execution_count": 36
        }
      ]
    },
    {
      "cell_type": "code",
      "metadata": {
        "id": "nJnPwfp4DkI9",
        "colab_type": "code",
        "outputId": "b35f0759-2b90-4e19-82e4-1f25d1f2ba9c",
        "colab": {
          "base_uri": "https://localhost:8080/",
          "height": 67
        }
      },
      "source": [
        "%%time\n",
        "tokenizer = Tokenizer()\n",
        "tokenizer.fit_on_texts(df_train.text)\n",
        "\n",
        "vocab_size = len(tokenizer.word_index) + 1\n",
        "print(\"Total words\", vocab_size)"
      ],
      "execution_count": 37,
      "outputs": [
        {
          "output_type": "stream",
          "text": [
            "Total words 290419\n",
            "CPU times: user 20.4 s, sys: 95 ms, total: 20.5 s\n",
            "Wall time: 20.5 s\n"
          ],
          "name": "stdout"
        }
      ]
    },
    {
      "cell_type": "code",
      "metadata": {
        "id": "4E6_0f1cH34P",
        "colab_type": "code",
        "outputId": "f28ae3b8-c24d-4e3c-a44d-0220d9ab323e",
        "colab": {
          "base_uri": "https://localhost:8080/",
          "height": 50
        }
      },
      "source": [
        "%%time\n",
        "x_train = pad_sequences(tokenizer.texts_to_sequences(df_train.text), maxlen=SEQUENCE_LENGTH)\n",
        "x_test = pad_sequences(tokenizer.texts_to_sequences(df_test.text), maxlen=SEQUENCE_LENGTH)"
      ],
      "execution_count": 38,
      "outputs": [
        {
          "output_type": "stream",
          "text": [
            "CPU times: user 31.9 s, sys: 1.28 s, total: 33.2 s\n",
            "Wall time: 33.4 s\n"
          ],
          "name": "stdout"
        }
      ]
    },
    {
      "cell_type": "code",
      "metadata": {
        "id": "vfwEjzjlIRKU",
        "colab_type": "code",
        "outputId": "ce6659db-0bba-41a5-d580-2d1c794f3da8",
        "colab": {
          "base_uri": "https://localhost:8080/",
          "height": 134
        }
      },
      "source": [
        "x_train"
      ],
      "execution_count": 39,
      "outputs": [
        {
          "output_type": "execute_result",
          "data": {
            "text/plain": [
              "array([[     0,      0,      0, ...,    712,    118,  24590],\n",
              "       [     0,      0,      0, ...,    452,    378,  32447],\n",
              "       [     0,      0,      0, ...,   2048,      4,   5487],\n",
              "       ...,\n",
              "       [     0,      0,      0, ...,    661,   4246, 290416],\n",
              "       [     0,      0,      0, ...,     12,    477,    957],\n",
              "       [     0,      0,      0, ...,      9,    502,    268]], dtype=int32)"
            ]
          },
          "metadata": {
            "tags": []
          },
          "execution_count": 39
        }
      ]
    },
    {
      "cell_type": "code",
      "metadata": {
        "id": "25L-L2uXISEt",
        "colab_type": "code",
        "outputId": "f7d8f364-7438-4c7a-da8e-acd1df9a0fba",
        "colab": {
          "base_uri": "https://localhost:8080/",
          "height": 34
        }
      },
      "source": [
        "labels = df_train.target.unique().tolist()\n",
        "labels.append(NEUTRAL)\n",
        "labels"
      ],
      "execution_count": 40,
      "outputs": [
        {
          "output_type": "execute_result",
          "data": {
            "text/plain": [
              "['POSITIVE', 'NEGATIVE', 'NEUTRAL']"
            ]
          },
          "metadata": {
            "tags": []
          },
          "execution_count": 40
        }
      ]
    },
    {
      "cell_type": "code",
      "metadata": {
        "id": "6UtxEh48ISGa",
        "colab_type": "code",
        "outputId": "23494167-0df4-429b-f616-56e7e96693f4",
        "colab": {
          "base_uri": "https://localhost:8080/",
          "height": 402
        }
      },
      "source": [
        "df_train"
      ],
      "execution_count": 41,
      "outputs": [
        {
          "output_type": "execute_result",
          "data": {
            "text/html": [
              "<div>\n",
              "<style scoped>\n",
              "    .dataframe tbody tr th:only-of-type {\n",
              "        vertical-align: middle;\n",
              "    }\n",
              "\n",
              "    .dataframe tbody tr th {\n",
              "        vertical-align: top;\n",
              "    }\n",
              "\n",
              "    .dataframe thead th {\n",
              "        text-align: right;\n",
              "    }\n",
              "</style>\n",
              "<table border=\"1\" class=\"dataframe\">\n",
              "  <thead>\n",
              "    <tr style=\"text-align: right;\">\n",
              "      <th></th>\n",
              "      <th>target</th>\n",
              "      <th>ids</th>\n",
              "      <th>date</th>\n",
              "      <th>flag</th>\n",
              "      <th>user</th>\n",
              "      <th>text</th>\n",
              "    </tr>\n",
              "  </thead>\n",
              "  <tbody>\n",
              "    <tr>\n",
              "      <th>1374558</th>\n",
              "      <td>POSITIVE</td>\n",
              "      <td>2051457557</td>\n",
              "      <td>Fri Jun 05 22:04:23 PDT 2009</td>\n",
              "      <td>NO_QUERY</td>\n",
              "      <td>JGoldsborough</td>\n",
              "      <td>ya quot like palm pre touchstone charger ready...</td>\n",
              "    </tr>\n",
              "    <tr>\n",
              "      <th>1389115</th>\n",
              "      <td>POSITIVE</td>\n",
              "      <td>2053083567</td>\n",
              "      <td>Sat Jun 06 03:12:21 PDT 2009</td>\n",
              "      <td>NO_QUERY</td>\n",
              "      <td>Psioui</td>\n",
              "      <td>felt earthquake afternoon seems epicenter</td>\n",
              "    </tr>\n",
              "    <tr>\n",
              "      <th>1137831</th>\n",
              "      <td>POSITIVE</td>\n",
              "      <td>1976779404</td>\n",
              "      <td>Sat May 30 19:02:49 PDT 2009</td>\n",
              "      <td>NO_QUERY</td>\n",
              "      <td>adriville</td>\n",
              "      <td>ruffles shirts like likey</td>\n",
              "    </tr>\n",
              "    <tr>\n",
              "      <th>790714</th>\n",
              "      <td>NEGATIVE</td>\n",
              "      <td>2325739990</td>\n",
              "      <td>Thu Jun 25 05:59:18 PDT 2009</td>\n",
              "      <td>NO_QUERY</td>\n",
              "      <td>Blondie128</td>\n",
              "      <td>pretty bad night crappy morning fml buttface d...</td>\n",
              "    </tr>\n",
              "    <tr>\n",
              "      <th>1117911</th>\n",
              "      <td>POSITIVE</td>\n",
              "      <td>1973503391</td>\n",
              "      <td>Sat May 30 11:16:35 PDT 2009</td>\n",
              "      <td>NO_QUERY</td>\n",
              "      <td>khrabrov</td>\n",
              "      <td>yeah clear view</td>\n",
              "    </tr>\n",
              "    <tr>\n",
              "      <th>...</th>\n",
              "      <td>...</td>\n",
              "      <td>...</td>\n",
              "      <td>...</td>\n",
              "      <td>...</td>\n",
              "      <td>...</td>\n",
              "      <td>...</td>\n",
              "    </tr>\n",
              "    <tr>\n",
              "      <th>259178</th>\n",
              "      <td>NEGATIVE</td>\n",
              "      <td>1985361990</td>\n",
              "      <td>Sun May 31 16:57:39 PDT 2009</td>\n",
              "      <td>NO_QUERY</td>\n",
              "      <td>lutheasalom</td>\n",
              "      <td>song middle change want born arghhhh</td>\n",
              "    </tr>\n",
              "    <tr>\n",
              "      <th>1414414</th>\n",
              "      <td>POSITIVE</td>\n",
              "      <td>2057029784</td>\n",
              "      <td>Sat Jun 06 12:14:24 PDT 2009</td>\n",
              "      <td>NO_QUERY</td>\n",
              "      <td>beeluz</td>\n",
              "      <td>good luck</td>\n",
              "    </tr>\n",
              "    <tr>\n",
              "      <th>131932</th>\n",
              "      <td>NEGATIVE</td>\n",
              "      <td>1835639354</td>\n",
              "      <td>Mon May 18 06:26:21 PDT 2009</td>\n",
              "      <td>NO_QUERY</td>\n",
              "      <td>lordmuttley</td>\n",
              "      <td>rather average 32370</td>\n",
              "    </tr>\n",
              "    <tr>\n",
              "      <th>671155</th>\n",
              "      <td>NEGATIVE</td>\n",
              "      <td>2246780174</td>\n",
              "      <td>Fri Jun 19 18:06:46 PDT 2009</td>\n",
              "      <td>NO_QUERY</td>\n",
              "      <td>MizSadittyFancy</td>\n",
              "      <td>pickin misstinayao waitin sadittysash 2 hurry ...</td>\n",
              "    </tr>\n",
              "    <tr>\n",
              "      <th>121958</th>\n",
              "      <td>NEGATIVE</td>\n",
              "      <td>1833617173</td>\n",
              "      <td>Sun May 17 23:52:31 PDT 2009</td>\n",
              "      <td>NO_QUERY</td>\n",
              "      <td>dindahh</td>\n",
              "      <td>home studying maths wooot im going fail shit</td>\n",
              "    </tr>\n",
              "  </tbody>\n",
              "</table>\n",
              "<p>1280000 rows × 6 columns</p>\n",
              "</div>"
            ],
            "text/plain": [
              "           target  ...                                               text\n",
              "1374558  POSITIVE  ...  ya quot like palm pre touchstone charger ready...\n",
              "1389115  POSITIVE  ...          felt earthquake afternoon seems epicenter\n",
              "1137831  POSITIVE  ...                          ruffles shirts like likey\n",
              "790714   NEGATIVE  ...  pretty bad night crappy morning fml buttface d...\n",
              "1117911  POSITIVE  ...                                    yeah clear view\n",
              "...           ...  ...                                                ...\n",
              "259178   NEGATIVE  ...               song middle change want born arghhhh\n",
              "1414414  POSITIVE  ...                                          good luck\n",
              "131932   NEGATIVE  ...                               rather average 32370\n",
              "671155   NEGATIVE  ...  pickin misstinayao waitin sadittysash 2 hurry ...\n",
              "121958   NEGATIVE  ...       home studying maths wooot im going fail shit\n",
              "\n",
              "[1280000 rows x 6 columns]"
            ]
          },
          "metadata": {
            "tags": []
          },
          "execution_count": 41
        }
      ]
    },
    {
      "cell_type": "code",
      "metadata": {
        "id": "D4ns4hQFISJ-",
        "colab_type": "code",
        "outputId": "2cb5d1fb-6eb3-4878-ee15-44c287d0f29e",
        "colab": {
          "base_uri": "https://localhost:8080/",
          "height": 50
        }
      },
      "source": [
        "encoder = LabelEncoder()\n",
        "encoder.fit(df_train.target.tolist())\n",
        "\n",
        "y_train = encoder.transform(df_train.target.tolist())\n",
        "y_test = encoder.transform(df_test.target.tolist())\n",
        "\n",
        "y_train = y_train.reshape(-1,1)\n",
        "y_test = y_test.reshape(-1,1)\n",
        "\n",
        "print(\"y_train\",y_train.shape)\n",
        "print(\"y_test\",y_test.shape)"
      ],
      "execution_count": 42,
      "outputs": [
        {
          "output_type": "stream",
          "text": [
            "y_train (1280000, 1)\n",
            "y_test (320000, 1)\n"
          ],
          "name": "stdout"
        }
      ]
    },
    {
      "cell_type": "code",
      "metadata": {
        "id": "_nEz0-opISL5",
        "colab_type": "code",
        "outputId": "3a1c5e12-42f2-405b-ef5f-82ba56a9c59b",
        "colab": {
          "base_uri": "https://localhost:8080/",
          "height": 101
        }
      },
      "source": [
        "print(\"x_train\", x_train.shape)\n",
        "print(\"y_train\", y_train.shape)\n",
        "print()\n",
        "print(\"x_test\", x_test.shape)\n",
        "print(\"y_test\", y_test.shape)"
      ],
      "execution_count": 43,
      "outputs": [
        {
          "output_type": "stream",
          "text": [
            "x_train (1280000, 300)\n",
            "y_train (1280000, 1)\n",
            "\n",
            "x_test (320000, 300)\n",
            "y_test (320000, 1)\n"
          ],
          "name": "stdout"
        }
      ]
    },
    {
      "cell_type": "code",
      "metadata": {
        "id": "S4ZkXH-gISPG",
        "colab_type": "code",
        "outputId": "60e68209-7f92-4b96-cfc3-5f29d9f2af09",
        "colab": {
          "base_uri": "https://localhost:8080/",
          "height": 185
        }
      },
      "source": [
        "y_train[:10]"
      ],
      "execution_count": 44,
      "outputs": [
        {
          "output_type": "execute_result",
          "data": {
            "text/plain": [
              "array([[1],\n",
              "       [1],\n",
              "       [1],\n",
              "       [0],\n",
              "       [1],\n",
              "       [1],\n",
              "       [1],\n",
              "       [1],\n",
              "       [1],\n",
              "       [1]])"
            ]
          },
          "metadata": {
            "tags": []
          },
          "execution_count": 44
        }
      ]
    },
    {
      "cell_type": "code",
      "metadata": {
        "id": "ahEhShZ6JWRa",
        "colab_type": "code",
        "outputId": "b7fab47e-1ecf-46ab-c0f4-6921eba9399e",
        "colab": {
          "base_uri": "https://localhost:8080/",
          "height": 34
        }
      },
      "source": [
        "embedding_matrix = np.zeros((vocab_size, W2V_SIZE))\n",
        "for word, i in tokenizer.word_index.items():\n",
        "  if word in w2v_model.wv:\n",
        "    embedding_matrix[i] = w2v_model.wv[word]\n",
        "print(embedding_matrix.shape)"
      ],
      "execution_count": 45,
      "outputs": [
        {
          "output_type": "stream",
          "text": [
            "(290419, 300)\n"
          ],
          "name": "stdout"
        }
      ]
    },
    {
      "cell_type": "code",
      "metadata": {
        "id": "dXWU-dh5JW4x",
        "colab_type": "code",
        "colab": {}
      },
      "source": [
        "embedding_layer = Embedding(vocab_size, W2V_SIZE, weights=[embedding_matrix], input_length=SEQUENCE_LENGTH, trainable=False)"
      ],
      "execution_count": 0,
      "outputs": []
    },
    {
      "cell_type": "code",
      "metadata": {
        "id": "EqIKolq5JW62",
        "colab_type": "code",
        "outputId": "c2fb6b36-5fde-469e-c24e-2f37a20fbeed",
        "colab": {
          "base_uri": "https://localhost:8080/",
          "height": 386
        }
      },
      "source": [
        "from keras.layers import Conv1D, GlobalMaxPooling1D\n",
        "import keras \n",
        "\n",
        "model = Sequential()\n",
        "model.add(embedding_layer)\n",
        "\n",
        "model.add(Dropout(0.3))\n",
        "model.add(Conv1D(300,3,activation='relu'))\n",
        "# we use max pooling:\n",
        "model.add(GlobalMaxPooling1D())\n",
        "model.add(Dense(200, activation='sigmoid'))\n",
        "model.add(Dropout(0.3))\n",
        "model.add(Dense(1, activation='sigmoid'))\n",
        "\n",
        "model.summary()"
      ],
      "execution_count": 47,
      "outputs": [
        {
          "output_type": "stream",
          "text": [
            "Model: \"sequential_1\"\n",
            "_________________________________________________________________\n",
            "Layer (type)                 Output Shape              Param #   \n",
            "=================================================================\n",
            "embedding_1 (Embedding)      (None, 300, 300)          87125700  \n",
            "_________________________________________________________________\n",
            "dropout_1 (Dropout)          (None, 300, 300)          0         \n",
            "_________________________________________________________________\n",
            "conv1d_1 (Conv1D)            (None, 298, 300)          270300    \n",
            "_________________________________________________________________\n",
            "global_max_pooling1d_1 (Glob (None, 300)               0         \n",
            "_________________________________________________________________\n",
            "dense_1 (Dense)              (None, 200)               60200     \n",
            "_________________________________________________________________\n",
            "dropout_2 (Dropout)          (None, 200)               0         \n",
            "_________________________________________________________________\n",
            "dense_2 (Dense)              (None, 1)                 201       \n",
            "=================================================================\n",
            "Total params: 87,456,401\n",
            "Trainable params: 330,701\n",
            "Non-trainable params: 87,125,700\n",
            "_________________________________________________________________\n"
          ],
          "name": "stdout"
        }
      ]
    },
    {
      "cell_type": "code",
      "metadata": {
        "id": "WZBH3md4JW-c",
        "colab_type": "code",
        "colab": {}
      },
      "source": [
        "model.compile(loss='binary_crossentropy',\n",
        "              optimizer=\"adam\",\n",
        "              metrics=['accuracy'])"
      ],
      "execution_count": 0,
      "outputs": []
    },
    {
      "cell_type": "code",
      "metadata": {
        "id": "S25jyGLhJW_7",
        "colab_type": "code",
        "colab": {}
      },
      "source": [
        "callbacks = [ ReduceLROnPlateau(monitor='val_loss', patience=5, cooldown=0),\n",
        "              EarlyStopping(monitor='val_acc', min_delta=1e-4, patience=5)]"
      ],
      "execution_count": 0,
      "outputs": []
    },
    {
      "cell_type": "code",
      "metadata": {
        "id": "mjpFtBoFJXDb",
        "colab_type": "code",
        "outputId": "722ab866-702a-46be-fc72-b2838295e033",
        "colab": {
          "base_uri": "https://localhost:8080/",
          "height": 222
        }
      },
      "source": [
        "%%time\n",
        "history = model.fit(x_train, y_train,\n",
        "                    batch_size=BATCH_SIZE,\n",
        "                    epochs=EPOCHS,\n",
        "                    validation_split=0.1,\n",
        "                    verbose=1,\n",
        "                    callbacks=callbacks)"
      ],
      "execution_count": 50,
      "outputs": [
        {
          "output_type": "stream",
          "text": [
            "Train on 1152000 samples, validate on 128000 samples\n",
            "Epoch 1/3\n",
            "1152000/1152000 [==============================] - 8426s 7ms/step - loss: 0.4901 - accuracy: 0.7602 - val_loss: 0.4594 - val_accuracy: 0.7808\n",
            "Epoch 2/3\n"
          ],
          "name": "stdout"
        },
        {
          "output_type": "stream",
          "text": [
            "/usr/local/lib/python3.6/dist-packages/keras/callbacks/callbacks.py:846: RuntimeWarning: Early stopping conditioned on metric `val_acc` which is not available. Available metrics are: val_loss,val_accuracy,loss,accuracy,lr\n",
            "  (self.monitor, ','.join(list(logs.keys()))), RuntimeWarning\n"
          ],
          "name": "stderr"
        },
        {
          "output_type": "stream",
          "text": [
            "1152000/1152000 [==============================] - 8473s 7ms/step - loss: 0.4667 - accuracy: 0.7764 - val_loss: 0.4522 - val_accuracy: 0.7853\n",
            "Epoch 3/3\n",
            "1152000/1152000 [==============================] - 8651s 8ms/step - loss: 0.4584 - accuracy: 0.7810 - val_loss: 0.4481 - val_accuracy: 0.7874\n",
            "CPU times: user 13h 44min 56s, sys: 5min, total: 13h 49min 56s\n",
            "Wall time: 7h 5min 51s\n"
          ],
          "name": "stdout"
        }
      ]
    },
    {
      "cell_type": "code",
      "metadata": {
        "id": "BVowg9QyMKu0",
        "colab_type": "code",
        "colab": {
          "base_uri": "https://localhost:8080/",
          "height": 445
        },
        "outputId": "9bbd1fd7-02fb-42e6-da30-2b367b4d848d"
      },
      "source": [
        "import pandas as pd\n",
        "pd.DataFrame(history.history).plot(figsize=(10,7))"
      ],
      "execution_count": 54,
      "outputs": [
        {
          "output_type": "execute_result",
          "data": {
            "text/plain": [
              "<matplotlib.axes._subplots.AxesSubplot at 0x7f05ae20d9e8>"
            ]
          },
          "metadata": {
            "tags": []
          },
          "execution_count": 54
        },
        {
          "output_type": "display_data",
          "data": {
            "image/png": "[encoded data removed]",
            "text/plain": [
              "<Figure size 720x504 with 1 Axes>"
            ]
          },
          "metadata": {
            "tags": [],
            "needs_background": "light"
          }
        }
      ]
    },
    {
      "cell_type": "code",
      "metadata": {
        "id": "-I1HNj_4MKxG",
        "colab_type": "code",
        "colab": {
          "base_uri": "https://localhost:8080/",
          "height": 118
        },
        "outputId": "e71bfa7c-2bf0-4398-a857-92743f33066e"
      },
      "source": [
        "%%time\n",
        "score = model.evaluate(x_test, y_test, batch_size=BATCH_SIZE)\n",
        "print()\n",
        "print(\"ACCURACY:\",score[1])\n",
        "print(\"LOSS:\",score[0])"
      ],
      "execution_count": 52,
      "outputs": [
        {
          "output_type": "stream",
          "text": [
            "320000/320000 [==============================] - 864s 3ms/step\n",
            "\n",
            "ACCURACY: 0.7870968580245972\n",
            "LOSS: 0.44814103984832765\n",
            "CPU times: user 28min 7s, sys: 3.53 s, total: 28min 11s\n",
            "Wall time: 14min 23s\n"
          ],
          "name": "stdout"
        }
      ]
    },
    {
      "cell_type": "code",
      "metadata": {
        "id": "rhjKDSIlMKz-",
        "colab_type": "code",
        "colab": {}
      },
      "source": [
        "def decode_sentiment(score, include_neutral=True):\n",
        "    if include_neutral:        \n",
        "        label = NEUTRAL\n",
        "        if score <= SENTIMENT_THRESHOLDS[0]:\n",
        "            label = NEGATIVE\n",
        "        elif score >= SENTIMENT_THRESHOLDS[1]:\n",
        "            label = POSITIVE\n",
        "\n",
        "        return label\n",
        "    else:\n",
        "        return NEGATIVE if score < 0.5 else POSITIVE"
      ],
      "execution_count": 0,
      "outputs": []
    },
    {
      "cell_type": "code",
      "metadata": {
        "id": "g3Y-bsa9M34h",
        "colab_type": "code",
        "colab": {}
      },
      "source": [
        "def predict(text, include_neutral=True):\n",
        "    start_at = time.time()\n",
        "    # Tokenize text\n",
        "    x_test = pad_sequences(tokenizer.texts_to_sequences([text]), maxlen=SEQUENCE_LENGTH)\n",
        "    # Predict\n",
        "    score = model.predict([x_test])[0]\n",
        "    # Decode sentiment\n",
        "    label = decode_sentiment(score, include_neutral=include_neutral)\n",
        "\n",
        "    return {\"label\": label, \"score\": float(score),\n",
        "       \"elapsed_time\": time.time()-start_at}  "
      ],
      "execution_count": 0,
      "outputs": []
    },
    {
      "cell_type": "code",
      "metadata": {
        "id": "pZqaxJ2vM37H",
        "colab_type": "code",
        "colab": {
          "base_uri": "https://localhost:8080/",
          "height": 67
        },
        "outputId": "e366c999-14c5-439a-d265-0d49dceb37cc"
      },
      "source": [
        "predict(\"I love the guitar\")"
      ],
      "execution_count": 57,
      "outputs": [
        {
          "output_type": "execute_result",
          "data": {
            "text/plain": [
              "{'elapsed_time': 0.0817716121673584,\n",
              " 'label': 'POSITIVE',\n",
              " 'score': 0.8985649347305298}"
            ]
          },
          "metadata": {
            "tags": []
          },
          "execution_count": 57
        }
      ]
    },
    {
      "cell_type": "code",
      "metadata": {
        "id": "o7CQ0MH2M4Bg",
        "colab_type": "code",
        "colab": {
          "base_uri": "https://localhost:8080/",
          "height": 67
        },
        "outputId": "b018a166-b747-4177-cbe8-346bbfdee749"
      },
      "source": [
        "predict(\"i don't know what i'm doing\")"
      ],
      "execution_count": 58,
      "outputs": [
        {
          "output_type": "execute_result",
          "data": {
            "text/plain": [
              "{'elapsed_time': 0.00867009162902832,\n",
              " 'label': 'NEGATIVE',\n",
              " 'score': 0.3463418185710907}"
            ]
          },
          "metadata": {
            "tags": []
          },
          "execution_count": 58
        }
      ]
    },
    {
      "cell_type": "code",
      "metadata": {
        "id": "kAbH1CN4NEMZ",
        "colab_type": "code",
        "colab": {
          "base_uri": "https://localhost:8080/",
          "height": 67
        },
        "outputId": "8ada3236-ac28-4c99-c815-7bd33a690266"
      },
      "source": [
        "%%time\n",
        "y_pred_1d = []\n",
        "y_test_1d = list(df_test.target)\n",
        "scores = model.predict(x_test, verbose=1, batch_size=8000)\n",
        "y_pred_1d = [decode_sentiment(score, include_neutral=False) for score in scores]"
      ],
      "execution_count": 59,
      "outputs": [
        {
          "output_type": "stream",
          "text": [
            "320000/320000 [==============================] - 868s 3ms/step\n",
            "CPU times: user 28min 18s, sys: 10 s, total: 28min 28s\n",
            "Wall time: 14min 28s\n"
          ],
          "name": "stdout"
        }
      ]
    },
    {
      "cell_type": "code",
      "metadata": {
        "id": "aITlQ3oBNEO_",
        "colab_type": "code",
        "colab": {}
      },
      "source": [
        "def plot_confusion_matrix(cm, classes,\n",
        "                          title='Confusion matrix',\n",
        "                          cmap=plt.cm.Blues):\n",
        "    \"\"\"\n",
        "    This function prints and plots the confusion matrix.\n",
        "    Normalization can be applied by setting `normalize=True`.\n",
        "    \"\"\"\n",
        "\n",
        "    cm = cm.astype('float') / cm.sum(axis=1)[:, np.newaxis]\n",
        "\n",
        "    plt.imshow(cm, interpolation='nearest', cmap=cmap)\n",
        "    plt.title(title, fontsize=30)\n",
        "    plt.colorbar()\n",
        "    tick_marks = np.arange(len(classes))\n",
        "    plt.xticks(tick_marks, classes, rotation=90, fontsize=22)\n",
        "    plt.yticks(tick_marks, classes, fontsize=22)\n",
        "\n",
        "    fmt = '.2f'\n",
        "    thresh = cm.max() / 2.\n",
        "    for i, j in itertools.product(range(cm.shape[0]), range(cm.shape[1])):\n",
        "        plt.text(j, i, format(cm[i, j], fmt),\n",
        "                 horizontalalignment=\"center\",\n",
        "                 color=\"white\" if cm[i, j] > thresh else \"black\")\n",
        "\n",
        "    plt.ylabel('True label', fontsize=25)\n",
        "    plt.xlabel('Predicted label', fontsize=25)"
      ],
      "execution_count": 0,
      "outputs": []
    },
    {
      "cell_type": "code",
      "metadata": {
        "id": "yStE5eIxNER9",
        "colab_type": "code",
        "colab": {
          "base_uri": "https://localhost:8080/",
          "height": 802
        },
        "outputId": "0acb22e0-c9b6-48b5-b7d6-7a9c1eeb8157"
      },
      "source": [
        "%%time\n",
        "\n",
        "cnf_matrix = confusion_matrix(y_test_1d, y_pred_1d)\n",
        "plt.figure(figsize=(12,12))\n",
        "plot_confusion_matrix(cnf_matrix, classes=df_train.target.unique(), title=\"Confusion matrix\")\n",
        "plt.show()"
      ],
      "execution_count": 61,
      "outputs": [
        {
          "output_type": "display_data",
          "data": {
            "image/png": "[encoded data removed]",
            "text/plain": [
              "<Figure size 864x864 with 2 Axes>"
            ]
          },
          "metadata": {
            "tags": [],
            "needs_background": "light"
          }
        },
        {
          "output_type": "stream",
          "text": [
            "CPU times: user 1.2 s, sys: 121 ms, total: 1.32 s\n",
            "Wall time: 1.34 s\n"
          ],
          "name": "stdout"
        }
      ]
    },
    {
      "cell_type": "code",
      "metadata": {
        "id": "MWhvfSD-Nq7z",
        "colab_type": "code",
        "colab": {
          "base_uri": "https://localhost:8080/",
          "height": 168
        },
        "outputId": "15bbeb39-49a2-4103-d752-97c40c76c91d"
      },
      "source": [
        "print(classification_report(y_test_1d, y_pred_1d))"
      ],
      "execution_count": 62,
      "outputs": [
        {
          "output_type": "stream",
          "text": [
            "              precision    recall  f1-score   support\n",
            "\n",
            "    NEGATIVE       0.80      0.77      0.78    159494\n",
            "    POSITIVE       0.78      0.81      0.79    160506\n",
            "\n",
            "    accuracy                           0.79    320000\n",
            "   macro avg       0.79      0.79      0.79    320000\n",
            "weighted avg       0.79      0.79      0.79    320000\n",
            "\n"
          ],
          "name": "stdout"
        }
      ]
    },
    {
      "cell_type": "code",
      "metadata": {
        "id": "pFab76eONq-U",
        "colab_type": "code",
        "colab": {
          "base_uri": "https://localhost:8080/",
          "height": 34
        },
        "outputId": "b98d241c-ba42-4bc4-b131-42d8249efe1b"
      },
      "source": [
        "accuracy_score(y_test_1d, y_pred_1d)"
      ],
      "execution_count": 63,
      "outputs": [
        {
          "output_type": "execute_result",
          "data": {
            "text/plain": [
              "0.787096875"
            ]
          },
          "metadata": {
            "tags": []
          },
          "execution_count": 63
        }
      ]
    },
    {
      "cell_type": "code",
      "metadata": {
        "id": "XL9ip6wzNrBJ",
        "colab_type": "code",
        "colab": {
          "base_uri": "https://localhost:8080/",
          "height": 84
        },
        "outputId": "0a91786b-906c-42da-80b7-60e233b16755"
      },
      "source": [
        "model.save(KERAS_MODEL)\n",
        "w2v_model.save(WORD2VEC_MODEL)\n",
        "pickle.dump(tokenizer, open(TOKENIZER_MODEL, \"wb\"), protocol=0)\n",
        "pickle.dump(encoder, open(ENCODER_MODEL, \"wb\"), protocol=0)"
      ],
      "execution_count": 64,
      "outputs": [
        {
          "output_type": "stream",
          "text": [
            "2020-05-05 06:57:29,957 : INFO : saving Word2Vec object under model.w2v, separately None\n",
            "2020-05-05 06:57:29,958 : INFO : not storing attribute vectors_norm\n",
            "2020-05-05 06:57:29,961 : INFO : not storing attribute cum_table\n",
            "2020-05-05 06:57:30,967 : INFO : saved model.w2v\n"
          ],
          "name": "stderr"
        }
      ]
    },
    {
      "cell_type": "code",
      "metadata": {
        "id": "xoeciaATNrDa",
        "colab_type": "code",
        "colab": {}
      },
      "source": [
        ""
      ],
      "execution_count": 0,
      "outputs": []
    },
    {
      "cell_type": "code",
      "metadata": {
        "id": "sR2XonhMNEUA",
        "colab_type": "code",
        "colab": {}
      },
      "source": [
        ""
      ],
      "execution_count": 0,
      "outputs": []
    }
  ]
}